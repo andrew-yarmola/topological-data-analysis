{
 "cells": [
  {
   "cell_type": "code",
   "execution_count": 289,
   "metadata": {},
   "outputs": [],
   "source": [
    "import numpy as np\n",
    "import pandas as pd\n",
    "\n",
    "from gtda.plotting import plot_point_cloud\n",
    "from matplotlib import pyplot as plt\n",
    "\n",
    "from sklearn import datasets\n",
    "from sklearn.cluster import DBSCAN\n",
    "from sklearn.decomposition import PCA"
   ]
  },
  {
   "cell_type": "markdown",
   "metadata": {},
   "source": [
    "# Sample datasets\n",
    "### Uniform"
   ]
  },
  {
   "cell_type": "code",
   "execution_count": 338,
   "metadata": {},
   "outputs": [],
   "source": [
    "uniform1D = np.random.uniform(size=[1000,1])\n",
    "uniform2D = np.random.uniform(size=[1000,2])\n",
    "uniform3D = np.random.uniform(size=[1000,3])"
   ]
  },
  {
   "cell_type": "markdown",
   "metadata": {},
   "source": [
    "### Gaussian"
   ]
  },
  {
   "cell_type": "code",
   "execution_count": 339,
   "metadata": {},
   "outputs": [],
   "source": [
    "gaussian1D = np.random.normal(size=[1000,1])\n",
    "gaussian2D = np.random.normal(size=[1000,2])\n",
    "gaussian3D = np.random.normal(size=[1000,3])\n",
    "#Note: will be truncated to unit hypercube"
   ]
  },
  {
   "cell_type": "markdown",
   "metadata": {},
   "source": [
    "### Concentric noisy circles"
   ]
  },
  {
   "cell_type": "code",
   "execution_count": 340,
   "metadata": {},
   "outputs": [],
   "source": [
    "circles1, _ = datasets.make_circles(n_samples=5000, noise=0.00, factor=0.8, random_state=42)\n",
    "circles2, _ = datasets.make_circles(n_samples=5000, noise=0.05, factor=0.8, random_state=42)\n",
    "circles3, _ = datasets.make_circles(n_samples=5000, noise=0.30, factor=0.8, random_state=42)\n",
    "circles4, _ = datasets.make_circles(n_samples=5000, noise=0.80, factor=0.8, random_state=42)"
   ]
  },
  {
   "cell_type": "markdown",
   "metadata": {},
   "source": [
    "# Computations"
   ]
  },
  {
   "cell_type": "code",
   "execution_count": 361,
   "metadata": {},
   "outputs": [
    {
     "data": {
      "image/png": "[encoded data removed]",
      "text/plain": [
       "<Figure size 432x288 with 1 Axes>"
      ]
     },
     "metadata": {
      "needs_background": "light"
     },
     "output_type": "display_data"
    }
   ],
   "source": [
    "def linearScaleBoxDimension(data, iterations):\n",
    "    ambientDim = data.shape[1]\n",
    "    dimArray = []\n",
    "    for i in range(2,iterations):\n",
    "        eps = 1/i\n",
    "        boxes = np.zeros([i+1]*ambientDim)\n",
    "        for d in data:\n",
    "            try: boxes[tuple((d/eps).astype(int))] = 1\n",
    "            except: continue\n",
    "        Ni = np.sum(boxes)\n",
    "        dimArray.append(np.log(Ni)/np.log(i))\n",
    "    return dimArray\n",
    "\n",
    "def logScaleBoxDimension(data, iterations):\n",
    "    dimArray = []\n",
    "    for i in range(1,iterations):\n",
    "        roundedData = np.around(data, decimals = i)\n",
    "        Ni = len(np.unique(roundedData, axis=0))\n",
    "        dims.append(np.log10(Ni)/i)\n",
    "    return dimArray\n",
    "\n",
    "def computeBoxDimension(data, iterations, scale='linear'):\n",
    "    dims = []\n",
    "    if scale == 'log': dims = logScaleBoxDimension(data, iterations)\n",
    "    else: dims = linearScaleBoxDimension(data, iterations)\n",
    "    plt.scatter(np.arange(len(dims)), np.array(dims))\n",
    "    plt.show\n",
    "    return dims\n",
    "    \n",
    "dims = computeBoxDimension(circles4, 100)"
   ]
  },
  {
   "cell_type": "markdown",
   "metadata": {},
   "source": [
    "# Plateau detection"
   ]
  },
  {
   "cell_type": "code",
   "execution_count": 363,
   "metadata": {},
   "outputs": [
    {
     "name": "stdout",
     "output_type": "stream",
     "text": [
      "91\n",
      "91 1.6739424071073719\n"
     ]
    },
    {
     "data": {
      "image/png": "[encoded data removed]",
      "text/plain": [
       "<Figure size 432x288 with 1 Axes>"
      ]
     },
     "metadata": {
      "needs_background": "light"
     },
     "output_type": "display_data"
    }
   ],
   "source": [
    "speed = np.abs(np.diff(np.array(dims)))\n",
    "speed += np.abs(np.resize(np.diff(speed), speed.shape))\n",
    "\n",
    "#Minimizing absolute sum of first and second discrete derivative, \"speed\"\n",
    "\n",
    "loc = np.argmin(speed)\n",
    "print(loc, dims[loc])\n",
    "\n",
    "plt.scatter(np.arange(speed.shape[0]), np.log(speed))\n",
    "plt.scatter(np.arange(speed.shape[0]-1), np.diff(np.log(speed)))\n",
    "plt.show"
   ]
  }
 ],
 "metadata": {
  "kernelspec": {
   "display_name": "Python 3",
   "language": "python",
   "name": "python3"
  },
  "language_info": {
   "codemirror_mode": {
    "name": "ipython",
    "version": 3
   },
   "file_extension": ".py",
   "mimetype": "text/x-python",
   "name": "python",
   "nbconvert_exporter": "python",
   "pygments_lexer": "ipython3",
   "version": "3.7.6"
  }
 },
 "nbformat": 4,
 "nbformat_minor": 4
}
