{
 "cells": [
  {
   "cell_type": "code",
   "execution_count": 10,
   "metadata": {},
   "outputs": [],
   "source": [
    "import pandas as pd\n",
    "import numpy as np\n",
    "\n",
    "train = pd.read_csv(\"./data/train.csv\")"
   ]
  },
  {
   "cell_type": "markdown",
   "metadata": {},
   "source": [
    "### Convert string to list"
   ]
  },
  {
   "cell_type": "code",
   "execution_count": 11,
   "metadata": {},
   "outputs": [],
   "source": [
    "def strToList(col):\n",
    "    return col.apply(lambda row: split(row))\n",
    "\n",
    "def split(s):\n",
    "    l = s.split(' ')\n",
    "    l = [int(e) for e in l]\n",
    "    return l\n",
    "\n",
    "train = train.apply(lambda col: strToList(col) if col.name == 'Target' else col)"
   ]
  },
  {
   "cell_type": "code",
   "execution_count": 41,
   "metadata": {},
   "outputs": [],
   "source": [
    "def getImages(train, label):\n",
    "    t = train['Target'].to_numpy()\n",
    "    images = []\n",
    "    for i in range(len(t)):\n",
    "        if (label in t[i]) and (len(t[i]) == 1):\n",
    "            images.append(train.iloc[i][0])\n",
    "    return images\n"
   ]
  },
  {
   "cell_type": "code",
   "execution_count": 51,
   "metadata": {},
   "outputs": [
    {
     "data": {
      "text/plain": [
       "300"
      ]
     },
     "execution_count": 51,
     "metadata": {},
     "output_type": "execute_result"
    }
   ],
   "source": [
    "fileNames = getImages(train, 0)\n",
    "len(fileNames[0:300])"
   ]
  },
  {
   "cell_type": "code",
   "execution_count": 52,
   "metadata": {},
   "outputs": [],
   "source": [
    "from shutil import copyfile\n",
    "\n",
    "def copyFile(fileNames):\n",
    "    for s in fileNames:\n",
    "        file = s + '_green.png'\n",
    "        src = '../../../../Downloads/train/' + file\n",
    "        dst = './data/label1/'+file\n",
    "        copyfile(src,dst)"
   ]
  }
 ],
 "metadata": {
  "kernelspec": {
   "display_name": "Python 3",
   "language": "python",
   "name": "python3"
  },
  "language_info": {
   "codemirror_mode": {
    "name": "ipython",
    "version": 3
   },
   "file_extension": ".py",
   "mimetype": "text/x-python",
   "name": "python",
   "nbconvert_exporter": "python",
   "pygments_lexer": "ipython3",
   "version": "3.7.6"
  }
 },
 "nbformat": 4,
 "nbformat_minor": 4
}
