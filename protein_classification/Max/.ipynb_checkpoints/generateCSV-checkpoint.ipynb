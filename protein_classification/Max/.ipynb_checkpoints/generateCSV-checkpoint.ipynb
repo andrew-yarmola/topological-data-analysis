{
 "cells": [
  {
   "cell_type": "code",
   "execution_count": 1,
   "metadata": {},
   "outputs": [],
   "source": [
    "import glob, os\n",
    "\n",
    "curr_dir = os.getcwd()\n",
    "# Load all files with label 0\n",
    "label0_files = []\n",
    "os.chdir(curr_dir)\n",
    "os.chdir(\"./data/label0/\")\n",
    "for file in glob.glob(\"*.png\"):\n",
    "    label0_files.append(file)\n",
    "    \n",
    "# load all files with label 1\n",
    "label1_files = []\n",
    "os.chdir(curr_dir)\n",
    "os.chdir(\"./data/label1/\")\n",
    "for file in glob.glob(\"*.png\"):\n",
    "    label1_files.append(file)\n",
    "\n",
    "os.chdir(curr_dir)"
   ]
  },
  {
   "cell_type": "code",
   "execution_count": 2,
   "metadata": {},
   "outputs": [
    {
     "ename": "ImportError",
     "evalue": "cannot import name 'bettiCurve' from 'eval' (/home/max/Github/topological-data-analysis/protein_classification/Max/eval.py)",
     "output_type": "error",
     "traceback": [
      "\u001b[0;31m---------------------------------------------------------------------------\u001b[0m",
      "\u001b[0;31mImportError\u001b[0m                               Traceback (most recent call last)",
      "\u001b[0;32m<ipython-input-2-5b20879c23e0>\u001b[0m in \u001b[0;36m<module>\u001b[0;34m\u001b[0m\n\u001b[0;32m----> 1\u001b[0;31m \u001b[0;32mfrom\u001b[0m \u001b[0meval\u001b[0m \u001b[0;32mimport\u001b[0m \u001b[0mbettiCurve\u001b[0m\u001b[0;34m\u001b[0m\u001b[0;34m\u001b[0m\u001b[0m\n\u001b[0m\u001b[1;32m      2\u001b[0m \u001b[0;32mimport\u001b[0m \u001b[0mpandas\u001b[0m \u001b[0;32mas\u001b[0m \u001b[0mpd\u001b[0m\u001b[0;34m\u001b[0m\u001b[0;34m\u001b[0m\u001b[0m\n\u001b[1;32m      3\u001b[0m \u001b[0;34m\u001b[0m\u001b[0m\n\u001b[1;32m      4\u001b[0m \u001b[0mlabel0_df\u001b[0m \u001b[0;34m=\u001b[0m \u001b[0mpd\u001b[0m\u001b[0;34m.\u001b[0m\u001b[0mDataFrame\u001b[0m\u001b[0;34m(\u001b[0m\u001b[0mcolumns\u001b[0m\u001b[0;34m=\u001b[0m\u001b[0;34m[\u001b[0m\u001b[0;34m'file_name'\u001b[0m\u001b[0;34m,\u001b[0m \u001b[0;34m'H0'\u001b[0m\u001b[0;34m,\u001b[0m \u001b[0;34m'H1'\u001b[0m\u001b[0;34m]\u001b[0m\u001b[0;34m)\u001b[0m\u001b[0;34m\u001b[0m\u001b[0;34m\u001b[0m\u001b[0m\n\u001b[1;32m      5\u001b[0m \u001b[0mcount\u001b[0m \u001b[0;34m=\u001b[0m \u001b[0;36m0\u001b[0m\u001b[0;34m\u001b[0m\u001b[0;34m\u001b[0m\u001b[0m\n",
      "\u001b[0;31mImportError\u001b[0m: cannot import name 'bettiCurve' from 'eval' (/home/max/Github/topological-data-analysis/protein_classification/Max/eval.py)"
     ]
    }
   ],
   "source": [
    "from eval import *\n",
    "import pandas as pd\n",
    "\n",
    "label0_df = pd.DataFrame(columns=['file_name', 'H0', 'H1'])\n",
    "count = 0\n",
    "for file in label0_files:\n",
    "    count += 1\n",
    "    if count%20 == 0:\n",
    "        print(str(count) + \" out of \" + str(len(label0_files)))\n",
    "    file_path = './data/label0/' + file\n",
    "    bc = bettiCurve_pipe2(file_path)\n",
    "    label0_df = label0_df.append({\"file_name\": file, 'H0': bc[0][0], 'H1': bc[0][1]}, ignore_index=True)"
   ]
  },
  {
   "cell_type": "code",
   "execution_count": null,
   "metadata": {},
   "outputs": [],
   "source": [
    "label0_df.to_csv('label0_betti_curves_2', index=False)"
   ]
  },
  {
   "cell_type": "code",
   "execution_count": null,
   "metadata": {},
   "outputs": [],
   "source": [
    "label1_df = pd.DataFrame(columns=['file_name', 'H0', 'H1'])\n",
    "count = 0\n",
    "for file in label1_files:\n",
    "    count += 1\n",
    "    if count%20 == 0:\n",
    "        print(str(count) + \" out of \" + str(len(label1_files)))\n",
    "    file_path = './data/label1/' + file\n",
    "    bc = bettiCurve_pipe2(file_path)\n",
    "    label1_df = label1_df.append({\"file_name\": file, 'H0': bc[0][0], 'H1': bc[0][1]}, ignore_index=True)"
   ]
  },
  {
   "cell_type": "code",
   "execution_count": null,
   "metadata": {},
   "outputs": [],
   "source": [
    "label1_df.to_csv('label1_betti_curves_2', index=False)"
   ]
  },
  {
   "cell_type": "code",
   "execution_count": null,
   "metadata": {},
   "outputs": [],
   "source": [
    "label1_df"
   ]
  }
 ],
 "metadata": {
  "kernelspec": {
   "display_name": "Python 3",
   "language": "python",
   "name": "python3"
  },
  "language_info": {
   "codemirror_mode": {
    "name": "ipython",
    "version": 3
   },
   "file_extension": ".py",
   "mimetype": "text/x-python",
   "name": "python",
   "nbconvert_exporter": "python",
   "pygments_lexer": "ipython3",
   "version": "3.7.6"
  }
 },
 "nbformat": 4,
 "nbformat_minor": 4
}
