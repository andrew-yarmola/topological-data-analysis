{
 "cells": [
  {
   "cell_type": "code",
   "execution_count": 1,
   "metadata": {},
   "outputs": [],
   "source": [
    "import glob, os\n",
    "from pipelines import *\n",
    "import pandas as pd\n",
    "\n",
    "curr_dir = os.getcwd()\n",
    "# Load all files with label 0\n",
    "label0_files = []\n",
    "os.chdir(curr_dir)\n",
    "os.chdir(\"./data/label0/\")\n",
    "for file in glob.glob(\"*.png\"):\n",
    "    label0_files.append(file)\n",
    "    \n",
    "# load all files with label 1\n",
    "label1_files = []\n",
    "os.chdir(curr_dir)\n",
    "os.chdir(\"./data/label1/\")\n",
    "for file in glob.glob(\"*.png\"):\n",
    "    label1_files.append(file)\n",
    "\n",
    "os.chdir(curr_dir)"
   ]
  },
  {
   "cell_type": "code",
   "execution_count": 2,
   "metadata": {},
   "outputs": [
    {
     "name": "stdout",
     "output_type": "stream",
     "text": [
      "20 out of 300\n",
      "40 out of 300\n",
      "60 out of 300\n",
      "80 out of 300\n",
      "100 out of 300\n",
      "120 out of 300\n",
      "140 out of 300\n",
      "160 out of 300\n",
      "180 out of 300\n",
      "200 out of 300\n",
      "220 out of 300\n",
      "240 out of 300\n",
      "260 out of 300\n",
      "280 out of 300\n",
      "300 out of 300\n",
      "20 out of 271\n",
      "40 out of 271\n",
      "60 out of 271\n",
      "80 out of 271\n",
      "100 out of 271\n",
      "120 out of 271\n",
      "140 out of 271\n",
      "160 out of 271\n",
      "180 out of 271\n",
      "200 out of 271\n",
      "220 out of 271\n",
      "240 out of 271\n",
      "260 out of 271\n"
     ]
    }
   ],
   "source": [
    "\n",
    "\n",
    "filenames = []\n",
    "h0 = []\n",
    "h1 = []\n",
    "labels = []\n",
    "count = 0\n",
    "for file in label0_files:\n",
    "    count += 1\n",
    "    if count%20 == 0:\n",
    "        print(str(count) + \" out of \" + str(len(label0_files)))\n",
    "    file_path = './data/label0/' + file\n",
    "    bc = bettiAmplitude(file_path)\n",
    "    h0.append(bc[0][0])\n",
    "    # h1.append(bc[0][1])\n",
    "    filenames.append(file)\n",
    "    labels.append(0)\n",
    "\n",
    "\n",
    "count = 0\n",
    "for file in label1_files:\n",
    "    count += 1\n",
    "    if count%20 == 0:\n",
    "        print(str(count) + \" out of \" + str(len(label1_files)))\n",
    "    file_path = './data/label1/' + file\n",
    "    bc = bettiAmplitude(file_path)\n",
    "    h0.append(bc[0][0])\n",
    "    # h1.append(bc[0][1])\n",
    "    filenames.append(file)\n",
    "    labels.append(1)\n"
   ]
  },
  {
   "cell_type": "code",
   "execution_count": 3,
   "metadata": {},
   "outputs": [],
   "source": [
    "# h0_df = pd.DataFrame(h0, index = filenames)\n",
    "# h0_df['labels'] = labels\n",
    "# h1_df = pd.DataFrame(h1, index = filenames)\n",
    "# h1_df['labels'] = labels"
   ]
  },
  {
   "cell_type": "code",
   "execution_count": 4,
   "metadata": {},
   "outputs": [],
   "source": [
    "# h0_df.to_csv('betti_curve_h0_pipe_1')\n",
    "# h1_df.to_csv('betti_curve_h1_pipe_1')"
   ]
  },
  {
   "cell_type": "code",
   "execution_count": 10,
   "metadata": {},
   "outputs": [],
   "source": [
    "amp = pd.DataFrame(h0, index = filenames, columns= ['amp'])\n",
    "amp['labels'] = labels"
   ]
  },
  {
   "cell_type": "code",
   "execution_count": 11,
   "metadata": {},
   "outputs": [
    {
     "data": {
      "text/html": [
       "<div>\n",
       "<style scoped>\n",
       "    .dataframe tbody tr th:only-of-type {\n",
       "        vertical-align: middle;\n",
       "    }\n",
       "\n",
       "    .dataframe tbody tr th {\n",
       "        vertical-align: top;\n",
       "    }\n",
       "\n",
       "    .dataframe thead th {\n",
       "        text-align: right;\n",
       "    }\n",
       "</style>\n",
       "<table border=\"1\" class=\"dataframe\">\n",
       "  <thead>\n",
       "    <tr style=\"text-align: right;\">\n",
       "      <th></th>\n",
       "      <th>amp</th>\n",
       "      <th>labels</th>\n",
       "    </tr>\n",
       "  </thead>\n",
       "  <tbody>\n",
       "    <tr>\n",
       "      <th>156d1a14-bbb8-11e8-b2ba-ac1f6b6435d0_green.png</th>\n",
       "      <td>250.315558</td>\n",
       "      <td>0</td>\n",
       "    </tr>\n",
       "    <tr>\n",
       "      <th>0969d07a-bba6-11e8-b2ba-ac1f6b6435d0_green.png</th>\n",
       "      <td>471.995634</td>\n",
       "      <td>0</td>\n",
       "    </tr>\n",
       "    <tr>\n",
       "      <th>12680f70-bbc4-11e8-b2bc-ac1f6b6435d0_green.png</th>\n",
       "      <td>260.935496</td>\n",
       "      <td>0</td>\n",
       "    </tr>\n",
       "    <tr>\n",
       "      <th>0c20be96-bbc9-11e8-b2bc-ac1f6b6435d0_green.png</th>\n",
       "      <td>585.143141</td>\n",
       "      <td>0</td>\n",
       "    </tr>\n",
       "    <tr>\n",
       "      <th>06d620c2-bbae-11e8-b2ba-ac1f6b6435d0_green.png</th>\n",
       "      <td>888.333680</td>\n",
       "      <td>0</td>\n",
       "    </tr>\n",
       "    <tr>\n",
       "      <th>...</th>\n",
       "      <td>...</td>\n",
       "      <td>...</td>\n",
       "    </tr>\n",
       "    <tr>\n",
       "      <th>82f6782a-bbca-11e8-b2bc-ac1f6b6435d0_green.png</th>\n",
       "      <td>849.450625</td>\n",
       "      <td>1</td>\n",
       "    </tr>\n",
       "    <tr>\n",
       "      <th>fc744490-bbb9-11e8-b2ba-ac1f6b6435d0_green.png</th>\n",
       "      <td>452.420538</td>\n",
       "      <td>1</td>\n",
       "    </tr>\n",
       "    <tr>\n",
       "      <th>4f88e5c6-bba8-11e8-b2ba-ac1f6b6435d0_green.png</th>\n",
       "      <td>606.565143</td>\n",
       "      <td>1</td>\n",
       "    </tr>\n",
       "    <tr>\n",
       "      <th>45d38d90-bbc3-11e8-b2bc-ac1f6b6435d0_green.png</th>\n",
       "      <td>210.937302</td>\n",
       "      <td>1</td>\n",
       "    </tr>\n",
       "    <tr>\n",
       "      <th>6a82da18-bbc5-11e8-b2bc-ac1f6b6435d0_green.png</th>\n",
       "      <td>303.529773</td>\n",
       "      <td>1</td>\n",
       "    </tr>\n",
       "  </tbody>\n",
       "</table>\n",
       "<p>571 rows × 2 columns</p>\n",
       "</div>"
      ],
      "text/plain": [
       "                                                       amp  labels\n",
       "156d1a14-bbb8-11e8-b2ba-ac1f6b6435d0_green.png  250.315558       0\n",
       "0969d07a-bba6-11e8-b2ba-ac1f6b6435d0_green.png  471.995634       0\n",
       "12680f70-bbc4-11e8-b2bc-ac1f6b6435d0_green.png  260.935496       0\n",
       "0c20be96-bbc9-11e8-b2bc-ac1f6b6435d0_green.png  585.143141       0\n",
       "06d620c2-bbae-11e8-b2ba-ac1f6b6435d0_green.png  888.333680       0\n",
       "...                                                    ...     ...\n",
       "82f6782a-bbca-11e8-b2bc-ac1f6b6435d0_green.png  849.450625       1\n",
       "fc744490-bbb9-11e8-b2ba-ac1f6b6435d0_green.png  452.420538       1\n",
       "4f88e5c6-bba8-11e8-b2ba-ac1f6b6435d0_green.png  606.565143       1\n",
       "45d38d90-bbc3-11e8-b2bc-ac1f6b6435d0_green.png  210.937302       1\n",
       "6a82da18-bbc5-11e8-b2bc-ac1f6b6435d0_green.png  303.529773       1\n",
       "\n",
       "[571 rows x 2 columns]"
      ]
     },
     "execution_count": 11,
     "metadata": {},
     "output_type": "execute_result"
    }
   ],
   "source": [
    "amp"
   ]
  },
  {
   "cell_type": "code",
   "execution_count": 12,
   "metadata": {},
   "outputs": [],
   "source": [
    "amp.to_csv('./features/amplitude_bc')"
   ]
  }
 ],
 "metadata": {
  "kernelspec": {
   "display_name": "Python 3",
   "language": "python",
   "name": "python3"
  },
  "language_info": {
   "codemirror_mode": {
    "name": "ipython",
    "version": 3
   },
   "file_extension": ".py",
   "mimetype": "text/x-python",
   "name": "python",
   "nbconvert_exporter": "python",
   "pygments_lexer": "ipython3",
   "version": "3.7.6"
  }
 },
 "nbformat": 4,
 "nbformat_minor": 4
}
