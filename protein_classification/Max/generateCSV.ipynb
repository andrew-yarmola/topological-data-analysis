{
 "cells": [
  {
   "cell_type": "code",
   "execution_count": 1,
   "metadata": {},
   "outputs": [],
   "source": [
    "import glob, os\n",
    "\n",
    "curr_dir = os.getcwd()\n",
    "# Load all files with label 0\n",
    "label0_files = []\n",
    "os.chdir(curr_dir)\n",
    "os.chdir(\"./data/label0/\")\n",
    "for file in glob.glob(\"*.png\"):\n",
    "    label0_files.append(file)\n",
    "    \n",
    "# load all files with label 1\n",
    "label1_files = []\n",
    "os.chdir(curr_dir)\n",
    "os.chdir(\"./data/label1/\")\n",
    "for file in glob.glob(\"*.png\"):\n",
    "    label1_files.append(file)\n",
    "\n",
    "os.chdir(curr_dir)"
   ]
  },
  {
   "cell_type": "code",
   "execution_count": 2,
   "metadata": {},
   "outputs": [
    {
     "name": "stdout",
     "output_type": "stream",
     "text": [
      "20 out of 300\n",
      "40 out of 300\n",
      "60 out of 300\n",
      "80 out of 300\n",
      "100 out of 300\n",
      "120 out of 300\n",
      "140 out of 300\n",
      "160 out of 300\n",
      "180 out of 300\n",
      "200 out of 300\n",
      "220 out of 300\n",
      "240 out of 300\n",
      "260 out of 300\n",
      "280 out of 300\n",
      "300 out of 300\n"
     ]
    }
   ],
   "source": [
    "from eval import *\n",
    "import pandas as pd\n",
    "\n",
    "label0_df = pd.DataFrame(columns=['file_name', 'H0', 'H1'])\n",
    "count = 0\n",
    "for file in label0_files:\n",
    "    count += 1\n",
    "    if count%20 == 0:\n",
    "        print(str(count) + \" out of \" + str(len(label0_files)))\n",
    "    file_path = './data/label0/' + file\n",
    "    bc = bettiCurve_pipe2(file_path)\n",
    "    label0_df = label0_df.append({\"file_name\": file, 'H0': bc[0][0], 'H1': bc[0][1]}, ignore_index=True)"
   ]
  },
  {
   "cell_type": "code",
   "execution_count": 3,
   "metadata": {},
   "outputs": [],
   "source": [
    "label0_df.to_csv('label0_betti_curves_2', index=False)"
   ]
  },
  {
   "cell_type": "code",
   "execution_count": null,
   "metadata": {},
   "outputs": [
    {
     "name": "stdout",
     "output_type": "stream",
     "text": [
      "20 out of 271\n",
      "40 out of 271\n",
      "60 out of 271\n",
      "80 out of 271\n",
      "100 out of 271\n",
      "120 out of 271\n",
      "140 out of 271\n",
      "160 out of 271\n",
      "180 out of 271\n",
      "200 out of 271\n"
     ]
    }
   ],
   "source": [
    "label1_df = pd.DataFrame(columns=['file_name', 'H0', 'H1'])\n",
    "count = 0\n",
    "for file in label1_files:\n",
    "    count += 1\n",
    "    if count%20 == 0:\n",
    "        print(str(count) + \" out of \" + str(len(label1_files)))\n",
    "    file_path = './data/label1/' + file\n",
    "    bc = bettiCurve_pipe2(file_path)\n",
    "    label1_df = label1_df.append({\"file_name\": file, 'H0': bc[0][0], 'H1': bc[0][1]}, ignore_index=True)"
   ]
  },
  {
   "cell_type": "code",
   "execution_count": null,
   "metadata": {},
   "outputs": [],
   "source": [
    "label1_df.to_csv('label1_betti_curves_2', index=False)"
   ]
  },
  {
   "cell_type": "code",
   "execution_count": null,
   "metadata": {},
   "outputs": [],
   "source": [
    "label1_df"
   ]
  }
 ],
 "metadata": {
  "kernelspec": {
   "display_name": "Python 3",
   "language": "python",
   "name": "python3"
  },
  "language_info": {
   "codemirror_mode": {
    "name": "ipython",
    "version": 3
   },
   "file_extension": ".py",
   "mimetype": "text/x-python",
   "name": "python",
   "nbconvert_exporter": "python",
   "pygments_lexer": "ipython3",
   "version": "3.7.6"
  }
 },
 "nbformat": 4,
 "nbformat_minor": 4
}
