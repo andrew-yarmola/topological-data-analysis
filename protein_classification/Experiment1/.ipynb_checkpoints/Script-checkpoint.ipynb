{
 "cells": [
  {
   "cell_type": "code",
   "execution_count": 10,
   "metadata": {},
   "outputs": [
    {
     "name": "stdout",
     "output_type": "stream",
     "text": [
      "{0: [], 1: [], 2: [], 3: [], 4: [], 5: [], 6: [], 7: [], 8: [], 9: [], 11: [], 12: [], 13: [], 14: [], 16: [], 18: [], 19: [], 20: [], 21: [], 22: [], 23: [], 24: [], 25: [], 26: []}\n"
     ]
    }
   ],
   "source": [
    "import os\n",
    "import shutil\n",
    "import csv\n",
    "\n",
    "#proteins that exist in our sample\n",
    "proteins = [0, 1, 2, 3, 4, 5, 6, 7, 8, 9, 11, 12, 13, 14, 16, 18, 19, 20, 21, 22, 23, 24, 25, 26]\n",
    "\n",
    "#files dictionary\n",
    "dicct = {}\n",
    "for i in proteins:\n",
    "    dicct[i] = []\n",
    "print(dicct)"
   ]
  },
  {
   "cell_type": "code",
   "execution_count": 11,
   "metadata": {},
   "outputs": [],
   "source": [
    "# put files in dictionary\n",
    "\n",
    "with open(\"trainfile.csv\", 'r') as f:\n",
    "    reader = csv.reader(f, delimiter=',')\n",
    "    for row in reader:\n",
    "        if row[0] != \"Id\":\n",
    "            dicct[int(row[1])].append(row[0])"
   ]
  },
  {
   "cell_type": "code",
   "execution_count": 13,
   "metadata": {},
   "outputs": [
    {
     "name": "stdout",
     "output_type": "stream",
     "text": [
      "protein 0\n",
      "protein 0\n",
      "protein 1\n",
      "protein 1\n",
      "protein 2\n",
      "protein 2\n",
      "protein 3\n",
      "protein 3\n",
      "protein 4\n",
      "protein 4\n",
      "protein 5\n",
      "protein 5\n",
      "protein 6\n",
      "protein 6\n",
      "protein 7\n",
      "protein 7\n",
      "protein 11\n",
      "protein 11\n",
      "protein 12\n",
      "protein 12\n",
      "protein 13\n",
      "protein 13\n",
      "protein 14\n",
      "protein 14\n",
      "protein 18\n",
      "protein 18\n",
      "protein 19\n",
      "protein 19\n",
      "protein 20\n",
      "protein 20\n",
      "protein 21\n",
      "protein 21\n",
      "protein 22\n",
      "protein 22\n",
      "protein 23\n",
      "protein 23\n",
      "protein 24\n",
      "protein 24\n",
      "protein 25\n",
      "protein 25\n"
     ]
    }
   ],
   "source": [
    "dir_src = \"/Users/ahmedfarah/Desktop/Classes and Stuff/6- Sophomore summer/TDA/human-protein-atlas-image-classification/train\"\n",
    "dir_dst = \"/Users/ahmedfarah/Documents/GitHub/topological-data-analysis/protein_classification/Experiment1/data\"\n",
    "# number of files you want to move for each category\n",
    "n = 1\n",
    "#IMPORTANT! Do not run this script more than once. Running it repeatedly will copy multiple copies of each file each time to the data folder\n",
    "\n",
    "training_files = {}\n",
    "\n",
    "for protein_number in proteins:\n",
    "    i = 0\n",
    "    for filename in dicct[protein_number]:\n",
    "        if(i >= n):\n",
    "            break\n",
    "        src_file = os.path.join(dir_src, filename)\n",
    "        src_file1 = src_file + \"_green.png\"\n",
    "        src_file2 = src_file + \"_yellow.png\"\n",
    "        src_file3 = src_file + \"_red.png\"\n",
    "        src_file4 = src_file + \"_blue.png\"\n",
    "        if (os.path.exists(src_file1) and os.path.exists(src_file2) and os.path.exists(src_file3) and os.path.exists(src_file4)):\n",
    "            print(\"protein \" + str(protein_number))\n",
    "            dst_file = os.path.join(dir_dst, filename)\n",
    "            dst_file1 = dst_file + \"_green.png\"\n",
    "            dst_file2 = dst_file + \"_yellow.png\"\n",
    "            dst_file3 = dst_file + \"_red.png\"\n",
    "            dst_file4 = dst_file + \"_blue.png\"\n",
    "            training_files[src_file] = protein_number\n",
    "            if (not os.path.exists(dst_file1)):\n",
    "                shutil.copy(src_file1, dst_file1)\n",
    "            if (not os.path.exists(dst_file2)):\n",
    "                shutil.copy(src_file2, dst_file2)\n",
    "            if (not os.path.exists(dst_file3)):\n",
    "                shutil.copy(src_file3, dst_file3)\n",
    "            if (not os.path.exists(dst_file4)):\n",
    "                shutil.copy(src_file4, dst_file4)\n",
    "            i = i + 1"
   ]
  },
  {
   "cell_type": "code",
   "execution_count": null,
   "metadata": {},
   "outputs": [],
   "source": [
    "csv_columns = ['No','Name','Country']\n",
    "dict_data = [\n",
    "{'No': 1, 'Name': 'Alex', 'Country': 'India'},\n",
    "{'No': 2, 'Name': 'Ben', 'Country': 'USA'},\n",
    "{'No': 3, 'Name': 'Shri Ram', 'Country': 'India'},\n",
    "{'No': 4, 'Name': 'Smith', 'Country': 'USA'},\n",
    "{'No': 5, 'Name': 'Yuva Raj', 'Country': 'India'},\n",
    "]\n",
    "csv_file = \"Names.csv\"\n",
    "try:\n",
    "    with open(csv_file, 'w') as csvfile:\n",
    "        writer = csv.DictWriter(csvfile, fieldnames=csv_columns)\n",
    "        writer.writeheader()\n",
    "        for data in dict_data:\n",
    "            writer.writerow(data)\n",
    "except IOError:\n",
    "    print(\"I/O error\")"
   ]
  },
  {
   "cell_type": "code",
   "execution_count": null,
   "metadata": {},
   "outputs": [],
   "source": []
  },
  {
   "cell_type": "code",
   "execution_count": null,
   "metadata": {},
   "outputs": [],
   "source": []
  },
  {
   "cell_type": "code",
   "execution_count": null,
   "metadata": {},
   "outputs": [],
   "source": []
  }
 ],
 "metadata": {
  "kernelspec": {
   "display_name": "Python 3",
   "language": "python",
   "name": "python3"
  },
  "language_info": {
   "codemirror_mode": {
    "name": "ipython",
    "version": 3
   },
   "file_extension": ".py",
   "mimetype": "text/x-python",
   "name": "python",
   "nbconvert_exporter": "python",
   "pygments_lexer": "ipython3",
   "version": "3.7.6"
  }
 },
 "nbformat": 4,
 "nbformat_minor": 4
}
