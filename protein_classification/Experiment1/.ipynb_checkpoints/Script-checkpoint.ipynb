{
 "cells": [
  {
   "cell_type": "code",
   "execution_count": 20,
   "metadata": {},
   "outputs": [
    {
     "name": "stdout",
     "output_type": "stream",
     "text": [
      "[]\n"
     ]
    }
   ],
   "source": [
    "#Scipt to move files around\n",
    "\n",
    "import os\n",
    "import shutil\n",
    "import csv\n",
    "\n",
    "files = []\n",
    "with open(\"trainfile.csv\", 'r') as f:\n",
    "    reader = csv.reader(f, delimiter=',')\n",
    "    length = len(list(reader))\n",
    "    for row in reader:\n",
    "        files.append(row[0])\n",
    "        \n",
    "print(files)    "
   ]
  },
  {
   "cell_type": "code",
   "execution_count": null,
   "metadata": {},
   "outputs": [],
   "source": []
  }
 ],
 "metadata": {
  "kernelspec": {
   "display_name": "Python 3",
   "language": "python",
   "name": "python3"
  },
  "language_info": {
   "codemirror_mode": {
    "name": "ipython",
    "version": 3
   },
   "file_extension": ".py",
   "mimetype": "text/x-python",
   "name": "python",
   "nbconvert_exporter": "python",
   "pygments_lexer": "ipython3",
   "version": "3.7.6"
  }
 },
 "nbformat": 4,
 "nbformat_minor": 4
}
