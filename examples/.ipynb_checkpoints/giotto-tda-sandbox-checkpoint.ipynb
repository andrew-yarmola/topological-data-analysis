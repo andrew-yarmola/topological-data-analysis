{
 "cells": [
  {
   "cell_type": "code",
   "execution_count": 1,
   "metadata": {},
   "outputs": [
    {
     "ename": "ModuleNotFoundError",
     "evalue": "No module named 'gtda'",
     "output_type": "error",
     "traceback": [
      "\u001b[0;31m---------------------------------------------------------------------------\u001b[0m",
      "\u001b[0;31mModuleNotFoundError\u001b[0m                       Traceback (most recent call last)",
      "\u001b[0;32m<ipython-input-1-9eb95328927e>\u001b[0m in \u001b[0;36m<module>\u001b[0;34m\u001b[0m\n\u001b[1;32m      1\u001b[0m \u001b[0;31m# Importing libraries\u001b[0m\u001b[0;34m\u001b[0m\u001b[0;34m\u001b[0m\u001b[0;34m\u001b[0m\u001b[0m\n\u001b[0;32m----> 2\u001b[0;31m \u001b[0;32mfrom\u001b[0m \u001b[0mgtda\u001b[0m\u001b[0;34m.\u001b[0m\u001b[0mhomology\u001b[0m \u001b[0;32mimport\u001b[0m \u001b[0mVietorisRipsPersistence\u001b[0m\u001b[0;34m,\u001b[0m \u001b[0mCubicalPersistence\u001b[0m\u001b[0;34m\u001b[0m\u001b[0;34m\u001b[0m\u001b[0m\n\u001b[0m\u001b[1;32m      3\u001b[0m \u001b[0;32mfrom\u001b[0m \u001b[0mgtda\u001b[0m\u001b[0;34m.\u001b[0m\u001b[0mdiagrams\u001b[0m \u001b[0;32mimport\u001b[0m \u001b[0mPersistenceEntropy\u001b[0m\u001b[0;34m\u001b[0m\u001b[0;34m\u001b[0m\u001b[0m\n\u001b[1;32m      4\u001b[0m \u001b[0;34m\u001b[0m\u001b[0m\n\u001b[1;32m      5\u001b[0m \u001b[0;32mimport\u001b[0m \u001b[0mnumpy\u001b[0m \u001b[0;32mas\u001b[0m \u001b[0mnp\u001b[0m\u001b[0;34m\u001b[0m\u001b[0;34m\u001b[0m\u001b[0m\n",
      "\u001b[0;31mModuleNotFoundError\u001b[0m: No module named 'gtda'"
     ]
    }
   ],
   "source": [
    "# Importing libraries\n",
    "from gtda.homology import VietorisRipsPersistence, CubicalPersistence\n",
    "from gtda.diagrams import PersistenceEntropy\n",
    "\n",
    "import numpy as np\n",
    "\n",
    "from gtda.pipeline import Pipeline\n",
    "from sklearn.linear_model import LogisticRegression\n",
    "\n",
    "# Plotting functions\n",
    "from gtda.plotting import plot_diagram, plot_point_cloud, plot_heatmap"
   ]
  },
  {
   "cell_type": "code",
   "execution_count": null,
   "metadata": {},
   "outputs": [],
   "source": [
    "# Representing the circle in 3d with parametric equations.\n",
    "circle = np.asarray([[np.sin(t),np.cos(t),0] for t in range(400)])\n",
    "plot_point_cloud(circle)"
   ]
  },
  {
   "cell_type": "code",
   "execution_count": null,
   "metadata": {},
   "outputs": [],
   "source": [
    "# Representing the sphere in 3d with parametric equations\n",
    "sphere = np.asarray([[np.cos(s)*np.cos(t),np.cos(s)*np.sin(t),np.sin(s)] for t in range(20) for s in range(20)])\n",
    "plot_point_cloud(sphere)"
   ]
  },
  {
   "cell_type": "code",
   "execution_count": null,
   "metadata": {},
   "outputs": [],
   "source": [
    "# Representing the torus in 3d with parametric equations\n",
    "torus = np.asarray([[(2+np.cos(s))*np.cos(t),(2+np.cos(s))*np.sin(t),np.sin(s)] for t in range(20) for s in range(20)])\n",
    "plot_point_cloud(torus)"
   ]
  },
  {
   "cell_type": "code",
   "execution_count": null,
   "metadata": {},
   "outputs": [],
   "source": [
    "import plotly.express as px\n",
    "X = 0.5*np.ones([1,5,5])\n",
    "X[0,0,0] = 0.2\n",
    "X[0,1,1] = 0.3\n",
    "X[0,2,2] = 0.6\n",
    "X[0,2,4] = 0.7\n",
    "px.imshow(X[0,:,:])"
   ]
  },
  {
   "cell_type": "code",
   "execution_count": null,
   "metadata": {},
   "outputs": [],
   "source": [
    "Y = np.ones((5 + 2, 5 + 2), dtype=np.int64) * np.nan\n",
    "Y[1:-1, 1:-1] = X[0]\n",
    "px.imshow(Y)"
   ]
  },
  {
   "cell_type": "code",
   "execution_count": null,
   "metadata": {},
   "outputs": [],
   "source": [
    "Y_shift =  thisD = np.roll(np.roll(Y, -1, axis=0), 0, axis=1)\n",
    "px.imshow(Y_shift)"
   ]
  },
  {
   "cell_type": "code",
   "execution_count": null,
   "metadata": {},
   "outputs": [],
   "source": [
    "Y_max = np.maximum(Y_shift, Y)\n",
    "px.imshow(Y_max)"
   ]
  },
  {
   "cell_type": "code",
   "execution_count": null,
   "metadata": {},
   "outputs": [],
   "source": [
    "boundary = ~np.isnan(Y_max)\n",
    "Y_final = np.copy(Y_max)images.Binarizer([threshold, n_jobs])\n",
    "\n",
    "Binarize all 2D/3D greyscale images in a collection.\n",
    "\n",
    "images.Inverter([n_jobs])\n",
    "\n",
    "Invert all 2D/3D binary images in a collection.\n",
    "\n",
    "images.Padder([paddings, activated, n_jobs])\n",
    "\n",
    "Pad all 2D/3D binary images in a collection.\n",
    "\n",
    "images.ImageToPointCloud([n_jobs])\n",
    "\n",
    "Represent active pixels in 2D/3D binary images as points in 2D/3D space.\n",
    "\n",
    "Filtrations\n",
    "Y_final = np.reshape(Y_max[boundary],(4,5))\n",
    "px.imshow(Y_final)"
   ]
  },
  {
   "cell_type": "code",
   "execution_count": null,
   "metadata": {},
   "outputs": [],
   "source": [
    "import ripser"
   ]
  },
  {
   "cell_type": "code",
   "execution_count": null,
   "metadata": {},
   "outputs": [],
   "source": [
    "ripser.lower_star_img(X[0])"
   ]
  },
  {
   "cell_type": "code",
   "execution_count": null,
   "metadata": {},
   "outputs": [],
   "source": [
    "cp = CubicalPersistence(periodic_dimensions=np.array([True, True]), infinity_values=1)\n",
    "cp.fit_transform(X)"
   ]
  },
  {
   "cell_type": "code",
   "execution_count": null,
   "metadata": {},
   "outputs": [],
   "source": [
    "help(CubicalPersistence)"
   ]
  },
  {
   "cell_type": "code",
   "execution_count": null,
   "metadata": {},
   "outputs": [],
   "source": [
    "images_2D_height = np.array(\n",
    "    [[[0., 0.70710678, 1.41421356, 2.12132034],\n",
    "      [0.70710678, 1.41421356, 2.12132034, 2.82842712],\n",
    "      [1.41421356, 2.12132034, 2.82842712, 3.53553391]],\n",
    "     [[0., 0.70710678, 4.53553391, 4.53553391],\n",
    "      [0.70710678, 1.41421356, 4.53553391, 4.53553391],\n",
    "      [1.41421356, 2.12132034, 4.53553391, 4.53553391]],\n",
    "     [[4.53553391, 4.53553391, 4.53553391, 4.53553391],\n",
    "      [4.53553391, 4.53553391, 4.53553391, 4.53553391],\n",
    "      [4.53553391, 4.53553391, 4.53553391, 4.53553391]]])"
   ]
  },
  {
   "cell_type": "code",
   "execution_count": null,
   "metadata": {},
   "outputs": [],
   "source": []
  },
  {
   "cell_type": "code",
   "execution_count": null,
   "metadata": {},
   "outputs": [],
   "source": [
    "px.imshow(images_2D_height[1,:,:])"
   ]
  },
  {
   "cell_type": "code",
   "execution_count": null,
   "metadata": {},
   "outputs": [],
   "source": [
    "from gtda.images import HeightFiltration, RadialFiltration, \\\n",
    "    DilationFiltration, ErosionFiltration, SignedDistanceFiltration"
   ]
  },
  {
   "cell_type": "code",
   "execution_count": null,
   "metadata": {},
   "outputs": [],
   "source": [
    "height = HeightFiltration(direction=np.asarray([1, 1]))"
   ]
  },
  {
   "cell_type": "code",
   "execution_count": null,
   "metadata": {},
   "outputs": [],
   "source": [
    "filtrations = height.fit_transform_plot(images_2D_height)"
   ]
  },
  {
   "cell_type": "code",
   "execution_count": null,
   "metadata": {},
   "outputs": [],
   "source": [
    "cp = CubicalPersistence()\n",
    "cp.fit_transform_plot(filtrations)"
   ]
  },
  {
   "cell_type": "code",
   "execution_count": null,
   "metadata": {},
   "outputs": [],
   "source": [
    "from gtda.diagrams import PersistenceEntropy, BettiCurve, \\\n",
    "    PersistenceLandscape, HeatKernel, PersistenceImage, Silhouette"
   ]
  },
  {
   "cell_type": "code",
   "execution_count": null,
   "metadata": {},
   "outputs": [],
   "source": [
    "pe = PersistenceEntropy()"
   ]
  },
  {
   "cell_type": "code",
   "execution_count": null,
   "metadata": {},
   "outputs": [],
   "source": [
    "cp_out = cp.fit_transform_plot(filtrations)\n",
    "pe.fit_transform(cp_out)"
   ]
  },
  {
   "cell_type": "code",
   "execution_count": null,
   "metadata": {},
   "outputs": [],
   "source": []
  }
 ],
 "metadata": {
  "kernelspec": {
   "display_name": "Python 3",
   "language": "python",
   "name": "python3"
  },
  "language_info": {
   "codemirror_mode": {
    "name": "ipython",
    "version": 3
   },
   "file_extension": ".py",
   "mimetype": "text/x-python",
   "name": "python",
   "nbconvert_exporter": "python",
   "pygments_lexer": "ipython3",
   "version": "3.7.6"
  }
 },
 "nbformat": 4,
 "nbformat_minor": 4
}
