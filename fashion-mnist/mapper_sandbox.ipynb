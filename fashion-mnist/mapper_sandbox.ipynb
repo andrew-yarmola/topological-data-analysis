{
 "cells": [
  {
   "cell_type": "code",
   "execution_count": 1,
   "metadata": {},
   "outputs": [],
   "source": [
    "# Data wrangling\n",
    "import numpy as np\n",
    "from utils import mnist_reader\n",
    "\n",
    "# Data viz\n",
    "import plotly.express as px\n",
    "from gtda.plotting import plot_point_cloud\n",
    "\n",
    "# TDA magic\n",
    "from gtda.mapper import (\n",
    "    CubicalCover, # cover of the target\n",
    "    make_mapper_pipeline,\n",
    "    Projection, # our filter function\n",
    "    plot_static_mapper_graph,\n",
    "    plot_interactive_mapper_graph\n",
    ")\n",
    "\n",
    "# ML tools\n",
    "from sklearn.cluster import DBSCAN # cluster algo\n",
    "from sklearn.decomposition import PCA "
   ]
  },
  {
   "cell_type": "code",
   "execution_count": 2,
   "metadata": {},
   "outputs": [],
   "source": [
    "x_train, y_train = mnist_reader.load_mnist('data/fashion', kind='train')\n",
    "x_test, y_test = mnist_reader.load_mnist('data/fashion', kind='t10k')"
   ]
  },
  {
   "cell_type": "code",
   "execution_count": 18,
   "metadata": {},
   "outputs": [
    {
     "data": {
      "application/vnd.plotly.v1+json": {
       "config": {
        "plotlyServerURL": "https://plot.ly"
       },
       "data": [
        {
         "coloraxis": "coloraxis",
         "hovertemplate": "x: %{x}<br>y: %{y}<br>color: %{z}<extra></extra>",
         "type": "heatmap",
         "z": [
          [
           0,
           0,
           0,
           0,
           0,
           0,
           0,
           0,
           0,
           0,
           0,
           0,
           0,
           0,
           0,
           0,
           0,
           17,
           76,
           119,
           121,
           97,
           64,
           14,
           0,
           0,
           0,
           0
          ],
          [
           0,
           0,
           0,
           0,
           0,
           0,
           0,
           0,
           0,
           0,
           0,
           0,
           0,
           0,
           2,
           0,
           14,
           234,
           192,
           207,
           228,
           232,
           245,
           199,
           202,
           115,
           0,
           0
          ],
          [
           0,
           0,
           0,
           0,
           0,
           0,
           0,
           0,
           0,
           0,
           0,
           0,
           0,
           0,
           1,
           0,
           0,
           172,
           166,
           165,
           178,
           188,
           192,
           184,
           208,
           183,
           0,
           0
          ],
          [
           0,
           0,
           0,
           0,
           0,
           0,
           0,
           0,
           0,
           0,
           0,
           0,
           0,
           0,
           0,
           0,
           0,
           149,
           180,
           181,
           184,
           182,
           190,
           183,
           202,
           63,
           0,
           0
          ],
          [
           0,
           0,
           0,
           0,
           0,
           0,
           0,
           0,
           0,
           0,
           0,
           0,
           0,
           0,
           0,
           0,
           0,
           150,
           185,
           181,
           201,
           200,
           205,
           191,
           222,
           21,
           0,
           0
          ],
          [
           0,
           0,
           0,
           0,
           0,
           0,
           0,
           0,
           0,
           0,
           0,
           0,
           0,
           0,
           1,
           0,
           0,
           173,
           180,
           188,
           196,
           197,
           196,
           193,
           219,
           0,
           0,
           0
          ],
          [
           0,
           0,
           0,
           0,
           0,
           0,
           0,
           0,
           0,
           0,
           0,
           0,
           0,
           0,
           3,
           0,
           1,
           186,
           181,
           195,
           195,
           193,
           195,
           190,
           199,
           0,
           0,
           0
          ],
          [
           0,
           0,
           0,
           0,
           0,
           0,
           0,
           0,
           0,
           0,
           0,
           0,
           0,
           0,
           2,
           0,
           28,
           197,
           180,
           194,
           193,
           199,
           200,
           193,
           180,
           0,
           0,
           0
          ],
          [
           0,
           0,
           0,
           0,
           0,
           0,
           0,
           0,
           0,
           0,
           0,
           0,
           0,
           0,
           1,
           0,
           83,
           198,
           178,
           191,
           197,
           200,
           199,
           200,
           142,
           0,
           0,
           0
          ],
          [
           0,
           0,
           0,
           0,
           0,
           0,
           0,
           0,
           0,
           0,
           0,
           0,
           0,
           0,
           0,
           0,
           130,
           194,
           184,
           193,
           196,
           202,
           191,
           216,
           114,
           0,
           0,
           0
          ],
          [
           0,
           0,
           0,
           0,
           0,
           0,
           0,
           0,
           0,
           0,
           0,
           0,
           0,
           2,
           0,
           0,
           180,
           186,
           188,
           193,
           194,
           197,
           183,
           214,
           91,
           0,
           1,
           0
          ],
          [
           0,
           0,
           0,
           0,
           0,
           0,
           0,
           0,
           0,
           0,
           0,
           0,
           0,
           1,
           0,
           30,
           202,
           179,
           187,
           191,
           191,
           194,
           194,
           226,
           117,
           0,
           0,
           0
          ],
          [
           0,
           0,
           0,
           0,
           0,
           0,
           0,
           0,
           0,
           0,
           0,
           0,
           0,
           0,
           0,
           121,
           200,
           177,
           193,
           191,
           189,
           194,
           190,
           193,
           178,
           0,
           0,
           0
          ],
          [
           0,
           0,
           0,
           0,
           0,
           0,
           0,
           0,
           0,
           0,
           0,
           0,
           2,
           0,
           1,
           186,
           181,
           186,
           186,
           185,
           187,
           192,
           183,
           175,
           202,
           7,
           0,
           0
          ],
          [
           0,
           0,
           0,
           0,
           0,
           0,
           0,
           0,
           0,
           0,
           0,
           0,
           1,
           0,
           58,
           197,
           183,
           188,
           190,
           188,
           196,
           197,
           193,
           196,
           229,
           94,
           0,
           0
          ],
          [
           0,
           0,
           0,
           0,
           0,
           0,
           0,
           0,
           0,
           0,
           0,
           0,
           0,
           0,
           133,
           192,
           200,
           198,
           194,
           184,
           190,
           184,
           180,
           190,
           195,
           190,
           0,
           0
          ],
          [
           0,
           0,
           0,
           0,
           0,
           0,
           0,
           0,
           0,
           0,
           0,
           1,
           0,
           40,
           188,
           181,
           191,
           197,
           192,
           191,
           196,
           205,
           192,
           188,
           182,
           207,
           34,
           0
          ],
          [
           0,
           0,
           0,
           0,
           0,
           0,
           0,
           0,
           0,
           0,
           0,
           0,
           0,
           156,
           183,
           185,
           177,
           188,
           191,
           194,
           201,
           204,
           181,
           177,
           173,
           199,
           78,
           0
          ],
          [
           0,
           0,
           0,
           0,
           0,
           0,
           0,
           0,
           0,
           0,
           0,
           0,
           111,
           192,
           167,
           189,
           193,
           188,
           196,
           209,
           196,
           170,
           167,
           166,
           161,
           197,
           99,
           0
          ],
          [
           0,
           0,
           0,
           0,
           0,
           0,
           0,
           0,
           0,
           0,
           0,
           66,
           199,
           166,
           179,
           190,
           198,
           197,
           195,
           197,
           185,
           178,
           172,
           168,
           178,
           205,
           88,
           0
          ],
          [
           0,
           0,
           0,
           0,
           1,
           3,
           3,
           1,
           0,
           0,
           64,
           196,
           174,
           178,
           177,
           178,
           185,
           188,
           195,
           188,
           178,
           181,
           186,
           182,
           179,
           205,
           42,
           0
          ],
          [
           0,
           0,
           0,
           0,
           0,
           0,
           0,
           0,
           0,
           107,
           196,
           166,
           174,
           179,
           183,
           188,
           192,
           190,
           183,
           191,
           221,
           222,
           184,
           190,
           194,
           217,
           0,
           0
          ],
          [
           0,
           0,
           0,
           0,
           0,
           5,
           41,
           98,
           165,
           195,
           163,
           171,
           172,
           174,
           177,
           192,
           191,
           189,
           229,
           226,
           142,
           0,
           34,
           210,
           203,
           186,
           0,
           0
          ],
          [
           0,
           0,
           0,
           137,
           151,
           183,
           191,
           183,
           164,
           153,
           167,
           171,
           179,
           179,
           187,
           182,
           194,
           233,
           132,
           0,
           0,
           0,
           59,
           215,
           208,
           140,
           0,
           0
          ],
          [
           0,
           0,
           127,
           203,
           181,
           179,
           178,
           173,
           164,
           175,
           176,
           173,
           177,
           177,
           184,
           203,
           209,
           31,
           0,
           0,
           2,
           0,
           71,
           214,
           209,
           103,
           0,
           0
          ],
          [
           0,
           0,
           35,
           172,
           193,
           193,
           197,
           190,
           181,
           183,
           181,
           183,
           186,
           194,
           209,
           160,
           0,
           0,
           0,
           0,
           4,
           0,
           66,
           210,
           207,
           71,
           0,
           0
          ],
          [
           0,
           0,
           0,
           0,
           66,
           130,
           175,
           198,
           208,
           209,
           218,
           216,
           203,
           255,
           124,
           0,
           0,
           0,
           0,
           0,
           7,
           0,
           83,
           227,
           216,
           44,
           0,
           0
          ],
          [
           0,
           0,
           0,
           0,
           0,
           0,
           0,
           0,
           30,
           57,
           85,
           117,
           119,
           50,
           0,
           0,
           0,
           0,
           0,
           0,
           3,
           0,
           47,
           161,
           142,
           5,
           0,
           0
          ]
         ]
        }
       ],
       "layout": {
        "autosize": true,
        "coloraxis": {
         "colorscale": [
          [
           0,
           "rgb(0, 0, 0)"
          ],
          [
           0.09090909090909091,
           "rgb(16, 16, 16)"
          ],
          [
           0.18181818181818182,
           "rgb(38, 38, 38)"
          ],
          [
           0.2727272727272727,
           "rgb(59, 59, 59)"
          ],
          [
           0.36363636363636365,
           "rgb(81, 80, 80)"
          ],
          [
           0.45454545454545453,
           "rgb(102, 101, 101)"
          ],
          [
           0.5454545454545454,
           "rgb(124, 123, 122)"
          ],
          [
           0.6363636363636364,
           "rgb(146, 146, 145)"
          ],
          [
           0.7272727272727273,
           "rgb(171, 171, 170)"
          ],
          [
           0.8181818181818182,
           "rgb(197, 197, 195)"
          ],
          [
           0.9090909090909091,
           "rgb(224, 224, 223)"
          ],
          [
           1,
           "rgb(254, 254, 253)"
          ]
         ],
         "showscale": false
        },
        "margin": {
         "t": 60
        },
        "template": {
         "data": {
          "bar": [
           {
            "error_x": {
             "color": "#2a3f5f"
            },
            "error_y": {
             "color": "#2a3f5f"
            },
            "marker": {
             "line": {
              "color": "#E5ECF6",
              "width": 0.5
             }
            },
            "type": "bar"
           }
          ],
          "barpolar": [
           {
            "marker": {
             "line": {
              "color": "#E5ECF6",
              "width": 0.5
             }
            },
            "type": "barpolar"
           }
          ],
          "carpet": [
           {
            "aaxis": {
             "endlinecolor": "#2a3f5f",
             "gridcolor": "white",
             "linecolor": "white",
             "minorgridcolor": "white",
             "startlinecolor": "#2a3f5f"
            },
            "baxis": {
             "endlinecolor": "#2a3f5f",
             "gridcolor": "white",
             "linecolor": "white",
             "minorgridcolor": "white",
             "startlinecolor": "#2a3f5f"
            },
            "type": "carpet"
           }
          ],
          "choropleth": [
           {
            "colorbar": {
             "outlinewidth": 0,
             "ticks": ""
            },
            "type": "choropleth"
           }
          ],
          "contour": [
           {
            "colorbar": {
             "outlinewidth": 0,
             "ticks": ""
            },
            "colorscale": [
             [
              0,
              "#0d0887"
             ],
             [
              0.1111111111111111,
              "#46039f"
             ],
             [
              0.2222222222222222,
              "#7201a8"
             ],
             [
              0.3333333333333333,
              "#9c179e"
             ],
             [
              0.4444444444444444,
              "#bd3786"
             ],
             [
              0.5555555555555556,
              "#d8576b"
             ],
             [
              0.6666666666666666,
              "#ed7953"
             ],
             [
              0.7777777777777778,
              "#fb9f3a"
             ],
             [
              0.8888888888888888,
              "#fdca26"
             ],
             [
              1,
              "#f0f921"
             ]
            ],
            "type": "contour"
           }
          ],
          "contourcarpet": [
           {
            "colorbar": {
             "outlinewidth": 0,
             "ticks": ""
            },
            "type": "contourcarpet"
           }
          ],
          "heatmap": [
           {
            "colorbar": {
             "outlinewidth": 0,
             "ticks": ""
            },
            "colorscale": [
             [
              0,
              "#0d0887"
             ],
             [
              0.1111111111111111,
              "#46039f"
             ],
             [
              0.2222222222222222,
              "#7201a8"
             ],
             [
              0.3333333333333333,
              "#9c179e"
             ],
             [
              0.4444444444444444,
              "#bd3786"
             ],
             [
              0.5555555555555556,
              "#d8576b"
             ],
             [
              0.6666666666666666,
              "#ed7953"
             ],
             [
              0.7777777777777778,
              "#fb9f3a"
             ],
             [
              0.8888888888888888,
              "#fdca26"
             ],
             [
              1,
              "#f0f921"
             ]
            ],
            "type": "heatmap"
           }
          ],
          "heatmapgl": [
           {
            "colorbar": {
             "outlinewidth": 0,
             "ticks": ""
            },
            "colorscale": [
             [
              0,
              "#0d0887"
             ],
             [
              0.1111111111111111,
              "#46039f"
             ],
             [
              0.2222222222222222,
              "#7201a8"
             ],
             [
              0.3333333333333333,
              "#9c179e"
             ],
             [
              0.4444444444444444,
              "#bd3786"
             ],
             [
              0.5555555555555556,
              "#d8576b"
             ],
             [
              0.6666666666666666,
              "#ed7953"
             ],
             [
              0.7777777777777778,
              "#fb9f3a"
             ],
             [
              0.8888888888888888,
              "#fdca26"
             ],
             [
              1,
              "#f0f921"
             ]
            ],
            "type": "heatmapgl"
           }
          ],
          "histogram": [
           {
            "marker": {
             "colorbar": {
              "outlinewidth": 0,
              "ticks": ""
             }
            },
            "type": "histogram"
           }
          ],
          "histogram2d": [
           {
            "colorbar": {
             "outlinewidth": 0,
             "ticks": ""
            },
            "colorscale": [
             [
              0,
              "#0d0887"
             ],
             [
              0.1111111111111111,
              "#46039f"
             ],
             [
              0.2222222222222222,
              "#7201a8"
             ],
             [
              0.3333333333333333,
              "#9c179e"
             ],
             [
              0.4444444444444444,
              "#bd3786"
             ],
             [
              0.5555555555555556,
              "#d8576b"
             ],
             [
              0.6666666666666666,
              "#ed7953"
             ],
             [
              0.7777777777777778,
              "#fb9f3a"
             ],
             [
              0.8888888888888888,
              "#fdca26"
             ],
             [
              1,
              "#f0f921"
             ]
            ],
            "type": "histogram2d"
           }
          ],
          "histogram2dcontour": [
           {
            "colorbar": {
             "outlinewidth": 0,
             "ticks": ""
            },
            "colorscale": [
             [
              0,
              "#0d0887"
             ],
             [
              0.1111111111111111,
              "#46039f"
             ],
             [
              0.2222222222222222,
              "#7201a8"
             ],
             [
              0.3333333333333333,
              "#9c179e"
             ],
             [
              0.4444444444444444,
              "#bd3786"
             ],
             [
              0.5555555555555556,
              "#d8576b"
             ],
             [
              0.6666666666666666,
              "#ed7953"
             ],
             [
              0.7777777777777778,
              "#fb9f3a"
             ],
             [
              0.8888888888888888,
              "#fdca26"
             ],
             [
              1,
              "#f0f921"
             ]
            ],
            "type": "histogram2dcontour"
           }
          ],
          "mesh3d": [
           {
            "colorbar": {
             "outlinewidth": 0,
             "ticks": ""
            },
            "type": "mesh3d"
           }
          ],
          "parcoords": [
           {
            "line": {
             "colorbar": {
              "outlinewidth": 0,
              "ticks": ""
             }
            },
            "type": "parcoords"
           }
          ],
          "pie": [
           {
            "automargin": true,
            "type": "pie"
           }
          ],
          "scatter": [
           {
            "marker": {
             "colorbar": {
              "outlinewidth": 0,
              "ticks": ""
             }
            },
            "type": "scatter"
           }
          ],
          "scatter3d": [
           {
            "line": {
             "colorbar": {
              "outlinewidth": 0,
              "ticks": ""
             }
            },
            "marker": {
             "colorbar": {
              "outlinewidth": 0,
              "ticks": ""
             }
            },
            "type": "scatter3d"
           }
          ],
          "scattercarpet": [
           {
            "marker": {
             "colorbar": {
              "outlinewidth": 0,
              "ticks": ""
             }
            },
            "type": "scattercarpet"
           }
          ],
          "scattergeo": [
           {
            "marker": {
             "colorbar": {
              "outlinewidth": 0,
              "ticks": ""
             }
            },
            "type": "scattergeo"
           }
          ],
          "scattergl": [
           {
            "marker": {
             "colorbar": {
              "outlinewidth": 0,
              "ticks": ""
             }
            },
            "type": "scattergl"
           }
          ],
          "scattermapbox": [
           {
            "marker": {
             "colorbar": {
              "outlinewidth": 0,
              "ticks": ""
             }
            },
            "type": "scattermapbox"
           }
          ],
          "scatterpolar": [
           {
            "marker": {
             "colorbar": {
              "outlinewidth": 0,
              "ticks": ""
             }
            },
            "type": "scatterpolar"
           }
          ],
          "scatterpolargl": [
           {
            "marker": {
             "colorbar": {
              "outlinewidth": 0,
              "ticks": ""
             }
            },
            "type": "scatterpolargl"
           }
          ],
          "scatterternary": [
           {
            "marker": {
             "colorbar": {
              "outlinewidth": 0,
              "ticks": ""
             }
            },
            "type": "scatterternary"
           }
          ],
          "surface": [
           {
            "colorbar": {
             "outlinewidth": 0,
             "ticks": ""
            },
            "colorscale": [
             [
              0,
              "#0d0887"
             ],
             [
              0.1111111111111111,
              "#46039f"
             ],
             [
              0.2222222222222222,
              "#7201a8"
             ],
             [
              0.3333333333333333,
              "#9c179e"
             ],
             [
              0.4444444444444444,
              "#bd3786"
             ],
             [
              0.5555555555555556,
              "#d8576b"
             ],
             [
              0.6666666666666666,
              "#ed7953"
             ],
             [
              0.7777777777777778,
              "#fb9f3a"
             ],
             [
              0.8888888888888888,
              "#fdca26"
             ],
             [
              1,
              "#f0f921"
             ]
            ],
            "type": "surface"
           }
          ],
          "table": [
           {
            "cells": {
             "fill": {
              "color": "#EBF0F8"
             },
             "line": {
              "color": "white"
             }
            },
            "header": {
             "fill": {
              "color": "#C8D4E3"
             },
             "line": {
              "color": "white"
             }
            },
            "type": "table"
           }
          ]
         },
         "layout": {
          "annotationdefaults": {
           "arrowcolor": "#2a3f5f",
           "arrowhead": 0,
           "arrowwidth": 1
          },
          "coloraxis": {
           "colorbar": {
            "outlinewidth": 0,
            "ticks": ""
           }
          },
          "colorscale": {
           "diverging": [
            [
             0,
             "#8e0152"
            ],
            [
             0.1,
             "#c51b7d"
            ],
            [
             0.2,
             "#de77ae"
            ],
            [
             0.3,
             "#f1b6da"
            ],
            [
             0.4,
             "#fde0ef"
            ],
            [
             0.5,
             "#f7f7f7"
            ],
            [
             0.6,
             "#e6f5d0"
            ],
            [
             0.7,
             "#b8e186"
            ],
            [
             0.8,
             "#7fbc41"
            ],
            [
             0.9,
             "#4d9221"
            ],
            [
             1,
             "#276419"
            ]
           ],
           "sequential": [
            [
             0,
             "#0d0887"
            ],
            [
             0.1111111111111111,
             "#46039f"
            ],
            [
             0.2222222222222222,
             "#7201a8"
            ],
            [
             0.3333333333333333,
             "#9c179e"
            ],
            [
             0.4444444444444444,
             "#bd3786"
            ],
            [
             0.5555555555555556,
             "#d8576b"
            ],
            [
             0.6666666666666666,
             "#ed7953"
            ],
            [
             0.7777777777777778,
             "#fb9f3a"
            ],
            [
             0.8888888888888888,
             "#fdca26"
            ],
            [
             1,
             "#f0f921"
            ]
           ],
           "sequentialminus": [
            [
             0,
             "#0d0887"
            ],
            [
             0.1111111111111111,
             "#46039f"
            ],
            [
             0.2222222222222222,
             "#7201a8"
            ],
            [
             0.3333333333333333,
             "#9c179e"
            ],
            [
             0.4444444444444444,
             "#bd3786"
            ],
            [
             0.5555555555555556,
             "#d8576b"
            ],
            [
             0.6666666666666666,
             "#ed7953"
            ],
            [
             0.7777777777777778,
             "#fb9f3a"
            ],
            [
             0.8888888888888888,
             "#fdca26"
            ],
            [
             1,
             "#f0f921"
            ]
           ]
          },
          "colorway": [
           "#636efa",
           "#EF553B",
           "#00cc96",
           "#ab63fa",
           "#FFA15A",
           "#19d3f3",
           "#FF6692",
           "#B6E880",
           "#FF97FF",
           "#FECB52"
          ],
          "font": {
           "color": "#2a3f5f"
          },
          "geo": {
           "bgcolor": "white",
           "lakecolor": "white",
           "landcolor": "#E5ECF6",
           "showlakes": true,
           "showland": true,
           "subunitcolor": "white"
          },
          "hoverlabel": {
           "align": "left"
          },
          "hovermode": "closest",
          "mapbox": {
           "style": "light"
          },
          "paper_bgcolor": "white",
          "plot_bgcolor": "#E5ECF6",
          "polar": {
           "angularaxis": {
            "gridcolor": "white",
            "linecolor": "white",
            "ticks": ""
           },
           "bgcolor": "#E5ECF6",
           "radialaxis": {
            "gridcolor": "white",
            "linecolor": "white",
            "ticks": ""
           }
          },
          "scene": {
           "xaxis": {
            "backgroundcolor": "#E5ECF6",
            "gridcolor": "white",
            "gridwidth": 2,
            "linecolor": "white",
            "showbackground": true,
            "ticks": "",
            "zerolinecolor": "white"
           },
           "yaxis": {
            "backgroundcolor": "#E5ECF6",
            "gridcolor": "white",
            "gridwidth": 2,
            "linecolor": "white",
            "showbackground": true,
            "ticks": "",
            "zerolinecolor": "white"
           },
           "zaxis": {
            "backgroundcolor": "#E5ECF6",
            "gridcolor": "white",
            "gridwidth": 2,
            "linecolor": "white",
            "showbackground": true,
            "ticks": "",
            "zerolinecolor": "white"
           }
          },
          "shapedefaults": {
           "line": {
            "color": "#2a3f5f"
           }
          },
          "ternary": {
           "aaxis": {
            "gridcolor": "white",
            "linecolor": "white",
            "ticks": ""
           },
           "baxis": {
            "gridcolor": "white",
            "linecolor": "white",
            "ticks": ""
           },
           "bgcolor": "#E5ECF6",
           "caxis": {
            "gridcolor": "white",
            "linecolor": "white",
            "ticks": ""
           }
          },
          "title": {
           "x": 0.05
          },
          "xaxis": {
           "automargin": true,
           "gridcolor": "white",
           "linecolor": "white",
           "ticks": "",
           "title": {
            "standoff": 15
           },
           "zerolinecolor": "white",
           "zerolinewidth": 2
          },
          "yaxis": {
           "automargin": true,
           "gridcolor": "white",
           "linecolor": "white",
           "ticks": "",
           "title": {
            "standoff": 15
           },
           "zerolinecolor": "white",
           "zerolinewidth": 2
          }
         }
        },
        "xaxis": {
         "autorange": true,
         "constrain": "domain",
         "domain": [
          0.3572744014732965,
          0.6427255985267035
         ],
         "range": [
          -0.5,
          27.5
         ],
         "scaleanchor": "y",
         "showticklabels": false
        },
        "yaxis": {
         "autorange": true,
         "constrain": "domain",
         "domain": [
          0,
          1
         ],
         "range": [
          27.5,
          -0.5
         ],
         "showticklabels": false
        }
       }
      },
      "image/png": "[encoded data removed]",
      "text/html": [
       "<div>\n",
       "        \n",
       "        \n",
       "            <div id=\"3473c26f-ee95-4c08-80db-6345ee178769\" class=\"plotly-graph-div\" style=\"height:525px; width:100%;\"></div>\n",
       "            <script type=\"text/javascript\">\n",
       "                require([\"plotly\"], function(Plotly) {\n",
       "                    window.PLOTLYENV=window.PLOTLYENV || {};\n",
       "                    \n",
       "                if (document.getElementById(\"3473c26f-ee95-4c08-80db-6345ee178769\")) {\n",
       "                    Plotly.newPlot(\n",
       "                        '3473c26f-ee95-4c08-80db-6345ee178769',\n",
       "                        [{\"coloraxis\": \"coloraxis\", \"hovertemplate\": \"x: %{x}<br>y: %{y}<br>color: %{z}<extra></extra>\", \"type\": \"heatmap\", \"z\": [[0, 0, 0, 0, 0, 0, 0, 0, 0, 0, 0, 0, 0, 0, 0, 0, 0, 17, 76, 119, 121, 97, 64, 14, 0, 0, 0, 0], [0, 0, 0, 0, 0, 0, 0, 0, 0, 0, 0, 0, 0, 0, 2, 0, 14, 234, 192, 207, 228, 232, 245, 199, 202, 115, 0, 0], [0, 0, 0, 0, 0, 0, 0, 0, 0, 0, 0, 0, 0, 0, 1, 0, 0, 172, 166, 165, 178, 188, 192, 184, 208, 183, 0, 0], [0, 0, 0, 0, 0, 0, 0, 0, 0, 0, 0, 0, 0, 0, 0, 0, 0, 149, 180, 181, 184, 182, 190, 183, 202, 63, 0, 0], [0, 0, 0, 0, 0, 0, 0, 0, 0, 0, 0, 0, 0, 0, 0, 0, 0, 150, 185, 181, 201, 200, 205, 191, 222, 21, 0, 0], [0, 0, 0, 0, 0, 0, 0, 0, 0, 0, 0, 0, 0, 0, 1, 0, 0, 173, 180, 188, 196, 197, 196, 193, 219, 0, 0, 0], [0, 0, 0, 0, 0, 0, 0, 0, 0, 0, 0, 0, 0, 0, 3, 0, 1, 186, 181, 195, 195, 193, 195, 190, 199, 0, 0, 0], [0, 0, 0, 0, 0, 0, 0, 0, 0, 0, 0, 0, 0, 0, 2, 0, 28, 197, 180, 194, 193, 199, 200, 193, 180, 0, 0, 0], [0, 0, 0, 0, 0, 0, 0, 0, 0, 0, 0, 0, 0, 0, 1, 0, 83, 198, 178, 191, 197, 200, 199, 200, 142, 0, 0, 0], [0, 0, 0, 0, 0, 0, 0, 0, 0, 0, 0, 0, 0, 0, 0, 0, 130, 194, 184, 193, 196, 202, 191, 216, 114, 0, 0, 0], [0, 0, 0, 0, 0, 0, 0, 0, 0, 0, 0, 0, 0, 2, 0, 0, 180, 186, 188, 193, 194, 197, 183, 214, 91, 0, 1, 0], [0, 0, 0, 0, 0, 0, 0, 0, 0, 0, 0, 0, 0, 1, 0, 30, 202, 179, 187, 191, 191, 194, 194, 226, 117, 0, 0, 0], [0, 0, 0, 0, 0, 0, 0, 0, 0, 0, 0, 0, 0, 0, 0, 121, 200, 177, 193, 191, 189, 194, 190, 193, 178, 0, 0, 0], [0, 0, 0, 0, 0, 0, 0, 0, 0, 0, 0, 0, 2, 0, 1, 186, 181, 186, 186, 185, 187, 192, 183, 175, 202, 7, 0, 0], [0, 0, 0, 0, 0, 0, 0, 0, 0, 0, 0, 0, 1, 0, 58, 197, 183, 188, 190, 188, 196, 197, 193, 196, 229, 94, 0, 0], [0, 0, 0, 0, 0, 0, 0, 0, 0, 0, 0, 0, 0, 0, 133, 192, 200, 198, 194, 184, 190, 184, 180, 190, 195, 190, 0, 0], [0, 0, 0, 0, 0, 0, 0, 0, 0, 0, 0, 1, 0, 40, 188, 181, 191, 197, 192, 191, 196, 205, 192, 188, 182, 207, 34, 0], [0, 0, 0, 0, 0, 0, 0, 0, 0, 0, 0, 0, 0, 156, 183, 185, 177, 188, 191, 194, 201, 204, 181, 177, 173, 199, 78, 0], [0, 0, 0, 0, 0, 0, 0, 0, 0, 0, 0, 0, 111, 192, 167, 189, 193, 188, 196, 209, 196, 170, 167, 166, 161, 197, 99, 0], [0, 0, 0, 0, 0, 0, 0, 0, 0, 0, 0, 66, 199, 166, 179, 190, 198, 197, 195, 197, 185, 178, 172, 168, 178, 205, 88, 0], [0, 0, 0, 0, 1, 3, 3, 1, 0, 0, 64, 196, 174, 178, 177, 178, 185, 188, 195, 188, 178, 181, 186, 182, 179, 205, 42, 0], [0, 0, 0, 0, 0, 0, 0, 0, 0, 107, 196, 166, 174, 179, 183, 188, 192, 190, 183, 191, 221, 222, 184, 190, 194, 217, 0, 0], [0, 0, 0, 0, 0, 5, 41, 98, 165, 195, 163, 171, 172, 174, 177, 192, 191, 189, 229, 226, 142, 0, 34, 210, 203, 186, 0, 0], [0, 0, 0, 137, 151, 183, 191, 183, 164, 153, 167, 171, 179, 179, 187, 182, 194, 233, 132, 0, 0, 0, 59, 215, 208, 140, 0, 0], [0, 0, 127, 203, 181, 179, 178, 173, 164, 175, 176, 173, 177, 177, 184, 203, 209, 31, 0, 0, 2, 0, 71, 214, 209, 103, 0, 0], [0, 0, 35, 172, 193, 193, 197, 190, 181, 183, 181, 183, 186, 194, 209, 160, 0, 0, 0, 0, 4, 0, 66, 210, 207, 71, 0, 0], [0, 0, 0, 0, 66, 130, 175, 198, 208, 209, 218, 216, 203, 255, 124, 0, 0, 0, 0, 0, 7, 0, 83, 227, 216, 44, 0, 0], [0, 0, 0, 0, 0, 0, 0, 0, 30, 57, 85, 117, 119, 50, 0, 0, 0, 0, 0, 0, 3, 0, 47, 161, 142, 5, 0, 0]]}],\n",
       "                        {\"coloraxis\": {\"colorscale\": [[0.0, \"rgb(0, 0, 0)\"], [0.09090909090909091, \"rgb(16, 16, 16)\"], [0.18181818181818182, \"rgb(38, 38, 38)\"], [0.2727272727272727, \"rgb(59, 59, 59)\"], [0.36363636363636365, \"rgb(81, 80, 80)\"], [0.45454545454545453, \"rgb(102, 101, 101)\"], [0.5454545454545454, \"rgb(124, 123, 122)\"], [0.6363636363636364, \"rgb(146, 146, 145)\"], [0.7272727272727273, \"rgb(171, 171, 170)\"], [0.8181818181818182, \"rgb(197, 197, 195)\"], [0.9090909090909091, \"rgb(224, 224, 223)\"], [1.0, \"rgb(254, 254, 253)\"]], \"showscale\": false}, \"margin\": {\"t\": 60}, \"template\": {\"data\": {\"bar\": [{\"error_x\": {\"color\": \"#2a3f5f\"}, \"error_y\": {\"color\": \"#2a3f5f\"}, \"marker\": {\"line\": {\"color\": \"#E5ECF6\", \"width\": 0.5}}, \"type\": \"bar\"}], \"barpolar\": [{\"marker\": {\"line\": {\"color\": \"#E5ECF6\", \"width\": 0.5}}, \"type\": \"barpolar\"}], \"carpet\": [{\"aaxis\": {\"endlinecolor\": \"#2a3f5f\", \"gridcolor\": \"white\", \"linecolor\": \"white\", \"minorgridcolor\": \"white\", \"startlinecolor\": \"#2a3f5f\"}, \"baxis\": {\"endlinecolor\": \"#2a3f5f\", \"gridcolor\": \"white\", \"linecolor\": \"white\", \"minorgridcolor\": \"white\", \"startlinecolor\": \"#2a3f5f\"}, \"type\": \"carpet\"}], \"choropleth\": [{\"colorbar\": {\"outlinewidth\": 0, \"ticks\": \"\"}, \"type\": \"choropleth\"}], \"contour\": [{\"colorbar\": {\"outlinewidth\": 0, \"ticks\": \"\"}, \"colorscale\": [[0.0, \"#0d0887\"], [0.1111111111111111, \"#46039f\"], [0.2222222222222222, \"#7201a8\"], [0.3333333333333333, \"#9c179e\"], [0.4444444444444444, \"#bd3786\"], [0.5555555555555556, \"#d8576b\"], [0.6666666666666666, \"#ed7953\"], [0.7777777777777778, \"#fb9f3a\"], [0.8888888888888888, \"#fdca26\"], [1.0, \"#f0f921\"]], \"type\": \"contour\"}], \"contourcarpet\": [{\"colorbar\": {\"outlinewidth\": 0, \"ticks\": \"\"}, \"type\": \"contourcarpet\"}], \"heatmap\": [{\"colorbar\": {\"outlinewidth\": 0, \"ticks\": \"\"}, \"colorscale\": [[0.0, \"#0d0887\"], [0.1111111111111111, \"#46039f\"], [0.2222222222222222, \"#7201a8\"], [0.3333333333333333, \"#9c179e\"], [0.4444444444444444, \"#bd3786\"], [0.5555555555555556, \"#d8576b\"], [0.6666666666666666, \"#ed7953\"], [0.7777777777777778, \"#fb9f3a\"], [0.8888888888888888, \"#fdca26\"], [1.0, \"#f0f921\"]], \"type\": \"heatmap\"}], \"heatmapgl\": [{\"colorbar\": {\"outlinewidth\": 0, \"ticks\": \"\"}, \"colorscale\": [[0.0, \"#0d0887\"], [0.1111111111111111, \"#46039f\"], [0.2222222222222222, \"#7201a8\"], [0.3333333333333333, \"#9c179e\"], [0.4444444444444444, \"#bd3786\"], [0.5555555555555556, \"#d8576b\"], [0.6666666666666666, \"#ed7953\"], [0.7777777777777778, \"#fb9f3a\"], [0.8888888888888888, \"#fdca26\"], [1.0, \"#f0f921\"]], \"type\": \"heatmapgl\"}], \"histogram\": [{\"marker\": {\"colorbar\": {\"outlinewidth\": 0, \"ticks\": \"\"}}, \"type\": \"histogram\"}], \"histogram2d\": [{\"colorbar\": {\"outlinewidth\": 0, \"ticks\": \"\"}, \"colorscale\": [[0.0, \"#0d0887\"], [0.1111111111111111, \"#46039f\"], [0.2222222222222222, \"#7201a8\"], [0.3333333333333333, \"#9c179e\"], [0.4444444444444444, \"#bd3786\"], [0.5555555555555556, \"#d8576b\"], [0.6666666666666666, \"#ed7953\"], [0.7777777777777778, \"#fb9f3a\"], [0.8888888888888888, \"#fdca26\"], [1.0, \"#f0f921\"]], \"type\": \"histogram2d\"}], \"histogram2dcontour\": [{\"colorbar\": {\"outlinewidth\": 0, \"ticks\": \"\"}, \"colorscale\": [[0.0, \"#0d0887\"], [0.1111111111111111, \"#46039f\"], [0.2222222222222222, \"#7201a8\"], [0.3333333333333333, \"#9c179e\"], [0.4444444444444444, \"#bd3786\"], [0.5555555555555556, \"#d8576b\"], [0.6666666666666666, \"#ed7953\"], [0.7777777777777778, \"#fb9f3a\"], [0.8888888888888888, \"#fdca26\"], [1.0, \"#f0f921\"]], \"type\": \"histogram2dcontour\"}], \"mesh3d\": [{\"colorbar\": {\"outlinewidth\": 0, \"ticks\": \"\"}, \"type\": \"mesh3d\"}], \"parcoords\": [{\"line\": {\"colorbar\": {\"outlinewidth\": 0, \"ticks\": \"\"}}, \"type\": \"parcoords\"}], \"pie\": [{\"automargin\": true, \"type\": \"pie\"}], \"scatter\": [{\"marker\": {\"colorbar\": {\"outlinewidth\": 0, \"ticks\": \"\"}}, \"type\": \"scatter\"}], \"scatter3d\": [{\"line\": {\"colorbar\": {\"outlinewidth\": 0, \"ticks\": \"\"}}, \"marker\": {\"colorbar\": {\"outlinewidth\": 0, \"ticks\": \"\"}}, \"type\": \"scatter3d\"}], \"scattercarpet\": [{\"marker\": {\"colorbar\": {\"outlinewidth\": 0, \"ticks\": \"\"}}, \"type\": \"scattercarpet\"}], \"scattergeo\": [{\"marker\": {\"colorbar\": {\"outlinewidth\": 0, \"ticks\": \"\"}}, \"type\": \"scattergeo\"}], \"scattergl\": [{\"marker\": {\"colorbar\": {\"outlinewidth\": 0, \"ticks\": \"\"}}, \"type\": \"scattergl\"}], \"scattermapbox\": [{\"marker\": {\"colorbar\": {\"outlinewidth\": 0, \"ticks\": \"\"}}, \"type\": \"scattermapbox\"}], \"scatterpolar\": [{\"marker\": {\"colorbar\": {\"outlinewidth\": 0, \"ticks\": \"\"}}, \"type\": \"scatterpolar\"}], \"scatterpolargl\": [{\"marker\": {\"colorbar\": {\"outlinewidth\": 0, \"ticks\": \"\"}}, \"type\": \"scatterpolargl\"}], \"scatterternary\": [{\"marker\": {\"colorbar\": {\"outlinewidth\": 0, \"ticks\": \"\"}}, \"type\": \"scatterternary\"}], \"surface\": [{\"colorbar\": {\"outlinewidth\": 0, \"ticks\": \"\"}, \"colorscale\": [[0.0, \"#0d0887\"], [0.1111111111111111, \"#46039f\"], [0.2222222222222222, \"#7201a8\"], [0.3333333333333333, \"#9c179e\"], [0.4444444444444444, \"#bd3786\"], [0.5555555555555556, \"#d8576b\"], [0.6666666666666666, \"#ed7953\"], [0.7777777777777778, \"#fb9f3a\"], [0.8888888888888888, \"#fdca26\"], [1.0, \"#f0f921\"]], \"type\": \"surface\"}], \"table\": [{\"cells\": {\"fill\": {\"color\": \"#EBF0F8\"}, \"line\": {\"color\": \"white\"}}, \"header\": {\"fill\": {\"color\": \"#C8D4E3\"}, \"line\": {\"color\": \"white\"}}, \"type\": \"table\"}]}, \"layout\": {\"annotationdefaults\": {\"arrowcolor\": \"#2a3f5f\", \"arrowhead\": 0, \"arrowwidth\": 1}, \"coloraxis\": {\"colorbar\": {\"outlinewidth\": 0, \"ticks\": \"\"}}, \"colorscale\": {\"diverging\": [[0, \"#8e0152\"], [0.1, \"#c51b7d\"], [0.2, \"#de77ae\"], [0.3, \"#f1b6da\"], [0.4, \"#fde0ef\"], [0.5, \"#f7f7f7\"], [0.6, \"#e6f5d0\"], [0.7, \"#b8e186\"], [0.8, \"#7fbc41\"], [0.9, \"#4d9221\"], [1, \"#276419\"]], \"sequential\": [[0.0, \"#0d0887\"], [0.1111111111111111, \"#46039f\"], [0.2222222222222222, \"#7201a8\"], [0.3333333333333333, \"#9c179e\"], [0.4444444444444444, \"#bd3786\"], [0.5555555555555556, \"#d8576b\"], [0.6666666666666666, \"#ed7953\"], [0.7777777777777778, \"#fb9f3a\"], [0.8888888888888888, \"#fdca26\"], [1.0, \"#f0f921\"]], \"sequentialminus\": [[0.0, \"#0d0887\"], [0.1111111111111111, \"#46039f\"], [0.2222222222222222, \"#7201a8\"], [0.3333333333333333, \"#9c179e\"], [0.4444444444444444, \"#bd3786\"], [0.5555555555555556, \"#d8576b\"], [0.6666666666666666, \"#ed7953\"], [0.7777777777777778, \"#fb9f3a\"], [0.8888888888888888, \"#fdca26\"], [1.0, \"#f0f921\"]]}, \"colorway\": [\"#636efa\", \"#EF553B\", \"#00cc96\", \"#ab63fa\", \"#FFA15A\", \"#19d3f3\", \"#FF6692\", \"#B6E880\", \"#FF97FF\", \"#FECB52\"], \"font\": {\"color\": \"#2a3f5f\"}, \"geo\": {\"bgcolor\": \"white\", \"lakecolor\": \"white\", \"landcolor\": \"#E5ECF6\", \"showlakes\": true, \"showland\": true, \"subunitcolor\": \"white\"}, \"hoverlabel\": {\"align\": \"left\"}, \"hovermode\": \"closest\", \"mapbox\": {\"style\": \"light\"}, \"paper_bgcolor\": \"white\", \"plot_bgcolor\": \"#E5ECF6\", \"polar\": {\"angularaxis\": {\"gridcolor\": \"white\", \"linecolor\": \"white\", \"ticks\": \"\"}, \"bgcolor\": \"#E5ECF6\", \"radialaxis\": {\"gridcolor\": \"white\", \"linecolor\": \"white\", \"ticks\": \"\"}}, \"scene\": {\"xaxis\": {\"backgroundcolor\": \"#E5ECF6\", \"gridcolor\": \"white\", \"gridwidth\": 2, \"linecolor\": \"white\", \"showbackground\": true, \"ticks\": \"\", \"zerolinecolor\": \"white\"}, \"yaxis\": {\"backgroundcolor\": \"#E5ECF6\", \"gridcolor\": \"white\", \"gridwidth\": 2, \"linecolor\": \"white\", \"showbackground\": true, \"ticks\": \"\", \"zerolinecolor\": \"white\"}, \"zaxis\": {\"backgroundcolor\": \"#E5ECF6\", \"gridcolor\": \"white\", \"gridwidth\": 2, \"linecolor\": \"white\", \"showbackground\": true, \"ticks\": \"\", \"zerolinecolor\": \"white\"}}, \"shapedefaults\": {\"line\": {\"color\": \"#2a3f5f\"}}, \"ternary\": {\"aaxis\": {\"gridcolor\": \"white\", \"linecolor\": \"white\", \"ticks\": \"\"}, \"baxis\": {\"gridcolor\": \"white\", \"linecolor\": \"white\", \"ticks\": \"\"}, \"bgcolor\": \"#E5ECF6\", \"caxis\": {\"gridcolor\": \"white\", \"linecolor\": \"white\", \"ticks\": \"\"}}, \"title\": {\"x\": 0.05}, \"xaxis\": {\"automargin\": true, \"gridcolor\": \"white\", \"linecolor\": \"white\", \"ticks\": \"\", \"title\": {\"standoff\": 15}, \"zerolinecolor\": \"white\", \"zerolinewidth\": 2}, \"yaxis\": {\"automargin\": true, \"gridcolor\": \"white\", \"linecolor\": \"white\", \"ticks\": \"\", \"title\": {\"standoff\": 15}, \"zerolinecolor\": \"white\", \"zerolinewidth\": 2}}}, \"xaxis\": {\"constrain\": \"domain\", \"scaleanchor\": \"y\", \"showticklabels\": false}, \"yaxis\": {\"autorange\": \"reversed\", \"constrain\": \"domain\", \"showticklabels\": false}},\n",
       "                        {\"responsive\": true}\n",
       "                    ).then(function(){\n",
       "                            \n",
       "var gd = document.getElementById('3473c26f-ee95-4c08-80db-6345ee178769');\n",
       "var x = new MutationObserver(function (mutations, observer) {{\n",
       "        var display = window.getComputedStyle(gd).display;\n",
       "        if (!display || display === 'none') {{\n",
       "            console.log([gd, 'removed!']);\n",
       "            Plotly.purge(gd);\n",
       "            observer.disconnect();\n",
       "        }}\n",
       "}});\n",
       "\n",
       "// Listen for the removal of the full notebook cells\n",
       "var notebookContainer = gd.closest('#notebook-container');\n",
       "if (notebookContainer) {{\n",
       "    x.observe(notebookContainer, {childList: true});\n",
       "}}\n",
       "\n",
       "// Listen for the clearing of the current output cell\n",
       "var outputEl = gd.closest('.output');\n",
       "if (outputEl) {{\n",
       "    x.observe(outputEl, {childList: true});\n",
       "}}\n",
       "\n",
       "                        })\n",
       "                };\n",
       "                });\n",
       "            </script>\n",
       "        </div>"
      ]
     },
     "metadata": {},
     "output_type": "display_data"
    }
   ],
   "source": [
    "img = x_train[59907].reshape((28,28))\n",
    "fig = px.imshow(img, color_continuous_scale='gray')\n",
    "fig.update_layout(coloraxis_showscale=False)\n",
    "fig.update_xaxes(showticklabels=False)\n",
    "fig.update_yaxes(showticklabels=False)\n",
    "fig.show()"
   ]
  },
  {
   "cell_type": "code",
   "execution_count": 4,
   "metadata": {},
   "outputs": [],
   "source": [
    "# get small slice of data to play with\n",
    "fashion_data = np.array(x_train)\n",
    "fashion_answer = np.array(y_train)\n",
    "fashion_answer = fashion_answer.reshape(-1,1)\n",
    "idx = np.random.randint(60000, size=1000)\n",
    "viz_data = fashion_data[idx,:]\n",
    "viz_answer = fashion_answer[idx,:]"
   ]
  },
  {
   "cell_type": "code",
   "execution_count": 5,
   "metadata": {},
   "outputs": [
    {
     "name": "stdout",
     "output_type": "stream",
     "text": [
      "[0.29039228 0.1775531  0.06019222 0.04957428 0.03847655 0.03460769]\n"
     ]
    }
   ],
   "source": [
    "# Define filter function - can be any scikit-learn transformer\n",
    "# filter_func = Projection(columns=[294, 576])\n",
    "filter_func = PCA(n_components=6)\n",
    "filter_func.fit(fashion_data)\n",
    "print(filter_func.explained_variance_ratio_)"
   ]
  },
  {
   "cell_type": "code",
   "execution_count": 6,
   "metadata": {},
   "outputs": [],
   "source": [
    "# Define filter function - can be any scikit-learn transformer\n",
    "# filter_func = Projection(columns=[294, 576])\n",
    "filter_func = PCA(n_components=6)\n",
    "\n",
    "# Define cover\n",
    "cover = CubicalCover(n_intervals=2, overlap_frac=0.0005)\n",
    "\n",
    "# Choose clustering algorithm - default is DBSCAN\n",
    "clusterer = DBSCAN(eps=0.1, metric='euclidean')\n",
    "\n",
    "# Configure parallelism of clustering step\n",
    "n_jobs = 12\n",
    "\n",
    "# Initialise pipeline\n",
    "pipe = make_mapper_pipeline(\n",
    "    filter_func=filter_func,\n",
    "    cover=cover,\n",
    "    clusterer=clusterer,\n",
    "    verbose=False,\n",
    "    n_jobs=n_jobs,\n",
    ")"
   ]
  },
  {
   "cell_type": "code",
   "execution_count": 7,
   "metadata": {},
   "outputs": [
    {
     "data": {
      "application/vnd.plotly.v1+json": {
       "config": {
        "plotlyServerURL": "https://plot.ly",
        "scrollZoom": true
       },
       "data": [
        {
         "hoverinfo": "none",
         "line": {
          "color": "#888",
          "width": 1
         },
         "mode": "lines",
         "name": "edge_trace",
         "type": "scatter3d",
         "uid": "638af4b1-6337-4124-9f83-92c4db884ca2",
         "x": [
          -1.17985143313183,
          -1.375533112484978,
          null,
          -1.17985143313183,
          -0.464141140667294,
          null,
          -1.17985143313183,
          -0.5294563215137003,
          null,
          -1.375533112484978,
          -1.1209910871890694,
          null,
          -1.375533112484978,
          -1.5173740607181267,
          null,
          -1.375533112484978,
          -0.8024078542529502,
          null,
          -0.0995440438002255,
          0.19925462441054895,
          null,
          -0.0995440438002255,
          0.16386528370184683,
          null,
          0.8606296331227503,
          0.018332633519253155,
          null,
          -1.1209910871890694,
          -1.428029672615434,
          null,
          -1.1209910871890694,
          -0.16319204050279845,
          null,
          -1.428029672615434,
          -1.393691242214751,
          null,
          -0.464141140667294,
          -0.9910154280958203,
          null,
          -0.464141140667294,
          0.19925462441054895,
          null,
          -0.464141140667294,
          -0.8938252927155316,
          null,
          -0.464141140667294,
          0.22523556173383674,
          null,
          -0.2512103403994874,
          0.018332633519253155,
          null,
          -0.2512103403994874,
          0.02220767839759763,
          null,
          -0.9910154280958203,
          -0.16319204050279845,
          null,
          -0.9910154280958203,
          -1.3927175332302917,
          null,
          0.19925462441054895,
          0.018332633519253155,
          null,
          0.19925462441054895,
          -0.16319204050279845,
          null,
          0.19925462441054895,
          0.7394516698902354,
          null,
          0.018332633519253155,
          -0.49981946416665984,
          null,
          -0.16319204050279845,
          -0.49981946416665984,
          null,
          -0.16319204050279845,
          0.8231204515960554,
          null,
          -0.6992489201971127,
          -0.7028711206978102,
          null,
          -0.6992489201971127,
          -1.5173740607181267,
          null,
          -0.6992489201971127,
          0.16386528370184683,
          null,
          -0.6992489201971127,
          -0.8938252927155316,
          null,
          -0.7028711206978102,
          -1.1145536080006353,
          null,
          -0.7028711206978102,
          0.0902069372900075,
          null,
          -0.7028711206978102,
          -0.36904265667436087,
          null,
          -1.5173740607181267,
          -0.8025167931984347,
          null,
          -1.5173740607181267,
          -1.3927175332302917,
          null,
          -1.1145536080006353,
          -1.1985983709674681,
          null,
          0.16386528370184683,
          -0.8025167931984347,
          null,
          0.16386528370184683,
          0.7394516698902354,
          null,
          0.16386528370184683,
          0.3937001414234894,
          null,
          -0.8938252927155316,
          -1.3927175332302917,
          null,
          -1.3927175332302917,
          -1.1985983709674681,
          null,
          -1.1985983709674681,
          -0.8377246099413699,
          null,
          0.8231204515960554,
          1.1668386286381853,
          null,
          -0.5294563215137003,
          -0.8024078542529502,
          null,
          -0.5294563215137003,
          0.22523556173383674,
          null,
          -0.7945049786842409,
          -1.1175742739727654,
          null,
          -0.7945049786842409,
          -0.9509459090529514,
          null,
          -0.8024078542529502,
          -1.1175742739727654,
          null,
          -0.8024078542529502,
          0.33344154348860766,
          null,
          -1.1175742739727654,
          -1.393691242214751,
          null,
          -0.9509459090529514,
          -1.393691242214751,
          null,
          -1.393691242214751,
          -1.723542947142458,
          null,
          0.22523556173383674,
          0.33344154348860766,
          null,
          0.22523556173383674,
          1.1536209676919948,
          null,
          0.22523556173383674,
          0.9101833119175295,
          null,
          0.02220767839759763,
          -0.24679209673081592,
          null,
          0.33344154348860766,
          1.4197792979495825,
          null,
          0.33344154348860766,
          0.7511012964539558,
          null,
          -0.058493329584491494,
          -0.8377246099413699,
          null,
          1.1536209676919948,
          1.7052466589165012,
          null,
          1.4197792979495825,
          1.1668386286381853,
          null,
          0.6647284759928993,
          -0.36904265667436087,
          null,
          0.6647284759928993,
          1.1906055385174361,
          null,
          0.6647284759928993,
          0.3937001414234894,
          null,
          -0.36904265667436087,
          -0.2789171560625403,
          null,
          1.1906055385174361,
          1.7112173717179002,
          null,
          -0.6030601054733002,
          -0.8377246099413699,
          null,
          -0.2789171560625403,
          0.29275995621753476,
          null,
          -0.2789171560625403,
          -0.5606457426645541,
          null,
          1.7112173717179002,
          1.1668386286381853,
          null,
          0.29275995621753476,
          0.7817105144517249,
          null,
          0.9101833119175295,
          0.7511012964539558,
          null,
          0.9101833119175295,
          1.7052466589165012,
          null,
          -1.4252812024121218,
          -0.8377246099413699,
          null,
          0.7511012964539558,
          1.1668386286381853,
          null,
          1.7052466589165012,
          1.1668386286381853,
          null,
          1.1668386286381853,
          0.7817105144517249,
          null
         ],
         "y": [
          -0.19875324901431368,
          -0.3446979901995181,
          null,
          -0.19875324901431368,
          -0.24824427300598625,
          null,
          -0.19875324901431368,
          -0.4754156076066011,
          null,
          -0.3446979901995181,
          -1.0538929228561498,
          null,
          -0.3446979901995181,
          0.8058558987855979,
          null,
          -0.3446979901995181,
          -0.9447407359916402,
          null,
          0.4609820369960512,
          -0.4281798908372262,
          null,
          0.4609820369960512,
          1.3898255166515385,
          null,
          -1.1587807072608625,
          -1.0076173380498528,
          null,
          -1.0538929228561498,
          -1.918329672390152,
          null,
          -1.0538929228561498,
          -0.9420872579669081,
          null,
          -1.918329672390152,
          -2.47715088600275,
          null,
          -0.24824427300598625,
          -0.34094947836349776,
          null,
          -0.24824427300598625,
          -0.4281798908372262,
          null,
          -0.24824427300598625,
          0.6340957883823382,
          null,
          -0.24824427300598625,
          -0.7380559077455042,
          null,
          -1.8207070678618908,
          -1.0076173380498528,
          null,
          -1.8207070678618908,
          -2.4508306043581314,
          null,
          -0.34094947836349776,
          -0.9420872579669081,
          null,
          -0.34094947836349776,
          0.5413279698507071,
          null,
          -0.4281798908372262,
          -1.0076173380498528,
          null,
          -0.4281798908372262,
          -0.9420872579669081,
          null,
          -0.4281798908372262,
          0.4819926334303382,
          null,
          -1.0076173380498528,
          -1.412342346624119,
          null,
          -0.9420872579669081,
          -1.412342346624119,
          null,
          -0.9420872579669081,
          -0.708367086476483,
          null,
          1.3785380687624587,
          2.287939799483928,
          null,
          1.3785380687624587,
          0.8058558987855979,
          null,
          1.3785380687624587,
          1.3898255166515385,
          null,
          1.3785380687624587,
          0.6340957883823382,
          null,
          2.287939799483928,
          2.1612889727077165,
          null,
          2.287939799483928,
          2.7839484648284882,
          null,
          2.287939799483928,
          2.5997132073176594,
          null,
          0.8058558987855979,
          1.4199357179968486,
          null,
          0.8058558987855979,
          0.5413279698507071,
          null,
          2.1612889727077165,
          1.0788681290984017,
          null,
          1.3898255166515385,
          1.4199357179968486,
          null,
          1.3898255166515385,
          0.4819926334303382,
          null,
          1.3898255166515385,
          2.0571236584186106,
          null,
          0.6340957883823382,
          0.5413279698507071,
          null,
          0.5413279698507071,
          1.0788681290984017,
          null,
          1.0788681290984017,
          1.0967377569254646,
          null,
          -0.708367086476483,
          0.03577391877124089,
          null,
          -0.4754156076066011,
          -0.9447407359916402,
          null,
          -0.4754156076066011,
          -0.7380559077455042,
          null,
          -2.3326641406718682,
          -1.6960879768096215,
          null,
          -2.3326641406718682,
          -3.0597449498140747,
          null,
          -0.9447407359916402,
          -1.6960879768096215,
          null,
          -0.9447407359916402,
          -0.8714265361371396,
          null,
          -1.6960879768096215,
          -2.47715088600275,
          null,
          -3.0597449498140747,
          -2.47715088600275,
          null,
          -2.47715088600275,
          -3.1698376497794647,
          null,
          -0.7380559077455042,
          -0.8714265361371396,
          null,
          -0.7380559077455042,
          -1.3076939130348602,
          null,
          -0.7380559077455042,
          -0.6953574941573717,
          null,
          -2.4508306043581314,
          -3.284205266271813,
          null,
          -0.8714265361371396,
          -0.4943365823506662,
          null,
          -0.8714265361371396,
          -0.363823369805683,
          null,
          1.4808741078131078,
          1.0967377569254646,
          null,
          -1.3076939130348602,
          -0.6195936467485206,
          null,
          -0.4943365823506662,
          0.03577391877124089,
          null,
          2.325622290224135,
          2.5997132073176594,
          null,
          2.325622290224135,
          1.7027284390824304,
          null,
          2.325622290224135,
          2.0571236584186106,
          null,
          2.5997132073176594,
          2.721688939643072,
          null,
          1.7027284390824304,
          0.9060045609472991,
          null,
          0.9896995749339704,
          1.0967377569254646,
          null,
          2.721688939643072,
          1.886116044313949,
          null,
          2.721688939643072,
          3.376133273310511,
          null,
          0.9060045609472991,
          0.03577391877124089,
          null,
          1.886116044313949,
          0.8022122277714907,
          null,
          -0.6953574941573717,
          -0.363823369805683,
          null,
          -0.6953574941573717,
          -0.6195936467485206,
          null,
          0.7067101226277922,
          1.0967377569254646,
          null,
          -0.363823369805683,
          0.03577391877124089,
          null,
          -0.6195936467485206,
          0.03577391877124089,
          null,
          0.03577391877124089,
          0.8022122277714907,
          null
         ],
         "z": [
          0.9952542359515161,
          0.5350228099175633,
          null,
          0.9952542359515161,
          0.1959161354776176,
          null,
          0.9952542359515161,
          1.7882854712589915,
          null,
          0.5350228099175633,
          0.27257857537735997,
          null,
          0.5350228099175633,
          -0.1394746906285531,
          null,
          0.5350228099175633,
          1.4489064103010214,
          null,
          -1.0758141639535999,
          -0.7797463979052569,
          null,
          -1.0758141639535999,
          -0.49829871337543563,
          null,
          -2.2558077198268305,
          -1.6113031094271408,
          null,
          0.27257857537735997,
          0.3725539997396956,
          null,
          0.27257857537735997,
          -0.38063656816723357,
          null,
          0.3725539997396956,
          1.207192808193426,
          null,
          0.1959161354776176,
          -0.408571109719656,
          null,
          0.1959161354776176,
          -0.7797463979052569,
          null,
          0.1959161354776176,
          -0.2478450855366856,
          null,
          0.1959161354776176,
          0.985618937678251,
          null,
          -2.1564984585035276,
          -1.6113031094271408,
          null,
          -2.1564984585035276,
          -2.7454597818909074,
          null,
          -0.408571109719656,
          -0.38063656816723357,
          null,
          -0.408571109719656,
          -0.8906617168480528,
          null,
          -0.7797463979052569,
          -1.6113031094271408,
          null,
          -0.7797463979052569,
          -0.38063656816723357,
          null,
          -0.7797463979052569,
          -0.9428051551848005,
          null,
          -1.6113031094271408,
          -1.0427799660516743,
          null,
          -0.38063656816723357,
          -1.0427799660516743,
          null,
          -0.38063656816723357,
          0.28719042737079564,
          null,
          -0.16793933436034952,
          -0.340438417494036,
          null,
          -0.16793933436034952,
          -0.1394746906285531,
          null,
          -0.16793933436034952,
          -0.49829871337543563,
          null,
          -0.16793933436034952,
          -0.2478450855366856,
          null,
          -0.340438417494036,
          -1.2624289704040172,
          null,
          -0.340438417494036,
          -0.7625513871779369,
          null,
          -0.340438417494036,
          0.6029374566686322,
          null,
          -0.1394746906285531,
          -0.6501875660814973,
          null,
          -0.1394746906285531,
          -0.8906617168480528,
          null,
          -1.2624289704040172,
          -1.7745337479994818,
          null,
          -0.49829871337543563,
          -0.6501875660814973,
          null,
          -0.49829871337543563,
          -0.9428051551848005,
          null,
          -0.49829871337543563,
          0.13716803624686047,
          null,
          -0.2478450855366856,
          -0.8906617168480528,
          null,
          -0.8906617168480528,
          -1.7745337479994818,
          null,
          -1.7745337479994818,
          -2.758464883292665,
          null,
          0.28719042737079564,
          1.419067527965785,
          null,
          1.7882854712589915,
          1.4489064103010214,
          null,
          1.7882854712589915,
          0.985618937678251,
          null,
          2.462771406369156,
          1.8272691518001825,
          null,
          2.462771406369156,
          1.8611990214358516,
          null,
          1.4489064103010214,
          1.8272691518001825,
          null,
          1.4489064103010214,
          1.6581408671811901,
          null,
          1.8272691518001825,
          1.207192808193426,
          null,
          1.8611990214358516,
          1.207192808193426,
          null,
          1.207192808193426,
          0.5602656854304233,
          null,
          0.985618937678251,
          1.6581408671811901,
          null,
          0.985618937678251,
          1.03611276657352,
          null,
          0.985618937678251,
          1.6624035431637816,
          null,
          -2.7454597818909074,
          -2.4414588509262627,
          null,
          1.6581408671811901,
          1.4921640488830454,
          null,
          1.6581408671811901,
          2.259586845242806,
          null,
          -3.1890444508449347,
          -2.758464883292665,
          null,
          1.03611276657352,
          1.6997904268748982,
          null,
          1.4921640488830454,
          1.419067527965785,
          null,
          0.8272816112147658,
          0.6029374566686322,
          null,
          0.8272816112147658,
          1.4131471965337534,
          null,
          0.8272816112147658,
          0.13716803624686047,
          null,
          0.6029374566686322,
          1.4443208114616506,
          null,
          1.4131471965337534,
          1.401008827020259,
          null,
          -3.543632085682037,
          -2.758464883292665,
          null,
          1.4443208114616506,
          2.1061687534262754,
          null,
          1.4443208114616506,
          1.9016932373768243,
          null,
          1.401008827020259,
          1.419067527965785,
          null,
          2.1061687534262754,
          2.076881257519677,
          null,
          1.6624035431637816,
          2.259586845242806,
          null,
          1.6624035431637816,
          1.6997904268748982,
          null,
          -3.48814858717859,
          -2.758464883292665,
          null,
          2.259586845242806,
          1.419067527965785,
          null,
          1.6997904268748982,
          1.419067527965785,
          null,
          1.419067527965785,
          2.076881257519677,
          null
         ]
        },
        {
         "hoverinfo": "text",
         "hoverlabel": {
          "bgcolor": [
           "#482978",
           "#3b518a",
           "#33628d",
           "#3c4d8a",
           "#2dae7f",
           "#3b508a",
           "#238e8c",
           "#482576",
           "#2b768e",
           "#306a8e",
           "#34b679",
           "#21968a",
           "#277f8e",
           "#482777",
           "#209b8a",
           "#3f4487",
           "#d5e228",
           "#b5de2b",
           "#93d640",
           "#addc30",
           "#d4e228",
           "#2cad7f",
           "#97d73e",
           "#30b17d",
           "#a1da38",
           "#5bc663",
           "#a3da36",
           "#238e8c",
           "#2c748e",
           "#addc30",
           "#26828e",
           "#433981",
           "#472272",
           "#34618d",
           "#423a81",
           "#a2da37",
           "#440154",
           "#2d718e",
           "#461567",
           "#2f6e8e",
           "#34618d",
           "#2b778e",
           "#2e6e8e",
           "#297a8e",
           "#482676",
           "#277f8e",
           "#433780",
           "#87d448",
           "#83d34a",
           "#8dd544",
           "#22918b",
           "#fde725",
           "#21968a",
           "#b4de2c",
           "#248c8c",
           "#2e6e8e",
           "#2d708e",
           "#25868d",
           "#21968a",
           "#2f6c8e",
           "#375a8c",
           "#27a783",
           "#2c758e"
          ]
         },
         "hovertext": [
          "Node ID: 0<br>Node size: 4774<br>Summary statistic: 1.4",
          "Node ID: 1<br>Node size: 18<br>Summary statistic: 2.56",
          "Node ID: 2<br>Node size: 1547<br>Summary statistic: 3.07",
          "Node ID: 3<br>Node size: 7<br>Summary statistic: 2.43",
          "Node ID: 4<br>Node size: 800<br>Summary statistic: 5.69",
          "Node ID: 5<br>Node size: 69<br>Summary statistic: 2.51",
          "Node ID: 6<br>Node size: 1157<br>Summary statistic: 4.57",
          "Node ID: 7<br>Node size: 57<br>Summary statistic: 1.32",
          "Node ID: 8<br>Node size: 1796<br>Summary statistic: 3.73",
          "Node ID: 9<br>Node size: 143<br>Summary statistic: 3.31",
          "Node ID: 10<br>Node size: 4821<br>Summary statistic: 6.01",
          "Node ID: 11<br>Node size: 55<br>Summary statistic: 4.84",
          "Node ID: 12<br>Node size: 5145<br>Summary statistic: 4.07",
          "Node ID: 13<br>Node size: 1245<br>Summary statistic: 1.34",
          "Node ID: 14<br>Node size: 2303<br>Summary statistic: 5.0",
          "Node ID: 15<br>Node size: 556<br>Summary statistic: 2.17",
          "Node ID: 16<br>Node size: 2594<br>Summary statistic: 8.3",
          "Node ID: 17<br>Node size: 524<br>Summary statistic: 7.9",
          "Node ID: 18<br>Node size: 2251<br>Summary statistic: 7.45",
          "Node ID: 19<br>Node size: 227<br>Summary statistic: 7.79",
          "Node ID: 20<br>Node size: 3643<br>Summary statistic: 8.29",
          "Node ID: 21<br>Node size: 18<br>Summary statistic: 5.67",
          "Node ID: 22<br>Node size: 465<br>Summary statistic: 7.49",
          "Node ID: 23<br>Node size: 293<br>Summary statistic: 5.82",
          "Node ID: 24<br>Node size: 292<br>Summary statistic: 7.63",
          "Node ID: 25<br>Node size: 1720<br>Summary statistic: 6.66",
          "Node ID: 26<br>Node size: 307<br>Summary statistic: 7.66",
          "Node ID: 27<br>Node size: 242<br>Summary statistic: 4.57",
          "Node ID: 28<br>Node size: 38<br>Summary statistic: 3.68",
          "Node ID: 29<br>Node size: 590<br>Summary statistic: 7.79",
          "Node ID: 30<br>Node size: 6<br>Summary statistic: 4.17",
          "Node ID: 31<br>Node size: 1540<br>Summary statistic: 1.86",
          "Node ID: 32<br>Node size: 538<br>Summary statistic: 1.23",
          "Node ID: 33<br>Node size: 3523<br>Summary statistic: 3.02",
          "Node ID: 34<br>Node size: 909<br>Summary statistic: 1.89",
          "Node ID: 35<br>Node size: 42<br>Summary statistic: 7.64",
          "Node ID: 36<br>Node size: 503<br>Summary statistic: 0.445",
          "Node ID: 37<br>Node size: 158<br>Summary statistic: 3.56",
          "Node ID: 38<br>Node size: 1483<br>Summary statistic: 0.924",
          "Node ID: 39<br>Node size: 918<br>Summary statistic: 3.44",
          "Node ID: 40<br>Node size: 114<br>Summary statistic: 3.02",
          "Node ID: 41<br>Node size: 1624<br>Summary statistic: 3.79",
          "Node ID: 42<br>Node size: 145<br>Summary statistic: 3.46",
          "Node ID: 43<br>Node size: 413<br>Summary statistic: 3.88",
          "Node ID: 44<br>Node size: 260<br>Summary statistic: 1.32",
          "Node ID: 45<br>Node size: 455<br>Summary statistic: 4.05",
          "Node ID: 46<br>Node size: 352<br>Summary statistic: 1.8",
          "Node ID: 47<br>Node size: 113<br>Summary statistic: 7.29",
          "Node ID: 48<br>Node size: 396<br>Summary statistic: 7.24",
          "Node ID: 49<br>Node size: 331<br>Summary statistic: 7.37",
          "Node ID: 50<br>Node size: 129<br>Summary statistic: 4.68",
          "Node ID: 51<br>Node size: 341<br>Summary statistic: 8.82",
          "Node ID: 52<br>Node size: 141<br>Summary statistic: 4.84",
          "Node ID: 53<br>Node size: 477<br>Summary statistic: 7.87",
          "Node ID: 54<br>Node size: 134<br>Summary statistic: 4.49",
          "Node ID: 55<br>Node size: 4224<br>Summary statistic: 3.46",
          "Node ID: 56<br>Node size: 203<br>Summary statistic: 3.54",
          "Node ID: 57<br>Node size: 1155<br>Summary statistic: 4.29",
          "Node ID: 58<br>Node size: 129<br>Summary statistic: 4.84",
          "Node ID: 59<br>Node size: 682<br>Summary statistic: 3.4",
          "Node ID: 60<br>Node size: 217<br>Summary statistic: 2.81",
          "Node ID: 61<br>Node size: 722<br>Summary statistic: 5.44",
          "Node ID: 62<br>Node size: 129<br>Summary statistic: 3.7"
         ],
         "marker": {
          "color": [
           1.3988269794721409,
           2.5555555555555554,
           3.072398190045249,
           2.4285714285714284,
           5.68625,
           2.5072463768115942,
           4.5721694036300775,
           1.3157894736842106,
           3.727728285077951,
           3.3076923076923075,
           6.008504459655673,
           4.836363636363636,
           4.071331389698736,
           1.3437751004016065,
           4.998263135041251,
           2.1744604316546763,
           8.302621434078644,
           7.896946564885496,
           7.449577965348734,
           7.788546255506608,
           8.294537469118858,
           5.666666666666667,
           7.494623655913978,
           5.819112627986348,
           7.633561643835616,
           6.657558139534884,
           7.6612377850162865,
           4.574380165289257,
           3.6842105263157894,
           7.791525423728814,
           4.166666666666667,
           1.8590909090909091,
           1.2323420074349443,
           3.021856372409878,
           1.8921892189218923,
           7.642857142857143,
           0.44532803180914515,
           3.5569620253164556,
           0.9244774106540796,
           3.443355119825708,
           3.017543859649123,
           3.7881773399014778,
           3.4551724137931035,
           3.8789346246973366,
           1.323076923076923,
           4.052747252747253,
           1.7982954545454546,
           7.292035398230088,
           7.242424242424242,
           7.374622356495468,
           4.682170542635659,
           8.824046920821115,
           4.843971631205674,
           7.8742138364779874,
           4.485074626865671,
           3.4623579545454546,
           3.541871921182266,
           4.292640692640693,
           4.837209302325581,
           3.398826979472141,
           2.806451612903226,
           5.4390581717451525,
           3.697674418604651
          ],
          "colorbar": {
           "thickness": 15,
           "title": {
            "side": "right",
            "text": ""
           },
           "xanchor": "left"
          },
          "colorscale": [
           [
            0,
            "#440154"
           ],
           [
            0.1111111111111111,
            "#482878"
           ],
           [
            0.2222222222222222,
            "#3e4989"
           ],
           [
            0.3333333333333333,
            "#31688e"
           ],
           [
            0.4444444444444444,
            "#26828e"
           ],
           [
            0.5555555555555556,
            "#1f9e89"
           ],
           [
            0.6666666666666666,
            "#35b779"
           ],
           [
            0.7777777777777778,
            "#6ece58"
           ],
           [
            0.8888888888888888,
            "#b5de2b"
           ],
           [
            1,
            "#fde725"
           ]
          ],
          "line": {
           "color": "#888",
           "width": 1
          },
          "opacity": 1,
          "reversescale": false,
          "showscale": true,
          "size": [
           4774,
           18,
           1547,
           7,
           800,
           69,
           1157,
           57,
           1796,
           143,
           4821,
           55,
           5145,
           1245,
           2303,
           556,
           2594,
           524,
           2251,
           227,
           3643,
           18,
           465,
           293,
           292,
           1720,
           307,
           242,
           38,
           590,
           6,
           1540,
           538,
           3523,
           909,
           42,
           503,
           158,
           1483,
           918,
           114,
           1624,
           145,
           413,
           260,
           455,
           352,
           113,
           396,
           331,
           129,
           341,
           141,
           477,
           134,
           4224,
           203,
           1155,
           129,
           682,
           217,
           722,
           129
          ],
          "sizemin": 4,
          "sizemode": "area",
          "sizeref": 6.43125
         },
         "mode": "markers",
         "name": "node_trace",
         "type": "scatter3d",
         "uid": "f0567dee-0fee-41eb-9956-2d622d1758c4",
         "x": [
          -1.17985143313183,
          -0.19665880766408947,
          -1.375533112484978,
          -0.12633736216698965,
          -0.0995440438002255,
          0.8606296331227503,
          -1.1209910871890694,
          -1.428029672615434,
          -0.464141140667294,
          -0.2512103403994874,
          -0.9910154280958203,
          -0.23912184137678644,
          0.19925462441054895,
          0.018332633519253155,
          -0.16319204050279845,
          -0.49981946416665984,
          -0.6992489201971127,
          -0.7028711206978102,
          -1.5173740607181267,
          -1.1145536080006353,
          0.16386528370184683,
          -0.2354781160539664,
          -0.8025167931984347,
          -0.8938252927155316,
          0.0902069372900075,
          -1.3927175332302917,
          -1.1985983709674681,
          0.7394516698902354,
          -0.28417562204710833,
          0.8231204515960554,
          -0.29584180832899987,
          -0.5294563215137003,
          -0.7945049786842409,
          -0.8024078542529502,
          -1.1175742739727654,
          -0.3678978504176492,
          -0.9509459090529514,
          0.1555572289794509,
          -1.393691242214751,
          0.22523556173383674,
          0.02220767839759763,
          0.33344154348860766,
          -0.058493329584491494,
          1.1536209676919948,
          -0.24679209673081592,
          1.4197792979495825,
          -1.723542947142458,
          0.6647284759928993,
          -0.36904265667436087,
          1.1906055385174361,
          -0.6030601054733002,
          0.3937001414234894,
          -0.2789171560625403,
          1.7112173717179002,
          0.29275995621753476,
          0.9101833119175295,
          -1.4252812024121218,
          0.7511012964539558,
          -0.8377246099413699,
          1.7052466589165012,
          -0.5606457426645541,
          1.1668386286381853,
          0.7817105144517249
         ],
         "y": [
          -0.19875324901431368,
          -0.12406226599662018,
          -0.3446979901995181,
          -0.06081039318519419,
          0.4609820369960512,
          -1.1587807072608625,
          -1.0538929228561498,
          -1.918329672390152,
          -0.24824427300598625,
          -1.8207070678618908,
          -0.34094947836349776,
          0.0953062788563949,
          -0.4281798908372262,
          -1.0076173380498528,
          -0.9420872579669081,
          -1.412342346624119,
          1.3785380687624587,
          2.287939799483928,
          0.8058558987855979,
          2.1612889727077165,
          1.3898255166515385,
          0.08615222494949032,
          1.4199357179968486,
          0.6340957883823382,
          2.7839484648284882,
          0.5413279698507071,
          1.0788681290984017,
          0.4819926334303382,
          0.02506591300688854,
          -0.708367086476483,
          0.1185641829882203,
          -0.4754156076066011,
          -2.3326641406718682,
          -0.9447407359916402,
          -1.6960879768096215,
          -0.01808721259489096,
          -3.0597449498140747,
          -0.5496106286459997,
          -2.47715088600275,
          -0.7380559077455042,
          -2.4508306043581314,
          -0.8714265361371396,
          1.4808741078131078,
          -1.3076939130348602,
          -3.284205266271813,
          -0.4943365823506662,
          -3.1698376497794647,
          2.325622290224135,
          2.5997132073176594,
          1.7027284390824304,
          0.9896995749339704,
          2.0571236584186106,
          2.721688939643072,
          0.9060045609472991,
          1.886116044313949,
          -0.6953574941573717,
          0.7067101226277922,
          -0.363823369805683,
          1.0967377569254646,
          -0.6195936467485206,
          3.376133273310511,
          0.03577391877124089,
          0.8022122277714907
         ],
         "z": [
          0.9952542359515161,
          0.013577485432088754,
          0.5350228099175633,
          0.2438084435914057,
          -1.0758141639535999,
          -2.2558077198268305,
          0.27257857537735997,
          0.3725539997396956,
          0.1959161354776176,
          -2.1564984585035276,
          -0.408571109719656,
          -0.15326377349873577,
          -0.7797463979052569,
          -1.6113031094271408,
          -0.38063656816723357,
          -1.0427799660516743,
          -0.16793933436034952,
          -0.340438417494036,
          -0.1394746906285531,
          -1.2624289704040172,
          -0.49829871337543563,
          0.2380447455887328,
          -0.6501875660814973,
          -0.2478450855366856,
          -0.7625513871779369,
          -0.8906617168480528,
          -1.7745337479994818,
          -0.9428051551848005,
          0.03783873442804257,
          0.28719042737079564,
          0.2347756782474468,
          1.7882854712589915,
          2.462771406369156,
          1.4489064103010214,
          1.8272691518001825,
          0.06697667452577327,
          1.8611990214358516,
          0.3549131217266168,
          1.207192808193426,
          0.985618937678251,
          -2.7454597818909074,
          1.6581408671811901,
          -3.1890444508449347,
          1.03611276657352,
          -2.4414588509262627,
          1.4921640488830454,
          0.5602656854304233,
          0.8272816112147658,
          0.6029374566686322,
          1.4131471965337534,
          -3.543632085682037,
          0.13716803624686047,
          1.4443208114616506,
          1.401008827020259,
          2.1061687534262754,
          1.6624035431637816,
          -3.48814858717859,
          2.259586845242806,
          -2.758464883292665,
          1.6997904268748982,
          1.9016932373768243,
          1.419067527965785,
          2.076881257519677
         ]
        }
       ],
       "layout": {
        "autosize": false,
        "height": 450,
        "hovermode": "closest",
        "margin": {
         "b": 20,
         "l": 5,
         "r": 5,
         "t": 40
        },
        "scene": {
         "aspectmode": "auto",
         "aspectratio": {
          "x": 0.6656215211349923,
          "y": 1.2907056849491443,
          "z": 1.163979741752742
         },
         "camera": {
          "center": {
           "x": 0,
           "y": 0,
           "z": 0
          },
          "eye": {
           "x": -0.946539530230809,
           "y": 0.6045535833812664,
           "z": 1.1540847520691917
          },
          "projection": {
           "type": "perspective"
          },
          "up": {
           "x": -0.005467301282315971,
           "y": -0.005584825394057877,
           "z": 0.9999694587046178
          }
         },
         "xaxis": {
          "showbackground": false,
          "showgrid": false,
          "showline": false,
          "showticklabels": false,
          "title": {
           "text": ""
          },
          "type": "linear",
          "zeroline": false
         },
         "yaxis": {
          "showbackground": false,
          "showgrid": false,
          "showline": false,
          "showticklabels": false,
          "title": {
           "text": ""
          },
          "type": "linear",
          "zeroline": false
         },
         "zaxis": {
          "showbackground": false,
          "showgrid": false,
          "showline": false,
          "showticklabels": false,
          "title": {
           "text": ""
          },
          "type": "linear",
          "zeroline": false
         }
        },
        "showlegend": false,
        "template": {
         "data": {
          "bar": [
           {
            "error_x": {
             "color": "#2a3f5f"
            },
            "error_y": {
             "color": "#2a3f5f"
            },
            "marker": {
             "line": {
              "color": "#E5ECF6",
              "width": 0.5
             }
            },
            "type": "bar"
           }
          ],
          "barpolar": [
           {
            "marker": {
             "line": {
              "color": "#E5ECF6",
              "width": 0.5
             }
            },
            "type": "barpolar"
           }
          ],
          "carpet": [
           {
            "aaxis": {
             "endlinecolor": "#2a3f5f",
             "gridcolor": "white",
             "linecolor": "white",
             "minorgridcolor": "white",
             "startlinecolor": "#2a3f5f"
            },
            "baxis": {
             "endlinecolor": "#2a3f5f",
             "gridcolor": "white",
             "linecolor": "white",
             "minorgridcolor": "white",
             "startlinecolor": "#2a3f5f"
            },
            "type": "carpet"
           }
          ],
          "choropleth": [
           {
            "colorbar": {
             "outlinewidth": 0,
             "ticks": ""
            },
            "type": "choropleth"
           }
          ],
          "contour": [
           {
            "colorbar": {
             "outlinewidth": 0,
             "ticks": ""
            },
            "colorscale": [
             [
              0,
              "#0d0887"
             ],
             [
              0.1111111111111111,
              "#46039f"
             ],
             [
              0.2222222222222222,
              "#7201a8"
             ],
             [
              0.3333333333333333,
              "#9c179e"
             ],
             [
              0.4444444444444444,
              "#bd3786"
             ],
             [
              0.5555555555555556,
              "#d8576b"
             ],
             [
              0.6666666666666666,
              "#ed7953"
             ],
             [
              0.7777777777777778,
              "#fb9f3a"
             ],
             [
              0.8888888888888888,
              "#fdca26"
             ],
             [
              1,
              "#f0f921"
             ]
            ],
            "type": "contour"
           }
          ],
          "contourcarpet": [
           {
            "colorbar": {
             "outlinewidth": 0,
             "ticks": ""
            },
            "type": "contourcarpet"
           }
          ],
          "heatmap": [
           {
            "colorbar": {
             "outlinewidth": 0,
             "ticks": ""
            },
            "colorscale": [
             [
              0,
              "#0d0887"
             ],
             [
              0.1111111111111111,
              "#46039f"
             ],
             [
              0.2222222222222222,
              "#7201a8"
             ],
             [
              0.3333333333333333,
              "#9c179e"
             ],
             [
              0.4444444444444444,
              "#bd3786"
             ],
             [
              0.5555555555555556,
              "#d8576b"
             ],
             [
              0.6666666666666666,
              "#ed7953"
             ],
             [
              0.7777777777777778,
              "#fb9f3a"
             ],
             [
              0.8888888888888888,
              "#fdca26"
             ],
             [
              1,
              "#f0f921"
             ]
            ],
            "type": "heatmap"
           }
          ],
          "heatmapgl": [
           {
            "colorbar": {
             "outlinewidth": 0,
             "ticks": ""
            },
            "colorscale": [
             [
              0,
              "#0d0887"
             ],
             [
              0.1111111111111111,
              "#46039f"
             ],
             [
              0.2222222222222222,
              "#7201a8"
             ],
             [
              0.3333333333333333,
              "#9c179e"
             ],
             [
              0.4444444444444444,
              "#bd3786"
             ],
             [
              0.5555555555555556,
              "#d8576b"
             ],
             [
              0.6666666666666666,
              "#ed7953"
             ],
             [
              0.7777777777777778,
              "#fb9f3a"
             ],
             [
              0.8888888888888888,
              "#fdca26"
             ],
             [
              1,
              "#f0f921"
             ]
            ],
            "type": "heatmapgl"
           }
          ],
          "histogram": [
           {
            "marker": {
             "colorbar": {
              "outlinewidth": 0,
              "ticks": ""
             }
            },
            "type": "histogram"
           }
          ],
          "histogram2d": [
           {
            "colorbar": {
             "outlinewidth": 0,
             "ticks": ""
            },
            "colorscale": [
             [
              0,
              "#0d0887"
             ],
             [
              0.1111111111111111,
              "#46039f"
             ],
             [
              0.2222222222222222,
              "#7201a8"
             ],
             [
              0.3333333333333333,
              "#9c179e"
             ],
             [
              0.4444444444444444,
              "#bd3786"
             ],
             [
              0.5555555555555556,
              "#d8576b"
             ],
             [
              0.6666666666666666,
              "#ed7953"
             ],
             [
              0.7777777777777778,
              "#fb9f3a"
             ],
             [
              0.8888888888888888,
              "#fdca26"
             ],
             [
              1,
              "#f0f921"
             ]
            ],
            "type": "histogram2d"
           }
          ],
          "histogram2dcontour": [
           {
            "colorbar": {
             "outlinewidth": 0,
             "ticks": ""
            },
            "colorscale": [
             [
              0,
              "#0d0887"
             ],
             [
              0.1111111111111111,
              "#46039f"
             ],
             [
              0.2222222222222222,
              "#7201a8"
             ],
             [
              0.3333333333333333,
              "#9c179e"
             ],
             [
              0.4444444444444444,
              "#bd3786"
             ],
             [
              0.5555555555555556,
              "#d8576b"
             ],
             [
              0.6666666666666666,
              "#ed7953"
             ],
             [
              0.7777777777777778,
              "#fb9f3a"
             ],
             [
              0.8888888888888888,
              "#fdca26"
             ],
             [
              1,
              "#f0f921"
             ]
            ],
            "type": "histogram2dcontour"
           }
          ],
          "mesh3d": [
           {
            "colorbar": {
             "outlinewidth": 0,
             "ticks": ""
            },
            "type": "mesh3d"
           }
          ],
          "parcoords": [
           {
            "line": {
             "colorbar": {
              "outlinewidth": 0,
              "ticks": ""
             }
            },
            "type": "parcoords"
           }
          ],
          "pie": [
           {
            "automargin": true,
            "type": "pie"
           }
          ],
          "scatter": [
           {
            "marker": {
             "colorbar": {
              "outlinewidth": 0,
              "ticks": ""
             }
            },
            "type": "scatter"
           }
          ],
          "scatter3d": [
           {
            "line": {
             "colorbar": {
              "outlinewidth": 0,
              "ticks": ""
             }
            },
            "marker": {
             "colorbar": {
              "outlinewidth": 0,
              "ticks": ""
             }
            },
            "type": "scatter3d"
           }
          ],
          "scattercarpet": [
           {
            "marker": {
             "colorbar": {
              "outlinewidth": 0,
              "ticks": ""
             }
            },
            "type": "scattercarpet"
           }
          ],
          "scattergeo": [
           {
            "marker": {
             "colorbar": {
              "outlinewidth": 0,
              "ticks": ""
             }
            },
            "type": "scattergeo"
           }
          ],
          "scattergl": [
           {
            "marker": {
             "colorbar": {
              "outlinewidth": 0,
              "ticks": ""
             }
            },
            "type": "scattergl"
           }
          ],
          "scattermapbox": [
           {
            "marker": {
             "colorbar": {
              "outlinewidth": 0,
              "ticks": ""
             }
            },
            "type": "scattermapbox"
           }
          ],
          "scatterpolar": [
           {
            "marker": {
             "colorbar": {
              "outlinewidth": 0,
              "ticks": ""
             }
            },
            "type": "scatterpolar"
           }
          ],
          "scatterpolargl": [
           {
            "marker": {
             "colorbar": {
              "outlinewidth": 0,
              "ticks": ""
             }
            },
            "type": "scatterpolargl"
           }
          ],
          "scatterternary": [
           {
            "marker": {
             "colorbar": {
              "outlinewidth": 0,
              "ticks": ""
             }
            },
            "type": "scatterternary"
           }
          ],
          "surface": [
           {
            "colorbar": {
             "outlinewidth": 0,
             "ticks": ""
            },
            "colorscale": [
             [
              0,
              "#0d0887"
             ],
             [
              0.1111111111111111,
              "#46039f"
             ],
             [
              0.2222222222222222,
              "#7201a8"
             ],
             [
              0.3333333333333333,
              "#9c179e"
             ],
             [
              0.4444444444444444,
              "#bd3786"
             ],
             [
              0.5555555555555556,
              "#d8576b"
             ],
             [
              0.6666666666666666,
              "#ed7953"
             ],
             [
              0.7777777777777778,
              "#fb9f3a"
             ],
             [
              0.8888888888888888,
              "#fdca26"
             ],
             [
              1,
              "#f0f921"
             ]
            ],
            "type": "surface"
           }
          ],
          "table": [
           {
            "cells": {
             "fill": {
              "color": "#EBF0F8"
             },
             "line": {
              "color": "white"
             }
            },
            "header": {
             "fill": {
              "color": "#C8D4E3"
             },
             "line": {
              "color": "white"
             }
            },
            "type": "table"
           }
          ]
         },
         "layout": {
          "annotationdefaults": {
           "arrowcolor": "#2a3f5f",
           "arrowhead": 0,
           "arrowwidth": 1
          },
          "coloraxis": {
           "colorbar": {
            "outlinewidth": 0,
            "ticks": ""
           }
          },
          "colorscale": {
           "diverging": [
            [
             0,
             "#8e0152"
            ],
            [
             0.1,
             "#c51b7d"
            ],
            [
             0.2,
             "#de77ae"
            ],
            [
             0.3,
             "#f1b6da"
            ],
            [
             0.4,
             "#fde0ef"
            ],
            [
             0.5,
             "#f7f7f7"
            ],
            [
             0.6,
             "#e6f5d0"
            ],
            [
             0.7,
             "#b8e186"
            ],
            [
             0.8,
             "#7fbc41"
            ],
            [
             0.9,
             "#4d9221"
            ],
            [
             1,
             "#276419"
            ]
           ],
           "sequential": [
            [
             0,
             "#0d0887"
            ],
            [
             0.1111111111111111,
             "#46039f"
            ],
            [
             0.2222222222222222,
             "#7201a8"
            ],
            [
             0.3333333333333333,
             "#9c179e"
            ],
            [
             0.4444444444444444,
             "#bd3786"
            ],
            [
             0.5555555555555556,
             "#d8576b"
            ],
            [
             0.6666666666666666,
             "#ed7953"
            ],
            [
             0.7777777777777778,
             "#fb9f3a"
            ],
            [
             0.8888888888888888,
             "#fdca26"
            ],
            [
             1,
             "#f0f921"
            ]
           ],
           "sequentialminus": [
            [
             0,
             "#0d0887"
            ],
            [
             0.1111111111111111,
             "#46039f"
            ],
            [
             0.2222222222222222,
             "#7201a8"
            ],
            [
             0.3333333333333333,
             "#9c179e"
            ],
            [
             0.4444444444444444,
             "#bd3786"
            ],
            [
             0.5555555555555556,
             "#d8576b"
            ],
            [
             0.6666666666666666,
             "#ed7953"
            ],
            [
             0.7777777777777778,
             "#fb9f3a"
            ],
            [
             0.8888888888888888,
             "#fdca26"
            ],
            [
             1,
             "#f0f921"
            ]
           ]
          },
          "colorway": [
           "#636efa",
           "#EF553B",
           "#00cc96",
           "#ab63fa",
           "#FFA15A",
           "#19d3f3",
           "#FF6692",
           "#B6E880",
           "#FF97FF",
           "#FECB52"
          ],
          "font": {
           "color": "#2a3f5f"
          },
          "geo": {
           "bgcolor": "white",
           "lakecolor": "white",
           "landcolor": "#E5ECF6",
           "showlakes": true,
           "showland": true,
           "subunitcolor": "white"
          },
          "hoverlabel": {
           "align": "left"
          },
          "hovermode": "closest",
          "mapbox": {
           "style": "light"
          },
          "paper_bgcolor": "white",
          "plot_bgcolor": "#E5ECF6",
          "polar": {
           "angularaxis": {
            "gridcolor": "white",
            "linecolor": "white",
            "ticks": ""
           },
           "bgcolor": "#E5ECF6",
           "radialaxis": {
            "gridcolor": "white",
            "linecolor": "white",
            "ticks": ""
           }
          },
          "scene": {
           "xaxis": {
            "backgroundcolor": "#E5ECF6",
            "gridcolor": "white",
            "gridwidth": 2,
            "linecolor": "white",
            "showbackground": true,
            "ticks": "",
            "zerolinecolor": "white"
           },
           "yaxis": {
            "backgroundcolor": "#E5ECF6",
            "gridcolor": "white",
            "gridwidth": 2,
            "linecolor": "white",
            "showbackground": true,
            "ticks": "",
            "zerolinecolor": "white"
           },
           "zaxis": {
            "backgroundcolor": "#E5ECF6",
            "gridcolor": "white",
            "gridwidth": 2,
            "linecolor": "white",
            "showbackground": true,
            "ticks": "",
            "zerolinecolor": "white"
           }
          },
          "shapedefaults": {
           "line": {
            "color": "#2a3f5f"
           }
          },
          "ternary": {
           "aaxis": {
            "gridcolor": "white",
            "linecolor": "white",
            "ticks": ""
           },
           "baxis": {
            "gridcolor": "white",
            "linecolor": "white",
            "ticks": ""
           },
           "bgcolor": "#E5ECF6",
           "caxis": {
            "gridcolor": "white",
            "linecolor": "white",
            "ticks": ""
           }
          },
          "title": {
           "x": 0.05
          },
          "xaxis": {
           "automargin": true,
           "gridcolor": "white",
           "linecolor": "white",
           "ticks": "",
           "title": {
            "standoff": 15
           },
           "zerolinecolor": "white",
           "zerolinewidth": 2
          },
          "yaxis": {
           "automargin": true,
           "gridcolor": "white",
           "linecolor": "white",
           "ticks": "",
           "title": {
            "standoff": 15
           },
           "zerolinecolor": "white",
           "zerolinewidth": 2
          }
         }
        },
        "title": {
         "text": ""
        },
        "updatemenus": [
         {
          "direction": "down",
          "pad": {
           "r": 10,
           "t": 10
          },
          "showactive": true,
          "x": 0.11,
          "xanchor": "left",
          "y": 1.1,
          "yanchor": "top"
         }
        ],
        "width": 700
       }
      },
      "image/png": "[encoded data removed]",
      "text/html": [
       "<div>\n",
       "        \n",
       "        \n",
       "            <div id=\"8df8f8d8-3fb3-4be0-ae3e-cc6103944c85\" class=\"plotly-graph-div\" style=\"height:525px; width:100%;\"></div>\n",
       "            <script type=\"text/javascript\">\n",
       "                require([\"plotly\"], function(Plotly) {\n",
       "                    window.PLOTLYENV=window.PLOTLYENV || {};\n",
       "                    \n",
       "                if (document.getElementById(\"8df8f8d8-3fb3-4be0-ae3e-cc6103944c85\")) {\n",
       "                    Plotly.newPlot(\n",
       "                        '8df8f8d8-3fb3-4be0-ae3e-cc6103944c85',\n",
       "                        [{\"hoverinfo\": \"none\", \"line\": {\"color\": \"#888\", \"width\": 1}, \"mode\": \"lines\", \"name\": \"edge_trace\", \"type\": \"scatter3d\", \"uid\": \"638af4b1-6337-4124-9f83-92c4db884ca2\", \"x\": [-1.17985143313183, -1.375533112484978, null, -1.17985143313183, -0.464141140667294, null, -1.17985143313183, -0.5294563215137003, null, -1.375533112484978, -1.1209910871890694, null, -1.375533112484978, -1.5173740607181267, null, -1.375533112484978, -0.8024078542529502, null, -0.0995440438002255, 0.19925462441054895, null, -0.0995440438002255, 0.16386528370184683, null, 0.8606296331227503, 0.018332633519253155, null, -1.1209910871890694, -1.428029672615434, null, -1.1209910871890694, -0.16319204050279845, null, -1.428029672615434, -1.393691242214751, null, -0.464141140667294, -0.9910154280958203, null, -0.464141140667294, 0.19925462441054895, null, -0.464141140667294, -0.8938252927155316, null, -0.464141140667294, 0.22523556173383674, null, -0.2512103403994874, 0.018332633519253155, null, -0.2512103403994874, 0.02220767839759763, null, -0.9910154280958203, -0.16319204050279845, null, -0.9910154280958203, -1.3927175332302917, null, 0.19925462441054895, 0.018332633519253155, null, 0.19925462441054895, -0.16319204050279845, null, 0.19925462441054895, 0.7394516698902354, null, 0.018332633519253155, -0.49981946416665984, null, -0.16319204050279845, -0.49981946416665984, null, -0.16319204050279845, 0.8231204515960554, null, -0.6992489201971127, -0.7028711206978102, null, -0.6992489201971127, -1.5173740607181267, null, -0.6992489201971127, 0.16386528370184683, null, -0.6992489201971127, -0.8938252927155316, null, -0.7028711206978102, -1.1145536080006353, null, -0.7028711206978102, 0.0902069372900075, null, -0.7028711206978102, -0.36904265667436087, null, -1.5173740607181267, -0.8025167931984347, null, -1.5173740607181267, -1.3927175332302917, null, -1.1145536080006353, -1.1985983709674681, null, 0.16386528370184683, -0.8025167931984347, null, 0.16386528370184683, 0.7394516698902354, null, 0.16386528370184683, 0.3937001414234894, null, -0.8938252927155316, -1.3927175332302917, null, -1.3927175332302917, -1.1985983709674681, null, -1.1985983709674681, -0.8377246099413699, null, 0.8231204515960554, 1.1668386286381853, null, -0.5294563215137003, -0.8024078542529502, null, -0.5294563215137003, 0.22523556173383674, null, -0.7945049786842409, -1.1175742739727654, null, -0.7945049786842409, -0.9509459090529514, null, -0.8024078542529502, -1.1175742739727654, null, -0.8024078542529502, 0.33344154348860766, null, -1.1175742739727654, -1.393691242214751, null, -0.9509459090529514, -1.393691242214751, null, -1.393691242214751, -1.723542947142458, null, 0.22523556173383674, 0.33344154348860766, null, 0.22523556173383674, 1.1536209676919948, null, 0.22523556173383674, 0.9101833119175295, null, 0.02220767839759763, -0.24679209673081592, null, 0.33344154348860766, 1.4197792979495825, null, 0.33344154348860766, 0.7511012964539558, null, -0.058493329584491494, -0.8377246099413699, null, 1.1536209676919948, 1.7052466589165012, null, 1.4197792979495825, 1.1668386286381853, null, 0.6647284759928993, -0.36904265667436087, null, 0.6647284759928993, 1.1906055385174361, null, 0.6647284759928993, 0.3937001414234894, null, -0.36904265667436087, -0.2789171560625403, null, 1.1906055385174361, 1.7112173717179002, null, -0.6030601054733002, -0.8377246099413699, null, -0.2789171560625403, 0.29275995621753476, null, -0.2789171560625403, -0.5606457426645541, null, 1.7112173717179002, 1.1668386286381853, null, 0.29275995621753476, 0.7817105144517249, null, 0.9101833119175295, 0.7511012964539558, null, 0.9101833119175295, 1.7052466589165012, null, -1.4252812024121218, -0.8377246099413699, null, 0.7511012964539558, 1.1668386286381853, null, 1.7052466589165012, 1.1668386286381853, null, 1.1668386286381853, 0.7817105144517249, null], \"y\": [-0.19875324901431368, -0.3446979901995181, null, -0.19875324901431368, -0.24824427300598625, null, -0.19875324901431368, -0.4754156076066011, null, -0.3446979901995181, -1.0538929228561498, null, -0.3446979901995181, 0.8058558987855979, null, -0.3446979901995181, -0.9447407359916402, null, 0.4609820369960512, -0.4281798908372262, null, 0.4609820369960512, 1.3898255166515385, null, -1.1587807072608625, -1.0076173380498528, null, -1.0538929228561498, -1.918329672390152, null, -1.0538929228561498, -0.9420872579669081, null, -1.918329672390152, -2.47715088600275, null, -0.24824427300598625, -0.34094947836349776, null, -0.24824427300598625, -0.4281798908372262, null, -0.24824427300598625, 0.6340957883823382, null, -0.24824427300598625, -0.7380559077455042, null, -1.8207070678618908, -1.0076173380498528, null, -1.8207070678618908, -2.4508306043581314, null, -0.34094947836349776, -0.9420872579669081, null, -0.34094947836349776, 0.5413279698507071, null, -0.4281798908372262, -1.0076173380498528, null, -0.4281798908372262, -0.9420872579669081, null, -0.4281798908372262, 0.4819926334303382, null, -1.0076173380498528, -1.412342346624119, null, -0.9420872579669081, -1.412342346624119, null, -0.9420872579669081, -0.708367086476483, null, 1.3785380687624587, 2.287939799483928, null, 1.3785380687624587, 0.8058558987855979, null, 1.3785380687624587, 1.3898255166515385, null, 1.3785380687624587, 0.6340957883823382, null, 2.287939799483928, 2.1612889727077165, null, 2.287939799483928, 2.7839484648284882, null, 2.287939799483928, 2.5997132073176594, null, 0.8058558987855979, 1.4199357179968486, null, 0.8058558987855979, 0.5413279698507071, null, 2.1612889727077165, 1.0788681290984017, null, 1.3898255166515385, 1.4199357179968486, null, 1.3898255166515385, 0.4819926334303382, null, 1.3898255166515385, 2.0571236584186106, null, 0.6340957883823382, 0.5413279698507071, null, 0.5413279698507071, 1.0788681290984017, null, 1.0788681290984017, 1.0967377569254646, null, -0.708367086476483, 0.03577391877124089, null, -0.4754156076066011, -0.9447407359916402, null, -0.4754156076066011, -0.7380559077455042, null, -2.3326641406718682, -1.6960879768096215, null, -2.3326641406718682, -3.0597449498140747, null, -0.9447407359916402, -1.6960879768096215, null, -0.9447407359916402, -0.8714265361371396, null, -1.6960879768096215, -2.47715088600275, null, -3.0597449498140747, -2.47715088600275, null, -2.47715088600275, -3.1698376497794647, null, -0.7380559077455042, -0.8714265361371396, null, -0.7380559077455042, -1.3076939130348602, null, -0.7380559077455042, -0.6953574941573717, null, -2.4508306043581314, -3.284205266271813, null, -0.8714265361371396, -0.4943365823506662, null, -0.8714265361371396, -0.363823369805683, null, 1.4808741078131078, 1.0967377569254646, null, -1.3076939130348602, -0.6195936467485206, null, -0.4943365823506662, 0.03577391877124089, null, 2.325622290224135, 2.5997132073176594, null, 2.325622290224135, 1.7027284390824304, null, 2.325622290224135, 2.0571236584186106, null, 2.5997132073176594, 2.721688939643072, null, 1.7027284390824304, 0.9060045609472991, null, 0.9896995749339704, 1.0967377569254646, null, 2.721688939643072, 1.886116044313949, null, 2.721688939643072, 3.376133273310511, null, 0.9060045609472991, 0.03577391877124089, null, 1.886116044313949, 0.8022122277714907, null, -0.6953574941573717, -0.363823369805683, null, -0.6953574941573717, -0.6195936467485206, null, 0.7067101226277922, 1.0967377569254646, null, -0.363823369805683, 0.03577391877124089, null, -0.6195936467485206, 0.03577391877124089, null, 0.03577391877124089, 0.8022122277714907, null], \"z\": [0.9952542359515161, 0.5350228099175633, null, 0.9952542359515161, 0.1959161354776176, null, 0.9952542359515161, 1.7882854712589915, null, 0.5350228099175633, 0.27257857537735997, null, 0.5350228099175633, -0.1394746906285531, null, 0.5350228099175633, 1.4489064103010214, null, -1.0758141639535999, -0.7797463979052569, null, -1.0758141639535999, -0.49829871337543563, null, -2.2558077198268305, -1.6113031094271408, null, 0.27257857537735997, 0.3725539997396956, null, 0.27257857537735997, -0.38063656816723357, null, 0.3725539997396956, 1.207192808193426, null, 0.1959161354776176, -0.408571109719656, null, 0.1959161354776176, -0.7797463979052569, null, 0.1959161354776176, -0.2478450855366856, null, 0.1959161354776176, 0.985618937678251, null, -2.1564984585035276, -1.6113031094271408, null, -2.1564984585035276, -2.7454597818909074, null, -0.408571109719656, -0.38063656816723357, null, -0.408571109719656, -0.8906617168480528, null, -0.7797463979052569, -1.6113031094271408, null, -0.7797463979052569, -0.38063656816723357, null, -0.7797463979052569, -0.9428051551848005, null, -1.6113031094271408, -1.0427799660516743, null, -0.38063656816723357, -1.0427799660516743, null, -0.38063656816723357, 0.28719042737079564, null, -0.16793933436034952, -0.340438417494036, null, -0.16793933436034952, -0.1394746906285531, null, -0.16793933436034952, -0.49829871337543563, null, -0.16793933436034952, -0.2478450855366856, null, -0.340438417494036, -1.2624289704040172, null, -0.340438417494036, -0.7625513871779369, null, -0.340438417494036, 0.6029374566686322, null, -0.1394746906285531, -0.6501875660814973, null, -0.1394746906285531, -0.8906617168480528, null, -1.2624289704040172, -1.7745337479994818, null, -0.49829871337543563, -0.6501875660814973, null, -0.49829871337543563, -0.9428051551848005, null, -0.49829871337543563, 0.13716803624686047, null, -0.2478450855366856, -0.8906617168480528, null, -0.8906617168480528, -1.7745337479994818, null, -1.7745337479994818, -2.758464883292665, null, 0.28719042737079564, 1.419067527965785, null, 1.7882854712589915, 1.4489064103010214, null, 1.7882854712589915, 0.985618937678251, null, 2.462771406369156, 1.8272691518001825, null, 2.462771406369156, 1.8611990214358516, null, 1.4489064103010214, 1.8272691518001825, null, 1.4489064103010214, 1.6581408671811901, null, 1.8272691518001825, 1.207192808193426, null, 1.8611990214358516, 1.207192808193426, null, 1.207192808193426, 0.5602656854304233, null, 0.985618937678251, 1.6581408671811901, null, 0.985618937678251, 1.03611276657352, null, 0.985618937678251, 1.6624035431637816, null, -2.7454597818909074, -2.4414588509262627, null, 1.6581408671811901, 1.4921640488830454, null, 1.6581408671811901, 2.259586845242806, null, -3.1890444508449347, -2.758464883292665, null, 1.03611276657352, 1.6997904268748982, null, 1.4921640488830454, 1.419067527965785, null, 0.8272816112147658, 0.6029374566686322, null, 0.8272816112147658, 1.4131471965337534, null, 0.8272816112147658, 0.13716803624686047, null, 0.6029374566686322, 1.4443208114616506, null, 1.4131471965337534, 1.401008827020259, null, -3.543632085682037, -2.758464883292665, null, 1.4443208114616506, 2.1061687534262754, null, 1.4443208114616506, 1.9016932373768243, null, 1.401008827020259, 1.419067527965785, null, 2.1061687534262754, 2.076881257519677, null, 1.6624035431637816, 2.259586845242806, null, 1.6624035431637816, 1.6997904268748982, null, -3.48814858717859, -2.758464883292665, null, 2.259586845242806, 1.419067527965785, null, 1.6997904268748982, 1.419067527965785, null, 1.419067527965785, 2.076881257519677, null]}, {\"hoverinfo\": \"text\", \"hoverlabel\": {\"bgcolor\": [\"#482978\", \"#3b518a\", \"#33628d\", \"#3c4d8a\", \"#2dae7f\", \"#3b508a\", \"#238e8c\", \"#482576\", \"#2b768e\", \"#306a8e\", \"#34b679\", \"#21968a\", \"#277f8e\", \"#482777\", \"#209b8a\", \"#3f4487\", \"#d5e228\", \"#b5de2b\", \"#93d640\", \"#addc30\", \"#d4e228\", \"#2cad7f\", \"#97d73e\", \"#30b17d\", \"#a1da38\", \"#5bc663\", \"#a3da36\", \"#238e8c\", \"#2c748e\", \"#addc30\", \"#26828e\", \"#433981\", \"#472272\", \"#34618d\", \"#423a81\", \"#a2da37\", \"#440154\", \"#2d718e\", \"#461567\", \"#2f6e8e\", \"#34618d\", \"#2b778e\", \"#2e6e8e\", \"#297a8e\", \"#482676\", \"#277f8e\", \"#433780\", \"#87d448\", \"#83d34a\", \"#8dd544\", \"#22918b\", \"#fde725\", \"#21968a\", \"#b4de2c\", \"#248c8c\", \"#2e6e8e\", \"#2d708e\", \"#25868d\", \"#21968a\", \"#2f6c8e\", \"#375a8c\", \"#27a783\", \"#2c758e\"]}, \"hovertext\": [\"Node ID: 0<br>Node size: 4774<br>Summary statistic: 1.4\", \"Node ID: 1<br>Node size: 18<br>Summary statistic: 2.56\", \"Node ID: 2<br>Node size: 1547<br>Summary statistic: 3.07\", \"Node ID: 3<br>Node size: 7<br>Summary statistic: 2.43\", \"Node ID: 4<br>Node size: 800<br>Summary statistic: 5.69\", \"Node ID: 5<br>Node size: 69<br>Summary statistic: 2.51\", \"Node ID: 6<br>Node size: 1157<br>Summary statistic: 4.57\", \"Node ID: 7<br>Node size: 57<br>Summary statistic: 1.32\", \"Node ID: 8<br>Node size: 1796<br>Summary statistic: 3.73\", \"Node ID: 9<br>Node size: 143<br>Summary statistic: 3.31\", \"Node ID: 10<br>Node size: 4821<br>Summary statistic: 6.01\", \"Node ID: 11<br>Node size: 55<br>Summary statistic: 4.84\", \"Node ID: 12<br>Node size: 5145<br>Summary statistic: 4.07\", \"Node ID: 13<br>Node size: 1245<br>Summary statistic: 1.34\", \"Node ID: 14<br>Node size: 2303<br>Summary statistic: 5.0\", \"Node ID: 15<br>Node size: 556<br>Summary statistic: 2.17\", \"Node ID: 16<br>Node size: 2594<br>Summary statistic: 8.3\", \"Node ID: 17<br>Node size: 524<br>Summary statistic: 7.9\", \"Node ID: 18<br>Node size: 2251<br>Summary statistic: 7.45\", \"Node ID: 19<br>Node size: 227<br>Summary statistic: 7.79\", \"Node ID: 20<br>Node size: 3643<br>Summary statistic: 8.29\", \"Node ID: 21<br>Node size: 18<br>Summary statistic: 5.67\", \"Node ID: 22<br>Node size: 465<br>Summary statistic: 7.49\", \"Node ID: 23<br>Node size: 293<br>Summary statistic: 5.82\", \"Node ID: 24<br>Node size: 292<br>Summary statistic: 7.63\", \"Node ID: 25<br>Node size: 1720<br>Summary statistic: 6.66\", \"Node ID: 26<br>Node size: 307<br>Summary statistic: 7.66\", \"Node ID: 27<br>Node size: 242<br>Summary statistic: 4.57\", \"Node ID: 28<br>Node size: 38<br>Summary statistic: 3.68\", \"Node ID: 29<br>Node size: 590<br>Summary statistic: 7.79\", \"Node ID: 30<br>Node size: 6<br>Summary statistic: 4.17\", \"Node ID: 31<br>Node size: 1540<br>Summary statistic: 1.86\", \"Node ID: 32<br>Node size: 538<br>Summary statistic: 1.23\", \"Node ID: 33<br>Node size: 3523<br>Summary statistic: 3.02\", \"Node ID: 34<br>Node size: 909<br>Summary statistic: 1.89\", \"Node ID: 35<br>Node size: 42<br>Summary statistic: 7.64\", \"Node ID: 36<br>Node size: 503<br>Summary statistic: 0.445\", \"Node ID: 37<br>Node size: 158<br>Summary statistic: 3.56\", \"Node ID: 38<br>Node size: 1483<br>Summary statistic: 0.924\", \"Node ID: 39<br>Node size: 918<br>Summary statistic: 3.44\", \"Node ID: 40<br>Node size: 114<br>Summary statistic: 3.02\", \"Node ID: 41<br>Node size: 1624<br>Summary statistic: 3.79\", \"Node ID: 42<br>Node size: 145<br>Summary statistic: 3.46\", \"Node ID: 43<br>Node size: 413<br>Summary statistic: 3.88\", \"Node ID: 44<br>Node size: 260<br>Summary statistic: 1.32\", \"Node ID: 45<br>Node size: 455<br>Summary statistic: 4.05\", \"Node ID: 46<br>Node size: 352<br>Summary statistic: 1.8\", \"Node ID: 47<br>Node size: 113<br>Summary statistic: 7.29\", \"Node ID: 48<br>Node size: 396<br>Summary statistic: 7.24\", \"Node ID: 49<br>Node size: 331<br>Summary statistic: 7.37\", \"Node ID: 50<br>Node size: 129<br>Summary statistic: 4.68\", \"Node ID: 51<br>Node size: 341<br>Summary statistic: 8.82\", \"Node ID: 52<br>Node size: 141<br>Summary statistic: 4.84\", \"Node ID: 53<br>Node size: 477<br>Summary statistic: 7.87\", \"Node ID: 54<br>Node size: 134<br>Summary statistic: 4.49\", \"Node ID: 55<br>Node size: 4224<br>Summary statistic: 3.46\", \"Node ID: 56<br>Node size: 203<br>Summary statistic: 3.54\", \"Node ID: 57<br>Node size: 1155<br>Summary statistic: 4.29\", \"Node ID: 58<br>Node size: 129<br>Summary statistic: 4.84\", \"Node ID: 59<br>Node size: 682<br>Summary statistic: 3.4\", \"Node ID: 60<br>Node size: 217<br>Summary statistic: 2.81\", \"Node ID: 61<br>Node size: 722<br>Summary statistic: 5.44\", \"Node ID: 62<br>Node size: 129<br>Summary statistic: 3.7\"], \"marker\": {\"color\": [1.3988269794721409, 2.5555555555555554, 3.072398190045249, 2.4285714285714284, 5.68625, 2.5072463768115942, 4.5721694036300775, 1.3157894736842106, 3.727728285077951, 3.3076923076923075, 6.008504459655673, 4.836363636363636, 4.071331389698736, 1.3437751004016065, 4.998263135041251, 2.1744604316546763, 8.302621434078644, 7.896946564885496, 7.449577965348734, 7.788546255506608, 8.294537469118858, 5.666666666666667, 7.494623655913978, 5.819112627986348, 7.633561643835616, 6.657558139534884, 7.6612377850162865, 4.574380165289257, 3.6842105263157894, 7.791525423728814, 4.166666666666667, 1.8590909090909091, 1.2323420074349443, 3.021856372409878, 1.8921892189218923, 7.642857142857143, 0.44532803180914515, 3.5569620253164556, 0.9244774106540796, 3.443355119825708, 3.017543859649123, 3.7881773399014778, 3.4551724137931035, 3.8789346246973366, 1.323076923076923, 4.052747252747253, 1.7982954545454546, 7.292035398230088, 7.242424242424242, 7.374622356495468, 4.682170542635659, 8.824046920821115, 4.843971631205674, 7.8742138364779874, 4.485074626865671, 3.4623579545454546, 3.541871921182266, 4.292640692640693, 4.837209302325581, 3.398826979472141, 2.806451612903226, 5.4390581717451525, 3.697674418604651], \"colorbar\": {\"thickness\": 15, \"title\": {\"side\": \"right\", \"text\": \"\"}, \"xanchor\": \"left\"}, \"colorscale\": [[0.0, \"#440154\"], [0.1111111111111111, \"#482878\"], [0.2222222222222222, \"#3e4989\"], [0.3333333333333333, \"#31688e\"], [0.4444444444444444, \"#26828e\"], [0.5555555555555556, \"#1f9e89\"], [0.6666666666666666, \"#35b779\"], [0.7777777777777778, \"#6ece58\"], [0.8888888888888888, \"#b5de2b\"], [1.0, \"#fde725\"]], \"line\": {\"color\": \"#888\", \"width\": 1}, \"opacity\": 1.0, \"reversescale\": false, \"showscale\": true, \"size\": [4774, 18, 1547, 7, 800, 69, 1157, 57, 1796, 143, 4821, 55, 5145, 1245, 2303, 556, 2594, 524, 2251, 227, 3643, 18, 465, 293, 292, 1720, 307, 242, 38, 590, 6, 1540, 538, 3523, 909, 42, 503, 158, 1483, 918, 114, 1624, 145, 413, 260, 455, 352, 113, 396, 331, 129, 341, 141, 477, 134, 4224, 203, 1155, 129, 682, 217, 722, 129], \"sizemin\": 4, \"sizemode\": \"area\", \"sizeref\": 6.43125}, \"mode\": \"markers\", \"name\": \"node_trace\", \"type\": \"scatter3d\", \"uid\": \"f0567dee-0fee-41eb-9956-2d622d1758c4\", \"x\": [-1.17985143313183, -0.19665880766408947, -1.375533112484978, -0.12633736216698965, -0.0995440438002255, 0.8606296331227503, -1.1209910871890694, -1.428029672615434, -0.464141140667294, -0.2512103403994874, -0.9910154280958203, -0.23912184137678644, 0.19925462441054895, 0.018332633519253155, -0.16319204050279845, -0.49981946416665984, -0.6992489201971127, -0.7028711206978102, -1.5173740607181267, -1.1145536080006353, 0.16386528370184683, -0.2354781160539664, -0.8025167931984347, -0.8938252927155316, 0.0902069372900075, -1.3927175332302917, -1.1985983709674681, 0.7394516698902354, -0.28417562204710833, 0.8231204515960554, -0.29584180832899987, -0.5294563215137003, -0.7945049786842409, -0.8024078542529502, -1.1175742739727654, -0.3678978504176492, -0.9509459090529514, 0.1555572289794509, -1.393691242214751, 0.22523556173383674, 0.02220767839759763, 0.33344154348860766, -0.058493329584491494, 1.1536209676919948, -0.24679209673081592, 1.4197792979495825, -1.723542947142458, 0.6647284759928993, -0.36904265667436087, 1.1906055385174361, -0.6030601054733002, 0.3937001414234894, -0.2789171560625403, 1.7112173717179002, 0.29275995621753476, 0.9101833119175295, -1.4252812024121218, 0.7511012964539558, -0.8377246099413699, 1.7052466589165012, -0.5606457426645541, 1.1668386286381853, 0.7817105144517249], \"y\": [-0.19875324901431368, -0.12406226599662018, -0.3446979901995181, -0.06081039318519419, 0.4609820369960512, -1.1587807072608625, -1.0538929228561498, -1.918329672390152, -0.24824427300598625, -1.8207070678618908, -0.34094947836349776, 0.0953062788563949, -0.4281798908372262, -1.0076173380498528, -0.9420872579669081, -1.412342346624119, 1.3785380687624587, 2.287939799483928, 0.8058558987855979, 2.1612889727077165, 1.3898255166515385, 0.08615222494949032, 1.4199357179968486, 0.6340957883823382, 2.7839484648284882, 0.5413279698507071, 1.0788681290984017, 0.4819926334303382, 0.02506591300688854, -0.708367086476483, 0.1185641829882203, -0.4754156076066011, -2.3326641406718682, -0.9447407359916402, -1.6960879768096215, -0.01808721259489096, -3.0597449498140747, -0.5496106286459997, -2.47715088600275, -0.7380559077455042, -2.4508306043581314, -0.8714265361371396, 1.4808741078131078, -1.3076939130348602, -3.284205266271813, -0.4943365823506662, -3.1698376497794647, 2.325622290224135, 2.5997132073176594, 1.7027284390824304, 0.9896995749339704, 2.0571236584186106, 2.721688939643072, 0.9060045609472991, 1.886116044313949, -0.6953574941573717, 0.7067101226277922, -0.363823369805683, 1.0967377569254646, -0.6195936467485206, 3.376133273310511, 0.03577391877124089, 0.8022122277714907], \"z\": [0.9952542359515161, 0.013577485432088754, 0.5350228099175633, 0.2438084435914057, -1.0758141639535999, -2.2558077198268305, 0.27257857537735997, 0.3725539997396956, 0.1959161354776176, -2.1564984585035276, -0.408571109719656, -0.15326377349873577, -0.7797463979052569, -1.6113031094271408, -0.38063656816723357, -1.0427799660516743, -0.16793933436034952, -0.340438417494036, -0.1394746906285531, -1.2624289704040172, -0.49829871337543563, 0.2380447455887328, -0.6501875660814973, -0.2478450855366856, -0.7625513871779369, -0.8906617168480528, -1.7745337479994818, -0.9428051551848005, 0.03783873442804257, 0.28719042737079564, 0.2347756782474468, 1.7882854712589915, 2.462771406369156, 1.4489064103010214, 1.8272691518001825, 0.06697667452577327, 1.8611990214358516, 0.3549131217266168, 1.207192808193426, 0.985618937678251, -2.7454597818909074, 1.6581408671811901, -3.1890444508449347, 1.03611276657352, -2.4414588509262627, 1.4921640488830454, 0.5602656854304233, 0.8272816112147658, 0.6029374566686322, 1.4131471965337534, -3.543632085682037, 0.13716803624686047, 1.4443208114616506, 1.401008827020259, 2.1061687534262754, 1.6624035431637816, -3.48814858717859, 2.259586845242806, -2.758464883292665, 1.6997904268748982, 1.9016932373768243, 1.419067527965785, 2.076881257519677]}],\n",
       "                        {\"autosize\": false, \"hovermode\": \"closest\", \"margin\": {\"b\": 20, \"l\": 5, \"r\": 5, \"t\": 40}, \"scene\": {\"xaxis\": {\"showbackground\": false, \"showgrid\": false, \"showline\": false, \"showticklabels\": false, \"title\": {\"text\": \"\"}, \"zeroline\": false}, \"yaxis\": {\"showbackground\": false, \"showgrid\": false, \"showline\": false, \"showticklabels\": false, \"title\": {\"text\": \"\"}, \"zeroline\": false}, \"zaxis\": {\"showbackground\": false, \"showgrid\": false, \"showline\": false, \"showticklabels\": false, \"title\": {\"text\": \"\"}, \"zeroline\": false}}, \"showlegend\": false, \"template\": {\"data\": {\"bar\": [{\"error_x\": {\"color\": \"#2a3f5f\"}, \"error_y\": {\"color\": \"#2a3f5f\"}, \"marker\": {\"line\": {\"color\": \"#E5ECF6\", \"width\": 0.5}}, \"type\": \"bar\"}], \"barpolar\": [{\"marker\": {\"line\": {\"color\": \"#E5ECF6\", \"width\": 0.5}}, \"type\": \"barpolar\"}], \"carpet\": [{\"aaxis\": {\"endlinecolor\": \"#2a3f5f\", \"gridcolor\": \"white\", \"linecolor\": \"white\", \"minorgridcolor\": \"white\", \"startlinecolor\": \"#2a3f5f\"}, \"baxis\": {\"endlinecolor\": \"#2a3f5f\", \"gridcolor\": \"white\", \"linecolor\": \"white\", \"minorgridcolor\": \"white\", \"startlinecolor\": \"#2a3f5f\"}, \"type\": \"carpet\"}], \"choropleth\": [{\"colorbar\": {\"outlinewidth\": 0, \"ticks\": \"\"}, \"type\": \"choropleth\"}], \"contour\": [{\"colorbar\": {\"outlinewidth\": 0, \"ticks\": \"\"}, \"colorscale\": [[0.0, \"#0d0887\"], [0.1111111111111111, \"#46039f\"], [0.2222222222222222, \"#7201a8\"], [0.3333333333333333, \"#9c179e\"], [0.4444444444444444, \"#bd3786\"], [0.5555555555555556, \"#d8576b\"], [0.6666666666666666, \"#ed7953\"], [0.7777777777777778, \"#fb9f3a\"], [0.8888888888888888, \"#fdca26\"], [1.0, \"#f0f921\"]], \"type\": \"contour\"}], \"contourcarpet\": [{\"colorbar\": {\"outlinewidth\": 0, \"ticks\": \"\"}, \"type\": \"contourcarpet\"}], \"heatmap\": [{\"colorbar\": {\"outlinewidth\": 0, \"ticks\": \"\"}, \"colorscale\": [[0.0, \"#0d0887\"], [0.1111111111111111, \"#46039f\"], [0.2222222222222222, \"#7201a8\"], [0.3333333333333333, \"#9c179e\"], [0.4444444444444444, \"#bd3786\"], [0.5555555555555556, \"#d8576b\"], [0.6666666666666666, \"#ed7953\"], [0.7777777777777778, \"#fb9f3a\"], [0.8888888888888888, \"#fdca26\"], [1.0, \"#f0f921\"]], \"type\": \"heatmap\"}], \"heatmapgl\": [{\"colorbar\": {\"outlinewidth\": 0, \"ticks\": \"\"}, \"colorscale\": [[0.0, \"#0d0887\"], [0.1111111111111111, \"#46039f\"], [0.2222222222222222, \"#7201a8\"], [0.3333333333333333, \"#9c179e\"], [0.4444444444444444, \"#bd3786\"], [0.5555555555555556, \"#d8576b\"], [0.6666666666666666, \"#ed7953\"], [0.7777777777777778, \"#fb9f3a\"], [0.8888888888888888, \"#fdca26\"], [1.0, \"#f0f921\"]], \"type\": \"heatmapgl\"}], \"histogram\": [{\"marker\": {\"colorbar\": {\"outlinewidth\": 0, \"ticks\": \"\"}}, \"type\": \"histogram\"}], \"histogram2d\": [{\"colorbar\": {\"outlinewidth\": 0, \"ticks\": \"\"}, \"colorscale\": [[0.0, \"#0d0887\"], [0.1111111111111111, \"#46039f\"], [0.2222222222222222, \"#7201a8\"], [0.3333333333333333, \"#9c179e\"], [0.4444444444444444, \"#bd3786\"], [0.5555555555555556, \"#d8576b\"], [0.6666666666666666, \"#ed7953\"], [0.7777777777777778, \"#fb9f3a\"], [0.8888888888888888, \"#fdca26\"], [1.0, \"#f0f921\"]], \"type\": \"histogram2d\"}], \"histogram2dcontour\": [{\"colorbar\": {\"outlinewidth\": 0, \"ticks\": \"\"}, \"colorscale\": [[0.0, \"#0d0887\"], [0.1111111111111111, \"#46039f\"], [0.2222222222222222, \"#7201a8\"], [0.3333333333333333, \"#9c179e\"], [0.4444444444444444, \"#bd3786\"], [0.5555555555555556, \"#d8576b\"], [0.6666666666666666, \"#ed7953\"], [0.7777777777777778, \"#fb9f3a\"], [0.8888888888888888, \"#fdca26\"], [1.0, \"#f0f921\"]], \"type\": \"histogram2dcontour\"}], \"mesh3d\": [{\"colorbar\": {\"outlinewidth\": 0, \"ticks\": \"\"}, \"type\": \"mesh3d\"}], \"parcoords\": [{\"line\": {\"colorbar\": {\"outlinewidth\": 0, \"ticks\": \"\"}}, \"type\": \"parcoords\"}], \"pie\": [{\"automargin\": true, \"type\": \"pie\"}], \"scatter\": [{\"marker\": {\"colorbar\": {\"outlinewidth\": 0, \"ticks\": \"\"}}, \"type\": \"scatter\"}], \"scatter3d\": [{\"line\": {\"colorbar\": {\"outlinewidth\": 0, \"ticks\": \"\"}}, \"marker\": {\"colorbar\": {\"outlinewidth\": 0, \"ticks\": \"\"}}, \"type\": \"scatter3d\"}], \"scattercarpet\": [{\"marker\": {\"colorbar\": {\"outlinewidth\": 0, \"ticks\": \"\"}}, \"type\": \"scattercarpet\"}], \"scattergeo\": [{\"marker\": {\"colorbar\": {\"outlinewidth\": 0, \"ticks\": \"\"}}, \"type\": \"scattergeo\"}], \"scattergl\": [{\"marker\": {\"colorbar\": {\"outlinewidth\": 0, \"ticks\": \"\"}}, \"type\": \"scattergl\"}], \"scattermapbox\": [{\"marker\": {\"colorbar\": {\"outlinewidth\": 0, \"ticks\": \"\"}}, \"type\": \"scattermapbox\"}], \"scatterpolar\": [{\"marker\": {\"colorbar\": {\"outlinewidth\": 0, \"ticks\": \"\"}}, \"type\": \"scatterpolar\"}], \"scatterpolargl\": [{\"marker\": {\"colorbar\": {\"outlinewidth\": 0, \"ticks\": \"\"}}, \"type\": \"scatterpolargl\"}], \"scatterternary\": [{\"marker\": {\"colorbar\": {\"outlinewidth\": 0, \"ticks\": \"\"}}, \"type\": \"scatterternary\"}], \"surface\": [{\"colorbar\": {\"outlinewidth\": 0, \"ticks\": \"\"}, \"colorscale\": [[0.0, \"#0d0887\"], [0.1111111111111111, \"#46039f\"], [0.2222222222222222, \"#7201a8\"], [0.3333333333333333, \"#9c179e\"], [0.4444444444444444, \"#bd3786\"], [0.5555555555555556, \"#d8576b\"], [0.6666666666666666, \"#ed7953\"], [0.7777777777777778, \"#fb9f3a\"], [0.8888888888888888, \"#fdca26\"], [1.0, \"#f0f921\"]], \"type\": \"surface\"}], \"table\": [{\"cells\": {\"fill\": {\"color\": \"#EBF0F8\"}, \"line\": {\"color\": \"white\"}}, \"header\": {\"fill\": {\"color\": \"#C8D4E3\"}, \"line\": {\"color\": \"white\"}}, \"type\": \"table\"}]}, \"layout\": {\"annotationdefaults\": {\"arrowcolor\": \"#2a3f5f\", \"arrowhead\": 0, \"arrowwidth\": 1}, \"coloraxis\": {\"colorbar\": {\"outlinewidth\": 0, \"ticks\": \"\"}}, \"colorscale\": {\"diverging\": [[0, \"#8e0152\"], [0.1, \"#c51b7d\"], [0.2, \"#de77ae\"], [0.3, \"#f1b6da\"], [0.4, \"#fde0ef\"], [0.5, \"#f7f7f7\"], [0.6, \"#e6f5d0\"], [0.7, \"#b8e186\"], [0.8, \"#7fbc41\"], [0.9, \"#4d9221\"], [1, \"#276419\"]], \"sequential\": [[0.0, \"#0d0887\"], [0.1111111111111111, \"#46039f\"], [0.2222222222222222, \"#7201a8\"], [0.3333333333333333, \"#9c179e\"], [0.4444444444444444, \"#bd3786\"], [0.5555555555555556, \"#d8576b\"], [0.6666666666666666, \"#ed7953\"], [0.7777777777777778, \"#fb9f3a\"], [0.8888888888888888, \"#fdca26\"], [1.0, \"#f0f921\"]], \"sequentialminus\": [[0.0, \"#0d0887\"], [0.1111111111111111, \"#46039f\"], [0.2222222222222222, \"#7201a8\"], [0.3333333333333333, \"#9c179e\"], [0.4444444444444444, \"#bd3786\"], [0.5555555555555556, \"#d8576b\"], [0.6666666666666666, \"#ed7953\"], [0.7777777777777778, \"#fb9f3a\"], [0.8888888888888888, \"#fdca26\"], [1.0, \"#f0f921\"]]}, \"colorway\": [\"#636efa\", \"#EF553B\", \"#00cc96\", \"#ab63fa\", \"#FFA15A\", \"#19d3f3\", \"#FF6692\", \"#B6E880\", \"#FF97FF\", \"#FECB52\"], \"font\": {\"color\": \"#2a3f5f\"}, \"geo\": {\"bgcolor\": \"white\", \"lakecolor\": \"white\", \"landcolor\": \"#E5ECF6\", \"showlakes\": true, \"showland\": true, \"subunitcolor\": \"white\"}, \"hoverlabel\": {\"align\": \"left\"}, \"hovermode\": \"closest\", \"mapbox\": {\"style\": \"light\"}, \"paper_bgcolor\": \"white\", \"plot_bgcolor\": \"#E5ECF6\", \"polar\": {\"angularaxis\": {\"gridcolor\": \"white\", \"linecolor\": \"white\", \"ticks\": \"\"}, \"bgcolor\": \"#E5ECF6\", \"radialaxis\": {\"gridcolor\": \"white\", \"linecolor\": \"white\", \"ticks\": \"\"}}, \"scene\": {\"xaxis\": {\"backgroundcolor\": \"#E5ECF6\", \"gridcolor\": \"white\", \"gridwidth\": 2, \"linecolor\": \"white\", \"showbackground\": true, \"ticks\": \"\", \"zerolinecolor\": \"white\"}, \"yaxis\": {\"backgroundcolor\": \"#E5ECF6\", \"gridcolor\": \"white\", \"gridwidth\": 2, \"linecolor\": \"white\", \"showbackground\": true, \"ticks\": \"\", \"zerolinecolor\": \"white\"}, \"zaxis\": {\"backgroundcolor\": \"#E5ECF6\", \"gridcolor\": \"white\", \"gridwidth\": 2, \"linecolor\": \"white\", \"showbackground\": true, \"ticks\": \"\", \"zerolinecolor\": \"white\"}}, \"shapedefaults\": {\"line\": {\"color\": \"#2a3f5f\"}}, \"ternary\": {\"aaxis\": {\"gridcolor\": \"white\", \"linecolor\": \"white\", \"ticks\": \"\"}, \"baxis\": {\"gridcolor\": \"white\", \"linecolor\": \"white\", \"ticks\": \"\"}, \"bgcolor\": \"#E5ECF6\", \"caxis\": {\"gridcolor\": \"white\", \"linecolor\": \"white\", \"ticks\": \"\"}}, \"title\": {\"x\": 0.05}, \"xaxis\": {\"automargin\": true, \"gridcolor\": \"white\", \"linecolor\": \"white\", \"ticks\": \"\", \"title\": {\"standoff\": 15}, \"zerolinecolor\": \"white\", \"zerolinewidth\": 2}, \"yaxis\": {\"automargin\": true, \"gridcolor\": \"white\", \"linecolor\": \"white\", \"ticks\": \"\", \"title\": {\"standoff\": 15}, \"zerolinecolor\": \"white\", \"zerolinewidth\": 2}}}, \"title\": {\"text\": \"\"}, \"updatemenus\": [{\"direction\": \"down\", \"pad\": {\"r\": 10, \"t\": 10}, \"showactive\": true, \"x\": 0.11, \"xanchor\": \"left\", \"y\": 1.1, \"yanchor\": \"top\"}]},\n",
       "                        {\"scrollZoom\": true, \"responsive\": true}\n",
       "                    ).then(function(){\n",
       "                            \n",
       "var gd = document.getElementById('8df8f8d8-3fb3-4be0-ae3e-cc6103944c85');\n",
       "var x = new MutationObserver(function (mutations, observer) {{\n",
       "        var display = window.getComputedStyle(gd).display;\n",
       "        if (!display || display === 'none') {{\n",
       "            console.log([gd, 'removed!']);\n",
       "            Plotly.purge(gd);\n",
       "            observer.disconnect();\n",
       "        }}\n",
       "}});\n",
       "\n",
       "// Listen for the removal of the full notebook cells\n",
       "var notebookContainer = gd.closest('#notebook-container');\n",
       "if (notebookContainer) {{\n",
       "    x.observe(notebookContainer, {childList: true});\n",
       "}}\n",
       "\n",
       "// Listen for the clearing of the current output cell\n",
       "var outputEl = gd.closest('.output');\n",
       "if (outputEl) {{\n",
       "    x.observe(outputEl, {childList: true});\n",
       "}}\n",
       "\n",
       "                        })\n",
       "                };\n",
       "                });\n",
       "            </script>\n",
       "        </div>"
      ]
     },
     "metadata": {},
     "output_type": "display_data"
    }
   ],
   "source": [
    "fig = plot_static_mapper_graph(pipe, fashion_data, layout_dim=3, node_scale=40, color_variable=fashion_answer)\n",
    "fig.show(config={'scrollZoom': True})"
   ]
  },
  {
   "cell_type": "code",
   "execution_count": 9,
   "metadata": {},
   "outputs": [],
   "source": [
    "node_elements = result['node_metadata']['node_elements']"
   ]
  },
  {
   "cell_type": "code",
   "execution_count": 20,
   "metadata": {},
   "outputs": [
    {
     "data": {
      "text/plain": [
       "{'node_id': (0,\n",
       "  1,\n",
       "  2,\n",
       "  3,\n",
       "  4,\n",
       "  5,\n",
       "  6,\n",
       "  7,\n",
       "  8,\n",
       "  9,\n",
       "  10,\n",
       "  11,\n",
       "  12,\n",
       "  13,\n",
       "  14,\n",
       "  15,\n",
       "  16,\n",
       "  17,\n",
       "  18,\n",
       "  19,\n",
       "  20,\n",
       "  21,\n",
       "  22,\n",
       "  23,\n",
       "  24,\n",
       "  25,\n",
       "  26,\n",
       "  27,\n",
       "  28,\n",
       "  29,\n",
       "  30,\n",
       "  31,\n",
       "  32,\n",
       "  33,\n",
       "  34,\n",
       "  35,\n",
       "  36,\n",
       "  37,\n",
       "  38,\n",
       "  39,\n",
       "  40,\n",
       "  41,\n",
       "  42,\n",
       "  43,\n",
       "  44,\n",
       "  45,\n",
       "  46,\n",
       "  47,\n",
       "  48,\n",
       "  49,\n",
       "  50,\n",
       "  51,\n",
       "  52,\n",
       "  53,\n",
       "  54,\n",
       "  55,\n",
       "  56,\n",
       "  57,\n",
       "  58,\n",
       "  59,\n",
       "  60,\n",
       "  61,\n",
       "  62),\n",
       " 'pullback_set_label': (0,\n",
       "  1,\n",
       "  2,\n",
       "  3,\n",
       "  4,\n",
       "  5,\n",
       "  6,\n",
       "  7,\n",
       "  8,\n",
       "  9,\n",
       "  10,\n",
       "  11,\n",
       "  12,\n",
       "  13,\n",
       "  14,\n",
       "  15,\n",
       "  16,\n",
       "  17,\n",
       "  18,\n",
       "  19,\n",
       "  20,\n",
       "  21,\n",
       "  22,\n",
       "  23,\n",
       "  24,\n",
       "  25,\n",
       "  26,\n",
       "  27,\n",
       "  28,\n",
       "  29,\n",
       "  30,\n",
       "  31,\n",
       "  32,\n",
       "  33,\n",
       "  34,\n",
       "  35,\n",
       "  36,\n",
       "  37,\n",
       "  38,\n",
       "  39,\n",
       "  40,\n",
       "  41,\n",
       "  42,\n",
       "  43,\n",
       "  44,\n",
       "  45,\n",
       "  46,\n",
       "  47,\n",
       "  48,\n",
       "  49,\n",
       "  50,\n",
       "  51,\n",
       "  52,\n",
       "  53,\n",
       "  54,\n",
       "  55,\n",
       "  56,\n",
       "  57,\n",
       "  58,\n",
       "  59,\n",
       "  60,\n",
       "  61,\n",
       "  62),\n",
       " 'partial_cluster_label': (-1,\n",
       "  -1,\n",
       "  -1,\n",
       "  -1,\n",
       "  -1,\n",
       "  -1,\n",
       "  -1,\n",
       "  -1,\n",
       "  -1,\n",
       "  -1,\n",
       "  -1,\n",
       "  -1,\n",
       "  -1,\n",
       "  -1,\n",
       "  -1,\n",
       "  -1,\n",
       "  -1,\n",
       "  -1,\n",
       "  -1,\n",
       "  -1,\n",
       "  -1,\n",
       "  -1,\n",
       "  -1,\n",
       "  -1,\n",
       "  -1,\n",
       "  -1,\n",
       "  -1,\n",
       "  -1,\n",
       "  -1,\n",
       "  -1,\n",
       "  -1,\n",
       "  -1,\n",
       "  -1,\n",
       "  -1,\n",
       "  -1,\n",
       "  -1,\n",
       "  -1,\n",
       "  -1,\n",
       "  -1,\n",
       "  -1,\n",
       "  -1,\n",
       "  -1,\n",
       "  -1,\n",
       "  -1,\n",
       "  -1,\n",
       "  -1,\n",
       "  -1,\n",
       "  -1,\n",
       "  -1,\n",
       "  -1,\n",
       "  -1,\n",
       "  -1,\n",
       "  -1,\n",
       "  -1,\n",
       "  -1,\n",
       "  -1,\n",
       "  -1,\n",
       "  -1,\n",
       "  -1,\n",
       "  -1,\n",
       "  -1,\n",
       "  -1,\n",
       "  -1),\n",
       " 'node_elements': (array([   16,    21,    38, ..., 59991, 59992, 59996]),\n",
       "  array([ 2875, 12921, 14931, 17566, 19977, 20883, 21518, 23476, 23583,\n",
       "         28691, 35040, 45799, 45968, 46603, 51521, 52608, 57567, 59787]),\n",
       "  array([   67,    91,   113, ..., 59760, 59892, 59971]),\n",
       "  array([ 3463, 10368, 13723, 43982, 54119, 54863, 56815]),\n",
       "  array([  173,   345,   371,   682,   683,   689,   813,   950,  1080,\n",
       "          1162,  1222,  1255,  1305,  1407,  1632,  1734,  1741,  1848,\n",
       "          1990,  2014,  2297,  2323,  2408,  2484,  2614,  2721,  2722,\n",
       "          2815,  2819,  2821,  2846,  2937,  2952,  3244,  3299,  3406,\n",
       "          3539,  3734,  3742,  3900,  3957,  3985,  4235,  4259,  4315,\n",
       "          4358,  4369,  4647,  4701,  4754,  4976,  5067,  5072,  5079,\n",
       "          5286,  5303,  5385,  5429,  5512,  5517,  5575,  5616,  5675,\n",
       "          5796,  5826,  5898,  5951,  6067,  6212,  6285,  6487,  6503,\n",
       "          6522,  6591,  6694,  6707,  6811,  6844,  6877,  6887,  6936,\n",
       "          7213,  7286,  7315,  7392,  7399,  7447,  7535,  7553,  7644,\n",
       "          7668,  7739,  7949,  7971,  7979,  7989,  8210,  8236,  8486,\n",
       "          8579,  8715,  8778,  8799,  8802,  8906,  8947,  9057,  9149,\n",
       "          9179,  9211,  9386,  9387,  9421,  9435,  9475,  9550,  9644,\n",
       "          9774,  9921,  9962, 10054, 10059, 10064, 10209, 10234, 10260,\n",
       "         10377, 10465, 10698, 10715, 10904, 10910, 10992, 11065, 11069,\n",
       "         11145, 11146, 11279, 11319, 11341, 11380, 11521, 11605, 11647,\n",
       "         11680, 11724, 11807, 11855, 12019, 12045, 12091, 12167, 12447,\n",
       "         12717, 12837, 12891, 12914, 12924, 12938, 13031, 13161, 13171,\n",
       "         13271, 13423, 13536, 13579, 13761, 13797, 13829, 13849, 13996,\n",
       "         14019, 14109, 14157, 14413, 14440, 14587, 14617, 14941, 15153,\n",
       "         15210, 15309, 15391, 15573, 15641, 15981, 16002, 16076, 16323,\n",
       "         16418, 16505, 16594, 16603, 16606, 16690, 16763, 16852, 16872,\n",
       "         16875, 16995, 17004, 17027, 17094, 17125, 17223, 17261, 17268,\n",
       "         17299, 17335, 17344, 17384, 17396, 17445, 17480, 17482, 17517,\n",
       "         17614, 17630, 17641, 17649, 17676, 17852, 18026, 18039, 18054,\n",
       "         18102, 18263, 18286, 18473, 18507, 18550, 18658, 18690, 18732,\n",
       "         18739, 18751, 18772, 19006, 19016, 19019, 19055, 19250, 19540,\n",
       "         19566, 19613, 19649, 19687, 19827, 20011, 20150, 20233, 20388,\n",
       "         20427, 20428, 20674, 20728, 20853, 20863, 20943, 21130, 21376,\n",
       "         21501, 21508, 21646, 21694, 21823, 21897, 21923, 22138, 22256,\n",
       "         22280, 22319, 22356, 22584, 22613, 22653, 22667, 22710, 22825,\n",
       "         22853, 22957, 22970, 23032, 23040, 23043, 23293, 23349, 23467,\n",
       "         23658, 23686, 23724, 23803, 23836, 23845, 23911, 23987, 24114,\n",
       "         24279, 24325, 24485, 24510, 24523, 24568, 24607, 24674, 24729,\n",
       "         24835, 25050, 25052, 25179, 25379, 25452, 25681, 25683, 25701,\n",
       "         25705, 25740, 25778, 25795, 25897, 25922, 25967, 25976, 26010,\n",
       "         26104, 26114, 26117, 26198, 26228, 26352, 26398, 26400, 26470,\n",
       "         26554, 26613, 26627, 26667, 26870, 27083, 27147, 27248, 27386,\n",
       "         27512, 27543, 27709, 27765, 27940, 28076, 28308, 28337, 28368,\n",
       "         28379, 28690, 28930, 28997, 29065, 29133, 29145, 29168, 29184,\n",
       "         29201, 29206, 29313, 29435, 29467, 29591, 29681, 29741, 29747,\n",
       "         29783, 29876, 29912, 29944, 29964, 30008, 30155, 30188, 30241,\n",
       "         30296, 30370, 30382, 30462, 30557, 30626, 30786, 30792, 30837,\n",
       "         30930, 31049, 31079, 31084, 31086, 31092, 31104, 31286, 31385,\n",
       "         31389, 31398, 31404, 31566, 31610, 31676, 31677, 31756, 31809,\n",
       "         31822, 31833, 31876, 31904, 31996, 32068, 32147, 32162, 32275,\n",
       "         32511, 32531, 32669, 32713, 32717, 32722, 32851, 32921, 32940,\n",
       "         32974, 33071, 33130, 33146, 33205, 33230, 33460, 33537, 33853,\n",
       "         34026, 34544, 34715, 34742, 34825, 34849, 34916, 35007, 35037,\n",
       "         35160, 35334, 35407, 35411, 35412, 35443, 35490, 35491, 35684,\n",
       "         35707, 35768, 35794, 35803, 35842, 35889, 35949, 36069, 36519,\n",
       "         36555, 36568, 36581, 36584, 36635, 36705, 36718, 36726, 36792,\n",
       "         36885, 36913, 37005, 37053, 37111, 37125, 37231, 37437, 37520,\n",
       "         37540, 37607, 37717, 37722, 37793, 38119, 38180, 38244, 38318,\n",
       "         38492, 38499, 38530, 38562, 38661, 38868, 39106, 39117, 39183,\n",
       "         39256, 39371, 39434, 39439, 39444, 39456, 39460, 39546, 39582,\n",
       "         39727, 39767, 39790, 39860, 39909, 39974, 40029, 40147, 40226,\n",
       "         40413, 40423, 40538, 40610, 40612, 40626, 40726, 40738, 40761,\n",
       "         40918, 40939, 40966, 41041, 41136, 41178, 41234, 41275, 41296,\n",
       "         41353, 41356, 41369, 41383, 41452, 41741, 41768, 41798, 42493,\n",
       "         42570, 42648, 42705, 42744, 42918, 42932, 42957, 43051, 43132,\n",
       "         43171, 43226, 43264, 43284, 43304, 43394, 43426, 43606, 43660,\n",
       "         43960, 44000, 44102, 44329, 44375, 44444, 44491, 44520, 44538,\n",
       "         44555, 44619, 44620, 44751, 44809, 44861, 44862, 44902, 45029,\n",
       "         45066, 45068, 45349, 45407, 45555, 45609, 45627, 45789, 45822,\n",
       "         45837, 45884, 45917, 45919, 45965, 46022, 46047, 46119, 46184,\n",
       "         46208, 46269, 46278, 46348, 46407, 46414, 46637, 46732, 46733,\n",
       "         46738, 46740, 46743, 46749, 46753, 46795, 46846, 46915, 46919,\n",
       "         46938, 46982, 46994, 47000, 47020, 47163, 47228, 47344, 47446,\n",
       "         47606, 47666, 47695, 47749, 47909, 47914, 47923, 47930, 48036,\n",
       "         48179, 48217, 48379, 48539, 48543, 48546, 48767, 49032, 49042,\n",
       "         49113, 49142, 49146, 49192, 49229, 49287, 49416, 49468, 49476,\n",
       "         49646, 49696, 49956, 49965, 49980, 50118, 50123, 50257, 50367,\n",
       "         50370, 50618, 50757, 50782, 50819, 50827, 50883, 51105, 51113,\n",
       "         51130, 51148, 51169, 51175, 51193, 51200, 51259, 51391, 51403,\n",
       "         51716, 51732, 51749, 51986, 52032, 52039, 52044, 52053, 52076,\n",
       "         52077, 52155, 52189, 52205, 52393, 52510, 52586, 52613, 52653,\n",
       "         52694, 52924, 52983, 53059, 53095, 53124, 53143, 53188, 53294,\n",
       "         53378, 53681, 53757, 53759, 53803, 53806, 53816, 53876, 53890,\n",
       "         53952, 54013, 54022, 54044, 54172, 54183, 54242, 54340, 54377,\n",
       "         54378, 54383, 54459, 54652, 54656, 54686, 54733, 55035, 55143,\n",
       "         55186, 55388, 55397, 55417, 55521, 55679, 55827, 55874, 55890,\n",
       "         55891, 55898, 55945, 55990, 56037, 56167, 56193, 56213, 56235,\n",
       "         56252, 56276, 56642, 56687, 56688, 56741, 56803, 56827, 56846,\n",
       "         56947, 56957, 56962, 57053, 57225, 57235, 57372, 57417, 57495,\n",
       "         57528, 57536, 57677, 57680, 57769, 57861, 58003, 58055, 58075,\n",
       "         58252, 58302, 58328, 58390, 58469, 58538, 58560, 58654, 58657,\n",
       "         58663, 58707, 58867, 59027, 59115, 59198, 59245, 59308, 59336,\n",
       "         59437, 59600, 59627, 59755, 59814, 59833, 59873, 59884]),\n",
       "  array([ 1329,  2460,  3099,  3667,  4971,  5388,  6284,  6398,  7327,\n",
       "          7847,  9257,  9656, 10265, 10636, 11021, 11661, 12005, 13003,\n",
       "         13019, 13028, 13282, 13984, 14583, 15667, 16663, 16739, 17985,\n",
       "         18558, 18864, 19350, 22310, 22338, 23489, 24589, 25243, 26032,\n",
       "         27488, 27630, 27650, 27998, 29516, 29875, 32495, 33075, 34702,\n",
       "         35365, 38110, 38738, 39122, 39146, 39731, 42251, 42962, 43756,\n",
       "         44405, 47482, 49518, 50945, 51410, 51701, 53948, 54398, 54551,\n",
       "         54914, 56061, 58089, 58369, 58668, 59868]),\n",
       "  array([   31,    57,   114, ..., 59838, 59869, 59894]),\n",
       "  array([  180,  2966,  4225,  9530, 10309, 10439, 10620, 10725, 10728,\n",
       "         11081, 14876, 19371, 20039, 22632, 23170, 23237, 23486, 24004,\n",
       "         24851, 25510, 26547, 26622, 26896, 27373, 27525, 29489, 29742,\n",
       "         30356, 31443, 33270, 33731, 34169, 35636, 35704, 36395, 36433,\n",
       "         37304, 40691, 41241, 41764, 43491, 43616, 44510, 45430, 48352,\n",
       "         48550, 49424, 51669, 52915, 53555, 54588, 54727, 54772, 55195,\n",
       "         55641, 55659, 56537]),\n",
       "  array([   12,   115,   123, ..., 59914, 59919, 59972]),\n",
       "  array([  165,   182,  1155,  1525,  2277,  2895,  3197,  3932,  5285,\n",
       "          5415,  5563,  6211,  6446,  6450,  7289,  7297,  7634,  7725,\n",
       "          8057,  8973,  9037, 10420, 10709, 11534, 11981, 12245, 12687,\n",
       "         12786, 13004, 13082, 13592, 14259, 14308, 14455, 14460, 14521,\n",
       "         15268, 15498, 16357, 16460, 16599, 16864, 17263, 17456, 17704,\n",
       "         17996, 18255, 18818, 19028, 19181, 19298, 19301, 20012, 20325,\n",
       "         20439, 21286, 21290, 21950, 22413, 23276, 23496, 23576, 23720,\n",
       "         23870, 23901, 25622, 26113, 27368, 27676, 27925, 28809, 29144,\n",
       "         29474, 29685, 29858, 30125, 30483, 30706, 31226, 31694, 32454,\n",
       "         32706, 33363, 33714, 34696, 34927, 35493, 35578, 36811, 37139,\n",
       "         37656, 37870, 38191, 39071, 39133, 39698, 39749, 39781, 40946,\n",
       "         40998, 41309, 41902, 41964, 42974, 43281, 43955, 44257, 44500,\n",
       "         45051, 45221, 45423, 45707, 45909, 46059, 46323, 46437, 47263,\n",
       "         47571, 47983, 48836, 50593, 50735, 51001, 51808, 52296, 52501,\n",
       "         54601, 55485, 56018, 56575, 56696, 56907, 57181, 57302, 57827,\n",
       "         58101, 58118, 58251, 58604, 58687, 58870, 58881, 59475]),\n",
       "  array([    6,    13,    14, ..., 59927, 59951, 59999]),\n",
       "  array([  158,  2310,  3527,  4544,  4558,  7551,  8848, 10310, 10690,\n",
       "         10724, 10830, 12361, 12388, 12503, 13501, 14378, 15286, 15840,\n",
       "         16226, 16537, 17195, 17429, 17443, 17733, 17834, 17866, 19342,\n",
       "         19930, 20606, 21896, 23510, 24264, 25308, 25527, 26805, 27782,\n",
       "         28608, 29851, 30463, 31535, 36573, 40666, 40768, 41575, 45171,\n",
       "         46455, 49756, 51355, 51375, 53866, 54288, 57126, 57390, 57943,\n",
       "         58134]),\n",
       "  array([    2,     3,     8, ..., 59957, 59961, 59995]),\n",
       "  array([   37,    72,   127, ..., 59905, 59924, 59998]),\n",
       "  array([   35,    36,    54, ..., 59960, 59990, 59993]),\n",
       "  array([   61,   252,   292,   302,   346,   516,   550,   592,   789,\n",
       "           906,   942,  1101,  1430,  1438,  1536,  1560,  1585,  1589,\n",
       "          1748,  1963,  2180,  2190,  2318,  2459,  2654,  2655,  2716,\n",
       "          2918,  3041,  3221,  3238,  3356,  3648,  3674,  3755,  3915,\n",
       "          3966,  4033,  4158,  4340,  4407,  4621,  4680,  4784,  5001,\n",
       "          5035,  5262,  5376,  5617,  5622,  5684,  5703,  5804,  5990,\n",
       "          6062,  6085,  6202,  6309,  6439,  6499,  6574,  6653,  6655,\n",
       "          6860,  7022,  7071,  7294,  7334,  7360,  7513,  7567,  7600,\n",
       "          7601,  8051,  8144,  8245,  8259,  8363,  8427,  8441,  8504,\n",
       "          8650,  9098,  9116,  9160,  9233,  9278,  9377,  9388,  9811,\n",
       "          9817,  9826, 10225, 10266, 10607, 10651, 10768, 10773, 10838,\n",
       "         10887, 11044, 11060, 11276, 11388, 11460, 11517, 11739, 11771,\n",
       "         11941, 12237, 12287, 12490, 12829, 12925, 13002, 13087, 13121,\n",
       "         13149, 13155, 13332, 13364, 13449, 13451, 13532, 13809, 13987,\n",
       "         14200, 14287, 14307, 14418, 14428, 14511, 14564, 14695, 14749,\n",
       "         14970, 15011, 15144, 15161, 15231, 15307, 15354, 15404, 15427,\n",
       "         15585, 15679, 15739, 15759, 15795, 15873, 16003, 16038, 16118,\n",
       "         16126, 16259, 16270, 16339, 16369, 16780, 16910, 16927, 17091,\n",
       "         17254, 17431, 17657, 17677, 17829, 17902, 18002, 18061, 18117,\n",
       "         18158, 18205, 18243, 18350, 18389, 18466, 18677, 18717, 19254,\n",
       "         19326, 19462, 19532, 19674, 19724, 19735, 19869, 19887, 20215,\n",
       "         20218, 20229, 20342, 20422, 20690, 21075, 21257, 21397, 21578,\n",
       "         21602, 21672, 21871, 21995, 22062, 22115, 22283, 22366, 22402,\n",
       "         22437, 22781, 23241, 23290, 23319, 23332, 23371, 23504, 23611,\n",
       "         23660, 23682, 23765, 23886, 24157, 24241, 24276, 24322, 24830,\n",
       "         24900, 24972, 24995, 25035, 25090, 25126, 25291, 25756, 26025,\n",
       "         26034, 26128, 26164, 26201, 26250, 26267, 26719, 26738, 26744,\n",
       "         26745, 26755, 26780, 26798, 26869, 27004, 27074, 27336, 27644,\n",
       "         27695, 27942, 28120, 28126, 28151, 28162, 28269, 28382, 28429,\n",
       "         28470, 28516, 28635, 28838, 28889, 29225, 29243, 29440, 29619,\n",
       "         29716, 29785, 30011, 30116, 30206, 30246, 30259, 30358, 30360,\n",
       "         30442, 30580, 30677, 30713, 30733, 30869, 30956, 30976, 30980,\n",
       "         31178, 31205, 31248, 31354, 31438, 31545, 31611, 31660, 31772,\n",
       "         31990, 32310, 32367, 32555, 32587, 32617, 32636, 32670, 32694,\n",
       "         32701, 32767, 32844, 32905, 33089, 33114, 33290, 33296, 33324,\n",
       "         33360, 33559, 33655, 33816, 33836, 33969, 34056, 34060, 34064,\n",
       "         34383, 34549, 34649, 34671, 34802, 34858, 35113, 35186, 35223,\n",
       "         35248, 35255, 35294, 35461, 35602, 35646, 35730, 35778, 35906,\n",
       "         36044, 36470, 36484, 36949, 37130, 37172, 37383, 37738, 38423,\n",
       "         38569, 38878, 39036, 39129, 39131, 39193, 39314, 39330, 39403,\n",
       "         39447, 39806, 39813, 39988, 40098, 40180, 40441, 40602, 40634,\n",
       "         40794, 40906, 41037, 41313, 41435, 41457, 41465, 41491, 41590,\n",
       "         41619, 41620, 41714, 42056, 42064, 42066, 42076, 42088, 42127,\n",
       "         42182, 42207, 42454, 42463, 42523, 42685, 42786, 42900, 42923,\n",
       "         43122, 43447, 43478, 43495, 43766, 43826, 43871, 43873, 44073,\n",
       "         44125, 44381, 44565, 44664, 45109, 45198, 45531, 45633, 45692,\n",
       "         45725, 46309, 46462, 46494, 46532, 46661, 46716, 46752, 46839,\n",
       "         46912, 47018, 47048, 47118, 47134, 47182, 47272, 47356, 47395,\n",
       "         47399, 47421, 47551, 47572, 48120, 48133, 48178, 48218, 48248,\n",
       "         48351, 48357, 48421, 48524, 48529, 48598, 48625, 48631, 48632,\n",
       "         48825, 49079, 49096, 49286, 49464, 49486, 49495, 49684, 49780,\n",
       "         49870, 49878, 50092, 50097, 50126, 50171, 50376, 50411, 50634,\n",
       "         50681, 50781, 50853, 50913, 50954, 51087, 51333, 51468, 51474,\n",
       "         51698, 51940, 52047, 52086, 52320, 52381, 52435, 52528, 52600,\n",
       "         52666, 52761, 52818, 53068, 53111, 53243, 53605, 53734, 53834,\n",
       "         54031, 54077, 54081, 54229, 54272, 54282, 54384, 54515, 54521,\n",
       "         54709, 54802, 54895, 54982, 55078, 55427, 55438, 55469, 55640,\n",
       "         55676, 55703, 55837, 55958, 56159, 56165, 56199, 56408, 56535,\n",
       "         56637, 56729, 56734, 56802, 56985, 57014, 57064, 57073, 57101,\n",
       "         57380, 57434, 57513, 57623, 57859, 57931, 57991, 58046, 58211,\n",
       "         58269, 58496, 58517, 58768, 58837, 58975, 59162, 59167, 59254,\n",
       "         59323, 59411, 59636, 59681, 59719, 59904, 59964]),\n",
       "  array([   15,    42,    79, ..., 59920, 59932, 59939]),\n",
       "  array([   23,    41,   178,   249,   430,   458,   476,   553,   610,\n",
       "           660,   930,   984,  1030,  1083,  1121,  1135,  1234,  1317,\n",
       "          1436,  1468,  1475,  1524,  1527,  1540,  1614,  1628,  1635,\n",
       "          1829,  2022,  2235,  2412,  2475,  2578,  2726,  3278,  3287,\n",
       "          3467,  3631,  3740,  3920,  4190,  4335,  4495,  4573,  4622,\n",
       "          4783,  4816,  5046,  5098,  5104,  5261,  5367,  5435,  5487,\n",
       "          5625,  5627,  5650,  5708,  6142,  6265,  6432,  6538,  6540,\n",
       "          6616,  6682,  6767,  6945,  7195,  7230,  7361,  7368,  7605,\n",
       "          7616,  7638,  7702,  7741,  7815,  7834,  7855,  7895,  7947,\n",
       "          8017,  8117,  8205,  8232,  8274,  8583,  9192,  9358,  9376,\n",
       "          9537,  9653,  9829, 10239, 10245, 10318, 10407, 10409, 10668,\n",
       "         10808, 10884, 10990, 11079, 11107, 11230, 11254, 11489, 11579,\n",
       "         11636, 11766, 11785, 11793, 12161, 12213, 12290, 12367, 12505,\n",
       "         12712, 12848, 12889, 13011, 13200, 13210, 13241, 13255, 13374,\n",
       "         13466, 13490, 13512, 13757, 13759, 13764, 13936, 13938, 14197,\n",
       "         14229, 14281, 14350, 14539, 14556, 14573, 14733, 15014, 15042,\n",
       "         15055, 15191, 15302, 15380, 15500, 15660, 15672, 15730, 15973,\n",
       "         16099, 16105, 16305, 16678, 16708, 16957, 17014, 17136, 17162,\n",
       "         17214, 17305, 17372, 17651, 17786, 17838, 17877, 18018, 18359,\n",
       "         18460, 18485, 18488, 18764, 18789, 18871, 18879, 18887, 18956,\n",
       "         19099, 19303, 19329, 19530, 19541, 19755, 19771, 19872, 20091,\n",
       "         20326, 20335, 20361, 20406, 20416, 20510, 20764, 20766, 20914,\n",
       "         20936, 21032, 21071, 21176, 21180, 21370, 21443, 21512, 21647,\n",
       "         21660, 21849, 21966, 21982, 22201, 22257, 22271, 22279, 22446,\n",
       "         22535, 22581, 22644, 22810, 22898, 22941, 23013, 23035, 23238,\n",
       "         23273, 23376, 23501, 23711, 23727, 23741, 23918, 24008, 24393,\n",
       "         24425, 24498, 24866, 24909, 25114, 25240, 25574, 25654, 25779,\n",
       "         25951, 26200, 26340, 26393, 26469, 26696, 26697, 26868, 27002,\n",
       "         27018, 27066, 27109, 27137, 27240, 27247, 27377, 27408, 27511,\n",
       "         27520, 27656, 27670, 27745, 27796, 27878, 27886, 28081, 28122,\n",
       "         28401, 28526, 28545, 28717, 28977, 29110, 29229, 29275, 29817,\n",
       "         29878, 30030, 30041, 30123, 30293, 30394, 30523, 30588, 30686,\n",
       "         31055, 31137, 31253, 31288, 31391, 31483, 31961, 32163, 32170,\n",
       "         32214, 32268, 32427, 32583, 32708, 32995, 33026, 33036, 33358,\n",
       "         33452, 33791, 33809, 34021, 34214, 34283, 34325, 34541, 34685,\n",
       "         34785, 34874, 34910, 34988, 35217, 35537, 35544, 35769, 35772,\n",
       "         35977, 36034, 36278, 36374, 36818, 37024, 37039, 37077, 37166,\n",
       "         37249, 37337, 37429, 37484, 37665, 37700, 37777, 37900, 38073,\n",
       "         38157, 38286, 38385, 38798, 38831, 38840, 38843, 38982, 39157,\n",
       "         39176, 39188, 39191, 39192, 39224, 39360, 39367, 39383, 39492,\n",
       "         39747, 40010, 40045, 40146, 40178, 40412, 40427, 40439, 40830,\n",
       "         40905, 41019, 41054, 41288, 41742, 41763, 41803, 41919, 42240,\n",
       "         42472, 42629, 43028, 43081, 43167, 43353, 43608, 43787, 43928,\n",
       "         43930, 44074, 44089, 44179, 44338, 44383, 44665, 44712, 44971,\n",
       "         44989, 45089, 45142, 45300, 45395, 45697, 45754, 45765, 45895,\n",
       "         45897, 46015, 46037, 46057, 46100, 46138, 46253, 46388, 46399,\n",
       "         46435, 46577, 46698, 46877, 46958, 46981, 47173, 47346, 47354,\n",
       "         47397, 47398, 47412, 47437, 47469, 47491, 47493, 48004, 48139,\n",
       "         48236, 48246, 48265, 48828, 48874, 48940, 49013, 49299, 49446,\n",
       "         49524, 49563, 49564, 49584, 49615, 49710, 49748, 49890, 49933,\n",
       "         50248, 50382, 50601, 50812, 50951, 50967, 51163, 51196, 51353,\n",
       "         51417, 51428, 51572, 51687, 51942, 52022, 53034, 53074, 53449,\n",
       "         53481, 53591, 53894, 53982, 54061, 54465, 54467, 54566, 55087,\n",
       "         55175, 55409, 55445, 55502, 55562, 55592, 55602, 55616, 55627,\n",
       "         55916, 55951, 56212, 56631, 56739, 56833, 57066, 57240, 57243,\n",
       "         57305, 57401, 57575, 57617, 57673, 57850, 57872, 58080, 58146,\n",
       "         58227, 58315, 58386, 58431, 58505, 58563, 58714, 58776, 58985,\n",
       "         58991, 59127, 59130, 59239, 59269, 59491, 59523, 59530, 59616,\n",
       "         59677, 59967]),\n",
       "  array([   85,    89,    93, ..., 59867, 59891, 59979]),\n",
       "  array([  193,   360,   724,  1376,  2096,  2196,  2234,  2244,  2506,\n",
       "          2589,  2703,  4620,  5164,  5369,  5627,  5972,  6144,  6199,\n",
       "          6274,  6393,  6467,  6509,  6827,  7065,  7133,  7927,  7935,\n",
       "          8145,  8643,  8786,  8950,  9636,  9777, 10020, 10030, 10207,\n",
       "         10220, 12211, 12218, 12429, 12704, 12725, 12805, 12859, 12913,\n",
       "         13021, 13485, 13703, 13867, 13888, 14143, 14261, 14341, 14394,\n",
       "         14838, 15202, 15215, 15370, 15580, 15647, 15823, 15938, 16944,\n",
       "         17209, 17275, 17721, 17947, 18009, 18306, 18392, 18411, 18618,\n",
       "         18625, 19961, 20672, 20805, 20979, 20985, 21098, 21289, 21561,\n",
       "         21999, 22574, 22713, 23595, 23891, 24173, 24199, 24656, 24734,\n",
       "         24758, 24893, 25041, 25278, 25517, 25737, 26118, 26565, 26615,\n",
       "         26740, 26792, 26987, 27297, 27347, 27377, 27446, 27672, 27768,\n",
       "         27787, 27834, 27935, 28014, 28346, 28417, 28468, 28610, 28798,\n",
       "         28939, 29051, 29173, 29578, 29585, 29769, 30400, 30696, 30723,\n",
       "         31085, 31329, 31658, 32326, 32922, 33121, 33140, 33676, 33983,\n",
       "         34844, 34870, 35386, 35515, 35722, 35848, 35988, 36001, 36024,\n",
       "         36442, 36498, 36611, 36868, 36973, 37507, 37651, 37704, 37823,\n",
       "         38165, 38425, 38476, 38503, 38958, 39135, 39206, 39962, 40009,\n",
       "         40025, 40621, 40945, 41304, 42712, 42843, 43038, 43095, 43140,\n",
       "         43524, 43721, 44149, 44299, 44349, 44396, 44801, 44969, 44988,\n",
       "         44994, 45050, 45065, 45385, 46070, 46240, 46274, 46615, 46734,\n",
       "         47339, 47376, 47720, 48041, 48338, 48849, 49049, 49271, 49414,\n",
       "         49501, 49617, 49981, 50540, 50690, 50714, 51805, 51935, 52542,\n",
       "         52697, 52833, 53351, 54215, 54754, 54835, 54959, 54986, 55092,\n",
       "         55306, 55609, 55732, 56335, 56350, 56893, 57496, 58214, 58539,\n",
       "         58758, 59375]),\n",
       "  array([    0,     9,    60, ..., 59907, 59970, 59978]),\n",
       "  array([  987,  3231, 10326, 15267, 18578, 23027, 24234, 25947, 26100,\n",
       "         36287, 40208, 41458, 45674, 46614, 53617, 54562, 56442, 59392]),\n",
       "  array([  246,   254,   267,   386,   721,  1183,  1368,  1377,  1733,\n",
       "          1972,  2156,  2273,  2372,  2510,  2554,  2610,  2986,  3192,\n",
       "          3209,  3328,  3337,  3347,  3397,  3443,  3544,  3594,  4045,\n",
       "          4088,  4102,  4155,  4175,  4308,  4311,  4490,  4539,  4596,\n",
       "          4705,  4722,  5023,  5092,  5134,  5548,  5749,  6158,  6333,\n",
       "          6344,  6712,  6814,  6979,  6989,  7245,  7323,  7402,  7479,\n",
       "          7626,  7662,  7705,  8323,  8403,  8953,  9312,  9341,  9429,\n",
       "          9483,  9504,  9515,  9642,  9650,  9663,  9758, 10060, 10178,\n",
       "         10208, 10233, 10235, 10271, 10369, 10646, 11000, 11147, 11240,\n",
       "         11396, 11672, 11917, 11933, 12171, 12178, 12387, 12549, 12714,\n",
       "         12977, 13068, 13286, 13381, 13630, 13810, 13858, 13909, 14048,\n",
       "         14090, 14429, 14533, 14687, 14736, 14770, 14797, 15152, 15324,\n",
       "         15350, 15445, 15574, 15774, 15995, 16109, 16530, 16631, 16820,\n",
       "         17025, 17300, 17328, 17465, 17537, 17663, 17988, 18008, 18126,\n",
       "         18185, 18260, 18276, 18360, 18475, 18526, 18554, 18701, 18753,\n",
       "         18856, 18862, 18866, 18983, 19002, 19136, 19185, 19189, 19281,\n",
       "         19283, 19300, 19422, 19888, 19917, 20092, 20614, 20642, 20786,\n",
       "         20838, 20958, 20959, 20983, 21152, 21349, 21417, 21427, 21482,\n",
       "         21781, 22022, 22107, 22290, 22299, 22302, 22389, 22395, 22436,\n",
       "         22836, 22905, 22921, 23024, 23042, 23244, 23266, 23313, 23328,\n",
       "         23684, 23689, 23769, 23797, 23896, 23991, 24072, 24262, 24536,\n",
       "         24548, 24856, 25155, 25198, 25199, 25375, 25428, 25478, 25486,\n",
       "         25687, 25944, 26027, 26217, 26342, 26395, 26525, 26718, 26723,\n",
       "         26830, 26848, 26933, 27078, 27116, 27526, 27593, 27794, 27898,\n",
       "         28083, 28549, 28553, 28590, 28620, 28712, 28914, 28988, 29042,\n",
       "         29109, 29383, 29809, 29860, 29947, 30180, 30471, 30558, 30657,\n",
       "         30687, 30716, 30790, 30972, 31026, 31174, 31221, 31294, 31556,\n",
       "         31957, 32063, 32187, 32196, 32304, 32393, 32528, 32543, 32545,\n",
       "         32688, 32797, 32839, 32980, 33074, 33151, 33212, 33381, 33469,\n",
       "         33526, 33527, 33918, 34311, 34492, 34712, 34815, 34869, 34880,\n",
       "         34930, 35083, 35184, 35465, 35504, 35958, 36090, 36161, 36345,\n",
       "         36874, 36899, 37325, 37539, 37745, 37785, 37801, 37919, 37928,\n",
       "         37943, 37979, 38140, 38550, 38588, 38833, 38909, 39017, 39227,\n",
       "         39231, 39336, 39348, 39707, 39926, 39943, 40190, 40281, 40370,\n",
       "         40641, 40749, 40771, 40903, 40935, 41185, 41190, 41277, 41339,\n",
       "         41776, 41831, 41951, 41967, 42178, 42412, 42452, 42496, 42819,\n",
       "         42994, 43015, 43073, 43130, 43241, 43274, 43291, 43373, 43619,\n",
       "         43656, 44051, 44101, 44300, 44387, 44480, 44494, 44991, 45103,\n",
       "         45149, 45163, 45282, 45285, 45338, 45391, 45637, 45730, 45778,\n",
       "         45852, 45967, 46084, 46271, 46512, 46513, 46641, 46687, 46974,\n",
       "         47004, 47734, 47812, 48054, 48294, 48391, 48489, 48654, 48748,\n",
       "         48905, 48945, 49141, 49147, 49340, 49372, 49656, 49662, 49718,\n",
       "         49747, 49886, 49968, 50075, 50311, 50350, 50441, 50454, 50747,\n",
       "         50842, 51083, 51136, 51377, 51582, 51591, 51803, 51987, 52021,\n",
       "         52042, 52181, 52389, 52399, 52492, 52604, 52641, 52651, 52659,\n",
       "         52692, 52892, 52936, 53107, 53178, 53236, 53366, 53463, 53488,\n",
       "         53562, 53599, 53648, 53680, 53692, 53889, 54041, 54090, 54149,\n",
       "         54293, 54326, 54355, 54661, 54662, 54698, 55101, 55105, 55453,\n",
       "         55583, 55671, 55773, 56020, 56141, 56278, 56625, 56655, 56713,\n",
       "         57011, 57190, 57214, 57236, 57313, 57328, 57359, 57443, 57545,\n",
       "         57587, 57704, 57924, 57981, 58107, 58272, 58491, 58631, 58807,\n",
       "         58903, 59035, 59094, 59629, 59829, 59923]),\n",
       "  array([  148,   363,   409,   420,   475,   487,   681,   847,   999,\n",
       "          1487,  1932,  1988,  2139,  2366,  2368,  2399,  2541,  2565,\n",
       "          2629,  2948,  3288,  3670,  3856,  3928,  4074,  4318,  4374,\n",
       "          4445,  4472,  4543,  4630,  4908,  4989,  5342,  5789,  6002,\n",
       "          6003,  6101,  6654,  6888,  7027,  7074,  7177,  7208,  7379,\n",
       "          7717,  7938,  7965,  9062,  9408, 10184, 10427, 10696, 10794,\n",
       "         10874, 10934, 11205, 11529, 11709, 11805, 12034, 12168, 12189,\n",
       "         12880, 13020, 13373, 13521, 13821, 14168, 14230, 14549, 14571,\n",
       "         14740, 15424, 15961, 15994, 16297, 16557, 17018, 17105, 17110,\n",
       "         17271, 17534, 17794, 17908, 18165, 18552, 18953, 19090, 19498,\n",
       "         19545, 19651, 19749, 19838, 19942, 20273, 20564, 21299, 21990,\n",
       "         22100, 22379, 22866, 23173, 24218, 24412, 24752, 24811, 25350,\n",
       "         25384, 25505, 25660, 25748, 25913, 26268, 26620, 27226, 27397,\n",
       "         27585, 27688, 27706, 27882, 28482, 29101, 29620, 29941, 30110,\n",
       "         30124, 30149, 30286, 30331, 30380, 30388, 30506, 30637, 30888,\n",
       "         31177, 31588, 31667, 31713, 32060, 32359, 32638, 33249, 33316,\n",
       "         33343, 33411, 33491, 33635, 33682, 33780, 33783, 34057, 34155,\n",
       "         34245, 34543, 35370, 35397, 35665, 35875, 36002, 36079, 36146,\n",
       "         36483, 36831, 36882, 37216, 37514, 37666, 37963, 38125, 38548,\n",
       "         38694, 38733, 39288, 39586, 40250, 40360, 40662, 40797, 40933,\n",
       "         41071, 41159, 41437, 41822, 42012, 42172, 42382, 42816, 42852,\n",
       "         42908, 42963, 43045, 43070, 43112, 43230, 43235, 43299, 43383,\n",
       "         43392, 43565, 43593, 43665, 43842, 44671, 44888, 44904, 45137,\n",
       "         45558, 45571, 45638, 45871, 46079, 46112, 46318, 46389, 46540,\n",
       "         46547, 46756, 47188, 47234, 47288, 47423, 47504, 47525, 47685,\n",
       "         47896, 47924, 47937, 48057, 48130, 48193, 48340, 48416, 48582,\n",
       "         49343, 49369, 49373, 49511, 49693, 50246, 50384, 50485, 50651,\n",
       "         50773, 50794, 51089, 51364, 51515, 51555, 51947, 51959, 52273,\n",
       "         52324, 52676, 52829, 52916, 52952, 53252, 53343, 53749, 53903,\n",
       "         53917, 53990, 54150, 54171, 54363, 54376, 54956, 55539, 55624,\n",
       "         55718, 55943, 56043, 56094, 56342, 56556, 56611, 56677, 56804,\n",
       "         56831, 56959, 57021, 57491, 58122, 58178, 58361, 58969, 59471,\n",
       "         59700, 59724, 59729, 59879, 59913]),\n",
       "  array([  105,   110,   161,   322,   972,  1050,  1374,  1630,  1742,\n",
       "          1759,  2228,  2249,  2504,  2679,  3056,  3455,  3863,  4387,\n",
       "          4408,  4532,  4673,  4806,  4848,  4981,  5052,  5117,  5208,\n",
       "          5516,  5527,  5540,  5957,  6355,  6719,  6964,  7121,  7237,\n",
       "          7354,  7445,  8695,  8949,  8997,  9151,  9280,  9382,  9821,\n",
       "          9885, 10000, 10287, 10581, 10672, 10911, 10923, 10938, 11734,\n",
       "         12553, 12563, 12871, 13053, 13164, 13186, 13300, 13343, 13516,\n",
       "         13745, 13828, 13838, 14217, 14563, 14704, 14820, 15048, 15473,\n",
       "         15927, 16134, 16383, 16756, 16962, 17202, 17287, 17544, 17608,\n",
       "         17619, 17732, 17735, 18279, 18457, 19107, 20432, 20467, 20485,\n",
       "         20647, 21028, 21109, 21335, 21509, 21755, 21834, 21867, 22502,\n",
       "         22761, 23178, 23490, 23528, 23878, 23941, 23962, 24014, 24126,\n",
       "         24430, 24480, 24973, 24992, 25192, 25316, 25348, 25515, 25532,\n",
       "         25703, 25742, 25764, 26275, 26292, 26336, 26682, 26842, 27415,\n",
       "         27580, 27764, 27807, 27836, 28015, 28471, 28843, 28862, 28944,\n",
       "         29028, 29074, 29190, 29356, 29409, 29432, 29834, 30029, 30176,\n",
       "         30345, 30426, 30474, 30516, 30555, 30771, 30799, 31206, 31343,\n",
       "         31536, 31626, 31825, 32355, 32371, 32519, 32653, 32663, 32810,\n",
       "         33276, 33651, 33693, 33706, 33740, 33752, 33970, 34000, 34046,\n",
       "         34098, 34225, 34340, 34472, 34605, 34617, 34878, 34946, 34966,\n",
       "         35336, 35435, 35453, 36298, 36850, 37049, 37131, 37143, 37468,\n",
       "         37469, 37834, 37869, 38130, 38169, 38599, 38607, 38652, 39300,\n",
       "         39458, 39495, 39513, 39611, 40174, 40368, 40426, 40817, 40957,\n",
       "         41770, 41808, 42208, 42849, 42997, 43066, 43163, 43248, 43424,\n",
       "         43807, 43887, 43936, 44132, 44838, 44843, 45127, 45499, 45534,\n",
       "         45810, 46051, 46109, 46155, 46509, 46668, 46719, 46990, 47783,\n",
       "         47799, 47906, 47970, 48004, 48069, 48243, 48292, 48472, 48880,\n",
       "         49323, 49474, 49652, 49923, 50040, 50052, 50182, 50410, 50444,\n",
       "         50598, 51184, 51341, 52798, 52832, 53211, 53452, 54048, 54071,\n",
       "         54139, 54181, 54862, 55104, 55181, 55251, 55266, 55288, 55723,\n",
       "         56240, 56454, 56641, 56686, 56853, 57215, 57498, 57503, 57579,\n",
       "         57674, 57756, 58007, 58258, 58415, 58430, 58741, 58858, 59251,\n",
       "         59314, 59363, 59767, 59807]),\n",
       "  array([   46,    52,    83, ..., 59940, 59955, 59983]),\n",
       "  array([  423,   491,  1189,  1596,  1796,  2194,  2736,  2976,  3546,\n",
       "          3848,  4019,  4104,  4313,  4536,  5073,  5248,  5434,  5488,\n",
       "          5555,  5619,  5667,  5897,  5974,  6007,  6117,  6173,  6273,\n",
       "          6512,  6545,  6683,  6696,  7006,  7073,  7081,  7093,  7196,\n",
       "          7967,  8360,  8670,  8745,  8890,  9200,  9629,  9762,  9804,\n",
       "          9814, 10003, 10181, 10348, 10930, 11014, 11204, 11390, 11404,\n",
       "         11949, 12111, 12260, 12297, 12666, 13071, 13103, 13128, 13146,\n",
       "         13235, 13243, 13247, 13468, 13526, 13653, 13979, 14124, 14618,\n",
       "         14775, 14905, 15297, 15544, 15754, 15832, 15978, 16014, 16455,\n",
       "         16904, 16950, 17058, 17080, 17183, 17382, 17601, 17878, 18058,\n",
       "         18124, 18159, 18239, 18536, 18574, 18780, 19078, 19112, 19211,\n",
       "         19359, 19437, 19438, 19521, 19571, 19632, 19637, 20285, 20587,\n",
       "         20714, 20794, 20995, 21007, 22447, 22728, 22812, 22858, 23012,\n",
       "         23075, 23348, 23485, 23585, 23683, 23718, 23958, 24047, 24216,\n",
       "         24663, 25058, 25098, 25326, 25481, 25564, 25706, 26071, 26169,\n",
       "         26593, 26596, 26890, 27048, 27402, 27582, 27603, 27768, 27977,\n",
       "         28291, 28306, 28395, 28852, 29082, 29351, 29552, 29699, 29949,\n",
       "         30027, 30240, 30535, 30670, 30707, 30769, 31088, 31635, 31882,\n",
       "         31917, 31947, 32161, 32242, 32494, 32544, 32593, 32683, 32998,\n",
       "         33010, 33412, 33490, 33535, 33691, 33953, 34127, 34501, 34542,\n",
       "         34752, 34754, 34759, 34938, 35122, 35240, 35343, 35372, 35919,\n",
       "         35960, 36214, 36785, 37096, 37138, 37210, 37303, 37945, 37964,\n",
       "         38223, 38474, 38977, 39015, 39384, 39477, 39501, 39800, 39964,\n",
       "         40023, 40154, 40181, 40341, 40356, 40428, 40477, 40554, 40714,\n",
       "         41272, 41286, 41442, 41942, 42491, 42884, 43135, 43149, 43224,\n",
       "         43288, 43721, 43900, 44020, 44178, 44423, 44910, 45085, 45387,\n",
       "         45722, 45980, 46029, 46046, 46133, 46508, 46534, 46610, 46672,\n",
       "         47378, 47644, 47774, 47836, 47929, 47960, 48024, 48229, 48239,\n",
       "         48315, 48404, 48414, 49085, 49204, 49291, 49301, 49632, 50079,\n",
       "         50249, 50360, 50619, 50727, 50756, 51116, 51236, 51462, 52165,\n",
       "         52178, 52360, 52404, 52422, 52508, 53345, 53403, 53907, 53937,\n",
       "         54019, 54200, 54221, 54457, 54594, 54633, 54739, 55154, 55460,\n",
       "         55791, 56222, 56296, 56458, 56643, 56986, 57154, 57444, 58461,\n",
       "         58661, 58786, 58834, 58841, 59159, 59378, 59415, 59492, 59710,\n",
       "         59735]),\n",
       "  array([  521,  2329,  3016,  3110,  3194,  3323,  3423,  3603,  3699,\n",
       "          3947,  4164,  4230,  4268,  4314,  4467,  4494,  4509,  4579,\n",
       "          5030,  5096,  5564,  5735,  5765,  5925,  6354,  6507,  7021,\n",
       "          7565,  7872,  8168,  8420,  8434,  8791,  9172,  9692,  9902,\n",
       "         10516, 10605, 11089, 11312, 11368, 11374, 11438, 11628, 11954,\n",
       "         11991, 12568, 12581, 12668, 12734, 12788, 12801, 12844, 12861,\n",
       "         13112, 13487, 13974, 14032, 14106, 14111, 14384, 14774, 15738,\n",
       "         15749, 15958, 15960, 16065, 16717, 16733, 16786, 16922, 17070,\n",
       "         17345, 17361, 17433, 17811, 17973, 18068, 18499, 18599, 18647,\n",
       "         19149, 19494, 20037, 20099, 20216, 20249, 20330, 21297, 21357,\n",
       "         21522, 21526, 21676, 21770, 22217, 22393, 22999, 23199, 23211,\n",
       "         23354, 23397, 23505, 23630, 24057, 24172, 24467, 24570, 24892,\n",
       "         25036, 25062, 25437, 25849, 26406, 27145, 27261, 27492, 27847,\n",
       "         27856, 27954, 29036, 29611, 29748, 29877, 30253, 30271, 30748,\n",
       "         31070, 31621, 31646, 31782, 32001, 32179, 32262, 32302, 32413,\n",
       "         32435, 32487, 32910, 33029, 33243, 33475, 33581, 33735, 33957,\n",
       "         34208, 34226, 34460, 34972, 36100, 36315, 36897, 36950, 37251,\n",
       "         37713, 37736, 38633, 38828, 39212, 39972, 40062, 40319, 40347,\n",
       "         40555, 40589, 40613, 40629, 40814, 40953, 41378, 41555, 42142,\n",
       "         42279, 42308, 43910, 44146, 44447, 44925, 45031, 45096, 45286,\n",
       "         45287, 45431, 46233, 46281, 46452, 46538, 46862, 47384, 47731,\n",
       "         47857, 47987, 48008, 48009, 48334, 48733, 48804, 48977, 49118,\n",
       "         49305, 49647, 49989, 50095, 50109, 50638, 50767, 50828, 51285,\n",
       "         51811, 51971, 52156, 52203, 52696, 52733, 53086, 53551, 53563,\n",
       "         53841, 53885, 53957, 54088, 54212, 54235, 54437, 54732, 54782,\n",
       "         55042, 55159, 55253, 56231, 56300, 56420, 56726, 56790, 56984,\n",
       "         57492, 58039, 58194, 58912, 58979, 59390, 59771, 59780]),\n",
       "  array([ 2384,  5194,  5346,  8919, 11950, 15172, 16782, 16824, 18675,\n",
       "         18722, 18949, 20430, 21300, 22224, 25253, 25438, 28791, 29680,\n",
       "         30661, 31826, 33801, 36248, 39750, 40135, 41103, 42049, 44188,\n",
       "         45128, 46664, 47787, 49055, 49797, 50026, 50839, 53108, 56860,\n",
       "         59077, 59621]),\n",
       "  array([  100,   212,   214,   358,   394,   408,   556,   654,   768,\n",
       "           991,  1357,  1381,  1763,  1955,  1964,  2005,  2221,  2364,\n",
       "          2502,  2762,  2794,  2995,  3452,  3588,  3748,  3779,  3851,\n",
       "          3887,  4062,  4096,  4139,  4260,  4270,  4516,  4521,  4683,\n",
       "          4734,  4869,  5080,  5133,  5160,  5186,  5189,  5201,  5296,\n",
       "          5574,  5615,  5699,  5763,  5780,  5866,  5920,  5952,  6100,\n",
       "          6264,  6345,  6972,  6977,  7151,  7719,  7738,  7757,  7787,\n",
       "          7913,  8082,  8147,  8189,  8213,  8223,  8348,  8388,  8438,\n",
       "          8547,  8705,  8837,  8882,  8895,  9018,  9143,  9301,  9348,\n",
       "          9466,  9578, 10152, 10169, 10197, 10270, 10487, 10658, 10722,\n",
       "         10748, 10942, 10955, 10988, 11057, 11078, 11098, 11237, 11492,\n",
       "         11577, 11665, 11669, 11776, 12302, 12343, 12623, 12628, 12731,\n",
       "         13035, 13143, 13153, 13212, 13270, 13284, 13413, 13416, 13552,\n",
       "         13701, 13724, 14120, 14305, 14328, 14333, 14365, 14647, 14709,\n",
       "         14803, 15017, 15031, 15063, 15141, 15337, 15395, 15409, 15608,\n",
       "         15719, 15777, 15821, 15877, 16058, 16271, 16411, 16545, 16725,\n",
       "         16855, 16883, 16919, 16960, 17056, 17166, 17206, 17252, 17322,\n",
       "         17327, 17437, 17681, 17799, 17927, 18317, 18409, 18805, 18845,\n",
       "         18944, 19180, 19214, 19235, 19266, 19289, 19412, 19670, 19690,\n",
       "         19742, 19759, 19840, 19854, 19871, 19959, 20042, 20143, 20262,\n",
       "         20591, 20730, 20846, 20915, 21062, 21296, 21541, 21555, 21610,\n",
       "         21865, 21892, 22451, 22992, 22994, 23022, 23070, 23156, 23208,\n",
       "         23295, 23415, 23459, 23650, 23747, 23809, 23817, 23826, 23843,\n",
       "         24395, 24671, 24698, 24700, 24779, 24829, 24930, 25202, 25391,\n",
       "         25433, 25754, 25860, 25934, 25981, 26013, 26191, 26255, 26303,\n",
       "         26386, 26508, 26549, 26777, 26787, 26823, 27075, 27098, 27107,\n",
       "         27122, 27196, 27265, 27393, 27422, 27450, 27468, 27564, 27573,\n",
       "         27628, 27769, 27806, 27812, 28064, 28135, 28413, 28460, 28512,\n",
       "         28602, 28607, 28753, 28801, 28844, 28864, 28917, 28998, 29085,\n",
       "         29256, 29355, 29388, 29586, 29713, 30239, 30252, 30274, 30292,\n",
       "         30303, 30357, 30367, 30479, 30480, 30564, 30634, 31000, 31006,\n",
       "         31012, 31111, 31161, 31225, 31273, 31352, 31538, 31644, 31705,\n",
       "         31751, 31787, 31887, 31900, 32019, 32104, 32309, 32381, 32550,\n",
       "         32551, 32637, 33037, 33235, 33492, 33549, 33605, 33704, 33958,\n",
       "         33978, 34073, 34447, 34475, 34503, 34568, 34660, 34767, 34774,\n",
       "         34864, 34958, 34967, 35048, 35090, 35148, 35162, 35280, 35292,\n",
       "         35309, 35312, 35346, 35463, 35668, 35702, 36338, 36514, 36690,\n",
       "         36796, 36854, 37050, 37082, 37238, 37299, 37407, 37461, 37561,\n",
       "         37593, 37872, 38058, 38068, 38188, 38199, 38226, 38273, 38334,\n",
       "         38437, 38617, 38679, 38794, 38861, 39030, 39166, 39276, 39380,\n",
       "         39414, 39765, 39822, 39861, 39935, 39997, 40014, 40064, 40117,\n",
       "         40223, 40394, 40504, 40525, 40575, 40850, 40882, 40930, 40976,\n",
       "         41252, 41327, 41341, 41366, 41408, 41412, 41498, 41499, 41759,\n",
       "         41791, 42133, 42231, 42310, 42356, 42475, 42513, 42660, 42788,\n",
       "         42950, 42958, 42981, 43314, 43319, 43344, 43405, 43421, 43457,\n",
       "         43471, 43538, 43543, 43644, 43851, 43933, 44117, 44314, 44430,\n",
       "         44596, 44725, 45057, 45204, 45250, 45290, 45294, 45337, 45375,\n",
       "         45380, 45396, 45527, 45742, 45847, 46088, 46095, 46113, 46175,\n",
       "         46338, 46504, 46624, 46647, 46688, 46772, 46775, 47087, 47095,\n",
       "         47149, 47232, 47396, 47413, 47425, 47499, 47566, 47575, 47636,\n",
       "         47661, 47853, 47860, 47974, 48070, 48106, 48225, 48287, 48353,\n",
       "         48359, 48386, 48412, 48475, 48514, 48525, 48624, 48811, 48975,\n",
       "         49021, 49093, 49425, 49538, 49649, 49682, 49699, 49778, 49787,\n",
       "         49790, 50019, 50037, 50060, 50155, 50245, 50541, 50625, 50630,\n",
       "         50709, 50787, 50821, 50917, 50922, 51011, 51074, 51121, 51215,\n",
       "         51269, 51289, 51311, 51396, 51443, 51508, 51774, 51819, 51859,\n",
       "         52025, 52040, 52265, 52326, 52334, 52574, 52652, 52690, 52813,\n",
       "         52911, 52969, 53032, 53237, 53258, 53661, 53808, 53862, 53995,\n",
       "         54142, 54444, 54615, 54720, 54905, 55009, 55210, 55216, 55584,\n",
       "         55606, 55689, 55764, 55838, 55953, 56085, 56295, 56305, 56411,\n",
       "         56484, 56519, 56586, 56600, 56603, 56608, 56745, 56747, 56757,\n",
       "         56849, 56908, 57142, 57150, 57207, 57360, 57469, 57525, 57530,\n",
       "         57573, 57610, 57668, 57758, 57812, 57818, 57968, 58014, 58191,\n",
       "         58222, 58669, 58744, 58845, 58860, 58945, 58966, 58997, 59049,\n",
       "         59139, 59152, 59220, 59515, 59562, 59569, 59632, 59798, 59799,\n",
       "         59810, 59825, 59839, 59948, 59962]),\n",
       "  array([ 9091, 19837, 35505, 42983, 53384, 58512]),\n",
       "  array([   51,    76,    80, ..., 59928, 59938, 59954]),\n",
       "  array([  171,   219,   304,   662,   665,   745,   880,   893,  1056,\n",
       "          1119,  1200,  1288,  1311,  1424,  1622,  1664,  1745,  1815,\n",
       "          1938,  1989,  2159,  2303,  2350,  3100,  3154,  3325,  3373,\n",
       "          3375,  3564,  3655,  3686,  3777,  3922,  3948,  3991,  4023,\n",
       "          4224,  4511,  4699,  4868,  4946,  5138,  5154,  5265,  5268,\n",
       "          5272,  5365,  5373,  5485,  5561,  5628,  5702,  5737,  5748,\n",
       "          5861,  5999,  6083,  6746,  6808,  6955,  7201,  7781,  7826,\n",
       "          7939,  7973,  8011,  8136,  8379,  8491,  8590,  8865,  8885,\n",
       "          9157,  9178,  9221,  9248,  9304,  9493,  9541,  9652,  9685,\n",
       "          9836, 10027, 10193, 10214, 10246, 10949, 11072, 11131, 11165,\n",
       "         11176, 11259, 11267, 11342, 11458, 11738, 11789, 11951, 12036,\n",
       "         12094, 12272, 12311, 12369, 12654, 12678, 12683, 12830, 12893,\n",
       "         13148, 13480, 13496, 13825, 13835, 13897, 13925, 13932, 14149,\n",
       "         14379, 14505, 14608, 14664, 14781, 14854, 14895, 14944, 14976,\n",
       "         14997, 15029, 15080, 15083, 15116, 15184, 15260, 15383, 15532,\n",
       "         15588, 15605, 15784, 16101, 16137, 16148, 16151, 16188, 16207,\n",
       "         16490, 16738, 17012, 17024, 17041, 17284, 17375, 17541, 17700,\n",
       "         17737, 18050, 18114, 18251, 18335, 18478, 18545, 18699, 18771,\n",
       "         18916, 18966, 19062, 19083, 19195, 19419, 19479, 20253, 20415,\n",
       "         20576, 20818, 21168, 21216, 21227, 21303, 21327, 21460, 21550,\n",
       "         21703, 21731, 21761, 21841, 22069, 22182, 22309, 22417, 22564,\n",
       "         22625, 22694, 22744, 23011, 23061, 23115, 23204, 23214, 23256,\n",
       "         23487, 23497, 23618, 23655, 23681, 23763, 23990, 24346, 24492,\n",
       "         24707, 24855, 24954, 25060, 25065, 25080, 25161, 25226, 25246,\n",
       "         25262, 25324, 25483, 25495, 25509, 25584, 25783, 25815, 25873,\n",
       "         26007, 26031, 26108, 26120, 26127, 26133, 26440, 26441, 26451,\n",
       "         26706, 26735, 26815, 26834, 26893, 26942, 26974, 27087, 27130,\n",
       "         27281, 27554, 27596, 27690, 27725, 27814, 27908, 28013, 28191,\n",
       "         28241, 28296, 28410, 28425, 28492, 28518, 28572, 28660, 28799,\n",
       "         28973, 29100, 29149, 29160, 29212, 29461, 29554, 29616, 29639,\n",
       "         29682, 29802, 29826, 29898, 29989, 30310, 30366, 30758, 30789,\n",
       "         30849, 30863, 30982, 31019, 31128, 31185, 31372, 31639, 31941,\n",
       "         32083, 32273, 32451, 33152, 33413, 33560, 34196, 34217, 34431,\n",
       "         34446, 34485, 34504, 34513, 34838, 35364, 35697, 35740, 35897,\n",
       "         35927, 35989, 36071, 36189, 36233, 36546, 36547, 36604, 36633,\n",
       "         36671, 36895, 37015, 37093, 37246, 37290, 37345, 37366, 37779,\n",
       "         37857, 37886, 37889, 38171, 38419, 38662, 38719, 38805, 38835,\n",
       "         39056, 39060, 39119, 39128, 39294, 39512, 39556, 39708, 40008,\n",
       "         40105, 40336, 40358, 40425, 40448, 40475, 40739, 40824, 41029,\n",
       "         41363, 41434, 41553, 41576, 41591, 41615, 41668, 41747, 41862,\n",
       "         41920, 42122, 42298, 42378, 42394, 42406, 42413, 42579, 42645,\n",
       "         42984, 43114, 43231, 43246, 43336, 43361, 43505, 43545, 43659,\n",
       "         43701, 43797, 44019, 44052, 44131, 44246, 44686, 44733, 44769,\n",
       "         44792, 45118, 45576, 45664, 45890, 45939, 45964, 46215, 46287,\n",
       "         46535, 46598, 46712, 46807, 46946, 47096, 47107, 47227, 47310,\n",
       "         47333, 47492, 47558, 47699, 47725, 47761, 47816, 47898, 47926,\n",
       "         47975, 48042, 48137, 48182, 48255, 48358, 48734, 48738, 48770,\n",
       "         48778, 48894, 49018, 49255, 49324, 49407, 49603, 49614, 49683,\n",
       "         49725, 49739, 49799, 49806, 49814, 49838, 49907, 50025, 50185,\n",
       "         50282, 50303, 50368, 50718, 50897, 50944, 50961, 51220, 51379,\n",
       "         51397, 51472, 51597, 51598, 51605, 52115, 52304, 52305, 52447,\n",
       "         52636, 52702, 52758, 52807, 52821, 52901, 53018, 53245, 53247,\n",
       "         53287, 53380, 53389, 53506, 53702, 53811, 54052, 54182, 54421,\n",
       "         54430, 54702, 54763, 54795, 54825, 55012, 55069, 55072, 55113,\n",
       "         55127, 55206, 55236, 55269, 55484, 55503, 55523, 55929, 56096,\n",
       "         56099, 56246, 56354, 56368, 56409, 56493, 56622, 56623, 56752,\n",
       "         56850, 56870, 56900, 57039, 57172, 57374, 57471, 57515, 57527,\n",
       "         57534, 57766, 57797, 57934, 57942, 58034, 58217, 58224, 58253,\n",
       "         58259, 58279, 58323, 58403, 58797, 58813, 58844, 58874, 59148,\n",
       "         59216, 59242, 59544, 59590, 59749, 59750, 59911]),\n",
       "  array([    4,    20,    25, ..., 59947, 59980, 59997]),\n",
       "  array([   17,   191,   245,   272,   318,   329,   493,   526,   712,\n",
       "           771,   780,   839,   871,  1142,  1165,  1287,  1410,  1472,\n",
       "          1547,  1626,  1764,  1790,  1791,  1797,  1800,  1813,  1837,\n",
       "          1843,  1950,  2027,  2367,  2405,  2426,  2433,  2439,  2492,\n",
       "          2582,  2639,  2695,  2743,  2753,  2850,  2984,  3001,  3009,\n",
       "          3070,  3086,  3340,  3413,  3440,  3524,  3553,  3616,  3620,\n",
       "          3656,  3697,  3745,  3747,  3791,  3832,  3865,  3897,  3938,\n",
       "          3972,  4061,  4084,  4261,  4380,  4492,  4506,  4581,  4585,\n",
       "          4648,  4671,  4685,  4691,  4814,  4847,  4944,  4994,  5070,\n",
       "          5082,  5152,  5175,  5196,  5222,  5235,  5491,  5578,  5745,\n",
       "          5751,  5802,  5813,  5827,  5914,  5964,  5971,  6044,  6054,\n",
       "          6141,  6217,  6246,  6373,  6410,  6421,  6473,  6563,  6632,\n",
       "          6639,  6643,  6663,  6670,  6674,  6733,  6751,  7005,  7130,\n",
       "          7270,  7293,  7321,  7357,  7383,  7416,  7450,  7484,  7499,\n",
       "          7511,  7562,  7604,  7701,  7728,  7737,  7901,  8007,  8040,\n",
       "          8132,  8284,  8302,  8391,  8471,  8681,  8697,  8729,  8750,\n",
       "          8770,  8781,  8869,  8896,  8951,  9082,  9089,  9134,  9142,\n",
       "          9174,  9336,  9340,  9403,  9486,  9742,  9886,  9905,  9917,\n",
       "          9937, 10050, 10094, 10361, 10388, 10440, 10587, 10625, 10630,\n",
       "         10699, 10856, 10976, 10982, 11063, 11179, 11187, 11219, 11298,\n",
       "         11299, 11416, 11447, 11601, 11618, 11869, 11916, 11923, 11938,\n",
       "         11942, 11977, 12003, 12064, 12074, 12083, 12219, 12385, 12404,\n",
       "         12489, 12574, 12626, 12629, 12697, 12785, 12792, 12887, 12968,\n",
       "         13005, 13010, 13054, 13227, 13242, 13288, 13309, 13399, 13426,\n",
       "         13497, 13546, 13632, 13652, 13905, 13915, 13963, 14049, 14052,\n",
       "         14067, 14130, 14164, 14194, 14367, 14397, 14443, 14519, 14576,\n",
       "         14628, 14660, 14730, 14880, 14906, 14923, 14942, 14978, 15007,\n",
       "         15008, 15127, 15129, 15198, 15246, 15270, 15290, 15314, 15342,\n",
       "         15495, 15504, 15598, 15945, 16004, 16066, 16096, 16106, 16141,\n",
       "         16231, 16246, 16342, 16462, 16482, 16564, 16661, 16726, 16740,\n",
       "         16742, 16765, 16769, 16840, 16877, 16935, 16949, 16951, 16963,\n",
       "         17001, 17167, 17180, 17310, 17463, 17560, 17740, 17746, 17900,\n",
       "         17940, 17950, 17969, 17997, 18003, 18175, 18198, 18230, 18267,\n",
       "         18274, 18297, 18356, 18422, 18469, 18517, 18561, 18760, 18910,\n",
       "         18923, 18932, 18948, 19141, 19143, 19152, 19334, 19357, 19491,\n",
       "         19542, 19576, 19685, 19719, 19744, 19805, 19985, 20001, 20019,\n",
       "         20038, 20049, 20098, 20136, 20186, 20203, 20458, 20617, 20676,\n",
       "         20729, 20811, 20855, 20876, 21004, 21045, 21070, 21113, 21188,\n",
       "         21191, 21193, 21219, 21366, 21490, 21514, 21621, 21730, 21805,\n",
       "         21826, 21844, 21945, 21947, 22099, 22178, 22353, 22400, 22442,\n",
       "         22505, 22534, 22539, 22621, 22666, 22762, 22837, 22886, 22928,\n",
       "         22971, 22979, 23020, 23167, 23259, 23308, 23331, 23445, 23465,\n",
       "         23469, 23592, 23755, 23786, 23795, 23884, 23985, 24031, 24075,\n",
       "         24192, 24284, 24334, 24410, 24587, 24727, 24742, 24778, 24813,\n",
       "         24869, 24887, 24919, 24922, 25042, 25055, 25084, 25104, 25119,\n",
       "         25227, 25247, 25251, 25396, 25489, 25500, 25540, 25593, 25605,\n",
       "         25621, 25656, 25702, 25712, 25728, 25750, 25785, 25903, 26091,\n",
       "         26152, 26265, 26384, 26420, 26446, 26473, 26512, 26632, 26774,\n",
       "         27049, 27088, 27094, 27108, 27118, 27227, 27399, 27469, 27534,\n",
       "         27609, 27635, 27667, 27668, 27717, 27752, 27777, 28046, 28061,\n",
       "         28130, 28217, 28393, 28396, 28451, 28509, 28626, 28677, 28744,\n",
       "         28780, 28789, 28823, 28851, 28957, 28987, 29031, 29040, 29086,\n",
       "         29136, 29146, 29180, 29437, 29456, 29482, 29548, 29592, 29599,\n",
       "         29710, 29717, 29757, 29761, 29780, 29795, 29911, 29932, 29977,\n",
       "         30065, 30223, 30249, 30554, 30632, 30640, 30788, 30918, 30992,\n",
       "         31018, 31094, 31168, 31171, 31271, 31293, 31314, 31340, 31349,\n",
       "         31425, 31499, 31555, 31558, 31780, 31814, 31869, 31936, 31981,\n",
       "         32007, 32140, 32208, 32375, 32609, 32674, 32704, 32746, 32933,\n",
       "         32992, 33016, 33034, 33057, 33080, 33145, 33165, 33167, 33257,\n",
       "         33264, 33277, 33300, 33304, 33439, 33455, 33520, 33538, 33830,\n",
       "         33928, 33982, 34027, 34065, 34126, 34162, 34309, 34361, 34398,\n",
       "         34538, 34560, 34804, 34871, 34895, 35056, 35135, 35574, 35606,\n",
       "         35649, 35661, 35663, 35811, 35865, 35902, 35968, 36051, 36068,\n",
       "         36073, 36137, 36336, 36351, 36416, 36456, 36462, 36522, 36542,\n",
       "         36554, 36624, 36645, 36648, 36693, 36704, 36725, 36786, 36793,\n",
       "         36944, 36972, 36991, 37008, 37088, 37318, 37377, 37605, 37755,\n",
       "         37892, 37942, 37989, 37999, 38043, 38084, 38126, 38160, 38265,\n",
       "         38436, 38471, 38480, 38539, 38610, 38622, 38686, 38799, 38934,\n",
       "         38980, 39049, 39087, 39153, 39159, 39486, 39537, 39576, 39668,\n",
       "         39681, 39794, 39873, 39879, 39882, 39961, 39976, 40013, 40022,\n",
       "         40075, 40106, 40113, 40301, 40339, 40359, 40440, 40513, 40577,\n",
       "         40658, 40664, 40994, 41095, 41120, 41153, 41156, 41181, 41243,\n",
       "         41294, 41326, 41329, 41467, 41487, 41969, 42011, 42074, 42388,\n",
       "         42396, 42418, 42619, 42630, 42733, 42738, 42820, 42901, 42975,\n",
       "         42988, 42991, 43056, 43058, 43103, 43113, 43351, 43415, 43440,\n",
       "         43621, 43629, 43732, 43738, 43760, 43765, 43836, 43863, 43916,\n",
       "         43927, 43931, 43949, 43997, 44038, 44282, 44295, 44327, 44331,\n",
       "         44367, 44373, 44435, 44450, 44459, 44472, 44492, 44507, 44648,\n",
       "         44727, 44831, 44882, 44968, 45037, 45156, 45173, 45201, 45219,\n",
       "         45507, 45568, 45728, 45780, 45952, 45973, 46016, 46048, 46065,\n",
       "         46206, 46314, 46355, 46425, 46445, 46486, 46499, 46500, 46506,\n",
       "         46705, 46834, 46863, 47011, 47062, 47092, 47120, 47125, 47154,\n",
       "         47302, 47307, 47325, 47381, 47503, 47542, 47624, 47694, 47701,\n",
       "         47702, 47721, 47999, 48064, 48072, 48375, 48438, 48612, 48653,\n",
       "         48886, 48978, 49028, 49053, 49168, 49256, 49290, 49408, 49703,\n",
       "         49875, 50003, 50030, 50059, 50119, 50143, 50193, 50270, 50354,\n",
       "         50511, 50529, 50631, 50864, 50894, 50942, 51025, 51144, 51150,\n",
       "         51448, 51621, 51623, 51980, 52055, 52131, 52255, 52270, 52303,\n",
       "         52309, 52388, 52453, 52532, 52601, 52656, 52687, 52698, 52700,\n",
       "         52705, 52735, 52857, 52860, 52864, 52870, 52955, 53026, 53036,\n",
       "         53077, 53078, 53163, 53168, 53306, 53369, 53414, 53429, 53466,\n",
       "         53535, 53547, 53585, 53596, 53621, 53695, 53797, 53825, 53909,\n",
       "         53913, 53955, 54023, 54038, 54122, 54226, 54332, 54360, 54388,\n",
       "         54396, 54438, 54490, 54540, 54580, 54682, 54787, 55019, 55110,\n",
       "         55196, 55234, 55433, 55443, 55498, 55506, 55595, 55763, 55829,\n",
       "         55905, 55940, 56118, 56131, 56148, 56197, 56402, 56434, 56479,\n",
       "         56557, 56730, 56768, 56851, 56852, 56897, 57035, 57072, 57088,\n",
       "         57191, 57216, 57365, 57412, 57429, 57482, 57615, 57734, 57750,\n",
       "         57784, 57854, 57910, 58152, 58294, 58303, 58316, 58333, 58340,\n",
       "         58456, 58458, 58719, 58948, 59014, 59085, 59109, 59176, 59224,\n",
       "         59242, 59247, 59332, 59490, 59593, 59602, 59693, 59772, 59827]),\n",
       "  array([   70,  2746,  3096,  3355,  8897,  9643, 11118, 12701, 13539,\n",
       "         14115, 14739, 16767, 17955, 18681, 18954, 23980, 24342, 26519,\n",
       "         28367, 30999, 31355, 32780, 33245, 36311, 40311, 41663, 41843,\n",
       "         42407, 42926, 44208, 46593, 46997, 47215, 49135, 50373, 51688,\n",
       "         53668, 54187, 54271, 54405, 55198, 55968]),\n",
       "  array([   10,   149,   338,   441,   519,   524,   741,   816,   823,\n",
       "           829,  1303,  1460,  1599,  1608,  1647,  1846,  1861,  2012,\n",
       "          2058,  2315,  2374,  2698,  2745,  2795,  3077,  3298,  3326,\n",
       "          3379,  3485,  3533,  3592,  3637,  3717,  3968,  4052,  4125,\n",
       "          4138,  4322,  4611,  4718,  4853,  5045,  5266,  5726,  5743,\n",
       "          5791,  5792,  5812,  6106,  6310,  6470,  6822,  6824,  7010,\n",
       "          7012,  7064,  7191,  7263,  7290,  7403,  7457,  7613,  7768,\n",
       "          7783,  7944,  8104,  8105,  8108,  8281,  8296,  8451,  8467,\n",
       "          8822,  8945,  9327,  9696,  9775,  9849,  9981, 10079, 10113,\n",
       "         10314, 10463, 10494, 10561, 10629, 11292, 11327, 11530, 11550,\n",
       "         11695, 11736, 12240, 12268, 12397, 12454, 12487, 12550, 12630,\n",
       "         12702, 12990, 13151, 13323, 13602, 13842, 14043, 14199, 14212,\n",
       "         14241, 14244, 14292, 14313, 14370, 14568, 14603, 14818, 14836,\n",
       "         14938, 15034, 15114, 15155, 15164, 15488, 15493, 15533, 15806,\n",
       "         15876, 16116, 16199, 16233, 16568, 16720, 16814, 16916, 17029,\n",
       "         17089, 17104, 17280, 17430, 17540, 17754, 17758, 17784, 17968,\n",
       "         17971, 17993, 18055, 18137, 18289, 18300, 18324, 18810, 18881,\n",
       "         19012, 20030, 20081, 20180, 20379, 20515, 20641, 20771, 20962,\n",
       "         21182, 21244, 21279, 21485, 21553, 21673, 21714, 22009, 22041,\n",
       "         22218, 22330, 22462, 22473, 22709, 22736, 22751, 22878, 22892,\n",
       "         23117, 23314, 23516, 23638, 23781, 23933, 24238, 24328, 24418,\n",
       "         24497, 24511, 24526, 24602, 24628, 25097, 25285, 25287, 25335,\n",
       "         25464, 25492, 25512, 25643, 25879, 25991, 26041, 26049, 26374,\n",
       "         26575, 26585, 26957, 27053, 27231, 27647, 27730, 27815, 28055,\n",
       "         28312, 28463, 28941, 29073, 29113, 29150, 29297, 29484, 29711,\n",
       "         29725, 29832, 30168, 30192, 30261, 30416, 30660, 30663, 30700,\n",
       "         30904, 30990, 31186, 31203, 31219, 31269, 31388, 31493, 31496,\n",
       "         31546, 31552, 31649, 31747, 31786, 31877, 31908, 31932, 31940,\n",
       "         32003, 32055, 32193, 32486, 32796, 33000, 33025, 33047, 33076,\n",
       "         33122, 33390, 33497, 33609, 33727, 33737, 33883, 34044, 34124,\n",
       "         34150, 34223, 34316, 34351, 34440, 34509, 34727, 34791, 34792,\n",
       "         34925, 35095, 35116, 35214, 35331, 35359, 35416, 35448, 35555,\n",
       "         35676, 35939, 35959, 35970, 36364, 36393, 36536, 36706, 36941,\n",
       "         36953, 36961, 37119, 37206, 37305, 37636, 37645, 37701, 37803,\n",
       "         37831, 37935, 38069, 38099, 38146, 38305, 38394, 38805, 38825,\n",
       "         39006, 39042, 39099, 39110, 39113, 39158, 39168, 39277, 39357,\n",
       "         39374, 39575, 39597, 39605, 39657, 39695, 39985, 40798, 40924,\n",
       "         41066, 41193, 41255, 41337, 41438, 41447, 41697, 41988, 42087,\n",
       "         42091, 42104, 42296, 42353, 42456, 42580, 42999, 43134, 43183,\n",
       "         43207, 43213, 43238, 43240, 43359, 43702, 43811, 43986, 44096,\n",
       "         44130, 44393, 44474, 44550, 44614, 44810, 44857, 44867, 44937,\n",
       "         45052, 45134, 45265, 45305, 45462, 45511, 45857, 45891, 46014,\n",
       "         46250, 46371, 46372, 46559, 46715, 46902, 46908, 47201, 47362,\n",
       "         47497, 47654, 47741, 47813, 47856, 48143, 48197, 48361, 48474,\n",
       "         48540, 48619, 48741, 48901, 48921, 48965, 49019, 49226, 49245,\n",
       "         49447, 49552, 49568, 49578, 49943, 50078, 50152, 50267, 50320,\n",
       "         50358, 50396, 50414, 50432, 50524, 50564, 50600, 50810, 50840,\n",
       "         50863, 50981, 51030, 51157, 51217, 51281, 51548, 51801, 51857,\n",
       "         52287, 52558, 52650, 52660, 52830, 53338, 53350, 53399, 53480,\n",
       "         53559, 53714, 53770, 53956, 53958, 54039, 54131, 54328, 54472,\n",
       "         54487, 54520, 54960, 54980, 55385, 55728, 55977, 56005, 56053,\n",
       "         56239, 56243, 56304, 56311, 56480, 56593, 56595, 56605, 56690,\n",
       "         56899, 57030, 57082, 57110, 57186, 57220, 57423, 57438, 57687,\n",
       "         57694, 57821, 57836, 57898, 57986, 58042, 58098, 58140, 58206,\n",
       "         58266, 58335, 58387, 58410, 58467, 58472, 58607, 58783, 59144,\n",
       "         59204, 59434, 59524, 59533, 59570, 59654, 59933, 59943]),\n",
       "  array([   22,   645,  1098,  1104,  1120,  1610,  2576,  2708,  3264,\n",
       "          3439,  3983,  4278,  4348,  4441,  4468,  4728,  4733,  5277,\n",
       "          5610,  5980,  6466,  6537,  6743,  7146,  8197,  8417,  8915,\n",
       "          9169,  9498,  9805,  9957, 10228, 10279, 10506, 11178, 11611,\n",
       "         12354, 12513, 12944, 14072, 14421, 14633, 14761, 15196, 15283,\n",
       "         15733, 16819, 16839, 17053, 17122, 18085, 18280, 19011, 19504,\n",
       "         19819, 20044, 20282, 20638, 21181, 21695, 21862, 22081, 22960,\n",
       "         23284, 23873, 23906, 24009, 24531, 24689, 24763, 25075, 25145,\n",
       "         25184, 25441, 26557, 26935, 27980, 28160, 28330, 28523, 28873,\n",
       "         29105, 29606, 30835, 31216, 31257, 31752, 32832, 33424, 33456,\n",
       "         34267, 34395, 35010, 35581, 35593, 35711, 35712, 36910, 37265,\n",
       "         37728, 37867, 38567, 38732, 39115, 39564, 39953, 40568, 40699,\n",
       "         42059, 42402, 43016, 43057, 43350, 44386, 44404, 45636, 46050,\n",
       "         47206, 47810, 47867, 47993, 48415, 48805, 49404, 49565, 50144,\n",
       "         50163, 50338, 50448, 51202, 51418, 51690, 52405, 52703, 52751,\n",
       "         53161, 53275, 53413, 53754, 53762, 53981, 54164, 54436, 54708,\n",
       "         54952, 55136, 55575, 55831, 55832, 56000, 56369, 56579, 56769,\n",
       "         56874, 57787, 58414, 58697, 59579]),\n",
       "  array([    1,    48,    55, ..., 59969, 59985, 59987]),\n",
       "  array([   40,   112,   228,   362,   544,   545,   571,   603,   664,\n",
       "           742,   778,   779,   788,   793,   872,   923,  1002,  1188,\n",
       "          1274,  1279,  1346,  1371,  1372,  1375,  1494,  1498,  1521,\n",
       "          1732,  1760,  1794,  1854,  2025,  2086,  2140,  2164,  2168,\n",
       "          2206,  2214,  2241,  2255,  2279,  2403,  2404,  2503,  2519,\n",
       "          2543,  2584,  2830,  2900,  2958,  3000,  3002,  3113,  3124,\n",
       "          3276,  3451,  3499,  3519,  3610,  3639,  3696,  3955,  4168,\n",
       "          4213,  4233,  4343,  4405,  4409,  4456,  4460,  4570,  4589,\n",
       "          4598,  4615,  4638,  4655,  4720,  4892,  5150,  5161,  5275,\n",
       "          5297,  5407,  5449,  5453,  5482,  5506,  5507,  5537,  5924,\n",
       "          6047,  6172,  6192,  6234,  6268,  6306,  6357,  6415,  6424,\n",
       "          6464,  6611,  6679,  6702,  6709,  6769,  6838,  6848,  6867,\n",
       "          6868,  6960,  7035,  7048,  7053,  7142,  7366,  7393,  7481,\n",
       "          7550,  7654,  7742,  7762,  7766,  7807,  7830,  7888,  7930,\n",
       "          8012,  8150,  8165,  8271,  8397,  8405,  8480,  8589,  8593,\n",
       "          8674,  8693,  8775,  8913,  9002,  9028,  9144,  9162,  9166,\n",
       "          9225,  9226,  9367,  9447,  9491,  9563,  9619,  9648,  9713,\n",
       "          9753,  9796,  9798,  9847,  9968, 10021, 10124, 10131, 10166,\n",
       "         10205, 10286, 10332, 10402, 10443, 10457, 10876, 10962, 11306,\n",
       "         11309, 11367, 11408, 11417, 11486, 11589, 11598, 11608, 11616,\n",
       "         11681, 11700, 11730, 11746, 11868, 11980, 12164, 12191, 12228,\n",
       "         12333, 12428, 12661, 12692, 12720, 12764, 12832, 12855, 12877,\n",
       "         12895, 12898, 12907, 12911, 13289, 13472, 13505, 13573, 13577,\n",
       "         13608, 13680, 13919, 13975, 14274, 14442, 14522, 14538, 14560,\n",
       "         14596, 14662, 14743, 14814, 14849, 14863, 14995, 15005, 15022,\n",
       "         15075, 15145, 15363, 15390, 15426, 15480, 15487, 15614, 15646,\n",
       "         15716, 15761, 15827, 15847, 15933, 16005, 16008, 16088, 16211,\n",
       "         16295, 16324, 16429, 16432, 16535, 16683, 16772, 16834, 16892,\n",
       "         16930, 16975, 16981, 17061, 17131, 17150, 17593, 17652, 17836,\n",
       "         18014, 18100, 18115, 18142, 18262, 18310, 18348, 18416, 18418,\n",
       "         18421, 18472, 18791, 18844, 18874, 18878, 18967, 19049, 19124,\n",
       "         19171, 19210, 19271, 19312, 19317, 19319, 19345, 19355, 19368,\n",
       "         19526, 19570, 19593, 19611, 19643, 19671, 19830, 19875, 19889,\n",
       "         19899, 19916, 20036, 20066, 20122, 20139, 20205, 20254, 20613,\n",
       "         20679, 20735, 20773, 20865, 21013, 21036, 21112, 21169, 21203,\n",
       "         21242, 21250, 21339, 21358, 21365, 21382, 21455, 21498, 21628,\n",
       "         21745, 21760, 21861, 21917, 21957, 22001, 22056, 22141, 22148,\n",
       "         22387, 22476, 22487, 22497, 22499, 22508, 22760, 22910, 22930,\n",
       "         22934, 22974, 23045, 23046, 23133, 23181, 23235, 23267, 23356,\n",
       "         23412, 23446, 23556, 23578, 23674, 23691, 23712, 23819, 23881,\n",
       "         23929, 24055, 24177, 24184, 24226, 24229, 24331, 24351, 24578,\n",
       "         24662, 24760, 24777, 24803, 24810, 24848, 24908, 25039, 25094,\n",
       "         25123, 25147, 25170, 25339, 25390, 25586, 25597, 25707, 25711,\n",
       "         25797, 25842, 25854, 25875, 25933, 25998, 26011, 26024, 26082,\n",
       "         26096, 26098, 26206, 26254, 26263, 26298, 26302, 26344, 26617,\n",
       "         26624, 26733, 26867, 26983, 27089, 27105, 27190, 27299, 27439,\n",
       "         27535, 27687, 27902, 27938, 27960, 28059, 28069, 28311, 28427,\n",
       "         28446, 28477, 28534, 28683, 28766, 28786, 28845, 28940, 29009,\n",
       "         29014, 29089, 29091, 29176, 29211, 29214, 29259, 29339, 29423,\n",
       "         29443, 29458, 29476, 29602, 29730, 29790, 29799, 29831, 29904,\n",
       "         29946, 29963, 29982, 30045, 30130, 30131, 30295, 30298, 30445,\n",
       "         30495, 30518, 30621, 30650, 30825, 30866, 31038, 31075, 31136,\n",
       "         31140, 31146, 31240, 31268, 31301, 31315, 31321, 31455, 31514,\n",
       "         31533, 31664, 31692, 31704, 31733, 31776, 31824, 31827, 31836,\n",
       "         31854, 31868, 31913, 31923, 31938, 32123, 32226, 32351, 32369,\n",
       "         32434, 32479, 32514, 32536, 32559, 32574, 32754, 32936, 33041,\n",
       "         33067, 33119, 33179, 33209, 33317, 33318, 33319, 33406, 33422,\n",
       "         33423, 33621, 33703, 34016, 34138, 34215, 34271, 34305, 34429,\n",
       "         34652, 34720, 34787, 34848, 34894, 34951, 35105, 35112, 35172,\n",
       "         35266, 35293, 35322, 35324, 35348, 35380, 35579, 35674, 35877,\n",
       "         36000, 36012, 36020, 36091, 36097, 36109, 36129, 36154, 36164,\n",
       "         36198, 36202, 36213, 36224, 36329, 36377, 36458, 36511, 36609,\n",
       "         36778, 36817, 36866, 36872, 36925, 36959, 37040, 37095, 37169,\n",
       "         37189, 37273, 37378, 37445, 37534, 37620, 37773, 37800, 37908,\n",
       "         37936, 38052, 38061, 38102, 38174, 38350, 38427, 38483, 38614,\n",
       "         38776, 38789, 38802, 38834, 39254, 39261, 39313, 39391, 39505,\n",
       "         39534, 39577, 39601, 39854, 39946, 39948, 40006, 40058, 40099,\n",
       "         40157, 40212, 40249, 40257, 40297, 40401, 40625, 40649, 40710,\n",
       "         40713, 40796, 40847, 40856, 40910, 41034, 41077, 41115, 41139,\n",
       "         41292, 41352, 41380, 41387, 41461, 41574, 41730, 41854, 41899,\n",
       "         41956, 42013, 42073, 42124, 42129, 42140, 42147, 42255, 42429,\n",
       "         42468, 42470, 42617, 42762, 42770, 42777, 42803, 42898, 42935,\n",
       "         42949, 42953, 43032, 43035, 43041, 43048, 43067, 43133, 43214,\n",
       "         43286, 43523, 43531, 43557, 43559, 43599, 43634, 43685, 43715,\n",
       "         43868, 43898, 43954, 43996, 44060, 44120, 44175, 44322, 44352,\n",
       "         44457, 44479, 44512, 44551, 44735, 44742, 44773, 44880, 44901,\n",
       "         44926, 44945, 45236, 45255, 45259, 45397, 45472, 45702, 45714,\n",
       "         45726, 45947, 46085, 46107, 46115, 46231, 46232, 46246, 46268,\n",
       "         46292, 46293, 46367, 46412, 46418, 46487, 46592, 46634, 46649,\n",
       "         46711, 46779, 46910, 46966, 47057, 47175, 47210, 47216, 47441,\n",
       "         47481, 47543, 47580, 47608, 47611, 47672, 47928, 48032, 48086,\n",
       "         48258, 48348, 48354, 48402, 48454, 48643, 48670, 48736, 48844,\n",
       "         48985, 49148, 49165, 49189, 49248, 49257, 49311, 49433, 49513,\n",
       "         49576, 49612, 49783, 49844, 49857, 49859, 49992, 50012, 50047,\n",
       "         50205, 50221, 50312, 50322, 50331, 50501, 50578, 50582, 50621,\n",
       "         50650, 50668, 50881, 50884, 50919, 51017, 51206, 51292, 51424,\n",
       "         51541, 51606, 51652, 51682, 51734, 51789, 51812, 51832, 51848,\n",
       "         51911, 51956, 52004, 52067, 52266, 52323, 52358, 52427, 52455,\n",
       "         52490, 52497, 52525, 52549, 52553, 52580, 52724, 52747, 52773,\n",
       "         52794, 52850, 52873, 52895, 53122, 53191, 53293, 53297, 53388,\n",
       "         53396, 53478, 53503, 53511, 53610, 53745, 53758, 53828, 53896,\n",
       "         53959, 53986, 54174, 54175, 54406, 54408, 54431, 54440, 54471,\n",
       "         54480, 54550, 54636, 54653, 54748, 54851, 54864, 54935, 54936,\n",
       "         54973, 55221, 55240, 55323, 55429, 55451, 55572, 55594, 55658,\n",
       "         55666, 55674, 55734, 55812, 55883, 55884, 55936, 56090, 56170,\n",
       "         56338, 56383, 56584, 56916, 56973, 57027, 57045, 57051, 57132,\n",
       "         57153, 57187, 57212, 57382, 57616, 57643, 57724, 57774, 57782,\n",
       "         57795, 57834, 57869, 57894, 57971, 58026, 58254, 58322, 58346,\n",
       "         58451, 58477, 58547, 58636, 58651, 58726, 58731, 58749, 58833,\n",
       "         58850, 58965, 59021, 59079, 59096, 59142, 59149, 59161, 59194,\n",
       "         59226, 59230, 59234, 59252, 59305, 59366, 59394, 59433, 59534,\n",
       "         59626, 59644, 59721, 59747, 59809, 59824, 59883, 59917, 59988]),\n",
       "  array([   56,   347,  1463,  2964,  3336,  3529,  3613,  4015,  4091,\n",
       "          4284,  4317,  5397,  6806,  7078,  7743,  7999,  8969,  9101,\n",
       "          9277,  9363,  9460,  9778,  9890, 10227, 11095, 11260, 11531,\n",
       "         13204, 13263, 14245, 14589, 14858, 15024, 15187, 15293, 16280,\n",
       "         16976, 17076, 17259, 17312, 17340, 17347, 17574, 18149, 18200,\n",
       "         18290, 18903, 19217, 20078, 20497, 20778, 20781, 20870, 20886,\n",
       "         21768, 21882, 23700, 24068, 25007, 26529, 26601, 27233, 27629,\n",
       "         27895, 29001, 29250, 29260, 31633, 32566, 32721, 32981, 32982,\n",
       "         33018, 33875, 34696, 34863, 36535, 36545, 36676, 36931, 37425,\n",
       "         38053, 39074, 39366, 39428, 39743, 40566, 40793, 42232, 42839,\n",
       "         44748, 45080, 45336, 46052, 46934, 48030, 49720, 52062, 53289,\n",
       "         53988, 54012, 54189, 54818, 55000, 55554, 55593, 56114, 56693,\n",
       "         57006, 58362, 58995, 59098, 59281, 59956]),\n",
       "  array([   24,   128,   239, ..., 59896, 59976, 59982]),\n",
       "  array([   77,   206,   269,  1068,  1907,  2774,  3130,  3311,  3618,\n",
       "          3786,  4388,  4499,  4715,  4903,  4924,  5381,  5425,  5510,\n",
       "          5679,  5773,  5918,  7211,  7397,  7667,  8060,  8089,  8113,\n",
       "          8601,  8630,  8648,  8709,  9954, 10578, 10611, 11527, 12917,\n",
       "         14218, 14336, 14487, 15088, 15300, 15718, 16273, 16483, 17146,\n",
       "         17516, 17698, 17845, 18005, 18582, 18725, 18885, 18942, 19380,\n",
       "         20697, 21251, 21355, 21837, 22247, 22294, 22398, 23322, 23631,\n",
       "         23947, 24940, 25288, 25601, 25851, 26001, 26591, 28510, 28615,\n",
       "         28764, 29026, 29390, 29513, 29835, 30260, 32474, 32778, 32895,\n",
       "         33719, 34350, 34364, 34736, 35298, 36264, 36715, 37194, 37921,\n",
       "         38264, 38849, 39182, 39216, 39422, 39579, 39691, 40251, 40438,\n",
       "         40698, 41127, 41639, 41931, 42024, 42101, 42288, 42532, 42859,\n",
       "         43210, 44107, 44136, 44350, 44455, 45086, 45215, 45800, 45829,\n",
       "         45840, 47433, 48609, 49110, 49804, 50158, 50671, 51232, 51400,\n",
       "         51457, 51860, 52219, 53924, 53976, 54065, 54322, 54639, 55018,\n",
       "         55467, 55784, 56070, 56294, 56963, 57131, 58763, 59101, 59125,\n",
       "         59451]),\n",
       "  array([   28,    45,   125,   140,   309,   590,  1054,  1520,  1834,\n",
       "          1856,  2084,  2215,  2260,  2663,  2693,  2977,  3157,  3314,\n",
       "          3518,  3578,  3642,  3797,  4243,  4291,  4337,  4451,  4538,\n",
       "          4641,  4677,  4922,  5015,  5041,  5258,  5316,  5546,  5573,\n",
       "          5853,  5854,  5911,  6283,  6385,  6598,  6760,  6910,  6921,\n",
       "          7015,  7305,  7425,  7618,  7869,  8006,  8252,  8277,  8400,\n",
       "          8764,  8857,  8861,  8962,  8988,  9266,  9347,  9395,  9430,\n",
       "          9448,  9831, 10195, 10211, 10372, 10408, 10622, 10762, 10946,\n",
       "         10995, 11102, 11108, 11500, 11552, 11613, 11625, 11684, 11811,\n",
       "         12127, 12132, 12137, 12199, 12389, 12440, 12495, 12776, 13145,\n",
       "         13165, 13225, 13273, 13467, 13751, 13964, 14026, 14080, 14318,\n",
       "         14338, 14409, 14686, 15734, 15831, 15903, 16045, 16237, 16275,\n",
       "         16415, 16658, 16709, 16948, 17038, 17067, 17170, 17219, 17308,\n",
       "         17377, 17471, 17491, 17715, 17749, 17841, 18059, 18235, 18465,\n",
       "         18680, 19001, 19080, 19304, 19490, 19556, 19834, 19860, 20057,\n",
       "         20255, 20413, 20569, 20903, 21570, 21822, 21961, 21967, 22167,\n",
       "         22187, 22198, 22375, 22586, 22641, 22721, 22789, 23298, 23344,\n",
       "         23772, 23823, 23837, 24446, 25083, 25092, 25136, 25239, 25333,\n",
       "         25409, 26202, 26249, 26296, 26416, 26507, 26526, 26530, 26645,\n",
       "         26703, 26967, 27140, 27152, 27163, 27346, 27452, 28097, 28127,\n",
       "         28204, 28218, 28271, 28443, 28478, 28503, 28696, 28739, 28797,\n",
       "         28894, 29077, 29131, 29218, 29358, 29694, 29732, 29836, 29874,\n",
       "         30229, 30464, 30741, 30824, 30950, 31013, 31328, 31338, 31360,\n",
       "         31479, 31762, 31789, 32225, 33345, 33384, 33407, 33426, 33463,\n",
       "         33777, 33837, 33870, 34356, 34535, 34580, 34680, 34986, 35021,\n",
       "         35024, 35144, 35179, 35340, 35652, 35653, 35935, 36007, 36136,\n",
       "         36157, 36261, 36401, 36773, 37017, 37107, 37178, 37248, 37850,\n",
       "         37868, 38358, 38527, 38595, 38606, 39068, 39167, 39200, 39340,\n",
       "         39502, 39618, 39799, 39839, 39865, 40120, 40197, 40450, 40470,\n",
       "         40490, 40687, 40689, 40825, 40838, 40915, 40996, 41082, 41245,\n",
       "         41388, 41431, 41472, 41702, 41956, 42070, 42096, 42271, 42387,\n",
       "         42728, 42746, 42864, 42882, 42903, 43004, 43168, 43172, 43196,\n",
       "         43262, 43282, 43497, 43586, 43630, 43710, 43745, 43808, 43879,\n",
       "         43969, 44010, 44031, 44170, 44184, 44304, 44418, 44531, 44542,\n",
       "         44556, 44647, 44662, 44707, 45986, 46043, 46229, 46347, 46390,\n",
       "         46636, 46838, 46854, 47114, 47174, 47212, 47331, 47552, 47573,\n",
       "         48155, 48163, 48591, 48621, 48796, 48842, 48850, 48853, 48993,\n",
       "         49089, 49184, 49188, 49205, 49379, 49389, 49482, 49792, 49964,\n",
       "         50071, 50104, 50149, 50172, 50509, 50586, 50637, 50790, 50896,\n",
       "         50927, 50963, 50966, 50997, 51065, 51120, 51181, 51206, 51455,\n",
       "         51617, 51626, 51763, 51790, 52259, 52349, 52498, 52563, 52787,\n",
       "         52789, 53066, 53145, 53409, 53482, 53545, 53604, 53650, 53835,\n",
       "         54353, 54501, 54518, 54751, 54858, 55057, 55241, 55291, 55333,\n",
       "         55395, 55411, 55550, 56181, 56293, 56500, 56965, 56967, 57055,\n",
       "         57468, 57653, 57993, 58068, 58421, 58482, 58507, 58537, 58725,\n",
       "         58936, 59063, 59154, 59304, 59368, 59426, 59649, 59944]),\n",
       "  array([  504,   640,   716,   965,  1072,  1103,  1254,  1264,  2202,\n",
       "          2730,  2772,  2940,  3155,  3534,  3554,  3585,  3654,  3671,\n",
       "          3679,  3864,  3903,  3952,  3964,  4684,  4879,  4882,  4889,\n",
       "          5051,  5178,  5319,  6251,  6290,  6621,  6660,  6717,  6732,\n",
       "          6747,  6784,  6829,  7255,  7276,  7426,  7651,  7887,  8370,\n",
       "          8757,  8805,  8823,  9334,  9868, 10363, 10396, 10873, 11475,\n",
       "         11626, 11866, 12482, 12494, 12559, 12634, 12742, 12778, 13102,\n",
       "         13461, 13803, 13879, 13902, 14201, 14254, 14532, 14623, 15010,\n",
       "         15025, 15119, 15188, 15804, 15918, 16301, 16379, 16804, 17023,\n",
       "         17048, 17188, 17216, 17236, 17404, 17489, 17569, 17854, 18427,\n",
       "         18665, 18715, 19023, 19168, 19212, 19337, 19806, 19957, 20192,\n",
       "         20377, 20407, 20759, 20845, 20963, 21072, 21139, 21170, 21334,\n",
       "         21446, 21636, 21693, 21748, 21845, 21899, 22057, 22583, 23066,\n",
       "         23254, 23388, 23431, 23574, 23715, 24391, 24567, 24618, 24642,\n",
       "         24702, 24757, 25516, 25692, 25846, 26220, 26236, 26432, 26976,\n",
       "         27298, 27413, 27837, 27838, 28249, 28706, 29788, 30336, 30893,\n",
       "         31200, 31489, 31734, 32167, 32738, 32816, 33484, 33659, 34620,\n",
       "         35745, 36210, 36386, 36802, 36880, 36936, 37425, 37987, 38101,\n",
       "         38411, 38444, 38521, 38553, 38659, 38933, 38986, 38991, 39387,\n",
       "         39435, 39516, 39525, 40472, 40931, 40938, 40990, 41099, 41168,\n",
       "         41762, 42039, 42135, 42510, 43026, 43145, 43269, 43397, 43681,\n",
       "         43711, 43855, 44005, 44262, 44955, 45192, 45273, 45475, 45665,\n",
       "         46125, 46131, 46424, 46554, 47213, 47407, 47545, 47775, 48002,\n",
       "         48201, 48259, 48761, 48998, 49273, 49469, 49473, 49620, 49937,\n",
       "         50107, 50225, 50403, 50731, 51179, 51299, 51362, 51550, 52397,\n",
       "         52544, 53027, 53116, 53735, 54024, 54076, 54148, 54155, 54541,\n",
       "         54894, 54998, 55205, 55346, 55437, 55546, 55663, 56002, 56031,\n",
       "         56113, 56124, 56292, 56822, 56909, 57120, 57919, 58133, 58184,\n",
       "         58424, 58497, 58767, 58923, 59046, 59509, 59770, 59846]),\n",
       "  array([   32,   101,   184,   199,   204,   344,   480,   737,   758,\n",
       "           797,   851,  1262,  1292,  1484,  1593,  1660,  1810,  1961,\n",
       "          1967,  2077,  2085,  2304,  2352,  2434,  2501,  2520,  2645,\n",
       "          3017,  3119,  3374,  3695,  3912,  4136,  4316,  4757,  4865,\n",
       "          5214,  5227,  5359,  5364,  5472,  5515,  5614,  5764,  5779,\n",
       "          5788,  5832,  6021,  6049,  6219,  6447,  6476,  6718,  6782,\n",
       "          6793,  7147,  7508,  7590,  7614,  7663,  7751,  8166,  8333,\n",
       "          8373,  8553,  8756,  8763,  9394,  9459,  9733,  9738,  9835,\n",
       "          9876,  9939,  9958, 10118, 10226, 10249, 10277, 10533, 10563,\n",
       "         10598, 10638, 10735, 11359, 11441, 11698, 11907, 12196, 12435,\n",
       "         12596, 12762, 12833, 13027, 13265, 13278, 13450, 13551, 13553,\n",
       "         13683, 13768, 13794, 13928, 13955, 14219, 14376, 14447, 14459,\n",
       "         14491, 14518, 14530, 14661, 14782, 14888, 15148, 15233, 15450,\n",
       "         15752, 15937, 16104, 16222, 16349, 16513, 16555, 16617, 16618,\n",
       "         16822, 16837, 16896, 16979, 17143, 17250, 17648, 17671, 17783,\n",
       "         17805, 18013, 18481, 18807, 18812, 18870, 19008, 19040, 19076,\n",
       "         19241, 19279, 19579, 19592, 19689, 19825, 20158, 20322, 20340,\n",
       "         20358, 20364, 20577, 20661, 20976, 20994, 21090, 21439, 21684,\n",
       "         21804, 21832, 22002, 22106, 22116, 22229, 22289, 22392, 22431,\n",
       "         22512, 22542, 22582, 22585, 22631, 22715, 22847, 23009, 23086,\n",
       "         23142, 23223, 23889, 24028, 24092, 24162, 24215, 24268, 24368,\n",
       "         24494, 24514, 24538, 24560, 24574, 24880, 24936, 25069, 25096,\n",
       "         25203, 25648, 26188, 26196, 26235, 26240, 26281, 26293, 26383,\n",
       "         26467, 26688, 26829, 27194, 27293, 27301, 27962, 27990, 28219,\n",
       "         28230, 28732, 28886, 28989, 29569, 30302, 30319, 30335, 30780,\n",
       "         30783, 30946, 30993, 31004, 31113, 31131, 31224, 31325, 31482,\n",
       "         31508, 31707, 31864, 31890, 32002, 32035, 32046, 32211, 32457,\n",
       "         32847, 32960, 33218, 33314, 33377, 33401, 33429, 33580, 33679,\n",
       "         33724, 33821, 34237, 34332, 34643, 34837, 34846, 35103, 35117,\n",
       "         35251, 35379, 35430, 35895, 36086, 36199, 36457, 36656, 36845,\n",
       "         36965, 37134, 37209, 37279, 37506, 37565, 37788, 37797, 37873,\n",
       "         38163, 38230, 38270, 38302, 38316, 38478, 38511, 38660, 38708,\n",
       "         38752, 38919, 38961, 39007, 39026, 39033, 39082, 39089, 39138,\n",
       "         39446, 39461, 39606, 39817, 39855, 40129, 40266, 40391, 40455,\n",
       "         40565, 40733, 40801, 40835, 40952, 40967, 41059, 41123, 41257,\n",
       "         41370, 41449, 41476, 41554, 41618, 41645, 41665, 41703, 41754,\n",
       "         41825, 41897, 42014, 42144, 42211, 42409, 42791, 42889, 43087,\n",
       "         43493, 43573, 43932, 44187, 44804, 45494, 45675, 45696, 45854,\n",
       "         45883, 45892, 45920, 46198, 46606, 46730, 46785, 46937, 47190,\n",
       "         47193, 47323, 47349, 47443, 47660, 47735, 47861, 47880, 47934,\n",
       "         48092, 48166, 48312, 48325, 48407, 48483, 48892, 48982, 49045,\n",
       "         49114, 49197, 49254, 49317, 49338, 49413, 49746, 49865, 50072,\n",
       "         50157, 50173, 50234, 50344, 50465, 50548, 50672, 50807, 50971,\n",
       "         51044, 51545, 51547, 51622, 51861, 52026, 52064, 52116, 52148,\n",
       "         52151, 52207, 52281, 52332, 52593, 52803, 52848, 52899, 53052,\n",
       "         53314, 53362, 53602, 53740, 53775, 53875, 53901, 54001, 54192,\n",
       "         54218, 54424, 54646, 54681, 54684, 54741, 54791, 54932, 54983,\n",
       "         55036, 55166, 55336, 55342, 55382, 55386, 55471, 55472, 55975,\n",
       "         56028, 56055, 56229, 56391, 57346, 57554, 57731, 57746, 58088,\n",
       "         58109, 58326, 58493, 58770, 58800, 58904, 58941, 59003, 59123,\n",
       "         59195, 59444, 59756, 59895, 59984]),\n",
       "  array([   26,   316,   444,   595,   825,   881,   955,  1158,  1603,\n",
       "          1737,  1929,  1935,  1979,  2078,  2198,  2560,  2712,  3456,\n",
       "          3480,  3560,  3644,  4416,  4743,  4818,  4932,  5118,  5141,\n",
       "          5165,  5908,  6088,  6186,  6215,  6414,  6472,  6494,  6613,\n",
       "          6947,  7014,  7125,  7145,  7400,  7419,  7444,  7525,  7583,\n",
       "          7645,  7765,  7770,  8096,  8204,  8217,  8273,  8692,  8718,\n",
       "          8812,  8850,  8860,  9045,  9205,  9229,  9534,  9978, 10430,\n",
       "         10782, 10801, 10920, 11031, 11032, 11572, 11718, 11752, 11779,\n",
       "         12444, 12478, 12502, 12847, 12954, 12971, 13055, 13358, 13674,\n",
       "         13679, 13806, 13912, 14144, 14395, 14466, 14566, 14675, 14694,\n",
       "         14706, 14972, 15099, 15288, 15441, 15502, 15618, 15955, 16336,\n",
       "         16407, 16551, 16615, 16714, 16729, 17302, 17696, 18073, 18164,\n",
       "         18343, 18470, 18506, 18634, 18891, 19336, 19417, 19549, 19765,\n",
       "         19778, 20003, 20151, 20247, 20391, 20409, 21140, 21247, 21272,\n",
       "         21352, 21811, 21941, 22590, 22772, 22916, 23058, 23077, 23096,\n",
       "         23197, 23525, 24240, 24321, 24434, 24474, 24477, 24653, 24715,\n",
       "         24782, 24822, 24826, 25216, 25353, 25463, 25562, 25810, 26123,\n",
       "         26136, 26204, 26460, 26855, 26921, 27165, 27204, 27216, 27303,\n",
       "         27592, 27817, 28071, 28103, 28140, 28262, 28277, 28508, 28648,\n",
       "         28722, 28971, 29312, 29517, 29572, 29597, 29697, 30287, 30347,\n",
       "         30417, 30514, 30582, 30806, 30900, 31448, 31684, 31708, 31891,\n",
       "         31916, 31942, 32143, 32169, 32415, 32588, 32623, 32821, 32931,\n",
       "         32935, 33177, 33705, 33880, 33972, 34265, 34299, 34342, 34491,\n",
       "         34522, 34746, 34827, 34882, 35063, 35130, 35150, 35263, 35743,\n",
       "         35790, 35907, 35933, 35940, 36072, 36356, 36434, 36448, 36769,\n",
       "         36823, 37112, 37545, 37606, 37667, 38123, 38277, 38328, 38558,\n",
       "         38827, 38887, 39070, 39097, 39172, 39252, 39356, 39764, 40150,\n",
       "         40163, 40220, 40393, 40429, 40468, 40648, 40841, 40909, 41021,\n",
       "         41079, 41084, 41192, 41511, 42106, 42351, 42380, 42556, 42924,\n",
       "         43150, 43164, 43396, 43610, 43623, 43720, 43781, 43817, 44009,\n",
       "         44196, 44697, 44723, 44824, 44896, 44915, 45112, 45169, 45278,\n",
       "         46160, 46475, 46481, 46685, 46717, 46832, 47247, 47402, 47658,\n",
       "         47991, 48500, 48881, 49062, 49129, 49143, 49182, 49572, 49592,\n",
       "         49680, 49776, 49960, 49972, 50054, 50324, 50389, 50992, 51004,\n",
       "         51018, 51024, 51101, 51135, 51146, 51246, 51317, 51351, 51667,\n",
       "         51756, 52228, 52338, 52390, 52612, 52797, 53569, 53814, 54070,\n",
       "         54197, 54263, 54267, 54627, 54806, 54963, 55059, 55425, 55430,\n",
       "         55452, 55690, 55909, 56303, 56347, 56466, 56504, 56663, 57698,\n",
       "         57730, 58398, 58488, 58756, 58823, 59663, 59792, 59871, 59906,\n",
       "         59934]),\n",
       "  array([  446,  1423,  1911,  1927,  2274,  5135,  5937,  6631,  6831,\n",
       "          8054,  8059,  8886,  9711, 10317, 10379, 10466, 10723, 12761,\n",
       "         13076, 13565, 14216, 14500, 14553, 14569, 14985, 16608, 17654,\n",
       "         17887, 18414, 18533, 18813, 19018, 19501, 20518, 20624, 21100,\n",
       "         21288, 21692, 21943, 22352, 23436, 23567, 24033, 24180, 24411,\n",
       "         25328, 25368, 25734, 26709, 26891, 27713, 29934, 30003, 30054,\n",
       "         30887, 31603, 32098, 32232, 32620, 33297, 33597, 33696, 34067,\n",
       "         34263, 34744, 35198, 35678, 36139, 36629, 36660, 38442, 39202,\n",
       "         39835, 40169, 40443, 40458, 41135, 41350, 41595, 41609, 42613,\n",
       "         42856, 43192, 43957, 44354, 45077, 45293, 45785, 46381, 47291,\n",
       "         47619, 47971, 48074, 48834, 49428, 49709, 50175, 50608, 50880,\n",
       "         51326, 52000, 52112, 52127, 52875, 54840, 55924, 55948, 56521,\n",
       "         56794, 57759, 57771, 59775, 59994]),\n",
       "  array([  216,   265,   461,   633,   811,  1201,  1612,  1688,  1712,\n",
       "          1718,  1962,  1991,  2024,  2054,  2114,  2248,  2615,  2622,\n",
       "          2792,  2801,  2873,  3185,  3315,  3435,  3525,  3543,  3601,\n",
       "          3633,  3680,  3894,  3926,  3962,  4191,  4452,  4838,  4911,\n",
       "          5410,  5460,  5645,  5917,  6045,  6065,  6317,  6489,  6919,\n",
       "          7226,  7641,  7679,  7685,  8094,  8301,  8608,  8646,  8758,\n",
       "          9054,  9184,  9422,  9558,  9689,  9949, 10092, 10187, 10275,\n",
       "         10414, 10548, 10810, 10895, 11052, 11096, 11141, 11251, 11421,\n",
       "         11606, 11760, 11846, 11929, 12088, 12136, 12328, 12345, 12398,\n",
       "         12576, 13011, 13037, 13342, 13377, 13384, 13518, 13557, 13660,\n",
       "         13908, 14081, 14102, 14316, 14402, 14433, 14744, 14862, 15057,\n",
       "         15308, 15379, 15518, 15921, 15953, 16078, 16089, 16187, 16190,\n",
       "         16234, 16238, 16244, 16549, 16646, 16653, 16666, 16747, 16882,\n",
       "         17043, 17417, 17467, 17626, 17697, 18228, 18560, 18642, 18913,\n",
       "         19051, 19146, 19295, 19586, 19612, 19976, 20051, 20473, 20608,\n",
       "         20655, 21015, 21041, 21046, 21245, 21484, 21574, 21580, 21698,\n",
       "         21846, 21853, 22125, 22441, 22528, 22598, 22707, 22776, 23315,\n",
       "         23345, 23346, 23353, 23399, 23447, 23930, 24029, 24104, 24146,\n",
       "         24499, 25081, 25242, 25334, 25369, 25698, 25828, 25983, 26143,\n",
       "         26166, 26294, 26442, 26520, 26709, 26840, 27071, 27214, 27306,\n",
       "         27634, 27638, 27682, 27887, 27992, 28095, 28115, 28117, 28821,\n",
       "         29008, 29046, 29164, 29472, 29712, 29810, 29849, 29866, 29902,\n",
       "         29913, 30042, 30455, 30710, 30815, 30816, 30938, 31022, 31196,\n",
       "         31229, 31465, 31498, 31620, 32405, 32426, 32880, 33446, 33566,\n",
       "         33656, 33779, 33804, 34012, 34100, 34462, 34654, 34666, 34798,\n",
       "         34832, 34839, 35079, 35215, 35358, 35401, 35489, 36103, 36113,\n",
       "         36212, 36246, 36361, 36593, 36807, 36822, 36927, 36947, 37296,\n",
       "         37326, 37348, 37479, 37922, 37956, 37995, 38117, 38137, 38374,\n",
       "         38479, 38626, 38706, 38959, 38992, 39407, 39530, 39559, 39728,\n",
       "         40041, 40395, 40407, 40411, 40417, 40487, 40807, 40916, 40984,\n",
       "         41224, 41240, 41322, 41493, 41547, 41846, 41936, 42036, 42175,\n",
       "         42526, 42614, 42647, 42780, 42917, 43099, 43541, 43729, 43731,\n",
       "         43867, 44027, 44142, 44161, 44234, 44308, 44559, 45101, 45197,\n",
       "         45480, 45489, 45858, 45869, 46427, 46722, 46812, 47305, 47478,\n",
       "         47711, 47748, 47754, 47917, 48187, 48484, 48516, 48541, 48581,\n",
       "         48656, 48747, 48858, 48932, 48964, 49041, 49133, 49170, 49275,\n",
       "         49450, 49499, 49621, 49669, 50112, 50547, 50745, 51267, 51912,\n",
       "         52125, 52204, 52421, 52707, 52786, 52853, 52904, 52970, 52989,\n",
       "         53398, 53410, 53468, 53582, 53755, 53859, 54124, 54178, 54233,\n",
       "         54381, 54434, 54871, 54884, 54969, 55005, 55056, 55140, 55165,\n",
       "         55220, 55270, 55400, 55432, 55491, 55510, 55770, 55954, 56112,\n",
       "         56394, 56507, 56674, 56983, 57041, 57043, 57306, 57426, 57457,\n",
       "         57490, 57539, 57753, 57760, 57846, 57907, 57964, 57984, 58076,\n",
       "         58290, 58416, 59011, 59075, 59171, 59190, 59391, 59835, 59929]),\n",
       "  array([  220,   613,   735,   938,  1015,  1333,  1351,  1373,  1618,\n",
       "          1873,  2207,  2455,  2993,  3052,  3108,  3190,  3320,  3383,\n",
       "          3839,  3846,  4016,  4200,  4207,  4215,  4484,  4623,  4679,\n",
       "          4863,  4910,  5019,  5318,  5337,  5583,  5643,  5777,  6063,\n",
       "          6092,  6181,  6367,  6411,  6456,  6578,  6902,  7288,  7313,\n",
       "          7365,  7546,  7584,  7859,  7866,  7981,  8036,  8079,  8090,\n",
       "          8619,  8682,  8722,  8825,  8830,  9085,  9538,  9612,  9915,\n",
       "         10549, 10754, 10971, 10979, 11151, 11170, 11273, 11569, 11587,\n",
       "         11624, 11956, 12212, 12500, 12598, 12618, 12641, 13458, 13604,\n",
       "         13903, 14211, 14595, 14867, 15209, 15228, 15748, 15866, 16169,\n",
       "         16473, 16604, 16996, 17182, 17331, 17708, 17769, 18108, 18128,\n",
       "         18211, 18329, 18548, 18893, 18936, 18999, 19026, 19087, 19100,\n",
       "         19190, 19286, 19626, 19795, 19796, 19798, 20138, 20157, 20622,\n",
       "         20628, 21087, 21275, 22080, 22360, 22365, 22544, 22738, 22839,\n",
       "         22875, 23059, 23082, 23386, 23613, 23623, 23791, 24026, 24070,\n",
       "         24103, 24145, 24658, 24991, 25113, 25148, 25153, 25178, 25625,\n",
       "         25655, 26238, 26299, 26317, 26361, 26363, 26576, 26708, 26725,\n",
       "         27193, 27316, 27594, 27733, 28104, 28123, 28155, 28279, 28552,\n",
       "         28675, 28816, 28855, 28865, 28928, 29017, 29223, 29274, 29277,\n",
       "         29408, 29465, 29481, 29588, 29644, 29750, 29873, 30129, 30220,\n",
       "         30247, 30312, 30452, 30539, 30547, 30646, 31222, 31377, 31853,\n",
       "         32489, 32650, 32919, 33335, 33767, 33917, 34062, 34228, 34379,\n",
       "         34384, 34402, 34993, 35097, 35124, 35253, 35526, 35583, 35637,\n",
       "         35835, 35844, 35854, 36098, 36119, 36295, 36402, 36875, 37075,\n",
       "         37097, 37196, 37613, 37757, 37811, 37959, 38173, 38245, 38783,\n",
       "         38937, 39010, 39085, 39423, 39672, 39745, 39836, 39923, 40169,\n",
       "         40218, 40364, 40383, 40400, 40609, 41264, 41756, 41845, 41903,\n",
       "         41950, 42158, 42297, 42585, 43127, 43315, 43430, 43475, 43546,\n",
       "         43647, 43696, 44026, 44335, 44462, 44651, 45241, 45242, 45439,\n",
       "         45948, 46783, 46859, 47487, 47494, 47534, 47691, 47855, 47980,\n",
       "         48278, 48478, 48497, 48602, 48657, 48691, 49180, 49515, 49714,\n",
       "         50232, 50298, 50328, 50523, 50613, 50663, 51051, 51833, 52081,\n",
       "         52226, 52413, 52476, 52722, 52784, 52978, 53071, 53093, 53239,\n",
       "         53470, 53608, 53973, 54040, 54298, 54358, 54379, 54435, 54598,\n",
       "         54637, 54950, 55459, 55871, 56068, 56116, 56117, 56180, 56334,\n",
       "         56396, 56736, 57007, 57032, 57290, 57366, 57512, 57710, 57852,\n",
       "         58270, 59118, 59413, 59472, 59508, 59536, 59574]),\n",
       "  array([  226,  1048,  1096,  1202,  2611,  3078,  3366,  3951,  4422,\n",
       "          5493,  5776,  7153,  7210,  7545,  7677,  8227,  8614,  9502,\n",
       "          9816,  9873, 11027, 11104, 11711, 11818, 12587, 12708, 13403,\n",
       "         13959, 14123, 15394, 15659, 16486, 16844, 16989, 18187, 18514,\n",
       "         18816, 19123, 19339, 19561, 19868, 20204, 20228, 20235, 21066,\n",
       "         21515, 21773, 21859, 23562, 24141, 24227, 24345, 26474, 26637,\n",
       "         26915, 27547, 27683, 28036, 28131, 28390, 29340, 29625, 30701,\n",
       "         30722, 31431, 31669, 32199, 32202, 32251, 33048, 33129, 33734,\n",
       "         34793, 35178, 37457, 37529, 37696, 38158, 38348, 38693, 39077,\n",
       "         39571, 39676, 39761, 39864, 39999, 40189, 40264, 41262, 41349,\n",
       "         42192, 43831, 44461, 44554, 45687, 45738, 46903, 47328, 48480,\n",
       "         49099, 49410, 49630, 49736, 49995, 50766, 51145, 51187, 51415,\n",
       "         52321, 52960, 53855, 54018, 54069, 54837, 55867, 56077, 56638,\n",
       "         56945, 56951, 57358, 58432, 58478, 58967, 59034, 59052, 59287,\n",
       "         59302, 59670, 59741]),\n",
       "  array([   11,    44,    84,    88,   335,   465,   661,  1028,  1106,\n",
       "          1131,  1294,  1529,  1663,  1747,  2261,  2322,  2689,  2834,\n",
       "          2947,  3092,  3139,  3541,  3559,  3958,  4008,  4011,  4249,\n",
       "          4286,  4361,  4523,  4644,  4809,  4836,  5375,  5478,  5483,\n",
       "          5710,  5932,  6119,  6478,  6511,  6807,  7075,  7076,  7206,\n",
       "          7760,  7836,  7936,  7974,  8139,  8231,  8411,  8516,  8519,\n",
       "          8847,  8849,  8875,  9084,  9332,  9442, 10183, 10606, 10738,\n",
       "         10836, 10994, 11261, 11333, 11830, 11843, 11849, 11918, 12659,\n",
       "         12670, 12728, 12894, 13051, 13109, 13116, 13169, 13605, 13698,\n",
       "         13853, 14369, 14374, 14479, 14584, 14794, 14874, 14914, 14921,\n",
       "         15006, 16016, 16028, 16196, 16240, 16335, 16422, 16743, 16850,\n",
       "         16934, 17231, 17365, 17638, 18237, 18608, 18629, 18795, 18806,\n",
       "         18906, 19018, 19084, 19426, 19534, 19552, 19655, 19675, 19928,\n",
       "         20384, 20398, 20479, 20509, 20892, 21195, 21202, 21274, 21384,\n",
       "         21400, 21506, 21598, 21604, 21652, 22155, 22214, 22386, 22737,\n",
       "         22747, 22988, 23056, 23168, 23347, 23419, 23536, 23549, 23968,\n",
       "         23992, 24518, 24852, 24904, 25167, 25272, 25498, 25528, 25607,\n",
       "         25729, 25802, 26064, 26111, 26144, 26295, 26937, 27302, 27400,\n",
       "         27442, 27693, 27771, 27865, 28054, 28116, 28294, 28414, 28554,\n",
       "         28583, 28612, 28679, 28913, 28962, 29147, 29401, 29827, 30423,\n",
       "         31064, 31306, 31361, 31365, 31693, 32081, 32417, 32598, 32696,\n",
       "         32757, 32822, 32968, 33155, 33387, 33579, 34076, 34310, 34442,\n",
       "         34596, 34657, 34940, 35002, 35227, 35270, 35303, 35469, 35703,\n",
       "         35972, 36013, 36144, 36452, 36724, 36727, 36735, 37030, 37087,\n",
       "         37108, 37165, 37266, 37284, 37438, 37972, 38500, 38899, 38926,\n",
       "         38997, 39151, 39275, 39325, 39560, 39989, 40207, 40227, 40415,\n",
       "         40521, 40534, 40704, 41033, 41085, 41891, 42348, 42442, 42622,\n",
       "         43294, 43340, 43504, 44054, 44199, 44325, 44634, 44871, 44927,\n",
       "         44928, 45777, 45856, 45859, 45876, 45931, 46123, 46144, 46378,\n",
       "         46400, 46447, 46602, 46617, 47063, 47142, 47214, 47562, 47728,\n",
       "         47866, 47922, 48099, 48123, 48170, 48576, 48729, 48758, 49380,\n",
       "         49418, 49489, 49759, 49833, 50178, 50418, 50437, 50661, 50792,\n",
       "         50829, 50848, 51034, 51186, 51601, 51791, 51972, 52103, 52271,\n",
       "         52569, 52859, 52874, 53012, 53131, 53185, 53417, 53501, 53518,\n",
       "         53980, 53999, 54522, 54747, 54927, 55231, 55302, 55398, 55505,\n",
       "         55691, 55695, 55804, 55964, 56488, 56913, 57025, 57287, 57363,\n",
       "         57552, 57701, 57735, 57790, 57808, 57936, 57950, 58235, 58338,\n",
       "         58423, 58544, 58552, 58789, 59225, 59396, 59745, 59782]),\n",
       "  array([  197,   289,   422,   773,  1070,  3004,  3510,  4417,  4930,\n",
       "          5109,  5587,  5988,  6280,  6289,  7467,  8013,  8179,  8396,\n",
       "          8888,  9107,  9199,  9665, 10252, 10570, 11450, 12174, 12561,\n",
       "         12637, 14088, 14826, 16998, 17134, 17498, 17627, 18000, 18215,\n",
       "         19150, 19563, 20535, 20722, 20801, 20803, 21467, 21491, 21687,\n",
       "         22312, 22335, 23553, 23794, 25525, 25538, 25639, 25657, 25686,\n",
       "         26559, 27201, 27681, 28469, 29419, 29807, 30179, 30689, 31234,\n",
       "         31252, 31884, 32727, 33328, 33670, 34010, 34136, 34211, 34212,\n",
       "         34836, 36054, 36252, 36473, 37531, 37907, 38247, 38387, 38800,\n",
       "         38924, 40274, 40676, 40734, 40826, 40862, 40871, 41200, 41758,\n",
       "         41844, 42009, 42464, 42552, 42887, 43074, 43115, 43527, 44309,\n",
       "         44569, 44964, 45313, 46586, 46613, 46971, 47257, 47711, 48571,\n",
       "         48972, 49988, 50183, 50519, 51526, 51649, 52107, 52272, 52285,\n",
       "         52474, 53407, 53671, 53736, 54138, 54227, 54621, 55001, 55023,\n",
       "         55332, 55731, 56147, 56219, 56464, 56554, 56607, 58249, 58581,\n",
       "         58583, 58652, 58672, 59448, 59598, 59981]),\n",
       "  array([  156,   372,   630,   647,  1087,  1413,  1774,  2019,  2129,\n",
       "          2268,  2393,  2593,  2656,  2760,  2837,  2840,  2946,  3103,\n",
       "          3235,  3580,  3641,  3664,  3852,  4000,  4178,  4394,  4411,\n",
       "          4519,  4520,  4541,  4774,  4788,  4820,  4943,  5413,  5569,\n",
       "          5603,  5794,  5839,  6099,  6112,  6121,  6161,  6269,  6370,\n",
       "          6564,  6567,  6716,  6813,  6913,  6957,  7155,  7221,  7244,\n",
       "          7532,  7549,  7571,  7683,  8181,  8260,  8299,  8313,  8354,\n",
       "          8382,  8632,  8726,  8767,  8878,  9026,  9100,  9265,  9673,\n",
       "          9690,  9743,  9787,  9884, 10081, 10167, 10218, 10476, 10546,\n",
       "         10659, 10745, 10890, 11082, 11177, 11200, 11236, 11243, 11362,\n",
       "         11393, 11507, 11959, 12299, 12525, 12605, 12835, 12864, 13166,\n",
       "         13318, 13563, 13634, 14257, 14799, 14846, 14960, 15073, 15221,\n",
       "         15850, 15991, 16176, 16245, 16669, 16672, 16713, 17032, 17152,\n",
       "         17204, 17357, 17360, 17578, 17680, 17876, 17922, 18365, 18524,\n",
       "         18534, 18808, 18934, 19030, 19187, 19209, 19262, 19305, 19343,\n",
       "         19578, 19729, 19762, 19866, 19968, 20043, 20166, 20266, 20456,\n",
       "         20724, 20837, 20902, 20942, 20981, 20982, 21102, 21115, 21134,\n",
       "         21158, 21174, 21307, 21383, 21408, 21450, 21500, 21576, 21716,\n",
       "         21776, 21934, 22570, 22705, 22915, 23106, 23247, 23421, 23494,\n",
       "         23659, 23805, 23867, 24088, 24188, 24253, 24553, 24609, 24640,\n",
       "         24696, 24816, 24983, 25025, 25180, 25206, 25219, 25220, 25479,\n",
       "         25490, 25570, 25724, 25809, 25925, 26020, 26085, 26215, 26219,\n",
       "         26272, 26334, 26450, 26778, 27005, 27181, 27646, 27850, 28114,\n",
       "         28177, 28207, 28240, 28285, 28532, 28560, 28603, 28776, 28810,\n",
       "         28815, 28837, 28923, 28958, 29300, 29360, 29426, 29701, 29940,\n",
       "         29978, 29999, 30212, 30655, 30664, 30897, 30957, 31210, 31316,\n",
       "         31539, 31591, 31647, 31688, 31873, 31980, 32097, 32153, 32279,\n",
       "         32290, 32334, 32510, 32792, 32907, 32945, 33081, 33178, 33441,\n",
       "         33449, 33551, 33572, 33608, 33781, 33841, 33973, 34091, 34473,\n",
       "         34621, 34883, 35194, 35202, 35284, 35308, 35347, 35408, 35686,\n",
       "         35736, 35749, 35795, 35798, 35836, 36230, 36235, 36339, 36441,\n",
       "         36454, 36471, 36603, 36745, 36916, 37103, 37268, 37293, 37295,\n",
       "         37706, 37721, 37783, 37884, 37971, 37982, 38331, 38645, 38759,\n",
       "         38803, 38807, 38897, 39305, 39405, 39440, 39442, 39837, 39945,\n",
       "         40026, 40089, 40315, 40408, 40471, 40502, 40659, 40857, 40921,\n",
       "         41270, 41278, 41405, 41559, 41623, 41801, 41841, 42158, 42280,\n",
       "         42294, 42343, 42501, 42567, 42633, 42706, 42851, 43460, 43473,\n",
       "         43617, 43837, 43859, 43926, 43981, 44035, 44269, 44420, 44441,\n",
       "         44481, 44716, 44758, 45126, 45193, 45485, 45492, 45523, 45602,\n",
       "         45699, 45793, 45807, 45811, 45913, 45954, 46000, 46078, 46163,\n",
       "         46485, 46626, 46744, 46857, 47122, 47124, 47319, 47363, 47609,\n",
       "         47714, 47768, 47818, 47830, 47862, 47881, 47973, 48037, 48690,\n",
       "         48763, 48797, 48818, 48839, 48869, 48922, 48992, 49011, 49298,\n",
       "         49378, 49490, 49535, 49686, 49695, 49883, 49902, 50809, 50836,\n",
       "         51054, 51188, 51310, 51359, 51434, 51452, 51596, 51681, 51794,\n",
       "         51896, 51958, 52132, 52184, 52414, 52533, 52537, 52559, 52790,\n",
       "         53322, 53509, 53699, 53725, 53726, 53817, 53900, 53905, 54195,\n",
       "         54223, 54240, 54281, 54476, 54850, 54990, 55086, 55172, 55193,\n",
       "         55219, 55255, 55265, 55787, 55810, 55853, 55966, 56107, 56362,\n",
       "         56389, 56403, 56437, 56445, 56574, 57124, 57163, 57244, 57294,\n",
       "         57332, 57334, 57409, 57518, 57618, 57733, 57896, 58001, 58035,\n",
       "         58060, 58083, 58201, 58324, 58412, 58543, 58564, 58588, 58596,\n",
       "         58682, 58990, 59057, 59165, 59214, 59498, 59596, 59748, 59860]),\n",
       "  array([ 1859,  1909,  2037,  3043,  3240,  3925,  4530,  5595,  5955,\n",
       "          6689,  8019,  8080,  9035,  9187,  9351,  9532, 10222, 10436,\n",
       "         10859, 11058, 11314, 11651, 12159, 12599, 12653, 13045, 13179,\n",
       "         13464, 13743, 14275, 14412, 14788, 14816, 14848, 16560, 18183,\n",
       "         18540, 18557, 19315, 19523, 19701, 20550, 21447, 22371, 22572,\n",
       "         22603, 22678, 23754, 24155, 24298, 24565, 24743, 25345, 25544,\n",
       "         25749, 25800, 26273, 26579, 26955, 28469, 28561, 29197, 29246,\n",
       "         29560, 29907, 29998, 30711, 30777, 31256, 31454, 31736, 33011,\n",
       "         33547, 34433, 35033, 35111, 35840, 36487, 36688, 36765, 37035,\n",
       "         37992, 38018, 38340, 39547, 40484, 40678, 41454, 41509, 41628,\n",
       "         42130, 42773, 44119, 44249, 44848, 46203, 47537, 48907, 49034,\n",
       "         49559, 49764, 50156, 50355, 50641, 50866, 51167, 51464, 51769,\n",
       "         52236, 52799, 53579, 53589, 54285, 54876, 54923, 55290, 55420,\n",
       "         55774, 55906, 56161, 56855, 56889, 57009, 57189, 57288, 57389,\n",
       "         57448, 57702, 58198, 58484, 58598, 58916, 59288, 59949]),\n",
       "  array([    5,     7,    27, ..., 59968, 59973, 59977]),\n",
       "  array([  312,  1144,  1515,  1606,  2264,  2462,  2789,  2812,  3751,\n",
       "          3978,  4069,  4078,  4307,  4700,  4702,  5151,  5352,  5505,\n",
       "          5556,  5698,  6620,  6765,  7309,  7924,  8330,  8921,  9108,\n",
       "          9109,  9167,  9338,  9405,  9621,  9794,  9893, 10618, 10759,\n",
       "         10898, 11015, 11554, 11689, 12120, 12210, 13320, 13432, 13620,\n",
       "         13883, 14142, 14326, 14544, 14657, 15313, 15361, 16901, 16978,\n",
       "         17546, 17575, 17590, 17953, 18565, 18619, 19024, 19198, 20348,\n",
       "         20534, 21390, 21473, 21502, 21586, 21645, 21856, 21893, 22160,\n",
       "         22369, 22684, 22697, 23339, 23468, 23742, 24243, 24687, 24802,\n",
       "         24898, 25237, 25255, 25329, 25760, 26930, 28961, 29012, 29027,\n",
       "         29515, 29765, 29840, 29960, 30178, 30511, 31208, 31517, 31587,\n",
       "         31950, 32222, 32648, 32782, 32930, 33021, 33268, 33595, 33660,\n",
       "         34182, 35232, 35651, 36112, 36274, 36388, 36521, 36525, 37352,\n",
       "         37611, 37902, 38311, 38508, 38568, 38613, 38772, 38898, 39058,\n",
       "         39285, 39335, 39402, 39758, 39814, 39867, 40086, 40342, 40583,\n",
       "         40855, 40875, 40895, 40982, 41911, 41995, 43178, 43195, 43289,\n",
       "         44217, 44359, 44586, 44646, 44791, 45262, 45848, 45902, 46375,\n",
       "         46507, 47013, 47776, 48267, 48406, 48551, 48786, 49545, 49811,\n",
       "         49839, 50086, 50150, 50280, 50647, 50975, 51031, 51238, 51646,\n",
       "         51657, 51665, 52142, 52225, 52679, 52739, 53157, 53944, 54029,\n",
       "         54140, 54210, 54303, 54352, 55214, 55287, 55576, 55598, 55947,\n",
       "         55956, 55978, 56192, 56401, 56406, 56523, 57588, 58182, 58746,\n",
       "         58772, 58898, 58994, 59831, 59974]),\n",
       "  array([   39,   181,   188, ..., 59963, 59975, 59986]),\n",
       "  array([  157,  1976,  3214,  3424,  4208,  6072,  6474,  6527,  6678,\n",
       "          6878,  6970,  7514,  7609,  8912,  9539,  9788,  9940,  9964,\n",
       "          9969, 10416, 10461, 10813, 11074, 11152, 11202, 11252, 11719,\n",
       "         12048, 12090, 12283, 12330, 13386, 13432, 13568, 14332, 14473,\n",
       "         14646, 14842, 15087, 15103, 15471, 15735, 15758, 15941, 16225,\n",
       "         16945, 17514, 17646, 17954, 18096, 18387, 19383, 21633, 22228,\n",
       "         22245, 22276, 23201, 24940, 25646, 26071, 26428, 27022, 27539,\n",
       "         27772, 28273, 28480, 28577, 30546, 30641, 30997, 32362, 32389,\n",
       "         33129, 33295, 34581, 34604, 34790, 35313, 35748, 35936, 36037,\n",
       "         37312, 37397, 37435, 38325, 39910, 40162, 41347, 42078, 42162,\n",
       "         42425, 42690, 43841, 44280, 44669, 44704, 44893, 45010, 45014,\n",
       "         45487, 46194, 46359, 46710, 47770, 48331, 48848, 49845, 49906,\n",
       "         51924, 52348, 52602, 53031, 53146, 54290, 54516, 54617, 54657,\n",
       "         55242, 56192, 56447, 56683, 56765, 57106, 57162, 58964, 59084,\n",
       "         59359, 59488, 59527]),\n",
       "  array([   18,    68,   185,   234,   755,   900,   949,  1125,  1233,\n",
       "          1492,  1588,  1651,  1652,  1721,  1752,  1793,  1934,  1953,\n",
       "          1994,  2018,  2033,  2243,  2354,  2548,  2620,  2719,  2757,\n",
       "          2770,  2876,  2943,  3091,  3148,  3166,  3331,  3339,  3391,\n",
       "          3395,  3558,  3730,  3853,  3942,  4095,  4239,  4290,  4421,\n",
       "          4501,  4556,  4651,  4710,  4831,  4898,  4913,  5012,  5144,\n",
       "          5192,  5230,  5311,  5372,  5393,  5476,  5672,  5864,  5875,\n",
       "          5962,  6261,  6360,  6475,  6905,  7025,  7047,  7157,  7267,\n",
       "          7439,  7440,  7827,  7867,  8023,  8068,  8092,  8220,  8335,\n",
       "          8624,  8736,  8755,  8992,  9052,  9267,  9274,  9354,  9480,\n",
       "          9649,  9661,  9823,  9999, 10035, 10077, 10141, 10221, 10338,\n",
       "         10347, 10353, 10499, 10507, 10518, 10713, 10863, 11061, 11093,\n",
       "         11127, 11257, 11360, 11469, 11697, 11939, 11945, 12044, 12068,\n",
       "         12142, 12188, 12221, 12242, 12279, 12424, 12580, 12736, 12779,\n",
       "         12824, 12839, 12974, 13059, 13273, 13335, 13369, 13514, 13590,\n",
       "         13655, 13708, 13789, 13875, 13889, 13895, 13917, 13995, 14045,\n",
       "         14153, 14260, 14329, 14438, 14463, 14493, 14792, 14840, 14885,\n",
       "         14966, 14992, 15157, 15277, 15299, 15539, 15586, 15671, 15686,\n",
       "         15750, 15781, 16007, 16012, 16061, 16097, 16114, 16133, 16366,\n",
       "         16469, 16489, 16619, 16641, 16715, 16730, 16805, 17279, 17388,\n",
       "         17399, 17552, 17667, 17895, 17994, 18131, 18322, 18497, 18685,\n",
       "         18825, 18873, 18907, 19015, 19033, 19068, 19091, 19106, 19142,\n",
       "         19162, 19264, 19328, 19387, 19435, 19529, 19548, 19589, 19660,\n",
       "         19904, 20052, 20104, 20182, 20240, 20270, 20294, 20453, 20809,\n",
       "         20814, 20901, 21053, 21055, 21209, 21248, 21278, 21301, 21426,\n",
       "         21503, 21582, 21615, 21667, 21736, 21757, 21802, 21959, 22029,\n",
       "         22046, 22048, 22108, 22357, 22359, 22551, 22663, 22699, 22717,\n",
       "         22798, 23002, 23023, 23053, 23100, 23141, 23502, 23594, 23847,\n",
       "         23857, 23864, 23894, 24035, 24247, 24409, 24424, 24462, 24530,\n",
       "         24572, 24623, 24624, 24736, 24746, 24794, 24795, 24809, 24914,\n",
       "         25038, 25064, 25327, 25472, 25578, 25741, 25776, 25855, 25961,\n",
       "         26112, 26364, 26574, 26756, 26758, 26804, 26892, 26947, 27060,\n",
       "         27250, 27256, 27323, 27427, 27572, 27665, 27821, 27910, 27915,\n",
       "         27958, 28091, 28174, 28203, 28206, 28318, 28407, 28491, 28525,\n",
       "         28601, 28624, 28685, 28707, 28774, 28775, 28827, 28891, 28936,\n",
       "         28980, 29127, 29129, 29199, 29276, 29286, 29460, 29483, 29523,\n",
       "         29671, 29778, 29800, 29819, 29965, 29983, 30173, 30196, 30324,\n",
       "         30435, 30485, 30512, 30561, 30578, 30613, 30648, 30865, 31346,\n",
       "         31463, 31640, 31695, 31749, 31777, 31778, 32186, 32327, 32467,\n",
       "         32501, 32540, 33219, 33541, 33555, 33707, 33961, 33965, 34008,\n",
       "         34015, 34022, 34102, 34109, 34114, 34187, 34188, 34413, 34514,\n",
       "         34619, 34675, 34773, 34896, 34973, 35013, 35057, 35069, 35070,\n",
       "         35101, 35228, 35238, 35249, 35279, 35513, 35767, 35941, 36053,\n",
       "         36253, 36334, 36560, 36654, 36789, 36799, 36800, 36826, 36924,\n",
       "         37085, 37263, 37313, 37392, 37608, 37660, 37662, 37703, 37751,\n",
       "         37772, 37851, 37894, 38091, 38103, 38109, 38113, 38184, 38339,\n",
       "         38510, 38547, 38563, 38844, 38913, 39014, 39237, 39282, 39303,\n",
       "         39369, 39397, 39431, 39498, 39641, 39648, 39723, 39809, 39881,\n",
       "         40035, 40077, 40116, 40171, 40234, 40294, 40312, 40588, 40606,\n",
       "         40804, 40820, 40843, 41027, 41038, 41107, 41144, 41189, 41271,\n",
       "         41301, 41314, 41411, 41417, 41577, 41625, 41644, 41653, 41712,\n",
       "         41834, 41870, 41932, 41991, 42077, 42126, 42160, 42234, 42347,\n",
       "         42430, 42455, 42499, 42571, 42698, 42737, 42765, 42938, 43025,\n",
       "         43076, 43302, 43387, 43409, 43643, 43925, 44018, 44064, 44094,\n",
       "         44167, 44306, 44679, 44734, 44852, 44975, 45084, 45379, 45389,\n",
       "         45448, 45508, 45545, 45574, 45731, 45748, 45784, 45808, 45898,\n",
       "         45899, 45950, 46060, 46173, 46196, 46211, 46258, 46329, 46398,\n",
       "         46631, 46640, 46682, 46836, 46950, 46956, 47015, 47032, 47065,\n",
       "         47119, 47123, 47197, 47337, 47359, 47365, 47496, 47514, 47763,\n",
       "         47859, 48033, 48102, 48110, 48142, 48226, 48285, 48318, 48368,\n",
       "         48420, 48560, 48703, 48726, 48735, 48799, 48833, 48920, 49009,\n",
       "         49068, 49084, 49234, 49238, 49265, 49293, 49307, 49436, 49487,\n",
       "         49560, 49629, 49685, 49912, 50055, 50154, 50233, 50390, 50626,\n",
       "         50685, 50694, 50871, 50875, 51271, 51295, 51361, 51412, 51730,\n",
       "         51783, 51926, 51964, 52005, 52174, 52280, 52325, 52329, 52347,\n",
       "         52486, 52571, 52771, 52791, 52928, 53054, 53082, 53087, 53257,\n",
       "         53283, 53490, 53502, 53573, 53609, 53685, 53719, 53727, 53760,\n",
       "         53764, 53780, 53852, 53888, 53923, 53994, 54141, 54176, 54222,\n",
       "         54258, 54289, 54488, 54510, 54584, 54650, 54999, 55052, 55075,\n",
       "         55125, 55246, 55249, 55341, 55588, 55643, 55649, 55687, 55733,\n",
       "         55756, 55792, 55941, 56049, 56202, 56264, 56285, 56423, 56594,\n",
       "         56706, 56710, 56808, 56825, 56876, 56885, 56921, 56971, 57218,\n",
       "         57229, 57283, 57284, 57292, 57333, 57375, 57466, 57551, 57598,\n",
       "         57729, 57755, 57994, 58012, 58064, 58168, 58230, 58260, 58356,\n",
       "         58475, 58492, 58627, 58646, 58647, 58702, 59299, 59368, 59442,\n",
       "         59467, 59474, 59529, 59546, 59549, 59672, 59864]),\n",
       "  array([   65,   231,   579,   617,   846,  1145,  1244,  1393,  1545,\n",
       "          1597,  1838,  2083,  2192,  2222,  2466,  2892,  3509,  3834,\n",
       "          3858,  4522,  4583,  5099,  5146,  5371,  6277,  6323,  6551,\n",
       "          6570,  6601,  6725,  7111,  7347,  7917,  7962,  8177,  8349,\n",
       "          8659,  8744,  9076,  9503,  9967, 10284, 10324, 10413, 10564,\n",
       "         10828, 10877, 11164, 11710, 11748, 12315, 12691, 12923, 13297,\n",
       "         14465, 14638, 14721, 15511, 15724, 15985, 16347, 16639, 17019,\n",
       "         17428, 17439, 17565, 17939, 17941, 18179, 18249, 18302, 18384,\n",
       "         19332, 19397, 19447, 19811, 20971, 21864, 22084, 22750, 22801,\n",
       "         22990, 23067, 23183, 23453, 23555, 23589, 23908, 24457, 24611,\n",
       "         24617, 24749, 26073, 26224, 26635, 27367, 27387, 27742, 27985,\n",
       "         28210, 28223, 28247, 28381, 28596, 29169, 29448, 29512, 30004,\n",
       "         30144, 30170, 30288, 30911, 30937, 30977, 31445, 31470, 32307,\n",
       "         32860, 32864, 33072, 33298, 33776, 34079, 34360, 34683, 34961,\n",
       "         35304, 35635, 35838, 36337, 36683, 37012, 37333, 37388, 38046,\n",
       "         38059, 38097, 38186, 38420, 38432, 38691, 39025, 39302, 39451,\n",
       "         39468, 39975, 41293, 41596, 41900, 42649, 42692, 42947, 43120,\n",
       "         43197, 43474, 43509, 43578, 43673, 43679, 43788, 43812, 43821,\n",
       "         43904, 44693, 45099, 45644, 46108, 46527, 47180, 47229, 47350,\n",
       "         47628, 47684, 49072, 49137, 49547, 50081, 50136, 50294, 50476,\n",
       "         50778, 50938, 51085, 51162, 51406, 51529, 51643, 51704, 52036,\n",
       "         52440, 52855, 53127, 53660, 54108, 54147, 54227, 54461, 54833,\n",
       "         55586, 55654, 55660, 55799, 55800, 56015, 56168, 56428, 56481,\n",
       "         56505, 57024, 57544, 57645, 58058, 58219, 58429, 58535, 58585,\n",
       "         59060]),\n",
       "  array([  100,   117,   124,   253,   290,   454,   528,   543,   555,\n",
       "           671,   675,   695,   861,   901,   958,  1117,  1152,  1267,\n",
       "          1312,  1366,  1382,  1488,  1532,  1607,  1644,  1715,  1722,\n",
       "          1875,  1910,  2053,  2089,  2116,  2144,  2175,  2199,  2242,\n",
       "          2291,  2298,  2301,  2424,  2430,  2436,  2498,  2635,  2657,\n",
       "          2738,  2754,  2761,  2768,  2786,  2893,  2934,  2971,  3053,\n",
       "          3111,  3131,  3141,  3144,  3145,  3387,  3388,  3428,  3552,\n",
       "          3781,  3816,  3822,  3901,  3904,  4076,  4150,  4251,  4272,\n",
       "          4391,  4587,  4634,  4823,  4828,  4956,  5068,  5207,  5313,\n",
       "          5366,  5423,  5463,  5535,  5668,  5808,  5883,  5967,  6004,\n",
       "          6059,  6155,  6248,  6271,  6477,  6565,  6662,  6856,  6934,\n",
       "          6997,  7023,  7046,  7083,  7200,  7260,  7346,  7351,  7518,\n",
       "          7627,  7670,  7756,  7793,  7899,  8071,  8196,  8235,  8404,\n",
       "          8449,  8454,  8488,  8506,  8710,  8922,  8964,  9024,  9242,\n",
       "          9309,  9397,  9412,  9441,  9551,  9582,  9640,  9719,  9740,\n",
       "          9891, 10062, 10174, 10221, 10346, 10362, 10384, 10477, 10694,\n",
       "         10765, 10818, 10860, 10931, 11023, 11091, 11639, 11713, 11726,\n",
       "         11757, 11799, 11825, 11828, 11857, 12021, 12123, 12134, 12264,\n",
       "         12357, 12421, 12427, 12617, 12636, 12682, 12932, 13174, 13331,\n",
       "         13353, 13380, 13506, 13635, 13871, 13894, 14020, 14040, 14046,\n",
       "         14068, 14270, 14387, 14435, 14526, 14681, 14725, 14732, 14746,\n",
       "         14759, 14783, 14898, 15104, 15194, 15243, 15329, 15444, 15472,\n",
       "         15528, 15651, 15717, 15732, 15811, 15899, 16001, 16319, 16376,\n",
       "         16391, 16400, 16443, 16480, 16485, 16723, 16761, 17132, 17230,\n",
       "         17278, 17295, 17301, 17459, 17481, 17495, 17607, 17613, 17617,\n",
       "         17678, 17741, 17868, 18042, 18043, 18186, 18195, 18219, 18236,\n",
       "         18241, 18246, 18308, 18362, 18363, 18501, 18584, 18733, 18800,\n",
       "         18898, 19088, 19156, 19183, 19197, 19227, 19543, 19745, 19850,\n",
       "         19924, 20106, 20259, 20556, 20681, 20686, 20796, 20874, 20923,\n",
       "         21011, 21097, 21110, 21120, 21162, 21177, 21201, 21252, 21271,\n",
       "         21323, 21423, 21496, 21500, 21563, 21696, 21798, 21848, 21885,\n",
       "         22028, 22130, 22275, 22291, 22443, 22455, 22456, 22576, 22661,\n",
       "         22718, 22754, 22813, 22819, 22823, 22852, 22995, 23157, 23158,\n",
       "         23196, 23253, 23320, 23327, 23401, 23430, 23473, 23483, 23529,\n",
       "         23725, 24105, 24208, 24244, 24277, 24439, 24634, 24649, 24849,\n",
       "         25017, 25021, 25067, 25077, 25091, 25150, 25193, 25365, 25576,\n",
       "         25662, 25762, 25956, 25962, 26019, 26234, 26286, 26310, 26320,\n",
       "         26429, 26584, 26750, 26769, 26853, 26856, 27075, 27123, 27159,\n",
       "         27167, 27171, 27317, 27449, 27519, 27567, 27574, 27648, 27704,\n",
       "         27719, 27755, 27863, 27893, 28105, 28118, 28134, 28263, 28300,\n",
       "         28314, 28405, 28442, 28521, 28530, 28595, 28600, 28641, 28698,\n",
       "         28782, 28818, 28840, 29060, 29126, 29194, 29289, 29326, 29379,\n",
       "         29546, 29598, 29696, 29782, 29897, 29926, 29990, 30036, 30106,\n",
       "         30265, 30396, 30433, 30468, 30616, 30760, 30770, 30864, 30906,\n",
       "         30907, 30958, 30989, 31048, 31069, 31083, 31122, 31131, 31211,\n",
       "         31363, 31503, 31994, 32190, 32221, 32246, 32317, 32642, 32647,\n",
       "         32684, 32715, 32752, 32774, 32866, 32941, 33188, 33242, 33311,\n",
       "         33351, 33374, 33453, 33482, 33483, 33489, 33510, 33768, 33770,\n",
       "         33924, 34001, 34132, 34257, 34458, 34524, 34595, 34751, 35390,\n",
       "         35571, 35612, 35687, 35801, 35805, 35909, 36094, 36245, 36288,\n",
       "         36363, 36387, 36529, 36696, 36722, 36815, 36855, 36860, 36964,\n",
       "         37230, 37317, 37473, 37518, 37521, 37595, 37637, 37653, 37661,\n",
       "         37679, 37750, 37768, 37790, 37810, 37890, 38005, 38114, 38183,\n",
       "         38365, 38403, 38491, 38826, 39002, 39127, 39827, 39934, 40156,\n",
       "         40549, 40622, 40782, 40879, 40968, 40969, 41202, 41212, 41406,\n",
       "         41632, 41637, 41711, 41740, 41780, 41812, 41832, 41837, 41851,\n",
       "         42069, 42110, 42274, 42545, 42604, 42833, 43054, 43303, 43468,\n",
       "         43560, 43752, 43754, 43759, 43769, 43813, 43973, 43983, 44053,\n",
       "         44055, 44180, 44186, 44240, 44446, 44525, 44607, 44701, 44788,\n",
       "         44808, 44851, 44873, 44953, 44977, 44983, 45009, 45258, 45484,\n",
       "         45501, 45539, 45562, 45900, 45970, 46039, 46098, 46126, 46308,\n",
       "         46328, 46337, 46469, 46689, 46702, 46827, 46879, 46918, 46949,\n",
       "         47029, 47203, 47501, 47553, 47565, 47620, 47639, 47659, 47671,\n",
       "         47681, 47756, 47785, 47918, 47968, 48013, 48162, 48207, 48242,\n",
       "         48323, 48342, 48369, 48503, 48669, 48671, 48846, 48856, 48867,\n",
       "         48976, 49002, 49038, 49171, 49187, 49358, 49370, 49422, 49426,\n",
       "         49500, 49828, 49898, 50166, 50186, 50271, 50289, 50327, 50374,\n",
       "         50498, 50537, 50563, 50568, 50635, 50741, 50768, 51257, 51316,\n",
       "         51320, 51378, 51471, 51475, 51560, 51614, 51624, 51696, 51739,\n",
       "         51740, 51858, 51879, 51898, 51905, 52045, 52059, 52180, 52400,\n",
       "         52439, 52556, 52589, 52596, 52766, 52819, 52824, 52828, 52863,\n",
       "         52879, 52948, 53035, 53175, 53600, 53615, 53840, 53985, 54014,\n",
       "         54034, 54173, 54287, 54337, 54464, 54552, 54558, 54700, 54735,\n",
       "         54743, 54749, 54845, 54993, 55152, 55155, 55281, 55286, 55353,\n",
       "         55356, 55455, 55532, 55564, 55648, 55670, 55782, 55875, 55997,\n",
       "         56042, 56086, 56443, 56465, 56477, 56530, 56545, 56551, 56691,\n",
       "         56927, 56980, 57087, 57089, 57148, 57219, 57335, 57381, 57446,\n",
       "         57684, 57715, 57736, 57751, 57922, 58002, 58154, 58267, 58281,\n",
       "         58327, 58348, 58442, 58557, 58695, 58839, 58908, 58983, 59032,\n",
       "         59072, 59158, 59246, 59270, 59462, 59507, 59559, 59625, 59665,\n",
       "         59790, 59841]),\n",
       "  array([  218,   499,   566,  1615,  2239,  2646,  4028,  4176,  4310,\n",
       "          4902,  5086,  5712,  6000,  6529,  7233,  7338,  7704,  8156,\n",
       "          8387,  8916,  9114,  9305, 10280, 10552, 10985, 11124, 11845,\n",
       "         12023, 12443, 12657, 14926, 15121, 16258, 16907, 16947, 18708,\n",
       "         19060, 19069, 19315, 19484, 19703, 19911, 20291, 20590, 20698,\n",
       "         21031, 21994, 23429, 23625, 23665, 23687, 24020, 24588, 24902,\n",
       "         24942, 26663, 27062, 27305, 27477, 27845, 28163, 29378, 29678,\n",
       "         29969, 30834, 31541, 32012, 32346, 34043, 34616, 35136, 35151,\n",
       "         35384, 35654, 37600, 38127, 38357, 38403, 38494, 39599, 39663,\n",
       "         39832, 39833, 39894, 40542, 40883, 41690, 41990, 41994, 42300,\n",
       "         42657, 44317, 44379, 44458, 44526, 45276, 45333, 45666, 47371,\n",
       "         48714, 48929, 49061, 49077, 49195, 49258, 49580, 49730, 50058,\n",
       "         50244, 50474, 50597, 50994, 51315, 51897, 51908, 52524, 52592,\n",
       "         53667, 54426, 54853, 55017, 55740, 56155, 56471, 57067, 58238,\n",
       "         58973, 59519, 59707]))}"
      ]
     },
     "execution_count": 20,
     "metadata": {},
     "output_type": "execute_result"
    }
   ],
   "source": [
    "result['node_metadata']"
   ]
  },
  {
   "cell_type": "code",
   "execution_count": 12,
   "metadata": {},
   "outputs": [
    {
     "data": {
      "text/plain": [
       "array([    0,     9,    60, ..., 59907, 59970, 59978])"
      ]
     },
     "execution_count": 12,
     "metadata": {},
     "output_type": "execute_result"
    }
   ],
   "source": [
    "node_elements[20]"
   ]
  },
  {
   "cell_type": "code",
   "execution_count": 11,
   "metadata": {},
   "outputs": [
    {
     "data": {
      "application/vnd.plotly.v1+json": {
       "config": {
        "plotlyServerURL": "https://plot.ly"
       },
       "data": [
        {
         "alignmentgroup": "True",
         "bingroup": "x",
         "hovertemplate": "variable=0<br>value=%{x}<br>count=%{y}<extra></extra>",
         "legendgroup": "0",
         "marker": {
          "color": "#636efa"
         },
         "name": "0",
         "offsetgroup": "0",
         "orientation": "v",
         "showlegend": true,
         "type": "histogram",
         "x": [
          9,
          5,
          5,
          9,
          9,
          5,
          9,
          9,
          9,
          5,
          5,
          5,
          9,
          9,
          5,
          5,
          9,
          9,
          9,
          9,
          9,
          5,
          9,
          9,
          9,
          9,
          9,
          9,
          5,
          9,
          9,
          9,
          7,
          9,
          9,
          9,
          9,
          7,
          9,
          9,
          9,
          9,
          9,
          9,
          9,
          9,
          9,
          5,
          9,
          9,
          9,
          9,
          5,
          9,
          9,
          9,
          5,
          9,
          9,
          9,
          9,
          9,
          5,
          5,
          9,
          9,
          9,
          9,
          5,
          9,
          9,
          9,
          9,
          9,
          9,
          7,
          9,
          5,
          5,
          9,
          9,
          9,
          9,
          9,
          9,
          9,
          5,
          9,
          9,
          9,
          9,
          9,
          9,
          9,
          9,
          9,
          9,
          9,
          9,
          9,
          9,
          9,
          5,
          5,
          9,
          9,
          9,
          9,
          9,
          5,
          9,
          9,
          5,
          5,
          9,
          9,
          9,
          9,
          8,
          5,
          9,
          7,
          5,
          5,
          9,
          9,
          9,
          9,
          9,
          9,
          5,
          9,
          9,
          9,
          9,
          9,
          5,
          9,
          5,
          5,
          5,
          9,
          9,
          9,
          9,
          9,
          5,
          9,
          9,
          9,
          5,
          9,
          9,
          7,
          5,
          5,
          9,
          9,
          5,
          9,
          9,
          9,
          9,
          5,
          9,
          9,
          5,
          9,
          9,
          9,
          9,
          9,
          9,
          9,
          9,
          7,
          9,
          9,
          9,
          9,
          9,
          9,
          9,
          9,
          9,
          7,
          9,
          9,
          9,
          9,
          9,
          9,
          9,
          5,
          9,
          9,
          5,
          9,
          9,
          9,
          9,
          9,
          5,
          9,
          9,
          9,
          9,
          5,
          5,
          9,
          9,
          5,
          5,
          9,
          9,
          5,
          9,
          9,
          9,
          9,
          9,
          9,
          9,
          9,
          5,
          9,
          5,
          5,
          9,
          9,
          9,
          9,
          9,
          5,
          9,
          9,
          9,
          9,
          9,
          9,
          9,
          5,
          9,
          9,
          9,
          9,
          9,
          9,
          9,
          9,
          9,
          9,
          7,
          9,
          9,
          9,
          9,
          9,
          9,
          5,
          9,
          5,
          9,
          9,
          9,
          9,
          5,
          5,
          9,
          9,
          9,
          5,
          9,
          9,
          5,
          9,
          9,
          9,
          9,
          9,
          9,
          5,
          9,
          5,
          9,
          9,
          9,
          9,
          9,
          5,
          5,
          9,
          9,
          9,
          9,
          5,
          9,
          9,
          9,
          9,
          9,
          9,
          9,
          9,
          9,
          9,
          9,
          9,
          5,
          9,
          9,
          9,
          9,
          9,
          9,
          9,
          9,
          5,
          9,
          9,
          9,
          9,
          9,
          9,
          9,
          5,
          9,
          9,
          9,
          9,
          9,
          9,
          9,
          9,
          9,
          9,
          9,
          9,
          9,
          9,
          9,
          9,
          9,
          9,
          9,
          5,
          9,
          5,
          9,
          9,
          9,
          9,
          9,
          9,
          9,
          9,
          9,
          9,
          9,
          9,
          9,
          9,
          9,
          9,
          9,
          9,
          5,
          9,
          9,
          9,
          9,
          5,
          7,
          9,
          9,
          9,
          9,
          9,
          5,
          9,
          9,
          9,
          9,
          9,
          9,
          9,
          9,
          9,
          9,
          5,
          9,
          9,
          9,
          5,
          9,
          5,
          9,
          9,
          9,
          9,
          9,
          9,
          9,
          9,
          9,
          9,
          5,
          9,
          9,
          9,
          9,
          9,
          9,
          9,
          5,
          9,
          9,
          9,
          9,
          9,
          9,
          9,
          9,
          9,
          9,
          9,
          9,
          9,
          9,
          9,
          9,
          9,
          9,
          9,
          9,
          9,
          9,
          9,
          9,
          9,
          9,
          5,
          9,
          9,
          9,
          9,
          9,
          5,
          9,
          9,
          9,
          9,
          9,
          9,
          7,
          9,
          9,
          9,
          9,
          5,
          9,
          9,
          9,
          9,
          9,
          9,
          5,
          9,
          9,
          5,
          5,
          5,
          5,
          9,
          9,
          9,
          9,
          9,
          9,
          9,
          5,
          9,
          9,
          9,
          9,
          5,
          9,
          9,
          9,
          9,
          9,
          5,
          9,
          9,
          9,
          7,
          9,
          9,
          9,
          9,
          9,
          9,
          9,
          9,
          9,
          9,
          9,
          9,
          9,
          9,
          9,
          9,
          5,
          9,
          9,
          9,
          9,
          9,
          9,
          9,
          9,
          9,
          9,
          9,
          5,
          9,
          5,
          9,
          9,
          9,
          9,
          9,
          9,
          9,
          9,
          9,
          9,
          8,
          9,
          9,
          9,
          9,
          9,
          9,
          9,
          9,
          5,
          9,
          9,
          9,
          9,
          9,
          9,
          9,
          9,
          9,
          5,
          9,
          9,
          9,
          9,
          5,
          9,
          5,
          5,
          9,
          5,
          9,
          9,
          5,
          9,
          9,
          9,
          9,
          5,
          9,
          9,
          9,
          9,
          9,
          9,
          9,
          5,
          5,
          9,
          9,
          9,
          9,
          9,
          9,
          5,
          9,
          5,
          9,
          9,
          9,
          9,
          5,
          5,
          9,
          9,
          9,
          5,
          9,
          5,
          5,
          9,
          9,
          9,
          9,
          9,
          5,
          9,
          9,
          9,
          9,
          9,
          9,
          9,
          9,
          9,
          5,
          9,
          5,
          9,
          9,
          5,
          9,
          5,
          9,
          9,
          9,
          9,
          9,
          5,
          9,
          9,
          9,
          9,
          9,
          9,
          9,
          9,
          9,
          9,
          9,
          9,
          9,
          9,
          9,
          9,
          9,
          9,
          9,
          9,
          9,
          5,
          5,
          9,
          9,
          9,
          9,
          9,
          9,
          9,
          9,
          9,
          9,
          5,
          9,
          9,
          5,
          9,
          9,
          9,
          9,
          9,
          9,
          9,
          8,
          9,
          9,
          9,
          5,
          9,
          9,
          9,
          9,
          5,
          9,
          9,
          5,
          9,
          5,
          9,
          9,
          9,
          9,
          9,
          9,
          5,
          9,
          9,
          9,
          9,
          9,
          9,
          5,
          9,
          9,
          9,
          9,
          9,
          5,
          9,
          9,
          5,
          9,
          9,
          9,
          5,
          9,
          9,
          9,
          5,
          9,
          9,
          5,
          9,
          9,
          9,
          9,
          9,
          9,
          9,
          9,
          9,
          9,
          9,
          9,
          5,
          9,
          9,
          9,
          9,
          9,
          9,
          9,
          9,
          9,
          5,
          5,
          5,
          9,
          5,
          5,
          9,
          5,
          9,
          9,
          5,
          9,
          9,
          5,
          9,
          9,
          5,
          5,
          9,
          9,
          9,
          9,
          9,
          9,
          9,
          9,
          9,
          9,
          9,
          5,
          9,
          9,
          5,
          9,
          9,
          9,
          9,
          9,
          9,
          9,
          9,
          5,
          9,
          9,
          9,
          9,
          9,
          9,
          9,
          9,
          9,
          9,
          9,
          9,
          9,
          9,
          9,
          9,
          9,
          5,
          7,
          5,
          9,
          9,
          9,
          9,
          9,
          9,
          9,
          9,
          9,
          9,
          9,
          5,
          5,
          9,
          5,
          9,
          9,
          9,
          5,
          9,
          7,
          9,
          9,
          9,
          9,
          5,
          9,
          9,
          9,
          9,
          7,
          9,
          9,
          9,
          9,
          7,
          9,
          9,
          9,
          9,
          5,
          9,
          9,
          9,
          9,
          5,
          5,
          9,
          9,
          9,
          9,
          9,
          9,
          9,
          9,
          9,
          9,
          9,
          9,
          9,
          9,
          9,
          9,
          9,
          9,
          9,
          9,
          9,
          9,
          9,
          9,
          9,
          9,
          9,
          9,
          9,
          5,
          9,
          9,
          5,
          9,
          5,
          9,
          9,
          9,
          9,
          9,
          9,
          9,
          5,
          9,
          9,
          9,
          9,
          9,
          9,
          5,
          9,
          9,
          9,
          5,
          9,
          9,
          9,
          9,
          9,
          9,
          9,
          9,
          9,
          9,
          9,
          7,
          9,
          9,
          9,
          7,
          9,
          9,
          9,
          9,
          7,
          9,
          9,
          5,
          9,
          9,
          9,
          9,
          9,
          9,
          9,
          9,
          9,
          5,
          9,
          7,
          5,
          9,
          9,
          9,
          9,
          9,
          9,
          9,
          8,
          9,
          9,
          5,
          9,
          9,
          5,
          9,
          9,
          9,
          9,
          9,
          9,
          9,
          9,
          5,
          9,
          9,
          9,
          9,
          9,
          9,
          9,
          9,
          5,
          9,
          9,
          9,
          9,
          9,
          5,
          9,
          9,
          9,
          9,
          9,
          9,
          9,
          9,
          5,
          9,
          9,
          9,
          9,
          7,
          5,
          9,
          5,
          9,
          5,
          5,
          9,
          5,
          9,
          9,
          9,
          5,
          9,
          5,
          9,
          9,
          9,
          9,
          9,
          5,
          5,
          9,
          9,
          5,
          9,
          9,
          9,
          9,
          9,
          9,
          5,
          9,
          9,
          5,
          9,
          9,
          9,
          9,
          5,
          5,
          9,
          9,
          9,
          9,
          9,
          9,
          9,
          9,
          9,
          5,
          9,
          9,
          9,
          9,
          5,
          9,
          9,
          9,
          9,
          9,
          9,
          9,
          5,
          9,
          9,
          9,
          9,
          5,
          9,
          9,
          9,
          9,
          5,
          9,
          9,
          9,
          5,
          5,
          9,
          9,
          9,
          9,
          5,
          9,
          5,
          9,
          9,
          5,
          9,
          9,
          5,
          9,
          9,
          9,
          5,
          9,
          9,
          9,
          9,
          9,
          9,
          5,
          5,
          9,
          9,
          5,
          9,
          9,
          9,
          9,
          9,
          9,
          9,
          9,
          9,
          9,
          9,
          5,
          9,
          9,
          9,
          9,
          9,
          9,
          9,
          9,
          9,
          9,
          9,
          9,
          9,
          9,
          9,
          9,
          9,
          9,
          5,
          9,
          9,
          5,
          9,
          9,
          5,
          9,
          9,
          5,
          9,
          9,
          9,
          9,
          9,
          9,
          9,
          5,
          9,
          5,
          9,
          9,
          9,
          5,
          9,
          9,
          9,
          9,
          9,
          5,
          9,
          9,
          9,
          9,
          9,
          9,
          9,
          9,
          9,
          5,
          9,
          5,
          9,
          9,
          9,
          9,
          9,
          9,
          9,
          5,
          5,
          9,
          9,
          9,
          9,
          9,
          9,
          7,
          9,
          5,
          9,
          9,
          9,
          9,
          9,
          9,
          9,
          9,
          9,
          7,
          9,
          9,
          9,
          7,
          9,
          9,
          9,
          9,
          9,
          9,
          9,
          9,
          9,
          9,
          9,
          5,
          9,
          9,
          9,
          9,
          5,
          9,
          9,
          5,
          9,
          9,
          9,
          9,
          7,
          9,
          9,
          9,
          9,
          5,
          9,
          9,
          5,
          9,
          5,
          9,
          9,
          9,
          5,
          9,
          9,
          9,
          9,
          5,
          9,
          5,
          5,
          5,
          5,
          5,
          9,
          9,
          9,
          9,
          9,
          9,
          5,
          9,
          9,
          9,
          9,
          5,
          5,
          9,
          5,
          9,
          9,
          9,
          9,
          5,
          9,
          9,
          9,
          5,
          9,
          9,
          9,
          5,
          9,
          9,
          9,
          9,
          9,
          9,
          9,
          9,
          5,
          5,
          9,
          9,
          5,
          9,
          9,
          9,
          9,
          9,
          9,
          9,
          9,
          9,
          9,
          9,
          9,
          9,
          5,
          9,
          9,
          9,
          9,
          5,
          9,
          5,
          9,
          9,
          9,
          9,
          9,
          9,
          7,
          9,
          9,
          9,
          5,
          9,
          9,
          9,
          9,
          9,
          5,
          9,
          5,
          9,
          9,
          9,
          9,
          9,
          9,
          9,
          9,
          9,
          9,
          9,
          9,
          9,
          9,
          9,
          5,
          9,
          5,
          9,
          5,
          9,
          9,
          9,
          9,
          5,
          9,
          9,
          9,
          9,
          9,
          9,
          9,
          9,
          9,
          9,
          9,
          9,
          9,
          9,
          9,
          9,
          5,
          9,
          9,
          5,
          9,
          9,
          9,
          9,
          9,
          9,
          9,
          9,
          5,
          5,
          7,
          5,
          9,
          5,
          9,
          9,
          5,
          9,
          5,
          9,
          9,
          9,
          9,
          9,
          9,
          9,
          5,
          9,
          9,
          9,
          9,
          9,
          9,
          9,
          5,
          9,
          9,
          9,
          9,
          9,
          9,
          9,
          9,
          9,
          9,
          9,
          9,
          9,
          9,
          9,
          9,
          9,
          9,
          9,
          5,
          9,
          9,
          9,
          9,
          9,
          9,
          9,
          5,
          5,
          9,
          5,
          5,
          9,
          5,
          9,
          9,
          5,
          9,
          9,
          9,
          9,
          9,
          9,
          9,
          9,
          9,
          5,
          5,
          9,
          9,
          9,
          9,
          9,
          9,
          9,
          5,
          9,
          9,
          9,
          9,
          9,
          9,
          9,
          9,
          9,
          5,
          9,
          9,
          9,
          9,
          9,
          9,
          5,
          9,
          9,
          9,
          9,
          9,
          9,
          9,
          9,
          9,
          9,
          9,
          9,
          9,
          9,
          5,
          5,
          5,
          9,
          9,
          9,
          9,
          5,
          5,
          9,
          9,
          9,
          9,
          9,
          9,
          9,
          5,
          9,
          9,
          9,
          9,
          9,
          9,
          9,
          5,
          9,
          9,
          9,
          5,
          9,
          9,
          9,
          9,
          9,
          5,
          9,
          9,
          9,
          5,
          9,
          9,
          9,
          9,
          9,
          9,
          9,
          5,
          5,
          9,
          9,
          5,
          9,
          9,
          5,
          9,
          9,
          9,
          9,
          9,
          5,
          9,
          5,
          9,
          9,
          9,
          9,
          9,
          9,
          9,
          9,
          9,
          9,
          9,
          9,
          5,
          9,
          9,
          9,
          5,
          9,
          9,
          5,
          9,
          5,
          9,
          9,
          5,
          5,
          9,
          9,
          9,
          9,
          9,
          9,
          9,
          9,
          9,
          9,
          9,
          9,
          9,
          9,
          5,
          9,
          5,
          5,
          9,
          9,
          9,
          9,
          9,
          5,
          9,
          5,
          9,
          5,
          5,
          9,
          9,
          9,
          9,
          5,
          9,
          5,
          5,
          5,
          9,
          9,
          9,
          5,
          9,
          9,
          9,
          9,
          9,
          9,
          9,
          9,
          9,
          9,
          9,
          9,
          5,
          9,
          9,
          9,
          9,
          9,
          9,
          9,
          9,
          9,
          9,
          9,
          9,
          9,
          9,
          9,
          9,
          9,
          9,
          9,
          7,
          9,
          9,
          9,
          9,
          9,
          9,
          9,
          9,
          9,
          9,
          9,
          9,
          9,
          9,
          9,
          9,
          5,
          9,
          9,
          9,
          9,
          9,
          9,
          9,
          5,
          5,
          7,
          5,
          5,
          5,
          9,
          9,
          5,
          9,
          9,
          9,
          9,
          7,
          9,
          9,
          9,
          9,
          9,
          9,
          5,
          9,
          7,
          9,
          5,
          9,
          9,
          9,
          9,
          9,
          9,
          9,
          5,
          9,
          9,
          9,
          7,
          9,
          9,
          5,
          9,
          9,
          9,
          9,
          9,
          9,
          9,
          9,
          9,
          9,
          9,
          9,
          9,
          9,
          9,
          9,
          9,
          7,
          9,
          9,
          9,
          5,
          9,
          9,
          9,
          9,
          9,
          9,
          9,
          9,
          5,
          5,
          9,
          9,
          9,
          9,
          9,
          7,
          9,
          9,
          9,
          5,
          9,
          9,
          9,
          9,
          9,
          9,
          9,
          9,
          9,
          9,
          9,
          5,
          5,
          5,
          5,
          9,
          5,
          9,
          5,
          9,
          9,
          9,
          9,
          9,
          5,
          9,
          9,
          9,
          9,
          9,
          9,
          9,
          9,
          5,
          9,
          9,
          9,
          5,
          9,
          5,
          9,
          9,
          9,
          5,
          9,
          9,
          5,
          9,
          5,
          9,
          9,
          9,
          9,
          9,
          9,
          9,
          9,
          5,
          9,
          9,
          9,
          9,
          9,
          9,
          9,
          9,
          9,
          5,
          9,
          9,
          5,
          9,
          9,
          9,
          9,
          9,
          9,
          9,
          9,
          9,
          9,
          9,
          9,
          9,
          9,
          9,
          5,
          9,
          9,
          9,
          9,
          5,
          9,
          9,
          9,
          9,
          7,
          9,
          9,
          9,
          9,
          9,
          9,
          9,
          9,
          9,
          9,
          5,
          9,
          9,
          5,
          9,
          5,
          9,
          9,
          9,
          9,
          9,
          9,
          9,
          9,
          5,
          9,
          9,
          5,
          5,
          5,
          9,
          9,
          5,
          9,
          9,
          9,
          9,
          9,
          9,
          9,
          9,
          9,
          9,
          9,
          9,
          9,
          9,
          9,
          9,
          9,
          9,
          9,
          9,
          9,
          9,
          9,
          9,
          9,
          9,
          9,
          9,
          9,
          9,
          5,
          5,
          9,
          5,
          9,
          9,
          5,
          9,
          9,
          9,
          9,
          9,
          9,
          9,
          9,
          5,
          5,
          9,
          9,
          9,
          9,
          5,
          9,
          9,
          9,
          5,
          9,
          9,
          9,
          9,
          9,
          5,
          9,
          5,
          9,
          9,
          9,
          9,
          9,
          9,
          9,
          9,
          9,
          9,
          5,
          9,
          5,
          9,
          9,
          9,
          9,
          9,
          9,
          9,
          9,
          9,
          9,
          9,
          9,
          9,
          9,
          9,
          9,
          9,
          5,
          5,
          9,
          9,
          9,
          9,
          9,
          9,
          9,
          5,
          9,
          9,
          9,
          9,
          9,
          5,
          9,
          9,
          5,
          9,
          9,
          9,
          9,
          9,
          9,
          5,
          5,
          9,
          9,
          9,
          9,
          9,
          9,
          9,
          5,
          9,
          9,
          9,
          5,
          5,
          9,
          9,
          9,
          9,
          9,
          9,
          9,
          9,
          9,
          9,
          9,
          9,
          9,
          9,
          9,
          9,
          5,
          9,
          9,
          9,
          5,
          9,
          9,
          9,
          9,
          5,
          9,
          9,
          9,
          9,
          9,
          9,
          9,
          9,
          9,
          5,
          5,
          5,
          9,
          9,
          9,
          9,
          5,
          9,
          9,
          5,
          9,
          9,
          9,
          9,
          5,
          9,
          9,
          9,
          9,
          9,
          9,
          9,
          9,
          5,
          9,
          9,
          9,
          9,
          9,
          5,
          9,
          5,
          5,
          9,
          9,
          9,
          9,
          9,
          5,
          9,
          9,
          9,
          9,
          5,
          9,
          9,
          9,
          9,
          7,
          9,
          9,
          9,
          5,
          9,
          5,
          9,
          9,
          5,
          9,
          5,
          9,
          9,
          9,
          9,
          9,
          9,
          9,
          9,
          9,
          7,
          9,
          9,
          9,
          9,
          9,
          5,
          9,
          9,
          9,
          9,
          9,
          5,
          9,
          9,
          9,
          9,
          9,
          7,
          9,
          9,
          9,
          5,
          9,
          9,
          9,
          9,
          9,
          9,
          9,
          9,
          9,
          9,
          9,
          9,
          9,
          9,
          8,
          9,
          9,
          9,
          9,
          9,
          9,
          9,
          9,
          9,
          9,
          9,
          9,
          5,
          9,
          9,
          5,
          9,
          9,
          9,
          9,
          9,
          9,
          9,
          9,
          5,
          9,
          9,
          9,
          9,
          9,
          9,
          9,
          9,
          9,
          9,
          9,
          5,
          9,
          9,
          9,
          9,
          9,
          9,
          9,
          9,
          9,
          9,
          9,
          9,
          9,
          9,
          5,
          5,
          9,
          5,
          9,
          9,
          5,
          9,
          5,
          9,
          9,
          9,
          9,
          5,
          9,
          5,
          9,
          9,
          9,
          9,
          9,
          9,
          9,
          9,
          5,
          9,
          9,
          9,
          5,
          9,
          9,
          9,
          9,
          9,
          9,
          9,
          5,
          7,
          9,
          9,
          9,
          9,
          9,
          9,
          5,
          9,
          9,
          9,
          9,
          9,
          9,
          5,
          9,
          9,
          9,
          5,
          9,
          9,
          9,
          5,
          9,
          9,
          5,
          9,
          5,
          9,
          5,
          9,
          9,
          9,
          9,
          9,
          9,
          5,
          9,
          9,
          9,
          9,
          9,
          9,
          9,
          9,
          9,
          9,
          9,
          9,
          9,
          9,
          9,
          9,
          9,
          9,
          9,
          9,
          9,
          9,
          9,
          5,
          9,
          5,
          9,
          9,
          9,
          9,
          9,
          9,
          9,
          5,
          9,
          9,
          9,
          9,
          7,
          9,
          9,
          9,
          5,
          9,
          9,
          9,
          9,
          5,
          9,
          9,
          5,
          9,
          9,
          9,
          9,
          5,
          9,
          9,
          9,
          5,
          9,
          9,
          9,
          5,
          5,
          9,
          9,
          9,
          9,
          9,
          9,
          9,
          5,
          9,
          9,
          9,
          9,
          9,
          9,
          9,
          9,
          9,
          9,
          9,
          9,
          5,
          9,
          9,
          9,
          5,
          9,
          5,
          8,
          9,
          5,
          9,
          5,
          9,
          9,
          5,
          9,
          9,
          9,
          9,
          9,
          9,
          9,
          9,
          9,
          9,
          9,
          9,
          9,
          9,
          9,
          9,
          9,
          9,
          9,
          9,
          9,
          9,
          9,
          9,
          9,
          9,
          9,
          9,
          9,
          7,
          9,
          9,
          9,
          9,
          9,
          9,
          9,
          9,
          9,
          9,
          9,
          9,
          5,
          9,
          9,
          5,
          9,
          9,
          5,
          9,
          9,
          5,
          9,
          9,
          9,
          9,
          9,
          9,
          9,
          9,
          9,
          9,
          9,
          9,
          5,
          9,
          9,
          9,
          9,
          9,
          9,
          9,
          5,
          9,
          9,
          9,
          9,
          9,
          9,
          9,
          5,
          9,
          5,
          9,
          9,
          9,
          5,
          5,
          9,
          5,
          5,
          9,
          9,
          9,
          9,
          9,
          9,
          9,
          9,
          9,
          9,
          5,
          9,
          5,
          9,
          9,
          5,
          9,
          9,
          5,
          9,
          9,
          9,
          9,
          9,
          9,
          9,
          9,
          9,
          9,
          9,
          9,
          9,
          9,
          9,
          9,
          5,
          5,
          9,
          9,
          9,
          9,
          9,
          9,
          9,
          9,
          9,
          5,
          9,
          9,
          9,
          9,
          9,
          5,
          9,
          9,
          9,
          9,
          9,
          9,
          9,
          9,
          5,
          9,
          9,
          5,
          9,
          9,
          9,
          9,
          9,
          9,
          9,
          9,
          5,
          5,
          9,
          9,
          9,
          9,
          9,
          9,
          9,
          9,
          9,
          9,
          9,
          9,
          5,
          9,
          9,
          5,
          9,
          9,
          9,
          9,
          9,
          9,
          9,
          9,
          9,
          9,
          9,
          9,
          9,
          9,
          9,
          5,
          9,
          9,
          9,
          9,
          9,
          9,
          9,
          7,
          5,
          9,
          9,
          9,
          9,
          5,
          9,
          9,
          9,
          9,
          5,
          9,
          5,
          9,
          5,
          5,
          9,
          5,
          9,
          9,
          9,
          5,
          9,
          9,
          9,
          9,
          9,
          9,
          9,
          9,
          9,
          5,
          5,
          9,
          9,
          9,
          9,
          9,
          9,
          9,
          5,
          9,
          5,
          9,
          9,
          5,
          9,
          9,
          9,
          9,
          5,
          9,
          9,
          9,
          9,
          9,
          9,
          9,
          9,
          9,
          9,
          9,
          9,
          9,
          9,
          9,
          9,
          9,
          5,
          9,
          9,
          9,
          9,
          5,
          9,
          9,
          9,
          9,
          9,
          9,
          9,
          5,
          9,
          9,
          9,
          9,
          9,
          9,
          9,
          9,
          5,
          9,
          9,
          9,
          9,
          9,
          9,
          9,
          9,
          9,
          9,
          9,
          9,
          9,
          9,
          9,
          9,
          5,
          9,
          9,
          9,
          9,
          9,
          9,
          9,
          9,
          9,
          9,
          9,
          9,
          9,
          5,
          9,
          9,
          9,
          9,
          9,
          9,
          9,
          9,
          9,
          9,
          9,
          5,
          9,
          9,
          5,
          5,
          9,
          9,
          9,
          9,
          9,
          9,
          9,
          9,
          9,
          5,
          9,
          9,
          9,
          9,
          9,
          9,
          9,
          9,
          9,
          9,
          9,
          9,
          9,
          9,
          9,
          9,
          9,
          9,
          5,
          9,
          9,
          5,
          7,
          9,
          9,
          9,
          5,
          9,
          5,
          9,
          9,
          9,
          9,
          9,
          9,
          5,
          9,
          9,
          9,
          9,
          9,
          9,
          9,
          9,
          9,
          9,
          5,
          5,
          9,
          5,
          9,
          9,
          9,
          9,
          9,
          9,
          9,
          5,
          9,
          9,
          5,
          5,
          5,
          9,
          9,
          9,
          5,
          9,
          9,
          9,
          9,
          9,
          9,
          9,
          9,
          9,
          5,
          9,
          9,
          9,
          5,
          9,
          9,
          9,
          9,
          9,
          9,
          9,
          9,
          9,
          9,
          9,
          9,
          9,
          9,
          9,
          5,
          5,
          9,
          9,
          9,
          9,
          9,
          9,
          9,
          9,
          9,
          9,
          5,
          9,
          5,
          9,
          9,
          7,
          9,
          9,
          9,
          9,
          9,
          5,
          9,
          9,
          9,
          9,
          9,
          9,
          9,
          9,
          9,
          5,
          9,
          9,
          9,
          9,
          9,
          9,
          5,
          9,
          7,
          7,
          9,
          5,
          5,
          9,
          5,
          9,
          9,
          9,
          9,
          9,
          9,
          5,
          5,
          9,
          5,
          9,
          5,
          9,
          9,
          9,
          5,
          9,
          9,
          9,
          9,
          7,
          9,
          9,
          9,
          9,
          5,
          9,
          9,
          9,
          9,
          5,
          9,
          9,
          9,
          9,
          9,
          9,
          9,
          9,
          9,
          9,
          9,
          5,
          9,
          9,
          9,
          7,
          9,
          9,
          9,
          9,
          9,
          9,
          9,
          9,
          9,
          9,
          9,
          9,
          9,
          9,
          9,
          5,
          5,
          5,
          9,
          9,
          9,
          9,
          9,
          9,
          9,
          9,
          5,
          9,
          9,
          9,
          5,
          9,
          9,
          9,
          9,
          9,
          5,
          9,
          9,
          9,
          9,
          9,
          5,
          5,
          9,
          9,
          9,
          9,
          5,
          9,
          9,
          5,
          9,
          9,
          9,
          5,
          9,
          9,
          9,
          9,
          9,
          9,
          5,
          5,
          9,
          9,
          9,
          9,
          9,
          9,
          9,
          9,
          9,
          9,
          5,
          9,
          9,
          9,
          9,
          9,
          9,
          9,
          9,
          9,
          9,
          9,
          9,
          5,
          9,
          7,
          5,
          9,
          9,
          9,
          9,
          9,
          5,
          5,
          9,
          9,
          5,
          9,
          9,
          9,
          9,
          9,
          9,
          9,
          9,
          9,
          5,
          9,
          9,
          5,
          9,
          9,
          9,
          9,
          9,
          9,
          9,
          9,
          9,
          5,
          9,
          9,
          9,
          9,
          5,
          9,
          9,
          5,
          5,
          9,
          7,
          9,
          9,
          8,
          9,
          9,
          5,
          9,
          9,
          9,
          5,
          9,
          9,
          9,
          5,
          5,
          9,
          9,
          5,
          9,
          9,
          9,
          9,
          9,
          9,
          9,
          9,
          5,
          5,
          9,
          9,
          9,
          9,
          9,
          5,
          9,
          9,
          9,
          5,
          9,
          9,
          9,
          9,
          9,
          9,
          9,
          9,
          9,
          9,
          9,
          9,
          9,
          9,
          9,
          9,
          9,
          9,
          9,
          5,
          9,
          9,
          9,
          9,
          9,
          9,
          5,
          9,
          9,
          9,
          9,
          9,
          9,
          9,
          9,
          9,
          9,
          9,
          9,
          9,
          9,
          5,
          5,
          9,
          9,
          9,
          9,
          9,
          9,
          9,
          9,
          9,
          9,
          5,
          9,
          9,
          9,
          9,
          9,
          9,
          9,
          5,
          9,
          9,
          5,
          9,
          9,
          5,
          9,
          9,
          5,
          9,
          9,
          5,
          9,
          5,
          9,
          5,
          9,
          5,
          9,
          9,
          9,
          9,
          9,
          9,
          9,
          5,
          9,
          9,
          9,
          9,
          9,
          9,
          9,
          9,
          9,
          9,
          9,
          9,
          9,
          9,
          7,
          9,
          9,
          9,
          9,
          9,
          9,
          9,
          9,
          9,
          9,
          9,
          9,
          9,
          9,
          9,
          9,
          5,
          9,
          5,
          9,
          9,
          9,
          5,
          9,
          5,
          9,
          9,
          5,
          9,
          9,
          9,
          5,
          5,
          9,
          5,
          9,
          9,
          9,
          9,
          9,
          9,
          9,
          9,
          9,
          9,
          9,
          9,
          9,
          9,
          9,
          9,
          9,
          9,
          9,
          9,
          9,
          5,
          9,
          9,
          9,
          9,
          9,
          9,
          9,
          9,
          5,
          9,
          9,
          9,
          9,
          9,
          9,
          9,
          9,
          9,
          5,
          5,
          5,
          9,
          9,
          9,
          9,
          9,
          9,
          9,
          9,
          9,
          9,
          9,
          9,
          5,
          9,
          9,
          9,
          5,
          9,
          9,
          9,
          9,
          9,
          5,
          9,
          9,
          9,
          9,
          9,
          9,
          9,
          9,
          5,
          9,
          9,
          9,
          9,
          9,
          9,
          9,
          9,
          9,
          5,
          9,
          9,
          9,
          9,
          5,
          9,
          5,
          9,
          9,
          5,
          9,
          9,
          9,
          9,
          5,
          9,
          9,
          9,
          5,
          9,
          9,
          9,
          9,
          5,
          5,
          9,
          9,
          9,
          9,
          5,
          9,
          9,
          9,
          5,
          9,
          9,
          9,
          9,
          9,
          9,
          9,
          9,
          9,
          9,
          9,
          9,
          9,
          9,
          9,
          9,
          9,
          9,
          9,
          9,
          9,
          9,
          5,
          9,
          9,
          9,
          9,
          9,
          9,
          9,
          9,
          5,
          9,
          9,
          9,
          9,
          9,
          9,
          9,
          9,
          9,
          9,
          5,
          9,
          9,
          5,
          9,
          9,
          9,
          9,
          9,
          9,
          9,
          5,
          5,
          9,
          9,
          9,
          5,
          9,
          7,
          9,
          9,
          9,
          9,
          9,
          9,
          5,
          9,
          9,
          9,
          9,
          9,
          9,
          9,
          9,
          9,
          9,
          9,
          5,
          9,
          9,
          9,
          9,
          9,
          9,
          5,
          9,
          9,
          9,
          9,
          5,
          9,
          9,
          5,
          9,
          9,
          5,
          9,
          9,
          5,
          5,
          9,
          5,
          9,
          9,
          9,
          9,
          9,
          9,
          5,
          9,
          9,
          9,
          5,
          5,
          9,
          9,
          9,
          9,
          9,
          9,
          9,
          9,
          9,
          9,
          9,
          9,
          9,
          9,
          9,
          9,
          9,
          9,
          5,
          9,
          9,
          9,
          9,
          9,
          9,
          9,
          9,
          5,
          9,
          9,
          9,
          9,
          9,
          9,
          5,
          9,
          9,
          5,
          9,
          7,
          5,
          9,
          9,
          9,
          9,
          9,
          9,
          9,
          9,
          5,
          9,
          5,
          9,
          9,
          9,
          9,
          9,
          9,
          9,
          9,
          9,
          9,
          9,
          9,
          9,
          9,
          9,
          9,
          9,
          9,
          9,
          9,
          9,
          9,
          9,
          9,
          9,
          9,
          9,
          5,
          5,
          9,
          9,
          9,
          9,
          9,
          9,
          9,
          9,
          9,
          8,
          9,
          9,
          9,
          9,
          9,
          9,
          9,
          9,
          9,
          9,
          9,
          9,
          9,
          9,
          9,
          9,
          9,
          9,
          9,
          9,
          9,
          9,
          9,
          9,
          9,
          9,
          9,
          9,
          9,
          5,
          9,
          9,
          9,
          9,
          9,
          5,
          9,
          7,
          9,
          9,
          9,
          9,
          9,
          9,
          9,
          5,
          9,
          9,
          9
         ],
         "xaxis": "x",
         "yaxis": "y"
        }
       ],
       "layout": {
        "autosize": true,
        "barmode": "relative",
        "legend": {
         "title": {
          "text": "variable"
         },
         "tracegroupgap": 0
        },
        "margin": {
         "t": 60
        },
        "template": {
         "data": {
          "bar": [
           {
            "error_x": {
             "color": "#2a3f5f"
            },
            "error_y": {
             "color": "#2a3f5f"
            },
            "marker": {
             "line": {
              "color": "#E5ECF6",
              "width": 0.5
             }
            },
            "type": "bar"
           }
          ],
          "barpolar": [
           {
            "marker": {
             "line": {
              "color": "#E5ECF6",
              "width": 0.5
             }
            },
            "type": "barpolar"
           }
          ],
          "carpet": [
           {
            "aaxis": {
             "endlinecolor": "#2a3f5f",
             "gridcolor": "white",
             "linecolor": "white",
             "minorgridcolor": "white",
             "startlinecolor": "#2a3f5f"
            },
            "baxis": {
             "endlinecolor": "#2a3f5f",
             "gridcolor": "white",
             "linecolor": "white",
             "minorgridcolor": "white",
             "startlinecolor": "#2a3f5f"
            },
            "type": "carpet"
           }
          ],
          "choropleth": [
           {
            "colorbar": {
             "outlinewidth": 0,
             "ticks": ""
            },
            "type": "choropleth"
           }
          ],
          "contour": [
           {
            "colorbar": {
             "outlinewidth": 0,
             "ticks": ""
            },
            "colorscale": [
             [
              0,
              "#0d0887"
             ],
             [
              0.1111111111111111,
              "#46039f"
             ],
             [
              0.2222222222222222,
              "#7201a8"
             ],
             [
              0.3333333333333333,
              "#9c179e"
             ],
             [
              0.4444444444444444,
              "#bd3786"
             ],
             [
              0.5555555555555556,
              "#d8576b"
             ],
             [
              0.6666666666666666,
              "#ed7953"
             ],
             [
              0.7777777777777778,
              "#fb9f3a"
             ],
             [
              0.8888888888888888,
              "#fdca26"
             ],
             [
              1,
              "#f0f921"
             ]
            ],
            "type": "contour"
           }
          ],
          "contourcarpet": [
           {
            "colorbar": {
             "outlinewidth": 0,
             "ticks": ""
            },
            "type": "contourcarpet"
           }
          ],
          "heatmap": [
           {
            "colorbar": {
             "outlinewidth": 0,
             "ticks": ""
            },
            "colorscale": [
             [
              0,
              "#0d0887"
             ],
             [
              0.1111111111111111,
              "#46039f"
             ],
             [
              0.2222222222222222,
              "#7201a8"
             ],
             [
              0.3333333333333333,
              "#9c179e"
             ],
             [
              0.4444444444444444,
              "#bd3786"
             ],
             [
              0.5555555555555556,
              "#d8576b"
             ],
             [
              0.6666666666666666,
              "#ed7953"
             ],
             [
              0.7777777777777778,
              "#fb9f3a"
             ],
             [
              0.8888888888888888,
              "#fdca26"
             ],
             [
              1,
              "#f0f921"
             ]
            ],
            "type": "heatmap"
           }
          ],
          "heatmapgl": [
           {
            "colorbar": {
             "outlinewidth": 0,
             "ticks": ""
            },
            "colorscale": [
             [
              0,
              "#0d0887"
             ],
             [
              0.1111111111111111,
              "#46039f"
             ],
             [
              0.2222222222222222,
              "#7201a8"
             ],
             [
              0.3333333333333333,
              "#9c179e"
             ],
             [
              0.4444444444444444,
              "#bd3786"
             ],
             [
              0.5555555555555556,
              "#d8576b"
             ],
             [
              0.6666666666666666,
              "#ed7953"
             ],
             [
              0.7777777777777778,
              "#fb9f3a"
             ],
             [
              0.8888888888888888,
              "#fdca26"
             ],
             [
              1,
              "#f0f921"
             ]
            ],
            "type": "heatmapgl"
           }
          ],
          "histogram": [
           {
            "marker": {
             "colorbar": {
              "outlinewidth": 0,
              "ticks": ""
             }
            },
            "type": "histogram"
           }
          ],
          "histogram2d": [
           {
            "colorbar": {
             "outlinewidth": 0,
             "ticks": ""
            },
            "colorscale": [
             [
              0,
              "#0d0887"
             ],
             [
              0.1111111111111111,
              "#46039f"
             ],
             [
              0.2222222222222222,
              "#7201a8"
             ],
             [
              0.3333333333333333,
              "#9c179e"
             ],
             [
              0.4444444444444444,
              "#bd3786"
             ],
             [
              0.5555555555555556,
              "#d8576b"
             ],
             [
              0.6666666666666666,
              "#ed7953"
             ],
             [
              0.7777777777777778,
              "#fb9f3a"
             ],
             [
              0.8888888888888888,
              "#fdca26"
             ],
             [
              1,
              "#f0f921"
             ]
            ],
            "type": "histogram2d"
           }
          ],
          "histogram2dcontour": [
           {
            "colorbar": {
             "outlinewidth": 0,
             "ticks": ""
            },
            "colorscale": [
             [
              0,
              "#0d0887"
             ],
             [
              0.1111111111111111,
              "#46039f"
             ],
             [
              0.2222222222222222,
              "#7201a8"
             ],
             [
              0.3333333333333333,
              "#9c179e"
             ],
             [
              0.4444444444444444,
              "#bd3786"
             ],
             [
              0.5555555555555556,
              "#d8576b"
             ],
             [
              0.6666666666666666,
              "#ed7953"
             ],
             [
              0.7777777777777778,
              "#fb9f3a"
             ],
             [
              0.8888888888888888,
              "#fdca26"
             ],
             [
              1,
              "#f0f921"
             ]
            ],
            "type": "histogram2dcontour"
           }
          ],
          "mesh3d": [
           {
            "colorbar": {
             "outlinewidth": 0,
             "ticks": ""
            },
            "type": "mesh3d"
           }
          ],
          "parcoords": [
           {
            "line": {
             "colorbar": {
              "outlinewidth": 0,
              "ticks": ""
             }
            },
            "type": "parcoords"
           }
          ],
          "pie": [
           {
            "automargin": true,
            "type": "pie"
           }
          ],
          "scatter": [
           {
            "marker": {
             "colorbar": {
              "outlinewidth": 0,
              "ticks": ""
             }
            },
            "type": "scatter"
           }
          ],
          "scatter3d": [
           {
            "line": {
             "colorbar": {
              "outlinewidth": 0,
              "ticks": ""
             }
            },
            "marker": {
             "colorbar": {
              "outlinewidth": 0,
              "ticks": ""
             }
            },
            "type": "scatter3d"
           }
          ],
          "scattercarpet": [
           {
            "marker": {
             "colorbar": {
              "outlinewidth": 0,
              "ticks": ""
             }
            },
            "type": "scattercarpet"
           }
          ],
          "scattergeo": [
           {
            "marker": {
             "colorbar": {
              "outlinewidth": 0,
              "ticks": ""
             }
            },
            "type": "scattergeo"
           }
          ],
          "scattergl": [
           {
            "marker": {
             "colorbar": {
              "outlinewidth": 0,
              "ticks": ""
             }
            },
            "type": "scattergl"
           }
          ],
          "scattermapbox": [
           {
            "marker": {
             "colorbar": {
              "outlinewidth": 0,
              "ticks": ""
             }
            },
            "type": "scattermapbox"
           }
          ],
          "scatterpolar": [
           {
            "marker": {
             "colorbar": {
              "outlinewidth": 0,
              "ticks": ""
             }
            },
            "type": "scatterpolar"
           }
          ],
          "scatterpolargl": [
           {
            "marker": {
             "colorbar": {
              "outlinewidth": 0,
              "ticks": ""
             }
            },
            "type": "scatterpolargl"
           }
          ],
          "scatterternary": [
           {
            "marker": {
             "colorbar": {
              "outlinewidth": 0,
              "ticks": ""
             }
            },
            "type": "scatterternary"
           }
          ],
          "surface": [
           {
            "colorbar": {
             "outlinewidth": 0,
             "ticks": ""
            },
            "colorscale": [
             [
              0,
              "#0d0887"
             ],
             [
              0.1111111111111111,
              "#46039f"
             ],
             [
              0.2222222222222222,
              "#7201a8"
             ],
             [
              0.3333333333333333,
              "#9c179e"
             ],
             [
              0.4444444444444444,
              "#bd3786"
             ],
             [
              0.5555555555555556,
              "#d8576b"
             ],
             [
              0.6666666666666666,
              "#ed7953"
             ],
             [
              0.7777777777777778,
              "#fb9f3a"
             ],
             [
              0.8888888888888888,
              "#fdca26"
             ],
             [
              1,
              "#f0f921"
             ]
            ],
            "type": "surface"
           }
          ],
          "table": [
           {
            "cells": {
             "fill": {
              "color": "#EBF0F8"
             },
             "line": {
              "color": "white"
             }
            },
            "header": {
             "fill": {
              "color": "#C8D4E3"
             },
             "line": {
              "color": "white"
             }
            },
            "type": "table"
           }
          ]
         },
         "layout": {
          "annotationdefaults": {
           "arrowcolor": "#2a3f5f",
           "arrowhead": 0,
           "arrowwidth": 1
          },
          "coloraxis": {
           "colorbar": {
            "outlinewidth": 0,
            "ticks": ""
           }
          },
          "colorscale": {
           "diverging": [
            [
             0,
             "#8e0152"
            ],
            [
             0.1,
             "#c51b7d"
            ],
            [
             0.2,
             "#de77ae"
            ],
            [
             0.3,
             "#f1b6da"
            ],
            [
             0.4,
             "#fde0ef"
            ],
            [
             0.5,
             "#f7f7f7"
            ],
            [
             0.6,
             "#e6f5d0"
            ],
            [
             0.7,
             "#b8e186"
            ],
            [
             0.8,
             "#7fbc41"
            ],
            [
             0.9,
             "#4d9221"
            ],
            [
             1,
             "#276419"
            ]
           ],
           "sequential": [
            [
             0,
             "#0d0887"
            ],
            [
             0.1111111111111111,
             "#46039f"
            ],
            [
             0.2222222222222222,
             "#7201a8"
            ],
            [
             0.3333333333333333,
             "#9c179e"
            ],
            [
             0.4444444444444444,
             "#bd3786"
            ],
            [
             0.5555555555555556,
             "#d8576b"
            ],
            [
             0.6666666666666666,
             "#ed7953"
            ],
            [
             0.7777777777777778,
             "#fb9f3a"
            ],
            [
             0.8888888888888888,
             "#fdca26"
            ],
            [
             1,
             "#f0f921"
            ]
           ],
           "sequentialminus": [
            [
             0,
             "#0d0887"
            ],
            [
             0.1111111111111111,
             "#46039f"
            ],
            [
             0.2222222222222222,
             "#7201a8"
            ],
            [
             0.3333333333333333,
             "#9c179e"
            ],
            [
             0.4444444444444444,
             "#bd3786"
            ],
            [
             0.5555555555555556,
             "#d8576b"
            ],
            [
             0.6666666666666666,
             "#ed7953"
            ],
            [
             0.7777777777777778,
             "#fb9f3a"
            ],
            [
             0.8888888888888888,
             "#fdca26"
            ],
            [
             1,
             "#f0f921"
            ]
           ]
          },
          "colorway": [
           "#636efa",
           "#EF553B",
           "#00cc96",
           "#ab63fa",
           "#FFA15A",
           "#19d3f3",
           "#FF6692",
           "#B6E880",
           "#FF97FF",
           "#FECB52"
          ],
          "font": {
           "color": "#2a3f5f"
          },
          "geo": {
           "bgcolor": "white",
           "lakecolor": "white",
           "landcolor": "#E5ECF6",
           "showlakes": true,
           "showland": true,
           "subunitcolor": "white"
          },
          "hoverlabel": {
           "align": "left"
          },
          "hovermode": "closest",
          "mapbox": {
           "style": "light"
          },
          "paper_bgcolor": "white",
          "plot_bgcolor": "#E5ECF6",
          "polar": {
           "angularaxis": {
            "gridcolor": "white",
            "linecolor": "white",
            "ticks": ""
           },
           "bgcolor": "#E5ECF6",
           "radialaxis": {
            "gridcolor": "white",
            "linecolor": "white",
            "ticks": ""
           }
          },
          "scene": {
           "xaxis": {
            "backgroundcolor": "#E5ECF6",
            "gridcolor": "white",
            "gridwidth": 2,
            "linecolor": "white",
            "showbackground": true,
            "ticks": "",
            "zerolinecolor": "white"
           },
           "yaxis": {
            "backgroundcolor": "#E5ECF6",
            "gridcolor": "white",
            "gridwidth": 2,
            "linecolor": "white",
            "showbackground": true,
            "ticks": "",
            "zerolinecolor": "white"
           },
           "zaxis": {
            "backgroundcolor": "#E5ECF6",
            "gridcolor": "white",
            "gridwidth": 2,
            "linecolor": "white",
            "showbackground": true,
            "ticks": "",
            "zerolinecolor": "white"
           }
          },
          "shapedefaults": {
           "line": {
            "color": "#2a3f5f"
           }
          },
          "ternary": {
           "aaxis": {
            "gridcolor": "white",
            "linecolor": "white",
            "ticks": ""
           },
           "baxis": {
            "gridcolor": "white",
            "linecolor": "white",
            "ticks": ""
           },
           "bgcolor": "#E5ECF6",
           "caxis": {
            "gridcolor": "white",
            "linecolor": "white",
            "ticks": ""
           }
          },
          "title": {
           "x": 0.05
          },
          "xaxis": {
           "automargin": true,
           "gridcolor": "white",
           "linecolor": "white",
           "ticks": "",
           "title": {
            "standoff": 15
           },
           "zerolinecolor": "white",
           "zerolinewidth": 2
          },
          "yaxis": {
           "automargin": true,
           "gridcolor": "white",
           "linecolor": "white",
           "ticks": "",
           "title": {
            "standoff": 15
           },
           "zerolinecolor": "white",
           "zerolinewidth": 2
          }
         }
        },
        "xaxis": {
         "anchor": "y",
         "autorange": true,
         "domain": [
          0,
          1
         ],
         "range": [
          4.5,
          9.5
         ],
         "title": {
          "text": "value"
         },
         "type": "linear"
        },
        "yaxis": {
         "anchor": "x",
         "autorange": true,
         "domain": [
          0,
          1
         ],
         "range": [
          0,
          3124.2105263157896
         ],
         "title": {
          "text": "count"
         }
        }
       }
      },
      "image/png": "[encoded data removed]",
      "text/html": [
       "<div>\n",
       "        \n",
       "        \n",
       "            <div id=\"7ff44cb6-7da8-4276-91ae-11d4502a5b5d\" class=\"plotly-graph-div\" style=\"height:525px; width:100%;\"></div>\n",
       "            <script type=\"text/javascript\">\n",
       "                require([\"plotly\"], function(Plotly) {\n",
       "                    window.PLOTLYENV=window.PLOTLYENV || {};\n",
       "                    \n",
       "                if (document.getElementById(\"7ff44cb6-7da8-4276-91ae-11d4502a5b5d\")) {\n",
       "                    Plotly.newPlot(\n",
       "                        '7ff44cb6-7da8-4276-91ae-11d4502a5b5d',\n",
       "                        [{\"alignmentgroup\": \"True\", \"bingroup\": \"x\", \"hovertemplate\": \"variable=0<br>value=%{x}<br>count=%{y}<extra></extra>\", \"legendgroup\": \"0\", \"marker\": {\"color\": \"#636efa\"}, \"name\": \"0\", \"offsetgroup\": \"0\", \"orientation\": \"v\", \"showlegend\": true, \"type\": \"histogram\", \"x\": [9, 5, 5, 9, 9, 5, 9, 9, 9, 5, 5, 5, 9, 9, 5, 5, 9, 9, 9, 9, 9, 5, 9, 9, 9, 9, 9, 9, 5, 9, 9, 9, 7, 9, 9, 9, 9, 7, 9, 9, 9, 9, 9, 9, 9, 9, 9, 5, 9, 9, 9, 9, 5, 9, 9, 9, 5, 9, 9, 9, 9, 9, 5, 5, 9, 9, 9, 9, 5, 9, 9, 9, 9, 9, 9, 7, 9, 5, 5, 9, 9, 9, 9, 9, 9, 9, 5, 9, 9, 9, 9, 9, 9, 9, 9, 9, 9, 9, 9, 9, 9, 9, 5, 5, 9, 9, 9, 9, 9, 5, 9, 9, 5, 5, 9, 9, 9, 9, 8, 5, 9, 7, 5, 5, 9, 9, 9, 9, 9, 9, 5, 9, 9, 9, 9, 9, 5, 9, 5, 5, 5, 9, 9, 9, 9, 9, 5, 9, 9, 9, 5, 9, 9, 7, 5, 5, 9, 9, 5, 9, 9, 9, 9, 5, 9, 9, 5, 9, 9, 9, 9, 9, 9, 9, 9, 7, 9, 9, 9, 9, 9, 9, 9, 9, 9, 7, 9, 9, 9, 9, 9, 9, 9, 5, 9, 9, 5, 9, 9, 9, 9, 9, 5, 9, 9, 9, 9, 5, 5, 9, 9, 5, 5, 9, 9, 5, 9, 9, 9, 9, 9, 9, 9, 9, 5, 9, 5, 5, 9, 9, 9, 9, 9, 5, 9, 9, 9, 9, 9, 9, 9, 5, 9, 9, 9, 9, 9, 9, 9, 9, 9, 9, 7, 9, 9, 9, 9, 9, 9, 5, 9, 5, 9, 9, 9, 9, 5, 5, 9, 9, 9, 5, 9, 9, 5, 9, 9, 9, 9, 9, 9, 5, 9, 5, 9, 9, 9, 9, 9, 5, 5, 9, 9, 9, 9, 5, 9, 9, 9, 9, 9, 9, 9, 9, 9, 9, 9, 9, 5, 9, 9, 9, 9, 9, 9, 9, 9, 5, 9, 9, 9, 9, 9, 9, 9, 5, 9, 9, 9, 9, 9, 9, 9, 9, 9, 9, 9, 9, 9, 9, 9, 9, 9, 9, 9, 5, 9, 5, 9, 9, 9, 9, 9, 9, 9, 9, 9, 9, 9, 9, 9, 9, 9, 9, 9, 9, 5, 9, 9, 9, 9, 5, 7, 9, 9, 9, 9, 9, 5, 9, 9, 9, 9, 9, 9, 9, 9, 9, 9, 5, 9, 9, 9, 5, 9, 5, 9, 9, 9, 9, 9, 9, 9, 9, 9, 9, 5, 9, 9, 9, 9, 9, 9, 9, 5, 9, 9, 9, 9, 9, 9, 9, 9, 9, 9, 9, 9, 9, 9, 9, 9, 9, 9, 9, 9, 9, 9, 9, 9, 9, 9, 5, 9, 9, 9, 9, 9, 5, 9, 9, 9, 9, 9, 9, 7, 9, 9, 9, 9, 5, 9, 9, 9, 9, 9, 9, 5, 9, 9, 5, 5, 5, 5, 9, 9, 9, 9, 9, 9, 9, 5, 9, 9, 9, 9, 5, 9, 9, 9, 9, 9, 5, 9, 9, 9, 7, 9, 9, 9, 9, 9, 9, 9, 9, 9, 9, 9, 9, 9, 9, 9, 9, 5, 9, 9, 9, 9, 9, 9, 9, 9, 9, 9, 9, 5, 9, 5, 9, 9, 9, 9, 9, 9, 9, 9, 9, 9, 8, 9, 9, 9, 9, 9, 9, 9, 9, 5, 9, 9, 9, 9, 9, 9, 9, 9, 9, 5, 9, 9, 9, 9, 5, 9, 5, 5, 9, 5, 9, 9, 5, 9, 9, 9, 9, 5, 9, 9, 9, 9, 9, 9, 9, 5, 5, 9, 9, 9, 9, 9, 9, 5, 9, 5, 9, 9, 9, 9, 5, 5, 9, 9, 9, 5, 9, 5, 5, 9, 9, 9, 9, 9, 5, 9, 9, 9, 9, 9, 9, 9, 9, 9, 5, 9, 5, 9, 9, 5, 9, 5, 9, 9, 9, 9, 9, 5, 9, 9, 9, 9, 9, 9, 9, 9, 9, 9, 9, 9, 9, 9, 9, 9, 9, 9, 9, 9, 9, 5, 5, 9, 9, 9, 9, 9, 9, 9, 9, 9, 9, 5, 9, 9, 5, 9, 9, 9, 9, 9, 9, 9, 8, 9, 9, 9, 5, 9, 9, 9, 9, 5, 9, 9, 5, 9, 5, 9, 9, 9, 9, 9, 9, 5, 9, 9, 9, 9, 9, 9, 5, 9, 9, 9, 9, 9, 5, 9, 9, 5, 9, 9, 9, 5, 9, 9, 9, 5, 9, 9, 5, 9, 9, 9, 9, 9, 9, 9, 9, 9, 9, 9, 9, 5, 9, 9, 9, 9, 9, 9, 9, 9, 9, 5, 5, 5, 9, 5, 5, 9, 5, 9, 9, 5, 9, 9, 5, 9, 9, 5, 5, 9, 9, 9, 9, 9, 9, 9, 9, 9, 9, 9, 5, 9, 9, 5, 9, 9, 9, 9, 9, 9, 9, 9, 5, 9, 9, 9, 9, 9, 9, 9, 9, 9, 9, 9, 9, 9, 9, 9, 9, 9, 5, 7, 5, 9, 9, 9, 9, 9, 9, 9, 9, 9, 9, 9, 5, 5, 9, 5, 9, 9, 9, 5, 9, 7, 9, 9, 9, 9, 5, 9, 9, 9, 9, 7, 9, 9, 9, 9, 7, 9, 9, 9, 9, 5, 9, 9, 9, 9, 5, 5, 9, 9, 9, 9, 9, 9, 9, 9, 9, 9, 9, 9, 9, 9, 9, 9, 9, 9, 9, 9, 9, 9, 9, 9, 9, 9, 9, 9, 9, 5, 9, 9, 5, 9, 5, 9, 9, 9, 9, 9, 9, 9, 5, 9, 9, 9, 9, 9, 9, 5, 9, 9, 9, 5, 9, 9, 9, 9, 9, 9, 9, 9, 9, 9, 9, 7, 9, 9, 9, 7, 9, 9, 9, 9, 7, 9, 9, 5, 9, 9, 9, 9, 9, 9, 9, 9, 9, 5, 9, 7, 5, 9, 9, 9, 9, 9, 9, 9, 8, 9, 9, 5, 9, 9, 5, 9, 9, 9, 9, 9, 9, 9, 9, 5, 9, 9, 9, 9, 9, 9, 9, 9, 5, 9, 9, 9, 9, 9, 5, 9, 9, 9, 9, 9, 9, 9, 9, 5, 9, 9, 9, 9, 7, 5, 9, 5, 9, 5, 5, 9, 5, 9, 9, 9, 5, 9, 5, 9, 9, 9, 9, 9, 5, 5, 9, 9, 5, 9, 9, 9, 9, 9, 9, 5, 9, 9, 5, 9, 9, 9, 9, 5, 5, 9, 9, 9, 9, 9, 9, 9, 9, 9, 5, 9, 9, 9, 9, 5, 9, 9, 9, 9, 9, 9, 9, 5, 9, 9, 9, 9, 5, 9, 9, 9, 9, 5, 9, 9, 9, 5, 5, 9, 9, 9, 9, 5, 9, 5, 9, 9, 5, 9, 9, 5, 9, 9, 9, 5, 9, 9, 9, 9, 9, 9, 5, 5, 9, 9, 5, 9, 9, 9, 9, 9, 9, 9, 9, 9, 9, 9, 5, 9, 9, 9, 9, 9, 9, 9, 9, 9, 9, 9, 9, 9, 9, 9, 9, 9, 9, 5, 9, 9, 5, 9, 9, 5, 9, 9, 5, 9, 9, 9, 9, 9, 9, 9, 5, 9, 5, 9, 9, 9, 5, 9, 9, 9, 9, 9, 5, 9, 9, 9, 9, 9, 9, 9, 9, 9, 5, 9, 5, 9, 9, 9, 9, 9, 9, 9, 5, 5, 9, 9, 9, 9, 9, 9, 7, 9, 5, 9, 9, 9, 9, 9, 9, 9, 9, 9, 7, 9, 9, 9, 7, 9, 9, 9, 9, 9, 9, 9, 9, 9, 9, 9, 5, 9, 9, 9, 9, 5, 9, 9, 5, 9, 9, 9, 9, 7, 9, 9, 9, 9, 5, 9, 9, 5, 9, 5, 9, 9, 9, 5, 9, 9, 9, 9, 5, 9, 5, 5, 5, 5, 5, 9, 9, 9, 9, 9, 9, 5, 9, 9, 9, 9, 5, 5, 9, 5, 9, 9, 9, 9, 5, 9, 9, 9, 5, 9, 9, 9, 5, 9, 9, 9, 9, 9, 9, 9, 9, 5, 5, 9, 9, 5, 9, 9, 9, 9, 9, 9, 9, 9, 9, 9, 9, 9, 9, 5, 9, 9, 9, 9, 5, 9, 5, 9, 9, 9, 9, 9, 9, 7, 9, 9, 9, 5, 9, 9, 9, 9, 9, 5, 9, 5, 9, 9, 9, 9, 9, 9, 9, 9, 9, 9, 9, 9, 9, 9, 9, 5, 9, 5, 9, 5, 9, 9, 9, 9, 5, 9, 9, 9, 9, 9, 9, 9, 9, 9, 9, 9, 9, 9, 9, 9, 9, 5, 9, 9, 5, 9, 9, 9, 9, 9, 9, 9, 9, 5, 5, 7, 5, 9, 5, 9, 9, 5, 9, 5, 9, 9, 9, 9, 9, 9, 9, 5, 9, 9, 9, 9, 9, 9, 9, 5, 9, 9, 9, 9, 9, 9, 9, 9, 9, 9, 9, 9, 9, 9, 9, 9, 9, 9, 9, 5, 9, 9, 9, 9, 9, 9, 9, 5, 5, 9, 5, 5, 9, 5, 9, 9, 5, 9, 9, 9, 9, 9, 9, 9, 9, 9, 5, 5, 9, 9, 9, 9, 9, 9, 9, 5, 9, 9, 9, 9, 9, 9, 9, 9, 9, 5, 9, 9, 9, 9, 9, 9, 5, 9, 9, 9, 9, 9, 9, 9, 9, 9, 9, 9, 9, 9, 9, 5, 5, 5, 9, 9, 9, 9, 5, 5, 9, 9, 9, 9, 9, 9, 9, 5, 9, 9, 9, 9, 9, 9, 9, 5, 9, 9, 9, 5, 9, 9, 9, 9, 9, 5, 9, 9, 9, 5, 9, 9, 9, 9, 9, 9, 9, 5, 5, 9, 9, 5, 9, 9, 5, 9, 9, 9, 9, 9, 5, 9, 5, 9, 9, 9, 9, 9, 9, 9, 9, 9, 9, 9, 9, 5, 9, 9, 9, 5, 9, 9, 5, 9, 5, 9, 9, 5, 5, 9, 9, 9, 9, 9, 9, 9, 9, 9, 9, 9, 9, 9, 9, 5, 9, 5, 5, 9, 9, 9, 9, 9, 5, 9, 5, 9, 5, 5, 9, 9, 9, 9, 5, 9, 5, 5, 5, 9, 9, 9, 5, 9, 9, 9, 9, 9, 9, 9, 9, 9, 9, 9, 9, 5, 9, 9, 9, 9, 9, 9, 9, 9, 9, 9, 9, 9, 9, 9, 9, 9, 9, 9, 9, 7, 9, 9, 9, 9, 9, 9, 9, 9, 9, 9, 9, 9, 9, 9, 9, 9, 5, 9, 9, 9, 9, 9, 9, 9, 5, 5, 7, 5, 5, 5, 9, 9, 5, 9, 9, 9, 9, 7, 9, 9, 9, 9, 9, 9, 5, 9, 7, 9, 5, 9, 9, 9, 9, 9, 9, 9, 5, 9, 9, 9, 7, 9, 9, 5, 9, 9, 9, 9, 9, 9, 9, 9, 9, 9, 9, 9, 9, 9, 9, 9, 9, 7, 9, 9, 9, 5, 9, 9, 9, 9, 9, 9, 9, 9, 5, 5, 9, 9, 9, 9, 9, 7, 9, 9, 9, 5, 9, 9, 9, 9, 9, 9, 9, 9, 9, 9, 9, 5, 5, 5, 5, 9, 5, 9, 5, 9, 9, 9, 9, 9, 5, 9, 9, 9, 9, 9, 9, 9, 9, 5, 9, 9, 9, 5, 9, 5, 9, 9, 9, 5, 9, 9, 5, 9, 5, 9, 9, 9, 9, 9, 9, 9, 9, 5, 9, 9, 9, 9, 9, 9, 9, 9, 9, 5, 9, 9, 5, 9, 9, 9, 9, 9, 9, 9, 9, 9, 9, 9, 9, 9, 9, 9, 5, 9, 9, 9, 9, 5, 9, 9, 9, 9, 7, 9, 9, 9, 9, 9, 9, 9, 9, 9, 9, 5, 9, 9, 5, 9, 5, 9, 9, 9, 9, 9, 9, 9, 9, 5, 9, 9, 5, 5, 5, 9, 9, 5, 9, 9, 9, 9, 9, 9, 9, 9, 9, 9, 9, 9, 9, 9, 9, 9, 9, 9, 9, 9, 9, 9, 9, 9, 9, 9, 9, 9, 9, 9, 5, 5, 9, 5, 9, 9, 5, 9, 9, 9, 9, 9, 9, 9, 9, 5, 5, 9, 9, 9, 9, 5, 9, 9, 9, 5, 9, 9, 9, 9, 9, 5, 9, 5, 9, 9, 9, 9, 9, 9, 9, 9, 9, 9, 5, 9, 5, 9, 9, 9, 9, 9, 9, 9, 9, 9, 9, 9, 9, 9, 9, 9, 9, 9, 5, 5, 9, 9, 9, 9, 9, 9, 9, 5, 9, 9, 9, 9, 9, 5, 9, 9, 5, 9, 9, 9, 9, 9, 9, 5, 5, 9, 9, 9, 9, 9, 9, 9, 5, 9, 9, 9, 5, 5, 9, 9, 9, 9, 9, 9, 9, 9, 9, 9, 9, 9, 9, 9, 9, 9, 5, 9, 9, 9, 5, 9, 9, 9, 9, 5, 9, 9, 9, 9, 9, 9, 9, 9, 9, 5, 5, 5, 9, 9, 9, 9, 5, 9, 9, 5, 9, 9, 9, 9, 5, 9, 9, 9, 9, 9, 9, 9, 9, 5, 9, 9, 9, 9, 9, 5, 9, 5, 5, 9, 9, 9, 9, 9, 5, 9, 9, 9, 9, 5, 9, 9, 9, 9, 7, 9, 9, 9, 5, 9, 5, 9, 9, 5, 9, 5, 9, 9, 9, 9, 9, 9, 9, 9, 9, 7, 9, 9, 9, 9, 9, 5, 9, 9, 9, 9, 9, 5, 9, 9, 9, 9, 9, 7, 9, 9, 9, 5, 9, 9, 9, 9, 9, 9, 9, 9, 9, 9, 9, 9, 9, 9, 8, 9, 9, 9, 9, 9, 9, 9, 9, 9, 9, 9, 9, 5, 9, 9, 5, 9, 9, 9, 9, 9, 9, 9, 9, 5, 9, 9, 9, 9, 9, 9, 9, 9, 9, 9, 9, 5, 9, 9, 9, 9, 9, 9, 9, 9, 9, 9, 9, 9, 9, 9, 5, 5, 9, 5, 9, 9, 5, 9, 5, 9, 9, 9, 9, 5, 9, 5, 9, 9, 9, 9, 9, 9, 9, 9, 5, 9, 9, 9, 5, 9, 9, 9, 9, 9, 9, 9, 5, 7, 9, 9, 9, 9, 9, 9, 5, 9, 9, 9, 9, 9, 9, 5, 9, 9, 9, 5, 9, 9, 9, 5, 9, 9, 5, 9, 5, 9, 5, 9, 9, 9, 9, 9, 9, 5, 9, 9, 9, 9, 9, 9, 9, 9, 9, 9, 9, 9, 9, 9, 9, 9, 9, 9, 9, 9, 9, 9, 9, 5, 9, 5, 9, 9, 9, 9, 9, 9, 9, 5, 9, 9, 9, 9, 7, 9, 9, 9, 5, 9, 9, 9, 9, 5, 9, 9, 5, 9, 9, 9, 9, 5, 9, 9, 9, 5, 9, 9, 9, 5, 5, 9, 9, 9, 9, 9, 9, 9, 5, 9, 9, 9, 9, 9, 9, 9, 9, 9, 9, 9, 9, 5, 9, 9, 9, 5, 9, 5, 8, 9, 5, 9, 5, 9, 9, 5, 9, 9, 9, 9, 9, 9, 9, 9, 9, 9, 9, 9, 9, 9, 9, 9, 9, 9, 9, 9, 9, 9, 9, 9, 9, 9, 9, 9, 9, 7, 9, 9, 9, 9, 9, 9, 9, 9, 9, 9, 9, 9, 5, 9, 9, 5, 9, 9, 5, 9, 9, 5, 9, 9, 9, 9, 9, 9, 9, 9, 9, 9, 9, 9, 5, 9, 9, 9, 9, 9, 9, 9, 5, 9, 9, 9, 9, 9, 9, 9, 5, 9, 5, 9, 9, 9, 5, 5, 9, 5, 5, 9, 9, 9, 9, 9, 9, 9, 9, 9, 9, 5, 9, 5, 9, 9, 5, 9, 9, 5, 9, 9, 9, 9, 9, 9, 9, 9, 9, 9, 9, 9, 9, 9, 9, 9, 5, 5, 9, 9, 9, 9, 9, 9, 9, 9, 9, 5, 9, 9, 9, 9, 9, 5, 9, 9, 9, 9, 9, 9, 9, 9, 5, 9, 9, 5, 9, 9, 9, 9, 9, 9, 9, 9, 5, 5, 9, 9, 9, 9, 9, 9, 9, 9, 9, 9, 9, 9, 5, 9, 9, 5, 9, 9, 9, 9, 9, 9, 9, 9, 9, 9, 9, 9, 9, 9, 9, 5, 9, 9, 9, 9, 9, 9, 9, 7, 5, 9, 9, 9, 9, 5, 9, 9, 9, 9, 5, 9, 5, 9, 5, 5, 9, 5, 9, 9, 9, 5, 9, 9, 9, 9, 9, 9, 9, 9, 9, 5, 5, 9, 9, 9, 9, 9, 9, 9, 5, 9, 5, 9, 9, 5, 9, 9, 9, 9, 5, 9, 9, 9, 9, 9, 9, 9, 9, 9, 9, 9, 9, 9, 9, 9, 9, 9, 5, 9, 9, 9, 9, 5, 9, 9, 9, 9, 9, 9, 9, 5, 9, 9, 9, 9, 9, 9, 9, 9, 5, 9, 9, 9, 9, 9, 9, 9, 9, 9, 9, 9, 9, 9, 9, 9, 9, 5, 9, 9, 9, 9, 9, 9, 9, 9, 9, 9, 9, 9, 9, 5, 9, 9, 9, 9, 9, 9, 9, 9, 9, 9, 9, 5, 9, 9, 5, 5, 9, 9, 9, 9, 9, 9, 9, 9, 9, 5, 9, 9, 9, 9, 9, 9, 9, 9, 9, 9, 9, 9, 9, 9, 9, 9, 9, 9, 5, 9, 9, 5, 7, 9, 9, 9, 5, 9, 5, 9, 9, 9, 9, 9, 9, 5, 9, 9, 9, 9, 9, 9, 9, 9, 9, 9, 5, 5, 9, 5, 9, 9, 9, 9, 9, 9, 9, 5, 9, 9, 5, 5, 5, 9, 9, 9, 5, 9, 9, 9, 9, 9, 9, 9, 9, 9, 5, 9, 9, 9, 5, 9, 9, 9, 9, 9, 9, 9, 9, 9, 9, 9, 9, 9, 9, 9, 5, 5, 9, 9, 9, 9, 9, 9, 9, 9, 9, 9, 5, 9, 5, 9, 9, 7, 9, 9, 9, 9, 9, 5, 9, 9, 9, 9, 9, 9, 9, 9, 9, 5, 9, 9, 9, 9, 9, 9, 5, 9, 7, 7, 9, 5, 5, 9, 5, 9, 9, 9, 9, 9, 9, 5, 5, 9, 5, 9, 5, 9, 9, 9, 5, 9, 9, 9, 9, 7, 9, 9, 9, 9, 5, 9, 9, 9, 9, 5, 9, 9, 9, 9, 9, 9, 9, 9, 9, 9, 9, 5, 9, 9, 9, 7, 9, 9, 9, 9, 9, 9, 9, 9, 9, 9, 9, 9, 9, 9, 9, 5, 5, 5, 9, 9, 9, 9, 9, 9, 9, 9, 5, 9, 9, 9, 5, 9, 9, 9, 9, 9, 5, 9, 9, 9, 9, 9, 5, 5, 9, 9, 9, 9, 5, 9, 9, 5, 9, 9, 9, 5, 9, 9, 9, 9, 9, 9, 5, 5, 9, 9, 9, 9, 9, 9, 9, 9, 9, 9, 5, 9, 9, 9, 9, 9, 9, 9, 9, 9, 9, 9, 9, 5, 9, 7, 5, 9, 9, 9, 9, 9, 5, 5, 9, 9, 5, 9, 9, 9, 9, 9, 9, 9, 9, 9, 5, 9, 9, 5, 9, 9, 9, 9, 9, 9, 9, 9, 9, 5, 9, 9, 9, 9, 5, 9, 9, 5, 5, 9, 7, 9, 9, 8, 9, 9, 5, 9, 9, 9, 5, 9, 9, 9, 5, 5, 9, 9, 5, 9, 9, 9, 9, 9, 9, 9, 9, 5, 5, 9, 9, 9, 9, 9, 5, 9, 9, 9, 5, 9, 9, 9, 9, 9, 9, 9, 9, 9, 9, 9, 9, 9, 9, 9, 9, 9, 9, 9, 5, 9, 9, 9, 9, 9, 9, 5, 9, 9, 9, 9, 9, 9, 9, 9, 9, 9, 9, 9, 9, 9, 5, 5, 9, 9, 9, 9, 9, 9, 9, 9, 9, 9, 5, 9, 9, 9, 9, 9, 9, 9, 5, 9, 9, 5, 9, 9, 5, 9, 9, 5, 9, 9, 5, 9, 5, 9, 5, 9, 5, 9, 9, 9, 9, 9, 9, 9, 5, 9, 9, 9, 9, 9, 9, 9, 9, 9, 9, 9, 9, 9, 9, 7, 9, 9, 9, 9, 9, 9, 9, 9, 9, 9, 9, 9, 9, 9, 9, 9, 5, 9, 5, 9, 9, 9, 5, 9, 5, 9, 9, 5, 9, 9, 9, 5, 5, 9, 5, 9, 9, 9, 9, 9, 9, 9, 9, 9, 9, 9, 9, 9, 9, 9, 9, 9, 9, 9, 9, 9, 5, 9, 9, 9, 9, 9, 9, 9, 9, 5, 9, 9, 9, 9, 9, 9, 9, 9, 9, 5, 5, 5, 9, 9, 9, 9, 9, 9, 9, 9, 9, 9, 9, 9, 5, 9, 9, 9, 5, 9, 9, 9, 9, 9, 5, 9, 9, 9, 9, 9, 9, 9, 9, 5, 9, 9, 9, 9, 9, 9, 9, 9, 9, 5, 9, 9, 9, 9, 5, 9, 5, 9, 9, 5, 9, 9, 9, 9, 5, 9, 9, 9, 5, 9, 9, 9, 9, 5, 5, 9, 9, 9, 9, 5, 9, 9, 9, 5, 9, 9, 9, 9, 9, 9, 9, 9, 9, 9, 9, 9, 9, 9, 9, 9, 9, 9, 9, 9, 9, 9, 5, 9, 9, 9, 9, 9, 9, 9, 9, 5, 9, 9, 9, 9, 9, 9, 9, 9, 9, 9, 5, 9, 9, 5, 9, 9, 9, 9, 9, 9, 9, 5, 5, 9, 9, 9, 5, 9, 7, 9, 9, 9, 9, 9, 9, 5, 9, 9, 9, 9, 9, 9, 9, 9, 9, 9, 9, 5, 9, 9, 9, 9, 9, 9, 5, 9, 9, 9, 9, 5, 9, 9, 5, 9, 9, 5, 9, 9, 5, 5, 9, 5, 9, 9, 9, 9, 9, 9, 5, 9, 9, 9, 5, 5, 9, 9, 9, 9, 9, 9, 9, 9, 9, 9, 9, 9, 9, 9, 9, 9, 9, 9, 5, 9, 9, 9, 9, 9, 9, 9, 9, 5, 9, 9, 9, 9, 9, 9, 5, 9, 9, 5, 9, 7, 5, 9, 9, 9, 9, 9, 9, 9, 9, 5, 9, 5, 9, 9, 9, 9, 9, 9, 9, 9, 9, 9, 9, 9, 9, 9, 9, 9, 9, 9, 9, 9, 9, 9, 9, 9, 9, 9, 9, 5, 5, 9, 9, 9, 9, 9, 9, 9, 9, 9, 8, 9, 9, 9, 9, 9, 9, 9, 9, 9, 9, 9, 9, 9, 9, 9, 9, 9, 9, 9, 9, 9, 9, 9, 9, 9, 9, 9, 9, 9, 5, 9, 9, 9, 9, 9, 5, 9, 7, 9, 9, 9, 9, 9, 9, 9, 5, 9, 9, 9], \"xaxis\": \"x\", \"yaxis\": \"y\"}],\n",
       "                        {\"barmode\": \"relative\", \"legend\": {\"title\": {\"text\": \"variable\"}, \"tracegroupgap\": 0}, \"margin\": {\"t\": 60}, \"template\": {\"data\": {\"bar\": [{\"error_x\": {\"color\": \"#2a3f5f\"}, \"error_y\": {\"color\": \"#2a3f5f\"}, \"marker\": {\"line\": {\"color\": \"#E5ECF6\", \"width\": 0.5}}, \"type\": \"bar\"}], \"barpolar\": [{\"marker\": {\"line\": {\"color\": \"#E5ECF6\", \"width\": 0.5}}, \"type\": \"barpolar\"}], \"carpet\": [{\"aaxis\": {\"endlinecolor\": \"#2a3f5f\", \"gridcolor\": \"white\", \"linecolor\": \"white\", \"minorgridcolor\": \"white\", \"startlinecolor\": \"#2a3f5f\"}, \"baxis\": {\"endlinecolor\": \"#2a3f5f\", \"gridcolor\": \"white\", \"linecolor\": \"white\", \"minorgridcolor\": \"white\", \"startlinecolor\": \"#2a3f5f\"}, \"type\": \"carpet\"}], \"choropleth\": [{\"colorbar\": {\"outlinewidth\": 0, \"ticks\": \"\"}, \"type\": \"choropleth\"}], \"contour\": [{\"colorbar\": {\"outlinewidth\": 0, \"ticks\": \"\"}, \"colorscale\": [[0.0, \"#0d0887\"], [0.1111111111111111, \"#46039f\"], [0.2222222222222222, \"#7201a8\"], [0.3333333333333333, \"#9c179e\"], [0.4444444444444444, \"#bd3786\"], [0.5555555555555556, \"#d8576b\"], [0.6666666666666666, \"#ed7953\"], [0.7777777777777778, \"#fb9f3a\"], [0.8888888888888888, \"#fdca26\"], [1.0, \"#f0f921\"]], \"type\": \"contour\"}], \"contourcarpet\": [{\"colorbar\": {\"outlinewidth\": 0, \"ticks\": \"\"}, \"type\": \"contourcarpet\"}], \"heatmap\": [{\"colorbar\": {\"outlinewidth\": 0, \"ticks\": \"\"}, \"colorscale\": [[0.0, \"#0d0887\"], [0.1111111111111111, \"#46039f\"], [0.2222222222222222, \"#7201a8\"], [0.3333333333333333, \"#9c179e\"], [0.4444444444444444, \"#bd3786\"], [0.5555555555555556, \"#d8576b\"], [0.6666666666666666, \"#ed7953\"], [0.7777777777777778, \"#fb9f3a\"], [0.8888888888888888, \"#fdca26\"], [1.0, \"#f0f921\"]], \"type\": \"heatmap\"}], \"heatmapgl\": [{\"colorbar\": {\"outlinewidth\": 0, \"ticks\": \"\"}, \"colorscale\": [[0.0, \"#0d0887\"], [0.1111111111111111, \"#46039f\"], [0.2222222222222222, \"#7201a8\"], [0.3333333333333333, \"#9c179e\"], [0.4444444444444444, \"#bd3786\"], [0.5555555555555556, \"#d8576b\"], [0.6666666666666666, \"#ed7953\"], [0.7777777777777778, \"#fb9f3a\"], [0.8888888888888888, \"#fdca26\"], [1.0, \"#f0f921\"]], \"type\": \"heatmapgl\"}], \"histogram\": [{\"marker\": {\"colorbar\": {\"outlinewidth\": 0, \"ticks\": \"\"}}, \"type\": \"histogram\"}], \"histogram2d\": [{\"colorbar\": {\"outlinewidth\": 0, \"ticks\": \"\"}, \"colorscale\": [[0.0, \"#0d0887\"], [0.1111111111111111, \"#46039f\"], [0.2222222222222222, \"#7201a8\"], [0.3333333333333333, \"#9c179e\"], [0.4444444444444444, \"#bd3786\"], [0.5555555555555556, \"#d8576b\"], [0.6666666666666666, \"#ed7953\"], [0.7777777777777778, \"#fb9f3a\"], [0.8888888888888888, \"#fdca26\"], [1.0, \"#f0f921\"]], \"type\": \"histogram2d\"}], \"histogram2dcontour\": [{\"colorbar\": {\"outlinewidth\": 0, \"ticks\": \"\"}, \"colorscale\": [[0.0, \"#0d0887\"], [0.1111111111111111, \"#46039f\"], [0.2222222222222222, \"#7201a8\"], [0.3333333333333333, \"#9c179e\"], [0.4444444444444444, \"#bd3786\"], [0.5555555555555556, \"#d8576b\"], [0.6666666666666666, \"#ed7953\"], [0.7777777777777778, \"#fb9f3a\"], [0.8888888888888888, \"#fdca26\"], [1.0, \"#f0f921\"]], \"type\": \"histogram2dcontour\"}], \"mesh3d\": [{\"colorbar\": {\"outlinewidth\": 0, \"ticks\": \"\"}, \"type\": \"mesh3d\"}], \"parcoords\": [{\"line\": {\"colorbar\": {\"outlinewidth\": 0, \"ticks\": \"\"}}, \"type\": \"parcoords\"}], \"pie\": [{\"automargin\": true, \"type\": \"pie\"}], \"scatter\": [{\"marker\": {\"colorbar\": {\"outlinewidth\": 0, \"ticks\": \"\"}}, \"type\": \"scatter\"}], \"scatter3d\": [{\"line\": {\"colorbar\": {\"outlinewidth\": 0, \"ticks\": \"\"}}, \"marker\": {\"colorbar\": {\"outlinewidth\": 0, \"ticks\": \"\"}}, \"type\": \"scatter3d\"}], \"scattercarpet\": [{\"marker\": {\"colorbar\": {\"outlinewidth\": 0, \"ticks\": \"\"}}, \"type\": \"scattercarpet\"}], \"scattergeo\": [{\"marker\": {\"colorbar\": {\"outlinewidth\": 0, \"ticks\": \"\"}}, \"type\": \"scattergeo\"}], \"scattergl\": [{\"marker\": {\"colorbar\": {\"outlinewidth\": 0, \"ticks\": \"\"}}, \"type\": \"scattergl\"}], \"scattermapbox\": [{\"marker\": {\"colorbar\": {\"outlinewidth\": 0, \"ticks\": \"\"}}, \"type\": \"scattermapbox\"}], \"scatterpolar\": [{\"marker\": {\"colorbar\": {\"outlinewidth\": 0, \"ticks\": \"\"}}, \"type\": \"scatterpolar\"}], \"scatterpolargl\": [{\"marker\": {\"colorbar\": {\"outlinewidth\": 0, \"ticks\": \"\"}}, \"type\": \"scatterpolargl\"}], \"scatterternary\": [{\"marker\": {\"colorbar\": {\"outlinewidth\": 0, \"ticks\": \"\"}}, \"type\": \"scatterternary\"}], \"surface\": [{\"colorbar\": {\"outlinewidth\": 0, \"ticks\": \"\"}, \"colorscale\": [[0.0, \"#0d0887\"], [0.1111111111111111, \"#46039f\"], [0.2222222222222222, \"#7201a8\"], [0.3333333333333333, \"#9c179e\"], [0.4444444444444444, \"#bd3786\"], [0.5555555555555556, \"#d8576b\"], [0.6666666666666666, \"#ed7953\"], [0.7777777777777778, \"#fb9f3a\"], [0.8888888888888888, \"#fdca26\"], [1.0, \"#f0f921\"]], \"type\": \"surface\"}], \"table\": [{\"cells\": {\"fill\": {\"color\": \"#EBF0F8\"}, \"line\": {\"color\": \"white\"}}, \"header\": {\"fill\": {\"color\": \"#C8D4E3\"}, \"line\": {\"color\": \"white\"}}, \"type\": \"table\"}]}, \"layout\": {\"annotationdefaults\": {\"arrowcolor\": \"#2a3f5f\", \"arrowhead\": 0, \"arrowwidth\": 1}, \"coloraxis\": {\"colorbar\": {\"outlinewidth\": 0, \"ticks\": \"\"}}, \"colorscale\": {\"diverging\": [[0, \"#8e0152\"], [0.1, \"#c51b7d\"], [0.2, \"#de77ae\"], [0.3, \"#f1b6da\"], [0.4, \"#fde0ef\"], [0.5, \"#f7f7f7\"], [0.6, \"#e6f5d0\"], [0.7, \"#b8e186\"], [0.8, \"#7fbc41\"], [0.9, \"#4d9221\"], [1, \"#276419\"]], \"sequential\": [[0.0, \"#0d0887\"], [0.1111111111111111, \"#46039f\"], [0.2222222222222222, \"#7201a8\"], [0.3333333333333333, \"#9c179e\"], [0.4444444444444444, \"#bd3786\"], [0.5555555555555556, \"#d8576b\"], [0.6666666666666666, \"#ed7953\"], [0.7777777777777778, \"#fb9f3a\"], [0.8888888888888888, \"#fdca26\"], [1.0, \"#f0f921\"]], \"sequentialminus\": [[0.0, \"#0d0887\"], [0.1111111111111111, \"#46039f\"], [0.2222222222222222, \"#7201a8\"], [0.3333333333333333, \"#9c179e\"], [0.4444444444444444, \"#bd3786\"], [0.5555555555555556, \"#d8576b\"], [0.6666666666666666, \"#ed7953\"], [0.7777777777777778, \"#fb9f3a\"], [0.8888888888888888, \"#fdca26\"], [1.0, \"#f0f921\"]]}, \"colorway\": [\"#636efa\", \"#EF553B\", \"#00cc96\", \"#ab63fa\", \"#FFA15A\", \"#19d3f3\", \"#FF6692\", \"#B6E880\", \"#FF97FF\", \"#FECB52\"], \"font\": {\"color\": \"#2a3f5f\"}, \"geo\": {\"bgcolor\": \"white\", \"lakecolor\": \"white\", \"landcolor\": \"#E5ECF6\", \"showlakes\": true, \"showland\": true, \"subunitcolor\": \"white\"}, \"hoverlabel\": {\"align\": \"left\"}, \"hovermode\": \"closest\", \"mapbox\": {\"style\": \"light\"}, \"paper_bgcolor\": \"white\", \"plot_bgcolor\": \"#E5ECF6\", \"polar\": {\"angularaxis\": {\"gridcolor\": \"white\", \"linecolor\": \"white\", \"ticks\": \"\"}, \"bgcolor\": \"#E5ECF6\", \"radialaxis\": {\"gridcolor\": \"white\", \"linecolor\": \"white\", \"ticks\": \"\"}}, \"scene\": {\"xaxis\": {\"backgroundcolor\": \"#E5ECF6\", \"gridcolor\": \"white\", \"gridwidth\": 2, \"linecolor\": \"white\", \"showbackground\": true, \"ticks\": \"\", \"zerolinecolor\": \"white\"}, \"yaxis\": {\"backgroundcolor\": \"#E5ECF6\", \"gridcolor\": \"white\", \"gridwidth\": 2, \"linecolor\": \"white\", \"showbackground\": true, \"ticks\": \"\", \"zerolinecolor\": \"white\"}, \"zaxis\": {\"backgroundcolor\": \"#E5ECF6\", \"gridcolor\": \"white\", \"gridwidth\": 2, \"linecolor\": \"white\", \"showbackground\": true, \"ticks\": \"\", \"zerolinecolor\": \"white\"}}, \"shapedefaults\": {\"line\": {\"color\": \"#2a3f5f\"}}, \"ternary\": {\"aaxis\": {\"gridcolor\": \"white\", \"linecolor\": \"white\", \"ticks\": \"\"}, \"baxis\": {\"gridcolor\": \"white\", \"linecolor\": \"white\", \"ticks\": \"\"}, \"bgcolor\": \"#E5ECF6\", \"caxis\": {\"gridcolor\": \"white\", \"linecolor\": \"white\", \"ticks\": \"\"}}, \"title\": {\"x\": 0.05}, \"xaxis\": {\"automargin\": true, \"gridcolor\": \"white\", \"linecolor\": \"white\", \"ticks\": \"\", \"title\": {\"standoff\": 15}, \"zerolinecolor\": \"white\", \"zerolinewidth\": 2}, \"yaxis\": {\"automargin\": true, \"gridcolor\": \"white\", \"linecolor\": \"white\", \"ticks\": \"\", \"title\": {\"standoff\": 15}, \"zerolinecolor\": \"white\", \"zerolinewidth\": 2}}}, \"xaxis\": {\"anchor\": \"y\", \"domain\": [0.0, 1.0], \"title\": {\"text\": \"value\"}}, \"yaxis\": {\"anchor\": \"x\", \"domain\": [0.0, 1.0], \"title\": {\"text\": \"count\"}}},\n",
       "                        {\"responsive\": true}\n",
       "                    ).then(function(){\n",
       "                            \n",
       "var gd = document.getElementById('7ff44cb6-7da8-4276-91ae-11d4502a5b5d');\n",
       "var x = new MutationObserver(function (mutations, observer) {{\n",
       "        var display = window.getComputedStyle(gd).display;\n",
       "        if (!display || display === 'none') {{\n",
       "            console.log([gd, 'removed!']);\n",
       "            Plotly.purge(gd);\n",
       "            observer.disconnect();\n",
       "        }}\n",
       "}});\n",
       "\n",
       "// Listen for the removal of the full notebook cells\n",
       "var notebookContainer = gd.closest('#notebook-container');\n",
       "if (notebookContainer) {{\n",
       "    x.observe(notebookContainer, {childList: true});\n",
       "}}\n",
       "\n",
       "// Listen for the clearing of the current output cell\n",
       "var outputEl = gd.closest('.output');\n",
       "if (outputEl) {{\n",
       "    x.observe(outputEl, {childList: true});\n",
       "}}\n",
       "\n",
       "                        })\n",
       "                };\n",
       "                });\n",
       "            </script>\n",
       "        </div>"
      ]
     },
     "metadata": {},
     "output_type": "display_data"
    }
   ],
   "source": [
    "px.histogram(fashion_answer[node_elements[20]])"
   ]
  },
  {
   "cell_type": "code",
   "execution_count": 63,
   "metadata": {},
   "outputs": [],
   "source": [
    "def point_cloud_from_vector(v, dim=5):\n",
    "    points = []\n",
    "    for i in range(len(v)-dim):\n",
    "        points.append(v[i:i+dim])\n",
    "    return points"
   ]
  },
  {
   "cell_type": "code",
   "execution_count": 64,
   "metadata": {},
   "outputs": [
    {
     "data": {
      "text/plain": [
       "array([0.94672932, 0.84828947, 0.37994134, 0.47508394, 0.83770113,\n",
       "       0.79109452, 0.61987286, 0.91258959, 0.80488999, 0.98744068,\n",
       "       0.01703893, 0.79217171, 0.66852524, 0.83740183, 0.20417201,\n",
       "       0.7562643 , 0.28041383, 0.08212113, 0.22708205, 0.51890487])"
      ]
     },
     "execution_count": 64,
     "metadata": {},
     "output_type": "execute_result"
    }
   ],
   "source": [
    "feature_vect"
   ]
  },
  {
   "cell_type": "code",
   "execution_count": 65,
   "metadata": {},
   "outputs": [],
   "source": [
    "points = np.array(point_cloud_from_vector(feature_vect, dim=3))"
   ]
  },
  {
   "cell_type": "code",
   "execution_count": 66,
   "metadata": {},
   "outputs": [
    {
     "data": {
      "text/plain": [
       "array([[0.94672932, 0.84828947, 0.37994134],\n",
       "       [0.84828947, 0.37994134, 0.47508394],\n",
       "       [0.37994134, 0.47508394, 0.83770113],\n",
       "       [0.47508394, 0.83770113, 0.79109452],\n",
       "       [0.83770113, 0.79109452, 0.61987286],\n",
       "       [0.79109452, 0.61987286, 0.91258959],\n",
       "       [0.61987286, 0.91258959, 0.80488999],\n",
       "       [0.91258959, 0.80488999, 0.98744068],\n",
       "       [0.80488999, 0.98744068, 0.01703893],\n",
       "       [0.98744068, 0.01703893, 0.79217171],\n",
       "       [0.01703893, 0.79217171, 0.66852524],\n",
       "       [0.79217171, 0.66852524, 0.83740183],\n",
       "       [0.66852524, 0.83740183, 0.20417201],\n",
       "       [0.83740183, 0.20417201, 0.7562643 ],\n",
       "       [0.20417201, 0.7562643 , 0.28041383],\n",
       "       [0.7562643 , 0.28041383, 0.08212113],\n",
       "       [0.28041383, 0.08212113, 0.22708205]])"
      ]
     },
     "execution_count": 66,
     "metadata": {},
     "output_type": "execute_result"
    }
   ],
   "source": [
    "points"
   ]
  },
  {
   "cell_type": "code",
   "execution_count": 67,
   "metadata": {},
   "outputs": [
    {
     "data": {
      "application/vnd.plotly.v1+json": {
       "config": {
        "plotlyServerURL": "https://plot.ly"
       },
       "data": [
        {
         "marker": {
          "color": [
           0,
           1,
           2,
           3,
           4,
           5,
           6,
           7,
           8,
           9,
           10,
           11,
           12,
           13,
           14,
           15,
           16
          ],
          "colorscale": [
           [
            0,
            "#440154"
           ],
           [
            0.1111111111111111,
            "#482878"
           ],
           [
            0.2222222222222222,
            "#3e4989"
           ],
           [
            0.3333333333333333,
            "#31688e"
           ],
           [
            0.4444444444444444,
            "#26828e"
           ],
           [
            0.5555555555555556,
            "#1f9e89"
           ],
           [
            0.6666666666666666,
            "#35b779"
           ],
           [
            0.7777777777777778,
            "#6ece58"
           ],
           [
            0.8888888888888888,
            "#b5de2b"
           ],
           [
            1,
            "#fde725"
           ]
          ],
          "opacity": 0.8,
          "size": 4
         },
         "mode": "markers",
         "type": "scatter3d",
         "x": [
          0.9467293174345263,
          0.848289471055044,
          0.379941339843093,
          0.47508393612002253,
          0.8377011298435398,
          0.7910945243913216,
          0.6198728596183196,
          0.9125895923572197,
          0.8048899866641452,
          0.9874406816664636,
          0.017038930087674986,
          0.7921717149980964,
          0.6685252430580251,
          0.8374018332859101,
          0.2041720107359163,
          0.7562643026056193,
          0.2804138294497296
         ],
         "y": [
          0.848289471055044,
          0.379941339843093,
          0.47508393612002253,
          0.8377011298435398,
          0.7910945243913216,
          0.6198728596183196,
          0.9125895923572197,
          0.8048899866641452,
          0.9874406816664636,
          0.017038930087674986,
          0.7921717149980964,
          0.6685252430580251,
          0.8374018332859101,
          0.2041720107359163,
          0.7562643026056193,
          0.2804138294497296,
          0.08212113106600405
         ],
         "z": [
          0.379941339843093,
          0.47508393612002253,
          0.8377011298435398,
          0.7910945243913216,
          0.6198728596183196,
          0.9125895923572197,
          0.8048899866641452,
          0.9874406816664636,
          0.017038930087674986,
          0.7921717149980964,
          0.6685252430580251,
          0.8374018332859101,
          0.2041720107359163,
          0.7562643026056193,
          0.2804138294497296,
          0.08212113106600405,
          0.2270820480986926
         ]
        }
       ],
       "layout": {
        "autosize": true,
        "scene": {
         "aspectmode": "auto",
         "aspectratio": {
          "x": 1,
          "y": 1,
          "z": 1
         },
         "camera": {
          "center": {
           "x": 0,
           "y": 0,
           "z": 0
          },
          "eye": {
           "x": -1.0115567295027044,
           "y": 0.34399057702042124,
           "z": 1.119573541589154
          },
          "projection": {
           "type": "perspective"
          },
          "up": {
           "x": 0,
           "y": 0,
           "z": 1
          }
         },
         "xaxis": {
          "exponentformat": "e",
          "showexponent": "all",
          "title": {
           "text": "0th"
          },
          "type": "linear"
         },
         "yaxis": {
          "exponentformat": "e",
          "showexponent": "all",
          "title": {
           "text": "1st"
          },
          "type": "linear"
         },
         "zaxis": {
          "exponentformat": "e",
          "showexponent": "all",
          "title": {
           "text": "2nd"
          },
          "type": "linear"
         }
        },
        "template": {
         "data": {
          "bar": [
           {
            "error_x": {
             "color": "#2a3f5f"
            },
            "error_y": {
             "color": "#2a3f5f"
            },
            "marker": {
             "line": {
              "color": "#E5ECF6",
              "width": 0.5
             }
            },
            "type": "bar"
           }
          ],
          "barpolar": [
           {
            "marker": {
             "line": {
              "color": "#E5ECF6",
              "width": 0.5
             }
            },
            "type": "barpolar"
           }
          ],
          "carpet": [
           {
            "aaxis": {
             "endlinecolor": "#2a3f5f",
             "gridcolor": "white",
             "linecolor": "white",
             "minorgridcolor": "white",
             "startlinecolor": "#2a3f5f"
            },
            "baxis": {
             "endlinecolor": "#2a3f5f",
             "gridcolor": "white",
             "linecolor": "white",
             "minorgridcolor": "white",
             "startlinecolor": "#2a3f5f"
            },
            "type": "carpet"
           }
          ],
          "choropleth": [
           {
            "colorbar": {
             "outlinewidth": 0,
             "ticks": ""
            },
            "type": "choropleth"
           }
          ],
          "contour": [
           {
            "colorbar": {
             "outlinewidth": 0,
             "ticks": ""
            },
            "colorscale": [
             [
              0,
              "#0d0887"
             ],
             [
              0.1111111111111111,
              "#46039f"
             ],
             [
              0.2222222222222222,
              "#7201a8"
             ],
             [
              0.3333333333333333,
              "#9c179e"
             ],
             [
              0.4444444444444444,
              "#bd3786"
             ],
             [
              0.5555555555555556,
              "#d8576b"
             ],
             [
              0.6666666666666666,
              "#ed7953"
             ],
             [
              0.7777777777777778,
              "#fb9f3a"
             ],
             [
              0.8888888888888888,
              "#fdca26"
             ],
             [
              1,
              "#f0f921"
             ]
            ],
            "type": "contour"
           }
          ],
          "contourcarpet": [
           {
            "colorbar": {
             "outlinewidth": 0,
             "ticks": ""
            },
            "type": "contourcarpet"
           }
          ],
          "heatmap": [
           {
            "colorbar": {
             "outlinewidth": 0,
             "ticks": ""
            },
            "colorscale": [
             [
              0,
              "#0d0887"
             ],
             [
              0.1111111111111111,
              "#46039f"
             ],
             [
              0.2222222222222222,
              "#7201a8"
             ],
             [
              0.3333333333333333,
              "#9c179e"
             ],
             [
              0.4444444444444444,
              "#bd3786"
             ],
             [
              0.5555555555555556,
              "#d8576b"
             ],
             [
              0.6666666666666666,
              "#ed7953"
             ],
             [
              0.7777777777777778,
              "#fb9f3a"
             ],
             [
              0.8888888888888888,
              "#fdca26"
             ],
             [
              1,
              "#f0f921"
             ]
            ],
            "type": "heatmap"
           }
          ],
          "heatmapgl": [
           {
            "colorbar": {
             "outlinewidth": 0,
             "ticks": ""
            },
            "colorscale": [
             [
              0,
              "#0d0887"
             ],
             [
              0.1111111111111111,
              "#46039f"
             ],
             [
              0.2222222222222222,
              "#7201a8"
             ],
             [
              0.3333333333333333,
              "#9c179e"
             ],
             [
              0.4444444444444444,
              "#bd3786"
             ],
             [
              0.5555555555555556,
              "#d8576b"
             ],
             [
              0.6666666666666666,
              "#ed7953"
             ],
             [
              0.7777777777777778,
              "#fb9f3a"
             ],
             [
              0.8888888888888888,
              "#fdca26"
             ],
             [
              1,
              "#f0f921"
             ]
            ],
            "type": "heatmapgl"
           }
          ],
          "histogram": [
           {
            "marker": {
             "colorbar": {
              "outlinewidth": 0,
              "ticks": ""
             }
            },
            "type": "histogram"
           }
          ],
          "histogram2d": [
           {
            "colorbar": {
             "outlinewidth": 0,
             "ticks": ""
            },
            "colorscale": [
             [
              0,
              "#0d0887"
             ],
             [
              0.1111111111111111,
              "#46039f"
             ],
             [
              0.2222222222222222,
              "#7201a8"
             ],
             [
              0.3333333333333333,
              "#9c179e"
             ],
             [
              0.4444444444444444,
              "#bd3786"
             ],
             [
              0.5555555555555556,
              "#d8576b"
             ],
             [
              0.6666666666666666,
              "#ed7953"
             ],
             [
              0.7777777777777778,
              "#fb9f3a"
             ],
             [
              0.8888888888888888,
              "#fdca26"
             ],
             [
              1,
              "#f0f921"
             ]
            ],
            "type": "histogram2d"
           }
          ],
          "histogram2dcontour": [
           {
            "colorbar": {
             "outlinewidth": 0,
             "ticks": ""
            },
            "colorscale": [
             [
              0,
              "#0d0887"
             ],
             [
              0.1111111111111111,
              "#46039f"
             ],
             [
              0.2222222222222222,
              "#7201a8"
             ],
             [
              0.3333333333333333,
              "#9c179e"
             ],
             [
              0.4444444444444444,
              "#bd3786"
             ],
             [
              0.5555555555555556,
              "#d8576b"
             ],
             [
              0.6666666666666666,
              "#ed7953"
             ],
             [
              0.7777777777777778,
              "#fb9f3a"
             ],
             [
              0.8888888888888888,
              "#fdca26"
             ],
             [
              1,
              "#f0f921"
             ]
            ],
            "type": "histogram2dcontour"
           }
          ],
          "mesh3d": [
           {
            "colorbar": {
             "outlinewidth": 0,
             "ticks": ""
            },
            "type": "mesh3d"
           }
          ],
          "parcoords": [
           {
            "line": {
             "colorbar": {
              "outlinewidth": 0,
              "ticks": ""
             }
            },
            "type": "parcoords"
           }
          ],
          "pie": [
           {
            "automargin": true,
            "type": "pie"
           }
          ],
          "scatter": [
           {
            "marker": {
             "colorbar": {
              "outlinewidth": 0,
              "ticks": ""
             }
            },
            "type": "scatter"
           }
          ],
          "scatter3d": [
           {
            "line": {
             "colorbar": {
              "outlinewidth": 0,
              "ticks": ""
             }
            },
            "marker": {
             "colorbar": {
              "outlinewidth": 0,
              "ticks": ""
             }
            },
            "type": "scatter3d"
           }
          ],
          "scattercarpet": [
           {
            "marker": {
             "colorbar": {
              "outlinewidth": 0,
              "ticks": ""
             }
            },
            "type": "scattercarpet"
           }
          ],
          "scattergeo": [
           {
            "marker": {
             "colorbar": {
              "outlinewidth": 0,
              "ticks": ""
             }
            },
            "type": "scattergeo"
           }
          ],
          "scattergl": [
           {
            "marker": {
             "colorbar": {
              "outlinewidth": 0,
              "ticks": ""
             }
            },
            "type": "scattergl"
           }
          ],
          "scattermapbox": [
           {
            "marker": {
             "colorbar": {
              "outlinewidth": 0,
              "ticks": ""
             }
            },
            "type": "scattermapbox"
           }
          ],
          "scatterpolar": [
           {
            "marker": {
             "colorbar": {
              "outlinewidth": 0,
              "ticks": ""
             }
            },
            "type": "scatterpolar"
           }
          ],
          "scatterpolargl": [
           {
            "marker": {
             "colorbar": {
              "outlinewidth": 0,
              "ticks": ""
             }
            },
            "type": "scatterpolargl"
           }
          ],
          "scatterternary": [
           {
            "marker": {
             "colorbar": {
              "outlinewidth": 0,
              "ticks": ""
             }
            },
            "type": "scatterternary"
           }
          ],
          "surface": [
           {
            "colorbar": {
             "outlinewidth": 0,
             "ticks": ""
            },
            "colorscale": [
             [
              0,
              "#0d0887"
             ],
             [
              0.1111111111111111,
              "#46039f"
             ],
             [
              0.2222222222222222,
              "#7201a8"
             ],
             [
              0.3333333333333333,
              "#9c179e"
             ],
             [
              0.4444444444444444,
              "#bd3786"
             ],
             [
              0.5555555555555556,
              "#d8576b"
             ],
             [
              0.6666666666666666,
              "#ed7953"
             ],
             [
              0.7777777777777778,
              "#fb9f3a"
             ],
             [
              0.8888888888888888,
              "#fdca26"
             ],
             [
              1,
              "#f0f921"
             ]
            ],
            "type": "surface"
           }
          ],
          "table": [
           {
            "cells": {
             "fill": {
              "color": "#EBF0F8"
             },
             "line": {
              "color": "white"
             }
            },
            "header": {
             "fill": {
              "color": "#C8D4E3"
             },
             "line": {
              "color": "white"
             }
            },
            "type": "table"
           }
          ]
         },
         "layout": {
          "annotationdefaults": {
           "arrowcolor": "#2a3f5f",
           "arrowhead": 0,
           "arrowwidth": 1
          },
          "coloraxis": {
           "colorbar": {
            "outlinewidth": 0,
            "ticks": ""
           }
          },
          "colorscale": {
           "diverging": [
            [
             0,
             "#8e0152"
            ],
            [
             0.1,
             "#c51b7d"
            ],
            [
             0.2,
             "#de77ae"
            ],
            [
             0.3,
             "#f1b6da"
            ],
            [
             0.4,
             "#fde0ef"
            ],
            [
             0.5,
             "#f7f7f7"
            ],
            [
             0.6,
             "#e6f5d0"
            ],
            [
             0.7,
             "#b8e186"
            ],
            [
             0.8,
             "#7fbc41"
            ],
            [
             0.9,
             "#4d9221"
            ],
            [
             1,
             "#276419"
            ]
           ],
           "sequential": [
            [
             0,
             "#0d0887"
            ],
            [
             0.1111111111111111,
             "#46039f"
            ],
            [
             0.2222222222222222,
             "#7201a8"
            ],
            [
             0.3333333333333333,
             "#9c179e"
            ],
            [
             0.4444444444444444,
             "#bd3786"
            ],
            [
             0.5555555555555556,
             "#d8576b"
            ],
            [
             0.6666666666666666,
             "#ed7953"
            ],
            [
             0.7777777777777778,
             "#fb9f3a"
            ],
            [
             0.8888888888888888,
             "#fdca26"
            ],
            [
             1,
             "#f0f921"
            ]
           ],
           "sequentialminus": [
            [
             0,
             "#0d0887"
            ],
            [
             0.1111111111111111,
             "#46039f"
            ],
            [
             0.2222222222222222,
             "#7201a8"
            ],
            [
             0.3333333333333333,
             "#9c179e"
            ],
            [
             0.4444444444444444,
             "#bd3786"
            ],
            [
             0.5555555555555556,
             "#d8576b"
            ],
            [
             0.6666666666666666,
             "#ed7953"
            ],
            [
             0.7777777777777778,
             "#fb9f3a"
            ],
            [
             0.8888888888888888,
             "#fdca26"
            ],
            [
             1,
             "#f0f921"
            ]
           ]
          },
          "colorway": [
           "#636efa",
           "#EF553B",
           "#00cc96",
           "#ab63fa",
           "#FFA15A",
           "#19d3f3",
           "#FF6692",
           "#B6E880",
           "#FF97FF",
           "#FECB52"
          ],
          "font": {
           "color": "#2a3f5f"
          },
          "geo": {
           "bgcolor": "white",
           "lakecolor": "white",
           "landcolor": "#E5ECF6",
           "showlakes": true,
           "showland": true,
           "subunitcolor": "white"
          },
          "hoverlabel": {
           "align": "left"
          },
          "hovermode": "closest",
          "mapbox": {
           "style": "light"
          },
          "paper_bgcolor": "white",
          "plot_bgcolor": "#E5ECF6",
          "polar": {
           "angularaxis": {
            "gridcolor": "white",
            "linecolor": "white",
            "ticks": ""
           },
           "bgcolor": "#E5ECF6",
           "radialaxis": {
            "gridcolor": "white",
            "linecolor": "white",
            "ticks": ""
           }
          },
          "scene": {
           "xaxis": {
            "backgroundcolor": "#E5ECF6",
            "gridcolor": "white",
            "gridwidth": 2,
            "linecolor": "white",
            "showbackground": true,
            "ticks": "",
            "zerolinecolor": "white"
           },
           "yaxis": {
            "backgroundcolor": "#E5ECF6",
            "gridcolor": "white",
            "gridwidth": 2,
            "linecolor": "white",
            "showbackground": true,
            "ticks": "",
            "zerolinecolor": "white"
           },
           "zaxis": {
            "backgroundcolor": "#E5ECF6",
            "gridcolor": "white",
            "gridwidth": 2,
            "linecolor": "white",
            "showbackground": true,
            "ticks": "",
            "zerolinecolor": "white"
           }
          },
          "shapedefaults": {
           "line": {
            "color": "#2a3f5f"
           }
          },
          "ternary": {
           "aaxis": {
            "gridcolor": "white",
            "linecolor": "white",
            "ticks": ""
           },
           "baxis": {
            "gridcolor": "white",
            "linecolor": "white",
            "ticks": ""
           },
           "bgcolor": "#E5ECF6",
           "caxis": {
            "gridcolor": "white",
            "linecolor": "white",
            "ticks": ""
           }
          },
          "title": {
           "x": 0.05
          },
          "xaxis": {
           "automargin": true,
           "gridcolor": "white",
           "linecolor": "white",
           "ticks": "",
           "title": {
            "standoff": 15
           },
           "zerolinecolor": "white",
           "zerolinewidth": 2
          },
          "yaxis": {
           "automargin": true,
           "gridcolor": "white",
           "linecolor": "white",
           "ticks": "",
           "title": {
            "standoff": 15
           },
           "zerolinecolor": "white",
           "zerolinewidth": 2
          }
         }
        }
       }
      },
      "image/png": "[encoded data removed]",
      "text/html": [
       "<div>\n",
       "        \n",
       "        \n",
       "            <div id=\"29c62c21-e5c2-40be-b4b7-1f58cf5a100d\" class=\"plotly-graph-div\" style=\"height:525px; width:100%;\"></div>\n",
       "            <script type=\"text/javascript\">\n",
       "                require([\"plotly\"], function(Plotly) {\n",
       "                    window.PLOTLYENV=window.PLOTLYENV || {};\n",
       "                    \n",
       "                if (document.getElementById(\"29c62c21-e5c2-40be-b4b7-1f58cf5a100d\")) {\n",
       "                    Plotly.newPlot(\n",
       "                        '29c62c21-e5c2-40be-b4b7-1f58cf5a100d',\n",
       "                        [{\"marker\": {\"color\": [0, 1, 2, 3, 4, 5, 6, 7, 8, 9, 10, 11, 12, 13, 14, 15, 16], \"colorscale\": [[0.0, \"#440154\"], [0.1111111111111111, \"#482878\"], [0.2222222222222222, \"#3e4989\"], [0.3333333333333333, \"#31688e\"], [0.4444444444444444, \"#26828e\"], [0.5555555555555556, \"#1f9e89\"], [0.6666666666666666, \"#35b779\"], [0.7777777777777778, \"#6ece58\"], [0.8888888888888888, \"#b5de2b\"], [1.0, \"#fde725\"]], \"opacity\": 0.8, \"size\": 4}, \"mode\": \"markers\", \"type\": \"scatter3d\", \"x\": [0.9467293174345263, 0.848289471055044, 0.379941339843093, 0.47508393612002253, 0.8377011298435398, 0.7910945243913216, 0.6198728596183196, 0.9125895923572197, 0.8048899866641452, 0.9874406816664636, 0.017038930087674986, 0.7921717149980964, 0.6685252430580251, 0.8374018332859101, 0.2041720107359163, 0.7562643026056193, 0.2804138294497296], \"y\": [0.848289471055044, 0.379941339843093, 0.47508393612002253, 0.8377011298435398, 0.7910945243913216, 0.6198728596183196, 0.9125895923572197, 0.8048899866641452, 0.9874406816664636, 0.017038930087674986, 0.7921717149980964, 0.6685252430580251, 0.8374018332859101, 0.2041720107359163, 0.7562643026056193, 0.2804138294497296, 0.08212113106600405], \"z\": [0.379941339843093, 0.47508393612002253, 0.8377011298435398, 0.7910945243913216, 0.6198728596183196, 0.9125895923572197, 0.8048899866641452, 0.9874406816664636, 0.017038930087674986, 0.7921717149980964, 0.6685252430580251, 0.8374018332859101, 0.2041720107359163, 0.7562643026056193, 0.2804138294497296, 0.08212113106600405, 0.2270820480986926]}],\n",
       "                        {\"scene\": {\"xaxis\": {\"exponentformat\": \"e\", \"showexponent\": \"all\", \"title\": {\"text\": \"0th\"}, \"type\": \"linear\"}, \"yaxis\": {\"exponentformat\": \"e\", \"showexponent\": \"all\", \"title\": {\"text\": \"1st\"}, \"type\": \"linear\"}, \"zaxis\": {\"exponentformat\": \"e\", \"showexponent\": \"all\", \"title\": {\"text\": \"2nd\"}, \"type\": \"linear\"}}, \"template\": {\"data\": {\"bar\": [{\"error_x\": {\"color\": \"#2a3f5f\"}, \"error_y\": {\"color\": \"#2a3f5f\"}, \"marker\": {\"line\": {\"color\": \"#E5ECF6\", \"width\": 0.5}}, \"type\": \"bar\"}], \"barpolar\": [{\"marker\": {\"line\": {\"color\": \"#E5ECF6\", \"width\": 0.5}}, \"type\": \"barpolar\"}], \"carpet\": [{\"aaxis\": {\"endlinecolor\": \"#2a3f5f\", \"gridcolor\": \"white\", \"linecolor\": \"white\", \"minorgridcolor\": \"white\", \"startlinecolor\": \"#2a3f5f\"}, \"baxis\": {\"endlinecolor\": \"#2a3f5f\", \"gridcolor\": \"white\", \"linecolor\": \"white\", \"minorgridcolor\": \"white\", \"startlinecolor\": \"#2a3f5f\"}, \"type\": \"carpet\"}], \"choropleth\": [{\"colorbar\": {\"outlinewidth\": 0, \"ticks\": \"\"}, \"type\": \"choropleth\"}], \"contour\": [{\"colorbar\": {\"outlinewidth\": 0, \"ticks\": \"\"}, \"colorscale\": [[0.0, \"#0d0887\"], [0.1111111111111111, \"#46039f\"], [0.2222222222222222, \"#7201a8\"], [0.3333333333333333, \"#9c179e\"], [0.4444444444444444, \"#bd3786\"], [0.5555555555555556, \"#d8576b\"], [0.6666666666666666, \"#ed7953\"], [0.7777777777777778, \"#fb9f3a\"], [0.8888888888888888, \"#fdca26\"], [1.0, \"#f0f921\"]], \"type\": \"contour\"}], \"contourcarpet\": [{\"colorbar\": {\"outlinewidth\": 0, \"ticks\": \"\"}, \"type\": \"contourcarpet\"}], \"heatmap\": [{\"colorbar\": {\"outlinewidth\": 0, \"ticks\": \"\"}, \"colorscale\": [[0.0, \"#0d0887\"], [0.1111111111111111, \"#46039f\"], [0.2222222222222222, \"#7201a8\"], [0.3333333333333333, \"#9c179e\"], [0.4444444444444444, \"#bd3786\"], [0.5555555555555556, \"#d8576b\"], [0.6666666666666666, \"#ed7953\"], [0.7777777777777778, \"#fb9f3a\"], [0.8888888888888888, \"#fdca26\"], [1.0, \"#f0f921\"]], \"type\": \"heatmap\"}], \"heatmapgl\": [{\"colorbar\": {\"outlinewidth\": 0, \"ticks\": \"\"}, \"colorscale\": [[0.0, \"#0d0887\"], [0.1111111111111111, \"#46039f\"], [0.2222222222222222, \"#7201a8\"], [0.3333333333333333, \"#9c179e\"], [0.4444444444444444, \"#bd3786\"], [0.5555555555555556, \"#d8576b\"], [0.6666666666666666, \"#ed7953\"], [0.7777777777777778, \"#fb9f3a\"], [0.8888888888888888, \"#fdca26\"], [1.0, \"#f0f921\"]], \"type\": \"heatmapgl\"}], \"histogram\": [{\"marker\": {\"colorbar\": {\"outlinewidth\": 0, \"ticks\": \"\"}}, \"type\": \"histogram\"}], \"histogram2d\": [{\"colorbar\": {\"outlinewidth\": 0, \"ticks\": \"\"}, \"colorscale\": [[0.0, \"#0d0887\"], [0.1111111111111111, \"#46039f\"], [0.2222222222222222, \"#7201a8\"], [0.3333333333333333, \"#9c179e\"], [0.4444444444444444, \"#bd3786\"], [0.5555555555555556, \"#d8576b\"], [0.6666666666666666, \"#ed7953\"], [0.7777777777777778, \"#fb9f3a\"], [0.8888888888888888, \"#fdca26\"], [1.0, \"#f0f921\"]], \"type\": \"histogram2d\"}], \"histogram2dcontour\": [{\"colorbar\": {\"outlinewidth\": 0, \"ticks\": \"\"}, \"colorscale\": [[0.0, \"#0d0887\"], [0.1111111111111111, \"#46039f\"], [0.2222222222222222, \"#7201a8\"], [0.3333333333333333, \"#9c179e\"], [0.4444444444444444, \"#bd3786\"], [0.5555555555555556, \"#d8576b\"], [0.6666666666666666, \"#ed7953\"], [0.7777777777777778, \"#fb9f3a\"], [0.8888888888888888, \"#fdca26\"], [1.0, \"#f0f921\"]], \"type\": \"histogram2dcontour\"}], \"mesh3d\": [{\"colorbar\": {\"outlinewidth\": 0, \"ticks\": \"\"}, \"type\": \"mesh3d\"}], \"parcoords\": [{\"line\": {\"colorbar\": {\"outlinewidth\": 0, \"ticks\": \"\"}}, \"type\": \"parcoords\"}], \"pie\": [{\"automargin\": true, \"type\": \"pie\"}], \"scatter\": [{\"marker\": {\"colorbar\": {\"outlinewidth\": 0, \"ticks\": \"\"}}, \"type\": \"scatter\"}], \"scatter3d\": [{\"line\": {\"colorbar\": {\"outlinewidth\": 0, \"ticks\": \"\"}}, \"marker\": {\"colorbar\": {\"outlinewidth\": 0, \"ticks\": \"\"}}, \"type\": \"scatter3d\"}], \"scattercarpet\": [{\"marker\": {\"colorbar\": {\"outlinewidth\": 0, \"ticks\": \"\"}}, \"type\": \"scattercarpet\"}], \"scattergeo\": [{\"marker\": {\"colorbar\": {\"outlinewidth\": 0, \"ticks\": \"\"}}, \"type\": \"scattergeo\"}], \"scattergl\": [{\"marker\": {\"colorbar\": {\"outlinewidth\": 0, \"ticks\": \"\"}}, \"type\": \"scattergl\"}], \"scattermapbox\": [{\"marker\": {\"colorbar\": {\"outlinewidth\": 0, \"ticks\": \"\"}}, \"type\": \"scattermapbox\"}], \"scatterpolar\": [{\"marker\": {\"colorbar\": {\"outlinewidth\": 0, \"ticks\": \"\"}}, \"type\": \"scatterpolar\"}], \"scatterpolargl\": [{\"marker\": {\"colorbar\": {\"outlinewidth\": 0, \"ticks\": \"\"}}, \"type\": \"scatterpolargl\"}], \"scatterternary\": [{\"marker\": {\"colorbar\": {\"outlinewidth\": 0, \"ticks\": \"\"}}, \"type\": \"scatterternary\"}], \"surface\": [{\"colorbar\": {\"outlinewidth\": 0, \"ticks\": \"\"}, \"colorscale\": [[0.0, \"#0d0887\"], [0.1111111111111111, \"#46039f\"], [0.2222222222222222, \"#7201a8\"], [0.3333333333333333, \"#9c179e\"], [0.4444444444444444, \"#bd3786\"], [0.5555555555555556, \"#d8576b\"], [0.6666666666666666, \"#ed7953\"], [0.7777777777777778, \"#fb9f3a\"], [0.8888888888888888, \"#fdca26\"], [1.0, \"#f0f921\"]], \"type\": \"surface\"}], \"table\": [{\"cells\": {\"fill\": {\"color\": \"#EBF0F8\"}, \"line\": {\"color\": \"white\"}}, \"header\": {\"fill\": {\"color\": \"#C8D4E3\"}, \"line\": {\"color\": \"white\"}}, \"type\": \"table\"}]}, \"layout\": {\"annotationdefaults\": {\"arrowcolor\": \"#2a3f5f\", \"arrowhead\": 0, \"arrowwidth\": 1}, \"coloraxis\": {\"colorbar\": {\"outlinewidth\": 0, \"ticks\": \"\"}}, \"colorscale\": {\"diverging\": [[0, \"#8e0152\"], [0.1, \"#c51b7d\"], [0.2, \"#de77ae\"], [0.3, \"#f1b6da\"], [0.4, \"#fde0ef\"], [0.5, \"#f7f7f7\"], [0.6, \"#e6f5d0\"], [0.7, \"#b8e186\"], [0.8, \"#7fbc41\"], [0.9, \"#4d9221\"], [1, \"#276419\"]], \"sequential\": [[0.0, \"#0d0887\"], [0.1111111111111111, \"#46039f\"], [0.2222222222222222, \"#7201a8\"], [0.3333333333333333, \"#9c179e\"], [0.4444444444444444, \"#bd3786\"], [0.5555555555555556, \"#d8576b\"], [0.6666666666666666, \"#ed7953\"], [0.7777777777777778, \"#fb9f3a\"], [0.8888888888888888, \"#fdca26\"], [1.0, \"#f0f921\"]], \"sequentialminus\": [[0.0, \"#0d0887\"], [0.1111111111111111, \"#46039f\"], [0.2222222222222222, \"#7201a8\"], [0.3333333333333333, \"#9c179e\"], [0.4444444444444444, \"#bd3786\"], [0.5555555555555556, \"#d8576b\"], [0.6666666666666666, \"#ed7953\"], [0.7777777777777778, \"#fb9f3a\"], [0.8888888888888888, \"#fdca26\"], [1.0, \"#f0f921\"]]}, \"colorway\": [\"#636efa\", \"#EF553B\", \"#00cc96\", \"#ab63fa\", \"#FFA15A\", \"#19d3f3\", \"#FF6692\", \"#B6E880\", \"#FF97FF\", \"#FECB52\"], \"font\": {\"color\": \"#2a3f5f\"}, \"geo\": {\"bgcolor\": \"white\", \"lakecolor\": \"white\", \"landcolor\": \"#E5ECF6\", \"showlakes\": true, \"showland\": true, \"subunitcolor\": \"white\"}, \"hoverlabel\": {\"align\": \"left\"}, \"hovermode\": \"closest\", \"mapbox\": {\"style\": \"light\"}, \"paper_bgcolor\": \"white\", \"plot_bgcolor\": \"#E5ECF6\", \"polar\": {\"angularaxis\": {\"gridcolor\": \"white\", \"linecolor\": \"white\", \"ticks\": \"\"}, \"bgcolor\": \"#E5ECF6\", \"radialaxis\": {\"gridcolor\": \"white\", \"linecolor\": \"white\", \"ticks\": \"\"}}, \"scene\": {\"xaxis\": {\"backgroundcolor\": \"#E5ECF6\", \"gridcolor\": \"white\", \"gridwidth\": 2, \"linecolor\": \"white\", \"showbackground\": true, \"ticks\": \"\", \"zerolinecolor\": \"white\"}, \"yaxis\": {\"backgroundcolor\": \"#E5ECF6\", \"gridcolor\": \"white\", \"gridwidth\": 2, \"linecolor\": \"white\", \"showbackground\": true, \"ticks\": \"\", \"zerolinecolor\": \"white\"}, \"zaxis\": {\"backgroundcolor\": \"#E5ECF6\", \"gridcolor\": \"white\", \"gridwidth\": 2, \"linecolor\": \"white\", \"showbackground\": true, \"ticks\": \"\", \"zerolinecolor\": \"white\"}}, \"shapedefaults\": {\"line\": {\"color\": \"#2a3f5f\"}}, \"ternary\": {\"aaxis\": {\"gridcolor\": \"white\", \"linecolor\": \"white\", \"ticks\": \"\"}, \"baxis\": {\"gridcolor\": \"white\", \"linecolor\": \"white\", \"ticks\": \"\"}, \"bgcolor\": \"#E5ECF6\", \"caxis\": {\"gridcolor\": \"white\", \"linecolor\": \"white\", \"ticks\": \"\"}}, \"title\": {\"x\": 0.05}, \"xaxis\": {\"automargin\": true, \"gridcolor\": \"white\", \"linecolor\": \"white\", \"ticks\": \"\", \"title\": {\"standoff\": 15}, \"zerolinecolor\": \"white\", \"zerolinewidth\": 2}, \"yaxis\": {\"automargin\": true, \"gridcolor\": \"white\", \"linecolor\": \"white\", \"ticks\": \"\", \"title\": {\"standoff\": 15}, \"zerolinecolor\": \"white\", \"zerolinewidth\": 2}}}},\n",
       "                        {\"responsive\": true}\n",
       "                    ).then(function(){\n",
       "                            \n",
       "var gd = document.getElementById('29c62c21-e5c2-40be-b4b7-1f58cf5a100d');\n",
       "var x = new MutationObserver(function (mutations, observer) {{\n",
       "        var display = window.getComputedStyle(gd).display;\n",
       "        if (!display || display === 'none') {{\n",
       "            console.log([gd, 'removed!']);\n",
       "            Plotly.purge(gd);\n",
       "            observer.disconnect();\n",
       "        }}\n",
       "}});\n",
       "\n",
       "// Listen for the removal of the full notebook cells\n",
       "var notebookContainer = gd.closest('#notebook-container');\n",
       "if (notebookContainer) {{\n",
       "    x.observe(notebookContainer, {childList: true});\n",
       "}}\n",
       "\n",
       "// Listen for the clearing of the current output cell\n",
       "var outputEl = gd.closest('.output');\n",
       "if (outputEl) {{\n",
       "    x.observe(outputEl, {childList: true});\n",
       "}}\n",
       "\n",
       "                        })\n",
       "                };\n",
       "                });\n",
       "            </script>\n",
       "        </div>"
      ]
     },
     "metadata": {},
     "output_type": "display_data"
    }
   ],
   "source": [
    "plot_point_cloud(points)"
   ]
  },
  {
   "cell_type": "code",
   "execution_count": 68,
   "metadata": {},
   "outputs": [],
   "source": [
    "from gtda.homology import VietorisRipsPersistence"
   ]
  },
  {
   "cell_type": "code",
   "execution_count": 69,
   "metadata": {},
   "outputs": [
    {
     "data": {
      "application/vnd.plotly.v1+json": {
       "config": {
        "plotlyServerURL": "https://plot.ly"
       },
       "data": [
        {
         "hoverinfo": "none",
         "line": {
          "color": "black",
          "dash": "dash",
          "width": 1
         },
         "mode": "lines",
         "showlegend": false,
         "type": "scatter",
         "x": [
          -100,
          100
         ],
         "y": [
          -100,
          100
         ]
        },
        {
         "mode": "markers",
         "name": "H0",
         "type": "scatter",
         "x": [
          0,
          0,
          0,
          0,
          0,
          0,
          0,
          0,
          0,
          0,
          0,
          0,
          0,
          0,
          0,
          0
         ],
         "y": [
          0.08956234902143478,
          0.16359226405620575,
          0.2336558848619461,
          0.24252791702747345,
          0.2538011372089386,
          0.26967674493789673,
          0.27590903639793396,
          0.3005184233188629,
          0.32925811409950256,
          0.3317767381668091,
          0.3777770698070526,
          0.41568511724472046,
          0.43236395716667175,
          0.4360308349132538,
          0.4763416647911072,
          0.5355066061019897
         ]
        },
        {
         "mode": "markers",
         "name": "H1",
         "type": "scatter",
         "x": [
          0.6805337071418762,
          0.47751444578170776,
          0.44653013348579407
         ],
         "y": [
          0.7329264283180237,
          0.6179786920547485,
          0.4735535681247711
         ]
        }
       ],
       "layout": {
        "height": 500,
        "plot_bgcolor": "white",
        "template": {
         "data": {
          "bar": [
           {
            "error_x": {
             "color": "#2a3f5f"
            },
            "error_y": {
             "color": "#2a3f5f"
            },
            "marker": {
             "line": {
              "color": "#E5ECF6",
              "width": 0.5
             }
            },
            "type": "bar"
           }
          ],
          "barpolar": [
           {
            "marker": {
             "line": {
              "color": "#E5ECF6",
              "width": 0.5
             }
            },
            "type": "barpolar"
           }
          ],
          "carpet": [
           {
            "aaxis": {
             "endlinecolor": "#2a3f5f",
             "gridcolor": "white",
             "linecolor": "white",
             "minorgridcolor": "white",
             "startlinecolor": "#2a3f5f"
            },
            "baxis": {
             "endlinecolor": "#2a3f5f",
             "gridcolor": "white",
             "linecolor": "white",
             "minorgridcolor": "white",
             "startlinecolor": "#2a3f5f"
            },
            "type": "carpet"
           }
          ],
          "choropleth": [
           {
            "colorbar": {
             "outlinewidth": 0,
             "ticks": ""
            },
            "type": "choropleth"
           }
          ],
          "contour": [
           {
            "colorbar": {
             "outlinewidth": 0,
             "ticks": ""
            },
            "colorscale": [
             [
              0,
              "#0d0887"
             ],
             [
              0.1111111111111111,
              "#46039f"
             ],
             [
              0.2222222222222222,
              "#7201a8"
             ],
             [
              0.3333333333333333,
              "#9c179e"
             ],
             [
              0.4444444444444444,
              "#bd3786"
             ],
             [
              0.5555555555555556,
              "#d8576b"
             ],
             [
              0.6666666666666666,
              "#ed7953"
             ],
             [
              0.7777777777777778,
              "#fb9f3a"
             ],
             [
              0.8888888888888888,
              "#fdca26"
             ],
             [
              1,
              "#f0f921"
             ]
            ],
            "type": "contour"
           }
          ],
          "contourcarpet": [
           {
            "colorbar": {
             "outlinewidth": 0,
             "ticks": ""
            },
            "type": "contourcarpet"
           }
          ],
          "heatmap": [
           {
            "colorbar": {
             "outlinewidth": 0,
             "ticks": ""
            },
            "colorscale": [
             [
              0,
              "#0d0887"
             ],
             [
              0.1111111111111111,
              "#46039f"
             ],
             [
              0.2222222222222222,
              "#7201a8"
             ],
             [
              0.3333333333333333,
              "#9c179e"
             ],
             [
              0.4444444444444444,
              "#bd3786"
             ],
             [
              0.5555555555555556,
              "#d8576b"
             ],
             [
              0.6666666666666666,
              "#ed7953"
             ],
             [
              0.7777777777777778,
              "#fb9f3a"
             ],
             [
              0.8888888888888888,
              "#fdca26"
             ],
             [
              1,
              "#f0f921"
             ]
            ],
            "type": "heatmap"
           }
          ],
          "heatmapgl": [
           {
            "colorbar": {
             "outlinewidth": 0,
             "ticks": ""
            },
            "colorscale": [
             [
              0,
              "#0d0887"
             ],
             [
              0.1111111111111111,
              "#46039f"
             ],
             [
              0.2222222222222222,
              "#7201a8"
             ],
             [
              0.3333333333333333,
              "#9c179e"
             ],
             [
              0.4444444444444444,
              "#bd3786"
             ],
             [
              0.5555555555555556,
              "#d8576b"
             ],
             [
              0.6666666666666666,
              "#ed7953"
             ],
             [
              0.7777777777777778,
              "#fb9f3a"
             ],
             [
              0.8888888888888888,
              "#fdca26"
             ],
             [
              1,
              "#f0f921"
             ]
            ],
            "type": "heatmapgl"
           }
          ],
          "histogram": [
           {
            "marker": {
             "colorbar": {
              "outlinewidth": 0,
              "ticks": ""
             }
            },
            "type": "histogram"
           }
          ],
          "histogram2d": [
           {
            "colorbar": {
             "outlinewidth": 0,
             "ticks": ""
            },
            "colorscale": [
             [
              0,
              "#0d0887"
             ],
             [
              0.1111111111111111,
              "#46039f"
             ],
             [
              0.2222222222222222,
              "#7201a8"
             ],
             [
              0.3333333333333333,
              "#9c179e"
             ],
             [
              0.4444444444444444,
              "#bd3786"
             ],
             [
              0.5555555555555556,
              "#d8576b"
             ],
             [
              0.6666666666666666,
              "#ed7953"
             ],
             [
              0.7777777777777778,
              "#fb9f3a"
             ],
             [
              0.8888888888888888,
              "#fdca26"
             ],
             [
              1,
              "#f0f921"
             ]
            ],
            "type": "histogram2d"
           }
          ],
          "histogram2dcontour": [
           {
            "colorbar": {
             "outlinewidth": 0,
             "ticks": ""
            },
            "colorscale": [
             [
              0,
              "#0d0887"
             ],
             [
              0.1111111111111111,
              "#46039f"
             ],
             [
              0.2222222222222222,
              "#7201a8"
             ],
             [
              0.3333333333333333,
              "#9c179e"
             ],
             [
              0.4444444444444444,
              "#bd3786"
             ],
             [
              0.5555555555555556,
              "#d8576b"
             ],
             [
              0.6666666666666666,
              "#ed7953"
             ],
             [
              0.7777777777777778,
              "#fb9f3a"
             ],
             [
              0.8888888888888888,
              "#fdca26"
             ],
             [
              1,
              "#f0f921"
             ]
            ],
            "type": "histogram2dcontour"
           }
          ],
          "mesh3d": [
           {
            "colorbar": {
             "outlinewidth": 0,
             "ticks": ""
            },
            "type": "mesh3d"
           }
          ],
          "parcoords": [
           {
            "line": {
             "colorbar": {
              "outlinewidth": 0,
              "ticks": ""
             }
            },
            "type": "parcoords"
           }
          ],
          "pie": [
           {
            "automargin": true,
            "type": "pie"
           }
          ],
          "scatter": [
           {
            "marker": {
             "colorbar": {
              "outlinewidth": 0,
              "ticks": ""
             }
            },
            "type": "scatter"
           }
          ],
          "scatter3d": [
           {
            "line": {
             "colorbar": {
              "outlinewidth": 0,
              "ticks": ""
             }
            },
            "marker": {
             "colorbar": {
              "outlinewidth": 0,
              "ticks": ""
             }
            },
            "type": "scatter3d"
           }
          ],
          "scattercarpet": [
           {
            "marker": {
             "colorbar": {
              "outlinewidth": 0,
              "ticks": ""
             }
            },
            "type": "scattercarpet"
           }
          ],
          "scattergeo": [
           {
            "marker": {
             "colorbar": {
              "outlinewidth": 0,
              "ticks": ""
             }
            },
            "type": "scattergeo"
           }
          ],
          "scattergl": [
           {
            "marker": {
             "colorbar": {
              "outlinewidth": 0,
              "ticks": ""
             }
            },
            "type": "scattergl"
           }
          ],
          "scattermapbox": [
           {
            "marker": {
             "colorbar": {
              "outlinewidth": 0,
              "ticks": ""
             }
            },
            "type": "scattermapbox"
           }
          ],
          "scatterpolar": [
           {
            "marker": {
             "colorbar": {
              "outlinewidth": 0,
              "ticks": ""
             }
            },
            "type": "scatterpolar"
           }
          ],
          "scatterpolargl": [
           {
            "marker": {
             "colorbar": {
              "outlinewidth": 0,
              "ticks": ""
             }
            },
            "type": "scatterpolargl"
           }
          ],
          "scatterternary": [
           {
            "marker": {
             "colorbar": {
              "outlinewidth": 0,
              "ticks": ""
             }
            },
            "type": "scatterternary"
           }
          ],
          "surface": [
           {
            "colorbar": {
             "outlinewidth": 0,
             "ticks": ""
            },
            "colorscale": [
             [
              0,
              "#0d0887"
             ],
             [
              0.1111111111111111,
              "#46039f"
             ],
             [
              0.2222222222222222,
              "#7201a8"
             ],
             [
              0.3333333333333333,
              "#9c179e"
             ],
             [
              0.4444444444444444,
              "#bd3786"
             ],
             [
              0.5555555555555556,
              "#d8576b"
             ],
             [
              0.6666666666666666,
              "#ed7953"
             ],
             [
              0.7777777777777778,
              "#fb9f3a"
             ],
             [
              0.8888888888888888,
              "#fdca26"
             ],
             [
              1,
              "#f0f921"
             ]
            ],
            "type": "surface"
           }
          ],
          "table": [
           {
            "cells": {
             "fill": {
              "color": "#EBF0F8"
             },
             "line": {
              "color": "white"
             }
            },
            "header": {
             "fill": {
              "color": "#C8D4E3"
             },
             "line": {
              "color": "white"
             }
            },
            "type": "table"
           }
          ]
         },
         "layout": {
          "annotationdefaults": {
           "arrowcolor": "#2a3f5f",
           "arrowhead": 0,
           "arrowwidth": 1
          },
          "coloraxis": {
           "colorbar": {
            "outlinewidth": 0,
            "ticks": ""
           }
          },
          "colorscale": {
           "diverging": [
            [
             0,
             "#8e0152"
            ],
            [
             0.1,
             "#c51b7d"
            ],
            [
             0.2,
             "#de77ae"
            ],
            [
             0.3,
             "#f1b6da"
            ],
            [
             0.4,
             "#fde0ef"
            ],
            [
             0.5,
             "#f7f7f7"
            ],
            [
             0.6,
             "#e6f5d0"
            ],
            [
             0.7,
             "#b8e186"
            ],
            [
             0.8,
             "#7fbc41"
            ],
            [
             0.9,
             "#4d9221"
            ],
            [
             1,
             "#276419"
            ]
           ],
           "sequential": [
            [
             0,
             "#0d0887"
            ],
            [
             0.1111111111111111,
             "#46039f"
            ],
            [
             0.2222222222222222,
             "#7201a8"
            ],
            [
             0.3333333333333333,
             "#9c179e"
            ],
            [
             0.4444444444444444,
             "#bd3786"
            ],
            [
             0.5555555555555556,
             "#d8576b"
            ],
            [
             0.6666666666666666,
             "#ed7953"
            ],
            [
             0.7777777777777778,
             "#fb9f3a"
            ],
            [
             0.8888888888888888,
             "#fdca26"
            ],
            [
             1,
             "#f0f921"
            ]
           ],
           "sequentialminus": [
            [
             0,
             "#0d0887"
            ],
            [
             0.1111111111111111,
             "#46039f"
            ],
            [
             0.2222222222222222,
             "#7201a8"
            ],
            [
             0.3333333333333333,
             "#9c179e"
            ],
            [
             0.4444444444444444,
             "#bd3786"
            ],
            [
             0.5555555555555556,
             "#d8576b"
            ],
            [
             0.6666666666666666,
             "#ed7953"
            ],
            [
             0.7777777777777778,
             "#fb9f3a"
            ],
            [
             0.8888888888888888,
             "#fdca26"
            ],
            [
             1,
             "#f0f921"
            ]
           ]
          },
          "colorway": [
           "#636efa",
           "#EF553B",
           "#00cc96",
           "#ab63fa",
           "#FFA15A",
           "#19d3f3",
           "#FF6692",
           "#B6E880",
           "#FF97FF",
           "#FECB52"
          ],
          "font": {
           "color": "#2a3f5f"
          },
          "geo": {
           "bgcolor": "white",
           "lakecolor": "white",
           "landcolor": "#E5ECF6",
           "showlakes": true,
           "showland": true,
           "subunitcolor": "white"
          },
          "hoverlabel": {
           "align": "left"
          },
          "hovermode": "closest",
          "mapbox": {
           "style": "light"
          },
          "paper_bgcolor": "white",
          "plot_bgcolor": "#E5ECF6",
          "polar": {
           "angularaxis": {
            "gridcolor": "white",
            "linecolor": "white",
            "ticks": ""
           },
           "bgcolor": "#E5ECF6",
           "radialaxis": {
            "gridcolor": "white",
            "linecolor": "white",
            "ticks": ""
           }
          },
          "scene": {
           "xaxis": {
            "backgroundcolor": "#E5ECF6",
            "gridcolor": "white",
            "gridwidth": 2,
            "linecolor": "white",
            "showbackground": true,
            "ticks": "",
            "zerolinecolor": "white"
           },
           "yaxis": {
            "backgroundcolor": "#E5ECF6",
            "gridcolor": "white",
            "gridwidth": 2,
            "linecolor": "white",
            "showbackground": true,
            "ticks": "",
            "zerolinecolor": "white"
           },
           "zaxis": {
            "backgroundcolor": "#E5ECF6",
            "gridcolor": "white",
            "gridwidth": 2,
            "linecolor": "white",
            "showbackground": true,
            "ticks": "",
            "zerolinecolor": "white"
           }
          },
          "shapedefaults": {
           "line": {
            "color": "#2a3f5f"
           }
          },
          "ternary": {
           "aaxis": {
            "gridcolor": "white",
            "linecolor": "white",
            "ticks": ""
           },
           "baxis": {
            "gridcolor": "white",
            "linecolor": "white",
            "ticks": ""
           },
           "bgcolor": "#E5ECF6",
           "caxis": {
            "gridcolor": "white",
            "linecolor": "white",
            "ticks": ""
           }
          },
          "title": {
           "x": 0.05
          },
          "xaxis": {
           "automargin": true,
           "gridcolor": "white",
           "linecolor": "white",
           "ticks": "",
           "title": {
            "standoff": 15
           },
           "zerolinecolor": "white",
           "zerolinewidth": 2
          },
          "yaxis": {
           "automargin": true,
           "gridcolor": "white",
           "linecolor": "white",
           "ticks": "",
           "title": {
            "standoff": 15
           },
           "zerolinecolor": "white",
           "zerolinewidth": 2
          }
         }
        },
        "width": 500,
        "xaxis": {
         "anchor": "y",
         "exponentformat": "e",
         "linecolor": "black",
         "linewidth": 1,
         "mirror": false,
         "range": [
          0,
          1.1
         ],
         "showexponent": "all",
         "showline": true,
         "side": "bottom",
         "ticks": "outside",
         "title": {
          "text": "Birth"
         },
         "type": "linear",
         "zeroline": true
        },
        "yaxis": {
         "anchor": "x",
         "exponentformat": "e",
         "linecolor": "black",
         "linewidth": 1,
         "mirror": false,
         "range": [
          0,
          1.1
         ],
         "showexponent": "all",
         "showline": true,
         "side": "left",
         "ticks": "outside",
         "title": {
          "text": "Death"
         },
         "type": "linear",
         "zeroline": true
        }
       }
      },
      "image/png": "[encoded data removed]",
      "text/html": [
       "<div>\n",
       "        \n",
       "        \n",
       "            <div id=\"8106937b-b842-4839-af8f-55c04e911cb0\" class=\"plotly-graph-div\" style=\"height:500px; width:500px;\"></div>\n",
       "            <script type=\"text/javascript\">\n",
       "                require([\"plotly\"], function(Plotly) {\n",
       "                    window.PLOTLYENV=window.PLOTLYENV || {};\n",
       "                    \n",
       "                if (document.getElementById(\"8106937b-b842-4839-af8f-55c04e911cb0\")) {\n",
       "                    Plotly.newPlot(\n",
       "                        '8106937b-b842-4839-af8f-55c04e911cb0',\n",
       "                        [{\"hoverinfo\": \"none\", \"line\": {\"color\": \"black\", \"dash\": \"dash\", \"width\": 1}, \"mode\": \"lines\", \"showlegend\": false, \"type\": \"scatter\", \"x\": [-100.0, 100.0], \"y\": [-100.0, 100.0]}, {\"mode\": \"markers\", \"name\": \"H0\", \"type\": \"scatter\", \"x\": [0.0, 0.0, 0.0, 0.0, 0.0, 0.0, 0.0, 0.0, 0.0, 0.0, 0.0, 0.0, 0.0, 0.0, 0.0, 0.0], \"y\": [0.08956234902143478, 0.16359226405620575, 0.2336558848619461, 0.24252791702747345, 0.2538011372089386, 0.26967674493789673, 0.27590903639793396, 0.3005184233188629, 0.32925811409950256, 0.3317767381668091, 0.3777770698070526, 0.41568511724472046, 0.43236395716667175, 0.4360308349132538, 0.4763416647911072, 0.5355066061019897]}, {\"mode\": \"markers\", \"name\": \"H1\", \"type\": \"scatter\", \"x\": [0.6805337071418762, 0.47751444578170776, 0.44653013348579407], \"y\": [0.7329264283180237, 0.6179786920547485, 0.4735535681247711]}],\n",
       "                        {\"height\": 500, \"plot_bgcolor\": \"white\", \"template\": {\"data\": {\"bar\": [{\"error_x\": {\"color\": \"#2a3f5f\"}, \"error_y\": {\"color\": \"#2a3f5f\"}, \"marker\": {\"line\": {\"color\": \"#E5ECF6\", \"width\": 0.5}}, \"type\": \"bar\"}], \"barpolar\": [{\"marker\": {\"line\": {\"color\": \"#E5ECF6\", \"width\": 0.5}}, \"type\": \"barpolar\"}], \"carpet\": [{\"aaxis\": {\"endlinecolor\": \"#2a3f5f\", \"gridcolor\": \"white\", \"linecolor\": \"white\", \"minorgridcolor\": \"white\", \"startlinecolor\": \"#2a3f5f\"}, \"baxis\": {\"endlinecolor\": \"#2a3f5f\", \"gridcolor\": \"white\", \"linecolor\": \"white\", \"minorgridcolor\": \"white\", \"startlinecolor\": \"#2a3f5f\"}, \"type\": \"carpet\"}], \"choropleth\": [{\"colorbar\": {\"outlinewidth\": 0, \"ticks\": \"\"}, \"type\": \"choropleth\"}], \"contour\": [{\"colorbar\": {\"outlinewidth\": 0, \"ticks\": \"\"}, \"colorscale\": [[0.0, \"#0d0887\"], [0.1111111111111111, \"#46039f\"], [0.2222222222222222, \"#7201a8\"], [0.3333333333333333, \"#9c179e\"], [0.4444444444444444, \"#bd3786\"], [0.5555555555555556, \"#d8576b\"], [0.6666666666666666, \"#ed7953\"], [0.7777777777777778, \"#fb9f3a\"], [0.8888888888888888, \"#fdca26\"], [1.0, \"#f0f921\"]], \"type\": \"contour\"}], \"contourcarpet\": [{\"colorbar\": {\"outlinewidth\": 0, \"ticks\": \"\"}, \"type\": \"contourcarpet\"}], \"heatmap\": [{\"colorbar\": {\"outlinewidth\": 0, \"ticks\": \"\"}, \"colorscale\": [[0.0, \"#0d0887\"], [0.1111111111111111, \"#46039f\"], [0.2222222222222222, \"#7201a8\"], [0.3333333333333333, \"#9c179e\"], [0.4444444444444444, \"#bd3786\"], [0.5555555555555556, \"#d8576b\"], [0.6666666666666666, \"#ed7953\"], [0.7777777777777778, \"#fb9f3a\"], [0.8888888888888888, \"#fdca26\"], [1.0, \"#f0f921\"]], \"type\": \"heatmap\"}], \"heatmapgl\": [{\"colorbar\": {\"outlinewidth\": 0, \"ticks\": \"\"}, \"colorscale\": [[0.0, \"#0d0887\"], [0.1111111111111111, \"#46039f\"], [0.2222222222222222, \"#7201a8\"], [0.3333333333333333, \"#9c179e\"], [0.4444444444444444, \"#bd3786\"], [0.5555555555555556, \"#d8576b\"], [0.6666666666666666, \"#ed7953\"], [0.7777777777777778, \"#fb9f3a\"], [0.8888888888888888, \"#fdca26\"], [1.0, \"#f0f921\"]], \"type\": \"heatmapgl\"}], \"histogram\": [{\"marker\": {\"colorbar\": {\"outlinewidth\": 0, \"ticks\": \"\"}}, \"type\": \"histogram\"}], \"histogram2d\": [{\"colorbar\": {\"outlinewidth\": 0, \"ticks\": \"\"}, \"colorscale\": [[0.0, \"#0d0887\"], [0.1111111111111111, \"#46039f\"], [0.2222222222222222, \"#7201a8\"], [0.3333333333333333, \"#9c179e\"], [0.4444444444444444, \"#bd3786\"], [0.5555555555555556, \"#d8576b\"], [0.6666666666666666, \"#ed7953\"], [0.7777777777777778, \"#fb9f3a\"], [0.8888888888888888, \"#fdca26\"], [1.0, \"#f0f921\"]], \"type\": \"histogram2d\"}], \"histogram2dcontour\": [{\"colorbar\": {\"outlinewidth\": 0, \"ticks\": \"\"}, \"colorscale\": [[0.0, \"#0d0887\"], [0.1111111111111111, \"#46039f\"], [0.2222222222222222, \"#7201a8\"], [0.3333333333333333, \"#9c179e\"], [0.4444444444444444, \"#bd3786\"], [0.5555555555555556, \"#d8576b\"], [0.6666666666666666, \"#ed7953\"], [0.7777777777777778, \"#fb9f3a\"], [0.8888888888888888, \"#fdca26\"], [1.0, \"#f0f921\"]], \"type\": \"histogram2dcontour\"}], \"mesh3d\": [{\"colorbar\": {\"outlinewidth\": 0, \"ticks\": \"\"}, \"type\": \"mesh3d\"}], \"parcoords\": [{\"line\": {\"colorbar\": {\"outlinewidth\": 0, \"ticks\": \"\"}}, \"type\": \"parcoords\"}], \"pie\": [{\"automargin\": true, \"type\": \"pie\"}], \"scatter\": [{\"marker\": {\"colorbar\": {\"outlinewidth\": 0, \"ticks\": \"\"}}, \"type\": \"scatter\"}], \"scatter3d\": [{\"line\": {\"colorbar\": {\"outlinewidth\": 0, \"ticks\": \"\"}}, \"marker\": {\"colorbar\": {\"outlinewidth\": 0, \"ticks\": \"\"}}, \"type\": \"scatter3d\"}], \"scattercarpet\": [{\"marker\": {\"colorbar\": {\"outlinewidth\": 0, \"ticks\": \"\"}}, \"type\": \"scattercarpet\"}], \"scattergeo\": [{\"marker\": {\"colorbar\": {\"outlinewidth\": 0, \"ticks\": \"\"}}, \"type\": \"scattergeo\"}], \"scattergl\": [{\"marker\": {\"colorbar\": {\"outlinewidth\": 0, \"ticks\": \"\"}}, \"type\": \"scattergl\"}], \"scattermapbox\": [{\"marker\": {\"colorbar\": {\"outlinewidth\": 0, \"ticks\": \"\"}}, \"type\": \"scattermapbox\"}], \"scatterpolar\": [{\"marker\": {\"colorbar\": {\"outlinewidth\": 0, \"ticks\": \"\"}}, \"type\": \"scatterpolar\"}], \"scatterpolargl\": [{\"marker\": {\"colorbar\": {\"outlinewidth\": 0, \"ticks\": \"\"}}, \"type\": \"scatterpolargl\"}], \"scatterternary\": [{\"marker\": {\"colorbar\": {\"outlinewidth\": 0, \"ticks\": \"\"}}, \"type\": \"scatterternary\"}], \"surface\": [{\"colorbar\": {\"outlinewidth\": 0, \"ticks\": \"\"}, \"colorscale\": [[0.0, \"#0d0887\"], [0.1111111111111111, \"#46039f\"], [0.2222222222222222, \"#7201a8\"], [0.3333333333333333, \"#9c179e\"], [0.4444444444444444, \"#bd3786\"], [0.5555555555555556, \"#d8576b\"], [0.6666666666666666, \"#ed7953\"], [0.7777777777777778, \"#fb9f3a\"], [0.8888888888888888, \"#fdca26\"], [1.0, \"#f0f921\"]], \"type\": \"surface\"}], \"table\": [{\"cells\": {\"fill\": {\"color\": \"#EBF0F8\"}, \"line\": {\"color\": \"white\"}}, \"header\": {\"fill\": {\"color\": \"#C8D4E3\"}, \"line\": {\"color\": \"white\"}}, \"type\": \"table\"}]}, \"layout\": {\"annotationdefaults\": {\"arrowcolor\": \"#2a3f5f\", \"arrowhead\": 0, \"arrowwidth\": 1}, \"coloraxis\": {\"colorbar\": {\"outlinewidth\": 0, \"ticks\": \"\"}}, \"colorscale\": {\"diverging\": [[0, \"#8e0152\"], [0.1, \"#c51b7d\"], [0.2, \"#de77ae\"], [0.3, \"#f1b6da\"], [0.4, \"#fde0ef\"], [0.5, \"#f7f7f7\"], [0.6, \"#e6f5d0\"], [0.7, \"#b8e186\"], [0.8, \"#7fbc41\"], [0.9, \"#4d9221\"], [1, \"#276419\"]], \"sequential\": [[0.0, \"#0d0887\"], [0.1111111111111111, \"#46039f\"], [0.2222222222222222, \"#7201a8\"], [0.3333333333333333, \"#9c179e\"], [0.4444444444444444, \"#bd3786\"], [0.5555555555555556, \"#d8576b\"], [0.6666666666666666, \"#ed7953\"], [0.7777777777777778, \"#fb9f3a\"], [0.8888888888888888, \"#fdca26\"], [1.0, \"#f0f921\"]], \"sequentialminus\": [[0.0, \"#0d0887\"], [0.1111111111111111, \"#46039f\"], [0.2222222222222222, \"#7201a8\"], [0.3333333333333333, \"#9c179e\"], [0.4444444444444444, \"#bd3786\"], [0.5555555555555556, \"#d8576b\"], [0.6666666666666666, \"#ed7953\"], [0.7777777777777778, \"#fb9f3a\"], [0.8888888888888888, \"#fdca26\"], [1.0, \"#f0f921\"]]}, \"colorway\": [\"#636efa\", \"#EF553B\", \"#00cc96\", \"#ab63fa\", \"#FFA15A\", \"#19d3f3\", \"#FF6692\", \"#B6E880\", \"#FF97FF\", \"#FECB52\"], \"font\": {\"color\": \"#2a3f5f\"}, \"geo\": {\"bgcolor\": \"white\", \"lakecolor\": \"white\", \"landcolor\": \"#E5ECF6\", \"showlakes\": true, \"showland\": true, \"subunitcolor\": \"white\"}, \"hoverlabel\": {\"align\": \"left\"}, \"hovermode\": \"closest\", \"mapbox\": {\"style\": \"light\"}, \"paper_bgcolor\": \"white\", \"plot_bgcolor\": \"#E5ECF6\", \"polar\": {\"angularaxis\": {\"gridcolor\": \"white\", \"linecolor\": \"white\", \"ticks\": \"\"}, \"bgcolor\": \"#E5ECF6\", \"radialaxis\": {\"gridcolor\": \"white\", \"linecolor\": \"white\", \"ticks\": \"\"}}, \"scene\": {\"xaxis\": {\"backgroundcolor\": \"#E5ECF6\", \"gridcolor\": \"white\", \"gridwidth\": 2, \"linecolor\": \"white\", \"showbackground\": true, \"ticks\": \"\", \"zerolinecolor\": \"white\"}, \"yaxis\": {\"backgroundcolor\": \"#E5ECF6\", \"gridcolor\": \"white\", \"gridwidth\": 2, \"linecolor\": \"white\", \"showbackground\": true, \"ticks\": \"\", \"zerolinecolor\": \"white\"}, \"zaxis\": {\"backgroundcolor\": \"#E5ECF6\", \"gridcolor\": \"white\", \"gridwidth\": 2, \"linecolor\": \"white\", \"showbackground\": true, \"ticks\": \"\", \"zerolinecolor\": \"white\"}}, \"shapedefaults\": {\"line\": {\"color\": \"#2a3f5f\"}}, \"ternary\": {\"aaxis\": {\"gridcolor\": \"white\", \"linecolor\": \"white\", \"ticks\": \"\"}, \"baxis\": {\"gridcolor\": \"white\", \"linecolor\": \"white\", \"ticks\": \"\"}, \"bgcolor\": \"#E5ECF6\", \"caxis\": {\"gridcolor\": \"white\", \"linecolor\": \"white\", \"ticks\": \"\"}}, \"title\": {\"x\": 0.05}, \"xaxis\": {\"automargin\": true, \"gridcolor\": \"white\", \"linecolor\": \"white\", \"ticks\": \"\", \"title\": {\"standoff\": 15}, \"zerolinecolor\": \"white\", \"zerolinewidth\": 2}, \"yaxis\": {\"automargin\": true, \"gridcolor\": \"white\", \"linecolor\": \"white\", \"ticks\": \"\", \"title\": {\"standoff\": 15}, \"zerolinecolor\": \"white\", \"zerolinewidth\": 2}}}, \"width\": 500, \"xaxis\": {\"anchor\": \"y\", \"exponentformat\": \"e\", \"linecolor\": \"black\", \"linewidth\": 1, \"mirror\": false, \"range\": [0, 1.1], \"showexponent\": \"all\", \"showline\": true, \"side\": \"bottom\", \"ticks\": \"outside\", \"title\": {\"text\": \"Birth\"}, \"type\": \"linear\", \"zeroline\": true}, \"yaxis\": {\"anchor\": \"x\", \"exponentformat\": \"e\", \"linecolor\": \"black\", \"linewidth\": 1, \"mirror\": false, \"range\": [0, 1.1], \"showexponent\": \"all\", \"showline\": true, \"side\": \"left\", \"ticks\": \"outside\", \"title\": {\"text\": \"Death\"}, \"type\": \"linear\", \"zeroline\": true}},\n",
       "                        {\"responsive\": true}\n",
       "                    ).then(function(){\n",
       "                            \n",
       "var gd = document.getElementById('8106937b-b842-4839-af8f-55c04e911cb0');\n",
       "var x = new MutationObserver(function (mutations, observer) {{\n",
       "        var display = window.getComputedStyle(gd).display;\n",
       "        if (!display || display === 'none') {{\n",
       "            console.log([gd, 'removed!']);\n",
       "            Plotly.purge(gd);\n",
       "            observer.disconnect();\n",
       "        }}\n",
       "}});\n",
       "\n",
       "// Listen for the removal of the full notebook cells\n",
       "var notebookContainer = gd.closest('#notebook-container');\n",
       "if (notebookContainer) {{\n",
       "    x.observe(notebookContainer, {childList: true});\n",
       "}}\n",
       "\n",
       "// Listen for the clearing of the current output cell\n",
       "var outputEl = gd.closest('.output');\n",
       "if (outputEl) {{\n",
       "    x.observe(outputEl, {childList: true});\n",
       "}}\n",
       "\n",
       "                        })\n",
       "                };\n",
       "                });\n",
       "            </script>\n",
       "        </div>"
      ]
     },
     "metadata": {},
     "output_type": "display_data"
    },
    {
     "data": {
      "text/plain": [
       "array([[[0.        , 0.08956235, 0.        ],\n",
       "        [0.        , 0.16359226, 0.        ],\n",
       "        [0.        , 0.23365588, 0.        ],\n",
       "        [0.        , 0.24252792, 0.        ],\n",
       "        [0.        , 0.25380114, 0.        ],\n",
       "        [0.        , 0.26967674, 0.        ],\n",
       "        [0.        , 0.27590904, 0.        ],\n",
       "        [0.        , 0.30051842, 0.        ],\n",
       "        [0.        , 0.32925811, 0.        ],\n",
       "        [0.        , 0.33177674, 0.        ],\n",
       "        [0.        , 0.37777707, 0.        ],\n",
       "        [0.        , 0.41568512, 0.        ],\n",
       "        [0.        , 0.43236396, 0.        ],\n",
       "        [0.        , 0.43603083, 0.        ],\n",
       "        [0.        , 0.47634166, 0.        ],\n",
       "        [0.        , 0.53550661, 0.        ],\n",
       "        [0.68053371, 0.73292643, 1.        ],\n",
       "        [0.47751445, 0.61797869, 1.        ],\n",
       "        [0.44653013, 0.47355357, 1.        ]]])"
      ]
     },
     "execution_count": 69,
     "metadata": {},
     "output_type": "execute_result"
    }
   ],
   "source": [
    "vr = VietorisRipsPersistence()\n",
    "vr.fit_transform_plot([points])"
   ]
  },
  {
   "cell_type": "code",
   "execution_count": null,
   "metadata": {},
   "outputs": [],
   "source": []
  }
 ],
 "metadata": {
  "kernelspec": {
   "display_name": "data_mining",
   "language": "python",
   "name": "data_mining"
  },
  "language_info": {
   "codemirror_mode": {
    "name": "ipython",
    "version": 3
   },
   "file_extension": ".py",
   "mimetype": "text/x-python",
   "name": "python",
   "nbconvert_exporter": "python",
   "pygments_lexer": "ipython3",
   "version": "3.8.3"
  }
 },
 "nbformat": 4,
 "nbformat_minor": 4
}
