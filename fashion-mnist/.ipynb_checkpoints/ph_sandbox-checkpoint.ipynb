{
 "cells": [
  {
   "cell_type": "code",
   "execution_count": 59,
   "metadata": {},
   "outputs": [],
   "source": [
    "import numpy as np\n",
    "from utils import mnist_reader\n",
    "\n",
    "import plotly.express as px\n",
    "from gtda.plotting import plot_point_cloud\n",
    "\n",
    "from gtda.images import (\n",
    "    Binarizer, Inverter,\n",
    "    HeightFiltration, RadialFiltration,\n",
    "    DilationFiltration, ErosionFiltration,\n",
    "    SignedDistanceFiltration\n",
    ")\n",
    "\n",
    "from gtda.homology import CubicalPersistence\n",
    "\n",
    "from gtda.diagrams import (\n",
    "    Scaler, Filtering,\n",
    "    PersistenceLandscape, BettiCurve, HeatKernel,\n",
    "    PersistenceImage, Silhouette,\n",
    "    Amplitude, PersistenceEntropy\n",
    ")\n",
    "\n",
    "from gtda.pipeline import Pipeline\n",
    "\n",
    "from gtda.plotting import (\n",
    "    plot_heatmap, plot_diagram, plot_betti_curves\n",
    ")\n",
    "\n",
    "# ML tools\n",
    "from sklearn.cluster import DBSCAN # cluster algo\n",
    "from sklearn.decomposition import PCA "
   ]
  },
  {
   "cell_type": "code",
   "execution_count": 60,
   "metadata": {},
   "outputs": [],
   "source": [
    "x_train, y_train = mnist_reader.load_mnist('data/fashion', kind='train')\n",
    "x_test, y_test = mnist_reader.load_mnist('data/fashion', kind='t10k')"
   ]
  },
  {
   "cell_type": "code",
   "execution_count": 61,
   "metadata": {},
   "outputs": [],
   "source": [
    "x_train = x_train.reshape((-1,28,28))\n",
    "x_test = x_test.reshape((-1,28,28))"
   ]
  },
  {
   "cell_type": "code",
   "execution_count": 62,
   "metadata": {},
   "outputs": [
    {
     "data": {
      "application/vnd.plotly.v1+json": {
       "config": {
        "plotlyServerURL": "https://plot.ly"
       },
       "data": [
        {
         "coloraxis": "coloraxis",
         "hovertemplate": "x: %{x}<br>y: %{y}<br>color: %{z}<extra></extra>",
         "type": "heatmap",
         "z": [
          [
           0,
           0,
           0,
           1,
           0,
           0,
           0,
           0,
           0,
           34,
           148,
           202,
           107,
           84,
           162,
           198,
           90,
           26,
           0,
           0,
           0,
           0,
           0,
           0,
           0,
           0,
           0,
           0
          ],
          [
           0,
           0,
           0,
           0,
           0,
           0,
           21,
           107,
           166,
           168,
           152,
           204,
           238,
           248,
           237,
           190,
           142,
           178,
           158,
           98,
           17,
           0,
           0,
           0,
           0,
           0,
           0,
           0
          ],
          [
           0,
           0,
           0,
           1,
           0,
           55,
           188,
           140,
           131,
           121,
           119,
           116,
           146,
           157,
           132,
           115,
           136,
           125,
           140,
           143,
           181,
           51,
           0,
           0,
           0,
           0,
           0,
           0
          ],
          [
           0,
           0,
           0,
           0,
           0,
           167,
           134,
           113,
           130,
           134,
           140,
           132,
           125,
           125,
           131,
           135,
           130,
           133,
           131,
           115,
           135,
           163,
           6,
           0,
           0,
           0,
           0,
           0
          ],
          [
           0,
           0,
           0,
           0,
           58,
           148,
           133,
           124,
           134,
           128,
           135,
           128,
           133,
           130,
           133,
           137,
           138,
           130,
           124,
           130,
           133,
           147,
           82,
           0,
           1,
           0,
           0,
           0
          ],
          [
           0,
           0,
           0,
           0,
           86,
           148,
           158,
           139,
           124,
           120,
           131,
           134,
           132,
           134,
           124,
           134,
           132,
           137,
           126,
           137,
           136,
           146,
           114,
           0,
           0,
           0,
           0,
           0
          ],
          [
           0,
           0,
           0,
           0,
           112,
           141,
           174,
           143,
           117,
           134,
           130,
           128,
           131,
           136,
           134,
           128,
           128,
           131,
           106,
           187,
           149,
           147,
           143,
           0,
           0,
           0,
           0,
           0
          ],
          [
           0,
           0,
           0,
           0,
           134,
           151,
           167,
           154,
           114,
           134,
           138,
           139,
           135,
           135,
           130,
           130,
           124,
           129,
           119,
           229,
           141,
           145,
           164,
           0,
           0,
           0,
           0,
           0
          ],
          [
           0,
           0,
           0,
           0,
           136,
           154,
           169,
           157,
           109,
           147,
           140,
           137,
           137,
           136,
           142,
           141,
           139,
           129,
           123,
           201,
           146,
           138,
           172,
           21,
           0,
           0,
           0,
           0
          ],
          [
           0,
           0,
           0,
           0,
           145,
           158,
           171,
           175,
           111,
           136,
           145,
           136,
           135,
           138,
           137,
           143,
           146,
           140,
           122,
           184,
           167,
           136,
           170,
           58,
           0,
           0,
           0,
           0
          ],
          [
           0,
           0,
           0,
           0,
           151,
           155,
           189,
           183,
           120,
           135,
           132,
           136,
           135,
           133,
           128,
           130,
           134,
           120,
           153,
           230,
           156,
           135,
           167,
           83,
           0,
           0,
           0,
           0
          ],
          [
           0,
           0,
           0,
           1,
           166,
           151,
           208,
           175,
           116,
           142,
           144,
           138,
           149,
           133,
           131,
           137,
           140,
           119,
           126,
           206,
           198,
           141,
           166,
           101,
           0,
           0,
           0,
           0
          ],
          [
           0,
           0,
           0,
           6,
           169,
           146,
           237,
           187,
           104,
           131,
           136,
           149,
           147,
           137,
           137,
           137,
           132,
           137,
           113,
           166,
           206,
           151,
           162,
           126,
           0,
           0,
           0,
           0
          ],
          [
           0,
           0,
           0,
           20,
           180,
           136,
           231,
           214,
           105,
           134,
           140,
           139,
           136,
           137,
           136,
           148,
           134,
           149,
           111,
           139,
           255,
           151,
           158,
           147,
           0,
           0,
           0,
           0
          ],
          [
           0,
           0,
           0,
           33,
           184,
           109,
           217,
           182,
           105,
           124,
           143,
           131,
           135,
           137,
           139,
           138,
           131,
           142,
           132,
           99,
           249,
           162,
           157,
           172,
           0,
           0,
           0,
           0
          ],
          [
           0,
           0,
           0,
           35,
           180,
           112,
           233,
           143,
           109,
           133,
           145,
           146,
           142,
           142,
           139,
           141,
           135,
           141,
           152,
           101,
           205,
           163,
           154,
           170,
           0,
           0,
           0,
           0
          ],
          [
           0,
           0,
           0,
           42,
           183,
           123,
           217,
           117,
           126,
           137,
           140,
           134,
           137,
           135,
           143,
           141,
           133,
           133,
           149,
           107,
           166,
           176,
           153,
           169,
           14,
           0,
           0,
           0
          ],
          [
           0,
           0,
           0,
           48,
           175,
           147,
           210,
           101,
           119,
           136,
           142,
           137,
           142,
           139,
           147,
           142,
           146,
           126,
           138,
           102,
           131,
           197,
           161,
           183,
           32,
           0,
           0,
           0
          ],
          [
           0,
           0,
           0,
           56,
           165,
           163,
           213,
           74,
           126,
           138,
           149,
           133,
           133,
           132,
           141,
           134,
           142,
           132,
           132,
           126,
           117,
           193,
           162,
           172,
           39,
           0,
           0,
           0
          ],
          [
           0,
           0,
           0,
           62,
           157,
           165,
           227,
           39,
           135,
           138,
           136,
           142,
           146,
           143,
           136,
           138,
           134,
           141,
           134,
           116,
           78,
           197,
           171,
           156,
           44,
           0,
           0,
           0
          ],
          [
           0,
           0,
           0,
           65,
           162,
           169,
           245,
           39,
           140,
           133,
           133,
           128,
           132,
           134,
           143,
           145,
           134,
           133,
           134,
           128,
           36,
           208,
           172,
           151,
           55,
           0,
           0,
           0
          ],
          [
           0,
           0,
           0,
           72,
           147,
           168,
           244,
           25,
           142,
           137,
           138,
           133,
           128,
           132,
           147,
           145,
           135,
           136,
           133,
           131,
           26,
           207,
           173,
           149,
           67,
           0,
           0,
           0
          ],
          [
           0,
           0,
           0,
           68,
           153,
           179,
           250,
           11,
           135,
           134,
           139,
           133,
           136,
           140,
           140,
           143,
           145,
           140,
           131,
           126,
           32,
           207,
           175,
           136,
           73,
           0,
           0,
           0
          ],
          [
           0,
           0,
           0,
           61,
           155,
           180,
           252,
           23,
           151,
           132,
           131,
           133,
           133,
           129,
           135,
           140,
           132,
           139,
           132,
           139,
           38,
           221,
           174,
           135,
           77,
           0,
           0,
           0
          ],
          [
           0,
           0,
           0,
           18,
           147,
           187,
           185,
           3,
           173,
           153,
           151,
           150,
           153,
           150,
           150,
           153,
           148,
           151,
           146,
           161,
           4,
           184,
           175,
           136,
           37,
           0,
           0,
           0
          ],
          [
           0,
           0,
           0,
           0,
           150,
           204,
           76,
           0,
           213,
           165,
           167,
           170,
           172,
           171,
           169,
           170,
           172,
           167,
           160,
           202,
           0,
           107,
           196,
           152,
           0,
           0,
           0,
           0
          ],
          [
           0,
           0,
           0,
           0,
           123,
           162,
           41,
           2,
           153,
           124,
           133,
           136,
           141,
           135,
           132,
           134,
           139,
           144,
           141,
           132,
           0,
           67,
           153,
           142,
           0,
           0,
           0,
           0
          ],
          [
           0,
           0,
           0,
           0,
           0,
           0,
           0,
           0,
           0,
           0,
           0,
           0,
           0,
           0,
           0,
           0,
           0,
           0,
           0,
           0,
           0,
           0,
           0,
           0,
           0,
           0,
           0,
           0
          ]
         ]
        }
       ],
       "layout": {
        "autosize": true,
        "coloraxis": {
         "colorscale": [
          [
           0,
           "rgb(0, 0, 0)"
          ],
          [
           0.09090909090909091,
           "rgb(16, 16, 16)"
          ],
          [
           0.18181818181818182,
           "rgb(38, 38, 38)"
          ],
          [
           0.2727272727272727,
           "rgb(59, 59, 59)"
          ],
          [
           0.36363636363636365,
           "rgb(81, 80, 80)"
          ],
          [
           0.45454545454545453,
           "rgb(102, 101, 101)"
          ],
          [
           0.5454545454545454,
           "rgb(124, 123, 122)"
          ],
          [
           0.6363636363636364,
           "rgb(146, 146, 145)"
          ],
          [
           0.7272727272727273,
           "rgb(171, 171, 170)"
          ],
          [
           0.8181818181818182,
           "rgb(197, 197, 195)"
          ],
          [
           0.9090909090909091,
           "rgb(224, 224, 223)"
          ],
          [
           1,
           "rgb(254, 254, 253)"
          ]
         ],
         "showscale": false
        },
        "margin": {
         "t": 60
        },
        "template": {
         "data": {
          "bar": [
           {
            "error_x": {
             "color": "#2a3f5f"
            },
            "error_y": {
             "color": "#2a3f5f"
            },
            "marker": {
             "line": {
              "color": "#E5ECF6",
              "width": 0.5
             }
            },
            "type": "bar"
           }
          ],
          "barpolar": [
           {
            "marker": {
             "line": {
              "color": "#E5ECF6",
              "width": 0.5
             }
            },
            "type": "barpolar"
           }
          ],
          "carpet": [
           {
            "aaxis": {
             "endlinecolor": "#2a3f5f",
             "gridcolor": "white",
             "linecolor": "white",
             "minorgridcolor": "white",
             "startlinecolor": "#2a3f5f"
            },
            "baxis": {
             "endlinecolor": "#2a3f5f",
             "gridcolor": "white",
             "linecolor": "white",
             "minorgridcolor": "white",
             "startlinecolor": "#2a3f5f"
            },
            "type": "carpet"
           }
          ],
          "choropleth": [
           {
            "colorbar": {
             "outlinewidth": 0,
             "ticks": ""
            },
            "type": "choropleth"
           }
          ],
          "contour": [
           {
            "colorbar": {
             "outlinewidth": 0,
             "ticks": ""
            },
            "colorscale": [
             [
              0,
              "#0d0887"
             ],
             [
              0.1111111111111111,
              "#46039f"
             ],
             [
              0.2222222222222222,
              "#7201a8"
             ],
             [
              0.3333333333333333,
              "#9c179e"
             ],
             [
              0.4444444444444444,
              "#bd3786"
             ],
             [
              0.5555555555555556,
              "#d8576b"
             ],
             [
              0.6666666666666666,
              "#ed7953"
             ],
             [
              0.7777777777777778,
              "#fb9f3a"
             ],
             [
              0.8888888888888888,
              "#fdca26"
             ],
             [
              1,
              "#f0f921"
             ]
            ],
            "type": "contour"
           }
          ],
          "contourcarpet": [
           {
            "colorbar": {
             "outlinewidth": 0,
             "ticks": ""
            },
            "type": "contourcarpet"
           }
          ],
          "heatmap": [
           {
            "colorbar": {
             "outlinewidth": 0,
             "ticks": ""
            },
            "colorscale": [
             [
              0,
              "#0d0887"
             ],
             [
              0.1111111111111111,
              "#46039f"
             ],
             [
              0.2222222222222222,
              "#7201a8"
             ],
             [
              0.3333333333333333,
              "#9c179e"
             ],
             [
              0.4444444444444444,
              "#bd3786"
             ],
             [
              0.5555555555555556,
              "#d8576b"
             ],
             [
              0.6666666666666666,
              "#ed7953"
             ],
             [
              0.7777777777777778,
              "#fb9f3a"
             ],
             [
              0.8888888888888888,
              "#fdca26"
             ],
             [
              1,
              "#f0f921"
             ]
            ],
            "type": "heatmap"
           }
          ],
          "heatmapgl": [
           {
            "colorbar": {
             "outlinewidth": 0,
             "ticks": ""
            },
            "colorscale": [
             [
              0,
              "#0d0887"
             ],
             [
              0.1111111111111111,
              "#46039f"
             ],
             [
              0.2222222222222222,
              "#7201a8"
             ],
             [
              0.3333333333333333,
              "#9c179e"
             ],
             [
              0.4444444444444444,
              "#bd3786"
             ],
             [
              0.5555555555555556,
              "#d8576b"
             ],
             [
              0.6666666666666666,
              "#ed7953"
             ],
             [
              0.7777777777777778,
              "#fb9f3a"
             ],
             [
              0.8888888888888888,
              "#fdca26"
             ],
             [
              1,
              "#f0f921"
             ]
            ],
            "type": "heatmapgl"
           }
          ],
          "histogram": [
           {
            "marker": {
             "colorbar": {
              "outlinewidth": 0,
              "ticks": ""
             }
            },
            "type": "histogram"
           }
          ],
          "histogram2d": [
           {
            "colorbar": {
             "outlinewidth": 0,
             "ticks": ""
            },
            "colorscale": [
             [
              0,
              "#0d0887"
             ],
             [
              0.1111111111111111,
              "#46039f"
             ],
             [
              0.2222222222222222,
              "#7201a8"
             ],
             [
              0.3333333333333333,
              "#9c179e"
             ],
             [
              0.4444444444444444,
              "#bd3786"
             ],
             [
              0.5555555555555556,
              "#d8576b"
             ],
             [
              0.6666666666666666,
              "#ed7953"
             ],
             [
              0.7777777777777778,
              "#fb9f3a"
             ],
             [
              0.8888888888888888,
              "#fdca26"
             ],
             [
              1,
              "#f0f921"
             ]
            ],
            "type": "histogram2d"
           }
          ],
          "histogram2dcontour": [
           {
            "colorbar": {
             "outlinewidth": 0,
             "ticks": ""
            },
            "colorscale": [
             [
              0,
              "#0d0887"
             ],
             [
              0.1111111111111111,
              "#46039f"
             ],
             [
              0.2222222222222222,
              "#7201a8"
             ],
             [
              0.3333333333333333,
              "#9c179e"
             ],
             [
              0.4444444444444444,
              "#bd3786"
             ],
             [
              0.5555555555555556,
              "#d8576b"
             ],
             [
              0.6666666666666666,
              "#ed7953"
             ],
             [
              0.7777777777777778,
              "#fb9f3a"
             ],
             [
              0.8888888888888888,
              "#fdca26"
             ],
             [
              1,
              "#f0f921"
             ]
            ],
            "type": "histogram2dcontour"
           }
          ],
          "mesh3d": [
           {
            "colorbar": {
             "outlinewidth": 0,
             "ticks": ""
            },
            "type": "mesh3d"
           }
          ],
          "parcoords": [
           {
            "line": {
             "colorbar": {
              "outlinewidth": 0,
              "ticks": ""
             }
            },
            "type": "parcoords"
           }
          ],
          "pie": [
           {
            "automargin": true,
            "type": "pie"
           }
          ],
          "scatter": [
           {
            "marker": {
             "colorbar": {
              "outlinewidth": 0,
              "ticks": ""
             }
            },
            "type": "scatter"
           }
          ],
          "scatter3d": [
           {
            "line": {
             "colorbar": {
              "outlinewidth": 0,
              "ticks": ""
             }
            },
            "marker": {
             "colorbar": {
              "outlinewidth": 0,
              "ticks": ""
             }
            },
            "type": "scatter3d"
           }
          ],
          "scattercarpet": [
           {
            "marker": {
             "colorbar": {
              "outlinewidth": 0,
              "ticks": ""
             }
            },
            "type": "scattercarpet"
           }
          ],
          "scattergeo": [
           {
            "marker": {
             "colorbar": {
              "outlinewidth": 0,
              "ticks": ""
             }
            },
            "type": "scattergeo"
           }
          ],
          "scattergl": [
           {
            "marker": {
             "colorbar": {
              "outlinewidth": 0,
              "ticks": ""
             }
            },
            "type": "scattergl"
           }
          ],
          "scattermapbox": [
           {
            "marker": {
             "colorbar": {
              "outlinewidth": 0,
              "ticks": ""
             }
            },
            "type": "scattermapbox"
           }
          ],
          "scatterpolar": [
           {
            "marker": {
             "colorbar": {
              "outlinewidth": 0,
              "ticks": ""
             }
            },
            "type": "scatterpolar"
           }
          ],
          "scatterpolargl": [
           {
            "marker": {
             "colorbar": {
              "outlinewidth": 0,
              "ticks": ""
             }
            },
            "type": "scatterpolargl"
           }
          ],
          "scatterternary": [
           {
            "marker": {
             "colorbar": {
              "outlinewidth": 0,
              "ticks": ""
             }
            },
            "type": "scatterternary"
           }
          ],
          "surface": [
           {
            "colorbar": {
             "outlinewidth": 0,
             "ticks": ""
            },
            "colorscale": [
             [
              0,
              "#0d0887"
             ],
             [
              0.1111111111111111,
              "#46039f"
             ],
             [
              0.2222222222222222,
              "#7201a8"
             ],
             [
              0.3333333333333333,
              "#9c179e"
             ],
             [
              0.4444444444444444,
              "#bd3786"
             ],
             [
              0.5555555555555556,
              "#d8576b"
             ],
             [
              0.6666666666666666,
              "#ed7953"
             ],
             [
              0.7777777777777778,
              "#fb9f3a"
             ],
             [
              0.8888888888888888,
              "#fdca26"
             ],
             [
              1,
              "#f0f921"
             ]
            ],
            "type": "surface"
           }
          ],
          "table": [
           {
            "cells": {
             "fill": {
              "color": "#EBF0F8"
             },
             "line": {
              "color": "white"
             }
            },
            "header": {
             "fill": {
              "color": "#C8D4E3"
             },
             "line": {
              "color": "white"
             }
            },
            "type": "table"
           }
          ]
         },
         "layout": {
          "annotationdefaults": {
           "arrowcolor": "#2a3f5f",
           "arrowhead": 0,
           "arrowwidth": 1
          },
          "coloraxis": {
           "colorbar": {
            "outlinewidth": 0,
            "ticks": ""
           }
          },
          "colorscale": {
           "diverging": [
            [
             0,
             "#8e0152"
            ],
            [
             0.1,
             "#c51b7d"
            ],
            [
             0.2,
             "#de77ae"
            ],
            [
             0.3,
             "#f1b6da"
            ],
            [
             0.4,
             "#fde0ef"
            ],
            [
             0.5,
             "#f7f7f7"
            ],
            [
             0.6,
             "#e6f5d0"
            ],
            [
             0.7,
             "#b8e186"
            ],
            [
             0.8,
             "#7fbc41"
            ],
            [
             0.9,
             "#4d9221"
            ],
            [
             1,
             "#276419"
            ]
           ],
           "sequential": [
            [
             0,
             "#0d0887"
            ],
            [
             0.1111111111111111,
             "#46039f"
            ],
            [
             0.2222222222222222,
             "#7201a8"
            ],
            [
             0.3333333333333333,
             "#9c179e"
            ],
            [
             0.4444444444444444,
             "#bd3786"
            ],
            [
             0.5555555555555556,
             "#d8576b"
            ],
            [
             0.6666666666666666,
             "#ed7953"
            ],
            [
             0.7777777777777778,
             "#fb9f3a"
            ],
            [
             0.8888888888888888,
             "#fdca26"
            ],
            [
             1,
             "#f0f921"
            ]
           ],
           "sequentialminus": [
            [
             0,
             "#0d0887"
            ],
            [
             0.1111111111111111,
             "#46039f"
            ],
            [
             0.2222222222222222,
             "#7201a8"
            ],
            [
             0.3333333333333333,
             "#9c179e"
            ],
            [
             0.4444444444444444,
             "#bd3786"
            ],
            [
             0.5555555555555556,
             "#d8576b"
            ],
            [
             0.6666666666666666,
             "#ed7953"
            ],
            [
             0.7777777777777778,
             "#fb9f3a"
            ],
            [
             0.8888888888888888,
             "#fdca26"
            ],
            [
             1,
             "#f0f921"
            ]
           ]
          },
          "colorway": [
           "#636efa",
           "#EF553B",
           "#00cc96",
           "#ab63fa",
           "#FFA15A",
           "#19d3f3",
           "#FF6692",
           "#B6E880",
           "#FF97FF",
           "#FECB52"
          ],
          "font": {
           "color": "#2a3f5f"
          },
          "geo": {
           "bgcolor": "white",
           "lakecolor": "white",
           "landcolor": "#E5ECF6",
           "showlakes": true,
           "showland": true,
           "subunitcolor": "white"
          },
          "hoverlabel": {
           "align": "left"
          },
          "hovermode": "closest",
          "mapbox": {
           "style": "light"
          },
          "paper_bgcolor": "white",
          "plot_bgcolor": "#E5ECF6",
          "polar": {
           "angularaxis": {
            "gridcolor": "white",
            "linecolor": "white",
            "ticks": ""
           },
           "bgcolor": "#E5ECF6",
           "radialaxis": {
            "gridcolor": "white",
            "linecolor": "white",
            "ticks": ""
           }
          },
          "scene": {
           "xaxis": {
            "backgroundcolor": "#E5ECF6",
            "gridcolor": "white",
            "gridwidth": 2,
            "linecolor": "white",
            "showbackground": true,
            "ticks": "",
            "zerolinecolor": "white"
           },
           "yaxis": {
            "backgroundcolor": "#E5ECF6",
            "gridcolor": "white",
            "gridwidth": 2,
            "linecolor": "white",
            "showbackground": true,
            "ticks": "",
            "zerolinecolor": "white"
           },
           "zaxis": {
            "backgroundcolor": "#E5ECF6",
            "gridcolor": "white",
            "gridwidth": 2,
            "linecolor": "white",
            "showbackground": true,
            "ticks": "",
            "zerolinecolor": "white"
           }
          },
          "shapedefaults": {
           "line": {
            "color": "#2a3f5f"
           }
          },
          "ternary": {
           "aaxis": {
            "gridcolor": "white",
            "linecolor": "white",
            "ticks": ""
           },
           "baxis": {
            "gridcolor": "white",
            "linecolor": "white",
            "ticks": ""
           },
           "bgcolor": "#E5ECF6",
           "caxis": {
            "gridcolor": "white",
            "linecolor": "white",
            "ticks": ""
           }
          },
          "title": {
           "x": 0.05
          },
          "xaxis": {
           "automargin": true,
           "gridcolor": "white",
           "linecolor": "white",
           "ticks": "",
           "title": {
            "standoff": 15
           },
           "zerolinecolor": "white",
           "zerolinewidth": 2
          },
          "yaxis": {
           "automargin": true,
           "gridcolor": "white",
           "linecolor": "white",
           "ticks": "",
           "title": {
            "standoff": 15
           },
           "zerolinecolor": "white",
           "zerolinewidth": 2
          }
         }
        },
        "xaxis": {
         "autorange": true,
         "constrain": "domain",
         "domain": [
          0.37479806138933763,
          0.6252019386106624
         ],
         "range": [
          -0.5,
          27.5
         ],
         "scaleanchor": "y",
         "showticklabels": false
        },
        "yaxis": {
         "autorange": true,
         "constrain": "domain",
         "domain": [
          0,
          1
         ],
         "range": [
          27.5,
          -0.5
         ],
         "showticklabels": false
        }
       }
      },
      "image/png": "[encoded data removed]",
      "text/html": [
       "<div>\n",
       "        \n",
       "        \n",
       "            <div id=\"f55df829-e9c7-4386-94cd-5db81dfbe855\" class=\"plotly-graph-div\" style=\"height:525px; width:100%;\"></div>\n",
       "            <script type=\"text/javascript\">\n",
       "                require([\"plotly\"], function(Plotly) {\n",
       "                    window.PLOTLYENV=window.PLOTLYENV || {};\n",
       "                    \n",
       "                if (document.getElementById(\"f55df829-e9c7-4386-94cd-5db81dfbe855\")) {\n",
       "                    Plotly.newPlot(\n",
       "                        'f55df829-e9c7-4386-94cd-5db81dfbe855',\n",
       "                        [{\"coloraxis\": \"coloraxis\", \"hovertemplate\": \"x: %{x}<br>y: %{y}<br>color: %{z}<extra></extra>\", \"type\": \"heatmap\", \"z\": [[0, 0, 0, 1, 0, 0, 0, 0, 0, 34, 148, 202, 107, 84, 162, 198, 90, 26, 0, 0, 0, 0, 0, 0, 0, 0, 0, 0], [0, 0, 0, 0, 0, 0, 21, 107, 166, 168, 152, 204, 238, 248, 237, 190, 142, 178, 158, 98, 17, 0, 0, 0, 0, 0, 0, 0], [0, 0, 0, 1, 0, 55, 188, 140, 131, 121, 119, 116, 146, 157, 132, 115, 136, 125, 140, 143, 181, 51, 0, 0, 0, 0, 0, 0], [0, 0, 0, 0, 0, 167, 134, 113, 130, 134, 140, 132, 125, 125, 131, 135, 130, 133, 131, 115, 135, 163, 6, 0, 0, 0, 0, 0], [0, 0, 0, 0, 58, 148, 133, 124, 134, 128, 135, 128, 133, 130, 133, 137, 138, 130, 124, 130, 133, 147, 82, 0, 1, 0, 0, 0], [0, 0, 0, 0, 86, 148, 158, 139, 124, 120, 131, 134, 132, 134, 124, 134, 132, 137, 126, 137, 136, 146, 114, 0, 0, 0, 0, 0], [0, 0, 0, 0, 112, 141, 174, 143, 117, 134, 130, 128, 131, 136, 134, 128, 128, 131, 106, 187, 149, 147, 143, 0, 0, 0, 0, 0], [0, 0, 0, 0, 134, 151, 167, 154, 114, 134, 138, 139, 135, 135, 130, 130, 124, 129, 119, 229, 141, 145, 164, 0, 0, 0, 0, 0], [0, 0, 0, 0, 136, 154, 169, 157, 109, 147, 140, 137, 137, 136, 142, 141, 139, 129, 123, 201, 146, 138, 172, 21, 0, 0, 0, 0], [0, 0, 0, 0, 145, 158, 171, 175, 111, 136, 145, 136, 135, 138, 137, 143, 146, 140, 122, 184, 167, 136, 170, 58, 0, 0, 0, 0], [0, 0, 0, 0, 151, 155, 189, 183, 120, 135, 132, 136, 135, 133, 128, 130, 134, 120, 153, 230, 156, 135, 167, 83, 0, 0, 0, 0], [0, 0, 0, 1, 166, 151, 208, 175, 116, 142, 144, 138, 149, 133, 131, 137, 140, 119, 126, 206, 198, 141, 166, 101, 0, 0, 0, 0], [0, 0, 0, 6, 169, 146, 237, 187, 104, 131, 136, 149, 147, 137, 137, 137, 132, 137, 113, 166, 206, 151, 162, 126, 0, 0, 0, 0], [0, 0, 0, 20, 180, 136, 231, 214, 105, 134, 140, 139, 136, 137, 136, 148, 134, 149, 111, 139, 255, 151, 158, 147, 0, 0, 0, 0], [0, 0, 0, 33, 184, 109, 217, 182, 105, 124, 143, 131, 135, 137, 139, 138, 131, 142, 132, 99, 249, 162, 157, 172, 0, 0, 0, 0], [0, 0, 0, 35, 180, 112, 233, 143, 109, 133, 145, 146, 142, 142, 139, 141, 135, 141, 152, 101, 205, 163, 154, 170, 0, 0, 0, 0], [0, 0, 0, 42, 183, 123, 217, 117, 126, 137, 140, 134, 137, 135, 143, 141, 133, 133, 149, 107, 166, 176, 153, 169, 14, 0, 0, 0], [0, 0, 0, 48, 175, 147, 210, 101, 119, 136, 142, 137, 142, 139, 147, 142, 146, 126, 138, 102, 131, 197, 161, 183, 32, 0, 0, 0], [0, 0, 0, 56, 165, 163, 213, 74, 126, 138, 149, 133, 133, 132, 141, 134, 142, 132, 132, 126, 117, 193, 162, 172, 39, 0, 0, 0], [0, 0, 0, 62, 157, 165, 227, 39, 135, 138, 136, 142, 146, 143, 136, 138, 134, 141, 134, 116, 78, 197, 171, 156, 44, 0, 0, 0], [0, 0, 0, 65, 162, 169, 245, 39, 140, 133, 133, 128, 132, 134, 143, 145, 134, 133, 134, 128, 36, 208, 172, 151, 55, 0, 0, 0], [0, 0, 0, 72, 147, 168, 244, 25, 142, 137, 138, 133, 128, 132, 147, 145, 135, 136, 133, 131, 26, 207, 173, 149, 67, 0, 0, 0], [0, 0, 0, 68, 153, 179, 250, 11, 135, 134, 139, 133, 136, 140, 140, 143, 145, 140, 131, 126, 32, 207, 175, 136, 73, 0, 0, 0], [0, 0, 0, 61, 155, 180, 252, 23, 151, 132, 131, 133, 133, 129, 135, 140, 132, 139, 132, 139, 38, 221, 174, 135, 77, 0, 0, 0], [0, 0, 0, 18, 147, 187, 185, 3, 173, 153, 151, 150, 153, 150, 150, 153, 148, 151, 146, 161, 4, 184, 175, 136, 37, 0, 0, 0], [0, 0, 0, 0, 150, 204, 76, 0, 213, 165, 167, 170, 172, 171, 169, 170, 172, 167, 160, 202, 0, 107, 196, 152, 0, 0, 0, 0], [0, 0, 0, 0, 123, 162, 41, 2, 153, 124, 133, 136, 141, 135, 132, 134, 139, 144, 141, 132, 0, 67, 153, 142, 0, 0, 0, 0], [0, 0, 0, 0, 0, 0, 0, 0, 0, 0, 0, 0, 0, 0, 0, 0, 0, 0, 0, 0, 0, 0, 0, 0, 0, 0, 0, 0]]}],\n",
       "                        {\"coloraxis\": {\"colorscale\": [[0.0, \"rgb(0, 0, 0)\"], [0.09090909090909091, \"rgb(16, 16, 16)\"], [0.18181818181818182, \"rgb(38, 38, 38)\"], [0.2727272727272727, \"rgb(59, 59, 59)\"], [0.36363636363636365, \"rgb(81, 80, 80)\"], [0.45454545454545453, \"rgb(102, 101, 101)\"], [0.5454545454545454, \"rgb(124, 123, 122)\"], [0.6363636363636364, \"rgb(146, 146, 145)\"], [0.7272727272727273, \"rgb(171, 171, 170)\"], [0.8181818181818182, \"rgb(197, 197, 195)\"], [0.9090909090909091, \"rgb(224, 224, 223)\"], [1.0, \"rgb(254, 254, 253)\"]], \"showscale\": false}, \"margin\": {\"t\": 60}, \"template\": {\"data\": {\"bar\": [{\"error_x\": {\"color\": \"#2a3f5f\"}, \"error_y\": {\"color\": \"#2a3f5f\"}, \"marker\": {\"line\": {\"color\": \"#E5ECF6\", \"width\": 0.5}}, \"type\": \"bar\"}], \"barpolar\": [{\"marker\": {\"line\": {\"color\": \"#E5ECF6\", \"width\": 0.5}}, \"type\": \"barpolar\"}], \"carpet\": [{\"aaxis\": {\"endlinecolor\": \"#2a3f5f\", \"gridcolor\": \"white\", \"linecolor\": \"white\", \"minorgridcolor\": \"white\", \"startlinecolor\": \"#2a3f5f\"}, \"baxis\": {\"endlinecolor\": \"#2a3f5f\", \"gridcolor\": \"white\", \"linecolor\": \"white\", \"minorgridcolor\": \"white\", \"startlinecolor\": \"#2a3f5f\"}, \"type\": \"carpet\"}], \"choropleth\": [{\"colorbar\": {\"outlinewidth\": 0, \"ticks\": \"\"}, \"type\": \"choropleth\"}], \"contour\": [{\"colorbar\": {\"outlinewidth\": 0, \"ticks\": \"\"}, \"colorscale\": [[0.0, \"#0d0887\"], [0.1111111111111111, \"#46039f\"], [0.2222222222222222, \"#7201a8\"], [0.3333333333333333, \"#9c179e\"], [0.4444444444444444, \"#bd3786\"], [0.5555555555555556, \"#d8576b\"], [0.6666666666666666, \"#ed7953\"], [0.7777777777777778, \"#fb9f3a\"], [0.8888888888888888, \"#fdca26\"], [1.0, \"#f0f921\"]], \"type\": \"contour\"}], \"contourcarpet\": [{\"colorbar\": {\"outlinewidth\": 0, \"ticks\": \"\"}, \"type\": \"contourcarpet\"}], \"heatmap\": [{\"colorbar\": {\"outlinewidth\": 0, \"ticks\": \"\"}, \"colorscale\": [[0.0, \"#0d0887\"], [0.1111111111111111, \"#46039f\"], [0.2222222222222222, \"#7201a8\"], [0.3333333333333333, \"#9c179e\"], [0.4444444444444444, \"#bd3786\"], [0.5555555555555556, \"#d8576b\"], [0.6666666666666666, \"#ed7953\"], [0.7777777777777778, \"#fb9f3a\"], [0.8888888888888888, \"#fdca26\"], [1.0, \"#f0f921\"]], \"type\": \"heatmap\"}], \"heatmapgl\": [{\"colorbar\": {\"outlinewidth\": 0, \"ticks\": \"\"}, \"colorscale\": [[0.0, \"#0d0887\"], [0.1111111111111111, \"#46039f\"], [0.2222222222222222, \"#7201a8\"], [0.3333333333333333, \"#9c179e\"], [0.4444444444444444, \"#bd3786\"], [0.5555555555555556, \"#d8576b\"], [0.6666666666666666, \"#ed7953\"], [0.7777777777777778, \"#fb9f3a\"], [0.8888888888888888, \"#fdca26\"], [1.0, \"#f0f921\"]], \"type\": \"heatmapgl\"}], \"histogram\": [{\"marker\": {\"colorbar\": {\"outlinewidth\": 0, \"ticks\": \"\"}}, \"type\": \"histogram\"}], \"histogram2d\": [{\"colorbar\": {\"outlinewidth\": 0, \"ticks\": \"\"}, \"colorscale\": [[0.0, \"#0d0887\"], [0.1111111111111111, \"#46039f\"], [0.2222222222222222, \"#7201a8\"], [0.3333333333333333, \"#9c179e\"], [0.4444444444444444, \"#bd3786\"], [0.5555555555555556, \"#d8576b\"], [0.6666666666666666, \"#ed7953\"], [0.7777777777777778, \"#fb9f3a\"], [0.8888888888888888, \"#fdca26\"], [1.0, \"#f0f921\"]], \"type\": \"histogram2d\"}], \"histogram2dcontour\": [{\"colorbar\": {\"outlinewidth\": 0, \"ticks\": \"\"}, \"colorscale\": [[0.0, \"#0d0887\"], [0.1111111111111111, \"#46039f\"], [0.2222222222222222, \"#7201a8\"], [0.3333333333333333, \"#9c179e\"], [0.4444444444444444, \"#bd3786\"], [0.5555555555555556, \"#d8576b\"], [0.6666666666666666, \"#ed7953\"], [0.7777777777777778, \"#fb9f3a\"], [0.8888888888888888, \"#fdca26\"], [1.0, \"#f0f921\"]], \"type\": \"histogram2dcontour\"}], \"mesh3d\": [{\"colorbar\": {\"outlinewidth\": 0, \"ticks\": \"\"}, \"type\": \"mesh3d\"}], \"parcoords\": [{\"line\": {\"colorbar\": {\"outlinewidth\": 0, \"ticks\": \"\"}}, \"type\": \"parcoords\"}], \"pie\": [{\"automargin\": true, \"type\": \"pie\"}], \"scatter\": [{\"marker\": {\"colorbar\": {\"outlinewidth\": 0, \"ticks\": \"\"}}, \"type\": \"scatter\"}], \"scatter3d\": [{\"line\": {\"colorbar\": {\"outlinewidth\": 0, \"ticks\": \"\"}}, \"marker\": {\"colorbar\": {\"outlinewidth\": 0, \"ticks\": \"\"}}, \"type\": \"scatter3d\"}], \"scattercarpet\": [{\"marker\": {\"colorbar\": {\"outlinewidth\": 0, \"ticks\": \"\"}}, \"type\": \"scattercarpet\"}], \"scattergeo\": [{\"marker\": {\"colorbar\": {\"outlinewidth\": 0, \"ticks\": \"\"}}, \"type\": \"scattergeo\"}], \"scattergl\": [{\"marker\": {\"colorbar\": {\"outlinewidth\": 0, \"ticks\": \"\"}}, \"type\": \"scattergl\"}], \"scattermapbox\": [{\"marker\": {\"colorbar\": {\"outlinewidth\": 0, \"ticks\": \"\"}}, \"type\": \"scattermapbox\"}], \"scatterpolar\": [{\"marker\": {\"colorbar\": {\"outlinewidth\": 0, \"ticks\": \"\"}}, \"type\": \"scatterpolar\"}], \"scatterpolargl\": [{\"marker\": {\"colorbar\": {\"outlinewidth\": 0, \"ticks\": \"\"}}, \"type\": \"scatterpolargl\"}], \"scatterternary\": [{\"marker\": {\"colorbar\": {\"outlinewidth\": 0, \"ticks\": \"\"}}, \"type\": \"scatterternary\"}], \"surface\": [{\"colorbar\": {\"outlinewidth\": 0, \"ticks\": \"\"}, \"colorscale\": [[0.0, \"#0d0887\"], [0.1111111111111111, \"#46039f\"], [0.2222222222222222, \"#7201a8\"], [0.3333333333333333, \"#9c179e\"], [0.4444444444444444, \"#bd3786\"], [0.5555555555555556, \"#d8576b\"], [0.6666666666666666, \"#ed7953\"], [0.7777777777777778, \"#fb9f3a\"], [0.8888888888888888, \"#fdca26\"], [1.0, \"#f0f921\"]], \"type\": \"surface\"}], \"table\": [{\"cells\": {\"fill\": {\"color\": \"#EBF0F8\"}, \"line\": {\"color\": \"white\"}}, \"header\": {\"fill\": {\"color\": \"#C8D4E3\"}, \"line\": {\"color\": \"white\"}}, \"type\": \"table\"}]}, \"layout\": {\"annotationdefaults\": {\"arrowcolor\": \"#2a3f5f\", \"arrowhead\": 0, \"arrowwidth\": 1}, \"coloraxis\": {\"colorbar\": {\"outlinewidth\": 0, \"ticks\": \"\"}}, \"colorscale\": {\"diverging\": [[0, \"#8e0152\"], [0.1, \"#c51b7d\"], [0.2, \"#de77ae\"], [0.3, \"#f1b6da\"], [0.4, \"#fde0ef\"], [0.5, \"#f7f7f7\"], [0.6, \"#e6f5d0\"], [0.7, \"#b8e186\"], [0.8, \"#7fbc41\"], [0.9, \"#4d9221\"], [1, \"#276419\"]], \"sequential\": [[0.0, \"#0d0887\"], [0.1111111111111111, \"#46039f\"], [0.2222222222222222, \"#7201a8\"], [0.3333333333333333, \"#9c179e\"], [0.4444444444444444, \"#bd3786\"], [0.5555555555555556, \"#d8576b\"], [0.6666666666666666, \"#ed7953\"], [0.7777777777777778, \"#fb9f3a\"], [0.8888888888888888, \"#fdca26\"], [1.0, \"#f0f921\"]], \"sequentialminus\": [[0.0, \"#0d0887\"], [0.1111111111111111, \"#46039f\"], [0.2222222222222222, \"#7201a8\"], [0.3333333333333333, \"#9c179e\"], [0.4444444444444444, \"#bd3786\"], [0.5555555555555556, \"#d8576b\"], [0.6666666666666666, \"#ed7953\"], [0.7777777777777778, \"#fb9f3a\"], [0.8888888888888888, \"#fdca26\"], [1.0, \"#f0f921\"]]}, \"colorway\": [\"#636efa\", \"#EF553B\", \"#00cc96\", \"#ab63fa\", \"#FFA15A\", \"#19d3f3\", \"#FF6692\", \"#B6E880\", \"#FF97FF\", \"#FECB52\"], \"font\": {\"color\": \"#2a3f5f\"}, \"geo\": {\"bgcolor\": \"white\", \"lakecolor\": \"white\", \"landcolor\": \"#E5ECF6\", \"showlakes\": true, \"showland\": true, \"subunitcolor\": \"white\"}, \"hoverlabel\": {\"align\": \"left\"}, \"hovermode\": \"closest\", \"mapbox\": {\"style\": \"light\"}, \"paper_bgcolor\": \"white\", \"plot_bgcolor\": \"#E5ECF6\", \"polar\": {\"angularaxis\": {\"gridcolor\": \"white\", \"linecolor\": \"white\", \"ticks\": \"\"}, \"bgcolor\": \"#E5ECF6\", \"radialaxis\": {\"gridcolor\": \"white\", \"linecolor\": \"white\", \"ticks\": \"\"}}, \"scene\": {\"xaxis\": {\"backgroundcolor\": \"#E5ECF6\", \"gridcolor\": \"white\", \"gridwidth\": 2, \"linecolor\": \"white\", \"showbackground\": true, \"ticks\": \"\", \"zerolinecolor\": \"white\"}, \"yaxis\": {\"backgroundcolor\": \"#E5ECF6\", \"gridcolor\": \"white\", \"gridwidth\": 2, \"linecolor\": \"white\", \"showbackground\": true, \"ticks\": \"\", \"zerolinecolor\": \"white\"}, \"zaxis\": {\"backgroundcolor\": \"#E5ECF6\", \"gridcolor\": \"white\", \"gridwidth\": 2, \"linecolor\": \"white\", \"showbackground\": true, \"ticks\": \"\", \"zerolinecolor\": \"white\"}}, \"shapedefaults\": {\"line\": {\"color\": \"#2a3f5f\"}}, \"ternary\": {\"aaxis\": {\"gridcolor\": \"white\", \"linecolor\": \"white\", \"ticks\": \"\"}, \"baxis\": {\"gridcolor\": \"white\", \"linecolor\": \"white\", \"ticks\": \"\"}, \"bgcolor\": \"#E5ECF6\", \"caxis\": {\"gridcolor\": \"white\", \"linecolor\": \"white\", \"ticks\": \"\"}}, \"title\": {\"x\": 0.05}, \"xaxis\": {\"automargin\": true, \"gridcolor\": \"white\", \"linecolor\": \"white\", \"ticks\": \"\", \"title\": {\"standoff\": 15}, \"zerolinecolor\": \"white\", \"zerolinewidth\": 2}, \"yaxis\": {\"automargin\": true, \"gridcolor\": \"white\", \"linecolor\": \"white\", \"ticks\": \"\", \"title\": {\"standoff\": 15}, \"zerolinecolor\": \"white\", \"zerolinewidth\": 2}}}, \"xaxis\": {\"constrain\": \"domain\", \"scaleanchor\": \"y\", \"showticklabels\": false}, \"yaxis\": {\"autorange\": \"reversed\", \"constrain\": \"domain\", \"showticklabels\": false}},\n",
       "                        {\"responsive\": true}\n",
       "                    ).then(function(){\n",
       "                            \n",
       "var gd = document.getElementById('f55df829-e9c7-4386-94cd-5db81dfbe855');\n",
       "var x = new MutationObserver(function (mutations, observer) {{\n",
       "        var display = window.getComputedStyle(gd).display;\n",
       "        if (!display || display === 'none') {{\n",
       "            console.log([gd, 'removed!']);\n",
       "            Plotly.purge(gd);\n",
       "            observer.disconnect();\n",
       "        }}\n",
       "}});\n",
       "\n",
       "// Listen for the removal of the full notebook cells\n",
       "var notebookContainer = gd.closest('#notebook-container');\n",
       "if (notebookContainer) {{\n",
       "    x.observe(notebookContainer, {childList: true});\n",
       "}}\n",
       "\n",
       "// Listen for the clearing of the current output cell\n",
       "var outputEl = gd.closest('.output');\n",
       "if (outputEl) {{\n",
       "    x.observe(outputEl, {childList: true});\n",
       "}}\n",
       "\n",
       "                        })\n",
       "                };\n",
       "                });\n",
       "            </script>\n",
       "        </div>"
      ]
     },
     "metadata": {},
     "output_type": "display_data"
    }
   ],
   "source": [
    "img = x_train[45]\n",
    "fig = px.imshow(img, color_continuous_scale='gray')\n",
    "fig.update_layout(coloraxis_showscale=False)\n",
    "fig.update_xaxes(showticklabels=False)\n",
    "fig.update_yaxes(showticklabels=False)\n",
    "fig.show()"
   ]
  },
  {
   "cell_type": "code",
   "execution_count": 63,
   "metadata": {},
   "outputs": [],
   "source": [
    "import itertools\n",
    "\n",
    "# Pipeline parameters\n",
    "bin_thresholds = [0.25, 0.5, 0.75]\n",
    "directions = [np.array([np.cos(t), np.sin(t)]) for t in np.linspace(0, 2 * np.pi, 7)[:-1]]\n",
    "centers = [np.array(p) for p in itertools.product((7,14,21),(7,14,21))]"
   ]
  },
  {
   "cell_type": "code",
   "execution_count": 64,
   "metadata": {},
   "outputs": [
    {
     "data": {
      "text/plain": [
       "220"
      ]
     },
     "execution_count": 64,
     "metadata": {},
     "output_type": "execute_result"
    }
   ],
   "source": [
    "# Vectorizations, we use L^2 for kernels by default and default n_bins\n",
    "# Note, we are not acutally using kernel vectors, just their amplitudes for now\n",
    "features = [('bottleneck', Amplitude(metric='bottleneck', n_jobs=-1)), \n",
    "            #('wasserstein', Amplitude(metric='wasserstein')),\n",
    "            ('landscape', Amplitude(metric='landscape', n_jobs=-1)),\n",
    "            ('betti', Amplitude(metric='betti', n_jobs=-1)),\n",
    "            #('silhouette', Amplitude(metric='silhouette')),\n",
    "            #('heat_5', Amplitude(metric='heat', metric_params={'sigma': 5})),\n",
    "            #('heat_10', Amplitude(metric='heat', metric_params={'sigma': 10})),\n",
    "            #('PI_10', Amplitude(metric='persistence_image', metric_params={'sigma': 10})),\n",
    "            #('PI_15', Amplitude(metric='persistence_image', metric_params={'sigma': 15})),\n",
    "            ('PE', PersistenceEntropy(n_jobs=-1))]\n",
    "\n",
    "# Make filtrations\n",
    "binned_steps = [('binarizer_{}'.format(t), Binarizer(threshold=t, n_jobs=-1)) for t in bin_thresholds]\n",
    "\n",
    "filtrations = [('height_{}'.format(d), HeightFiltration(direction=d, n_jobs=-1)) for d in directions]\n",
    "filtrations.extend([('radial_{}'.format(c), RadialFiltration(center=c, n_jobs=-1)) for c in centers])\n",
    "filtrations.append(('dilation', DilationFiltration(n_jobs=-1)))\n",
    "filtrations.append(('erosion', ErosionFiltration(n_jobs=-1)))\n",
    "filtrations.append(('signed', SignedDistanceFiltration(n_jobs=-1)))\n",
    "\n",
    "# Make pipelines\n",
    "cubical_lower = [('cubical', CubicalPersistence(n_jobs=-1))]\n",
    "# cubical_upper = [('inverter', Inverter()), ('cubical', CubicalPersistence())]\n",
    "\n",
    "partial_pipeline_steps = [cubical_lower]\n",
    "\n",
    "for b, f in itertools.product(binned_steps, filtrations):\n",
    "    partial_pipeline_steps.append([b,f, ('cubical', CubicalPersistence(n_jobs=-1))])\n",
    "    \n",
    "\n",
    "feature_pipelines = []\n",
    "for s, f in itertools.product(partial_pipeline_steps, features):\n",
    "    feature_pipelines.append(Pipeline(s + [f]))\n",
    "    \n",
    "len(feature_pipelines)"
   ]
  },
  {
   "cell_type": "code",
   "execution_count": 65,
   "metadata": {},
   "outputs": [],
   "source": [
    "# get small slice of data to play with\n",
    "fashion_data = np.array(x_train)\n",
    "fashion_answers = np.array(y_train)\n",
    "idx = np.random.randint(60000, size=100)\n",
    "sandbox_data = fashion_data[idx,:]\n",
    "sandbox_answers = fashion_answers[idx]"
   ]
  },
  {
   "cell_type": "code",
   "execution_count": 66,
   "metadata": {},
   "outputs": [],
   "source": [
    "results = np.zeros((len(sandbox_data),len(feature_pipelines)))\n",
    "for i, p in enumerate(feature_pipelines):\n",
    "    results[:,i] = p.fit_transform(sandbox_data)[:,0]"
   ]
  },
  {
   "cell_type": "code",
   "execution_count": 67,
   "metadata": {},
   "outputs": [
    {
     "data": {
      "text/plain": [
       "RandomForestClassifier(n_estimators=2000)"
      ]
     },
     "execution_count": 67,
     "metadata": {},
     "output_type": "execute_result"
    }
   ],
   "source": [
    "from sklearn.ensemble import RandomForestClassifier\n",
    "\n",
    "clf = RandomForestClassifier(n_estimators=2000)\n",
    "clf.fit(results, sandbox_answers)"
   ]
  },
  {
   "cell_type": "code",
   "execution_count": 68,
   "metadata": {},
   "outputs": [
    {
     "name": "stdout",
     "output_type": "stream",
     "text": [
      "19595\n"
     ]
    }
   ],
   "source": [
    "print(idx[0])"
   ]
  },
  {
   "cell_type": "code",
   "execution_count": 69,
   "metadata": {},
   "outputs": [
    {
     "data": {
      "text/plain": [
       "4"
      ]
     },
     "execution_count": 69,
     "metadata": {},
     "output_type": "execute_result"
    }
   ],
   "source": [
    "y_train[idx[0]]"
   ]
  },
  {
   "cell_type": "code",
   "execution_count": 70,
   "metadata": {},
   "outputs": [
    {
     "data": {
      "text/plain": [
       "array([4], dtype=uint8)"
      ]
     },
     "execution_count": 70,
     "metadata": {},
     "output_type": "execute_result"
    }
   ],
   "source": [
    "clf.predict(results[0:1,:])"
   ]
  },
  {
   "cell_type": "code",
   "execution_count": null,
   "metadata": {},
   "outputs": [],
   "source": []
  }
 ],
 "metadata": {
  "kernelspec": {
   "display_name": "Python 3",
   "language": "python",
   "name": "python3"
  },
  "language_info": {
   "codemirror_mode": {
    "name": "ipython",
    "version": 3
   },
   "file_extension": ".py",
   "mimetype": "text/x-python",
   "name": "python",
   "nbconvert_exporter": "python",
   "pygments_lexer": "ipython3",
   "version": "3.7.6"
  }
 },
 "nbformat": 4,
 "nbformat_minor": 4
}
